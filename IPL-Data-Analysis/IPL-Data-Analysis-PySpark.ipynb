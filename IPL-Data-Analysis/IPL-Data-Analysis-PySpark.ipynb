{
 "cells": [
  {
   "cell_type": "markdown",
   "metadata": {
    "application/vnd.databricks.v1+cell": {
     "cellMetadata": {},
     "inputWidgets": {},
     "nuid": "2efb2b24-609a-45ed-8d06-6647e8e342ce",
     "showTitle": false,
     "title": ""
    }
   },
   "source": [
    "\n",
    "<div style=\"text-align: center;\">\n",
    "  <div style=\"display: flex; justify-content: center;\">\n",
    "    <img src=\"https://encrypted-tbn0.gstatic.com/images?q=tbn:ANd9GcRQHBG_JmpOhUxcbMLkJlZcrmEWNDLjJb1ufK7peaaJPPmDBiYBeAhIplBT-X3efpIAN5g&usqp=CAU\" alt=\"IPL Data Analysis In Databricks Using PySpark\" style=\"margin-bottom: 10px; width: 200px;\">\n",
    "  </div>\n",
    "  <h2 style=\"margin-top: 0;\">IPL Data Analysis In Databricks Using PySpark</h2>\n",
    "</div>\n"
   ]
  },
  {
   "cell_type": "code",
   "execution_count": 0,
   "metadata": {
    "application/vnd.databricks.v1+cell": {
     "cellMetadata": {
      "byteLimit": 2048000,
      "rowLimit": 10000
     },
     "inputWidgets": {},
     "nuid": "01729798-5026-43a8-b53b-db8de0a5067c",
     "showTitle": false,
     "title": ""
    }
   },
   "outputs": [],
   "source": [
    "from pyspark.sql.window import Window\n",
    "from pyspark.sql.functions import count, col, sum, max, min, dense_rank, row_number, expr, when\n",
    "import matplotlib.pyplot as plt "
   ]
  },
  {
   "cell_type": "code",
   "execution_count": 0,
   "metadata": {
    "application/vnd.databricks.v1+cell": {
     "cellMetadata": {
      "byteLimit": 2048000,
      "rowLimit": 10000
     },
     "inputWidgets": {},
     "nuid": "34175599-04c5-4ab4-bcfa-070d3eef04c5",
     "showTitle": false,
     "title": ""
    }
   },
   "outputs": [],
   "source": [
    "ball_by_ball_path = \"dbfs:/FileStore/tables/IPL/IPL_Ball_by_Ball_2008_2022.csv\"\n",
    "matches_path = \"dbfs:/FileStore/tables/IPL/IPL_Matches_2008_2022.csv\"\n",
    "\n",
    "ball_by_ball = spark.read.csv(ball_by_ball_path, header=True, inferSchema= True)\n",
    "matches = spark.read.csv(matches_path, header=True, inferSchema= True)\n",
    "\n",
    "join_df = ball_by_ball.join(matches, on=\"ID\", how=\"INNER\")"
   ]
  },
  {
   "cell_type": "markdown",
   "metadata": {
    "application/vnd.databricks.v1+cell": {
     "cellMetadata": {},
     "inputWidgets": {},
     "nuid": "9946935c-678b-4f8d-ac08-0cb1ab3506e0",
     "showTitle": false,
     "title": ""
    }
   },
   "source": [
    "\n",
    "#### 1.Find out max and min wicket taken by a bowler in each season ?"
   ]
  },
  {
   "cell_type": "code",
   "execution_count": 0,
   "metadata": {
    "application/vnd.databricks.v1+cell": {
     "cellMetadata": {
      "byteLimit": 2048000,
      "rowLimit": 10000
     },
     "inputWidgets": {},
     "nuid": "b63eaf6b-edfe-454b-a729-52e8d9fa11c4",
     "showTitle": false,
     "title": ""
    }
   },
   "outputs": [],
   "source": [
    "\n",
    "def wickets_sum():\n",
    "    return(ball_by_ball.join(matches, on=\"ID\", how=\"INNER\").\n",
    "                select(\"Season\", \"bowler\",\"isWicketDelivery\").\n",
    "                filter(col(\"isWicketDelivery\") == 1).\n",
    "                groupBy(\"Season\",\"bowler\").\n",
    "                agg(sum(col(\"isWicketDelivery\")).alias(\"total_wickets\"))\n",
    "    )\n",
    "\n",
    "def max_wickets_taken_each_season():\n",
    "\n",
    "    max_wickets = (wickets_sum().groupBy(\"Season\",\"bowler\").\n",
    "                agg(max(col(\"total_wickets\")).alias(\"wickets\")).\n",
    "                orderBy(col(\"Season\").desc(),col(\"wickets\").desc())\n",
    "                )\n",
    "\n",
    "    # defin window specification for identifying max wicket taken by a bowler in each season\n",
    "\n",
    "    max_windowspec = Window.partitionBy(col(\"Season\")).orderBy(col(\"wickets\").desc())\n",
    "\n",
    "    return(display(max_wickets.withColumn(\"rank\", dense_rank().over(max_windowspec)).filter(col(\"rank\") == 1)))\n",
    "\n",
    "def min_wickets_taken_each_season():\n",
    "    min_wickets = (wickets_sum().groupBy(\"Season\",\"bowler\").\n",
    "                agg(min(col(\"total_wickets\")).alias(\"wickets\")).\n",
    "                orderBy(col(\"Season\").desc(),col(\"wickets\").desc())\n",
    "                )\n",
    "    # defin window specification for identifying min wicket taking bowler in each season\n",
    "\n",
    "    min_windowspec = Window.partitionBy(col(\"Season\")).orderBy(col(\"wickets\"))\n",
    "\n",
    "    return((min_wickets.withColumn(\"rank\", dense_rank().over(min_windowspec)).filter(col(\"rank\") == 1)))"
   ]
  },
  {
   "cell_type": "markdown",
   "metadata": {
    "application/vnd.databricks.v1+cell": {
     "cellMetadata": {},
     "inputWidgets": {},
     "nuid": "d7570350-eec9-4974-89a2-d2baa29940f5",
     "showTitle": false,
     "title": ""
    }
   },
   "source": [
    "#### 2.Find out bowler taken wicket of same player more than once in same season or diff season?"
   ]
  },
  {
   "cell_type": "code",
   "execution_count": 0,
   "metadata": {
    "application/vnd.databricks.v1+cell": {
     "cellMetadata": {
      "byteLimit": 2048000,
      "rowLimit": 10000
     },
     "inputWidgets": {},
     "nuid": "65d37405-a9fa-498f-829d-50172cfe9cb1",
     "showTitle": false,
     "title": ""
    }
   },
   "outputs": [],
   "source": [
    "def wicket_pair():\n",
    "    wicket_pair = (join_df.\n",
    "                filter(col(\"isWicketDelivery\") == 1).\n",
    "                select(\"batter\", \"bowler\").\n",
    "                groupBy(col(\"bowler\"), col(\"batter\")).count()\n",
    "    )\n",
    "    \n",
    "    return (wicket_pair.filter(col(\"count\") > 1).orderBy(col(\"count\")))"
   ]
  },
  {
   "cell_type": "markdown",
   "metadata": {
    "application/vnd.databricks.v1+cell": {
     "cellMetadata": {},
     "inputWidgets": {},
     "nuid": "c90b0681-48df-4c88-8bed-dc5d88601921",
     "showTitle": false,
     "title": ""
    }
   },
   "source": [
    "\n",
    "#### 3.Find out which bowler has given max and min runs in a season?"
   ]
  },
  {
   "cell_type": "code",
   "execution_count": 0,
   "metadata": {
    "application/vnd.databricks.v1+cell": {
     "cellMetadata": {
      "byteLimit": 2048000,
      "rowLimit": 10000
     },
     "inputWidgets": {},
     "nuid": "843fb354-16af-46aa-ba55-6ff959cddb69",
     "showTitle": false,
     "title": ""
    }
   },
   "outputs": [],
   "source": [
    "def max_runs_given():\n",
    "    # For max runs given\n",
    "    max_runs_given = (join_df.select(\"Season\",\"bowler\",\"total_run\").\n",
    "                    groupBy(col(\"Season\"),col(\"bowler\")).\n",
    "                    agg(sum(col(\"total_run\")).alias(\"total_runs\")).\n",
    "                    orderBy(col(\"Season\").desc(), col(\"total_runs\").desc())\n",
    "    )\n",
    "\n",
    "    # define window specification for identifying max runs in each eason\n",
    "    max_runs_windowspec = Window.partitionBy(col(\"Season\")).orderBy(col(\"total_runs\").desc())\n",
    "    return(max_runs_given.withColumn(\"rank\", dense_rank().over(max_runs_windowspec)).filter(col(\"rank\") == 1))\n",
    "\n",
    "def min_runs_given():\n",
    "    # For min runs given\n",
    "    min_runs_given = (join_df.select(\"Season\",\"bowler\",\"total_run\").\n",
    "                    groupBy(col(\"Season\"),col(\"bowler\")).\n",
    "                    agg(sum(col(\"total_run\")).alias(\"total_runs\")).\n",
    "                    orderBy(col(\"Season\").desc(), col(\"total_runs\"))\n",
    "    )\n",
    "\n",
    "    # define window specification for identifying min runs in each eason\n",
    "    min_runs_windowspec = Window.partitionBy(col(\"Season\")).orderBy(col(\"total_runs\"))\n",
    "    return(min_runs_given.withColumn(\"rank\", dense_rank().over(min_runs_windowspec)).filter(col(\"rank\") == 1))"
   ]
  },
  {
   "cell_type": "markdown",
   "metadata": {
    "application/vnd.databricks.v1+cell": {
     "cellMetadata": {},
     "inputWidgets": {},
     "nuid": "0dd141d9-b7ed-4eaa-87b5-da7452de2ba0",
     "showTitle": false,
     "title": ""
    }
   },
   "source": [
    "\n",
    "#### 4.Find out which bowler has given max boundary runs in each season?"
   ]
  },
  {
   "cell_type": "code",
   "execution_count": 0,
   "metadata": {
    "application/vnd.databricks.v1+cell": {
     "cellMetadata": {
      "byteLimit": 2048000,
      "rowLimit": 10000
     },
     "inputWidgets": {},
     "nuid": "ae3afdca-c3a7-40d5-82c6-250c485a9f82",
     "showTitle": false,
     "title": ""
    }
   },
   "outputs": [],
   "source": [
    "def bowler_given_max_boundary_runs():\n",
    "\n",
    "    bowler_given_max_boundary_runs = (join_df.filter(col(\"non_boundary\") != 0).\n",
    "                                    select(\"Season\", \"bowler\", \"total_run\").\n",
    "                                    groupBy(col(\"bowler\"), col(\"Season\")).\n",
    "                                    agg(sum(col(\"total_run\")).alias(\"max_run_given\"))\n",
    "    )\n",
    "\n",
    "    return(bowler_given_max_boundary_runs)"
   ]
  },
  {
   "cell_type": "markdown",
   "metadata": {
    "application/vnd.databricks.v1+cell": {
     "cellMetadata": {},
     "inputWidgets": {},
     "nuid": "6f8dc002-25f1-4c3e-91f6-ae1099e79929",
     "showTitle": false,
     "title": ""
    }
   },
   "source": [
    "\n",
    "#### 5.Find out which bowler has taken max wicket against each team?"
   ]
  },
  {
   "cell_type": "code",
   "execution_count": 0,
   "metadata": {
    "application/vnd.databricks.v1+cell": {
     "cellMetadata": {
      "byteLimit": 2048000,
      "rowLimit": 10000
     },
     "inputWidgets": {},
     "nuid": "c473a541-ebbc-4459-ab33-5c788ee91f74",
     "showTitle": false,
     "title": ""
    }
   },
   "outputs": [],
   "source": [
    "def max_wicket_against_each_team():\n",
    "\n",
    "    total_wicket_against_team = (join_df.filter(col(\"isWicketDelivery\") == 1).\n",
    "                            select(\"Team1\", \"Team2\", \"bowler\", \"BattingTeam\", \"isWicketDelivery\").\n",
    "                            groupBy(col(\"bowler\"), col(\"BattingTeam\")).\n",
    "                            agg(sum(col(\"isWicketDelivery\")).alias(\"total_wicket\"))\n",
    "    )\n",
    "    # define window specification for identifying max wickets taken by a bowler based on rank\n",
    "    max_wicket_windowspec = Window.partitionBy(col(\"BattingTeam\")).orderBy(col(\"total_wicket\").desc())\n",
    "\n",
    "    return(total_wicket_against_team.withColumn(\"rank\", dense_rank().\n",
    "                            over(max_wicket_windowspec)).filter(col(\"rank\") == 1)\n",
    "    )"
   ]
  },
  {
   "cell_type": "markdown",
   "metadata": {
    "application/vnd.databricks.v1+cell": {
     "cellMetadata": {},
     "inputWidgets": {},
     "nuid": "e19548d8-cf2e-4a67-96e1-2828d057531b",
     "showTitle": false,
     "title": ""
    }
   },
   "source": [
    "#### 6.Find out which team went into finals most of the times?"
   ]
  },
  {
   "cell_type": "code",
   "execution_count": 0,
   "metadata": {
    "application/vnd.databricks.v1+cell": {
     "cellMetadata": {
      "byteLimit": 2048000,
      "rowLimit": 10000
     },
     "inputWidgets": {},
     "nuid": "a6543c8c-dc7a-4b94-a398-e2c923ce20c3",
     "showTitle": false,
     "title": ""
    }
   },
   "outputs": [],
   "source": [
    "# We will find how many times a team went into finals as Team1.\n",
    "team1_into_finals = (matches.filter(col(\"MatchNumber\") == \"Final\").\n",
    "                    groupBy(col(\"Team1\").alias(\"Team\")).\n",
    "                    agg(count(col(\"Team1\")).alias(\"count_of_team1\"))\n",
    ")\n",
    "\n",
    "# We will find how many times a team went into finals as Team2.\n",
    "team2_into_finals = (matches.filter(col(\"MatchNumber\") == \"Final\").\n",
    "                    groupBy(col(\"Team2\").alias(\"Team\")).\n",
    "                    agg(count(col(\"Team2\")).alias(\"count_of_team2\"))\n",
    ")\n",
    "\n",
    "def team_into_finals():\n",
    "\n",
    "        col_to_sum = [\"count_of_team1\", \"count_of_team2\"]      \n",
    "\n",
    "        team_into_finals = (team1_into_finals.join(team2_into_finals, on=\"Team\", how=\"INNER\")\n",
    "        )\n",
    "\n",
    "        return(team_into_finals.withColumn(\"no_of_times_into_finals\", expr('+'.join(col_to_sum))).\n",
    "                select(\"Team\",\"no_of_times_into_finals\").\n",
    "                orderBy(col(\"no_of_times_into_finals\").desc())\n",
    "                )"
   ]
  },
  {
   "cell_type": "markdown",
   "metadata": {
    "application/vnd.databricks.v1+cell": {
     "cellMetadata": {},
     "inputWidgets": {},
     "nuid": "aee0831f-568b-4ed6-9ded-713a0ebc6e46",
     "showTitle": false,
     "title": ""
    }
   },
   "source": [
    "\n",
    "#### 7.Find out how many times teams have won IPL?"
   ]
  },
  {
   "cell_type": "code",
   "execution_count": 0,
   "metadata": {
    "application/vnd.databricks.v1+cell": {
     "cellMetadata": {
      "byteLimit": 2048000,
      "rowLimit": 10000
     },
     "inputWidgets": {},
     "nuid": "ee0355c2-40e3-4bc1-a629-47544ea76209",
     "showTitle": false,
     "title": ""
    }
   },
   "outputs": [],
   "source": [
    "# We will find how many times a team went into finals and won as Team1.\n",
    "team1_into_finals_and_won = (matches.filter(col(\"MatchNumber\") == \"Final\").\n",
    "                withColumn(\"Team_equals_winning_team\", when(col(\"Team1\") == col(\"WinningTeam\"), col(\"Team1\"))).\n",
    "                groupBy(col(\"Team1\").alias(\"Team\")).\n",
    "                agg(count(col(\"Team_equals_winning_team\")).alias(\"count_of_team1\"))\n",
    ")\n",
    "\n",
    "# We will find how many times a team went into finals and won as Team2.\n",
    "team2_into_finals_and_won = (matches.filter(col(\"MatchNumber\") == \"Final\").\n",
    "                withColumn(\"Team_equals_winning_team\", when(col(\"Team2\") == col(\"WinningTeam\"), col(\"Team2\"))).\n",
    "                groupBy(col(\"Team2\").alias(\"Team\")).\n",
    "                agg(count(col(\"Team_equals_winning_team\")).alias(\"count_of_team2\"))\n",
    ")\n",
    "\n",
    "def team_into_finals_and_won():\n",
    "\n",
    "        col_to_sum = [\"count_of_team1\", \"count_of_team2\"]\n",
    "\n",
    "        team_into_finals_and_won = (team1_into_finals_and_won.join(team2_into_finals_and_won, on=\"Team\", how=\"INNER\")\n",
    "        )\n",
    "\n",
    "        return(team_into_finals_and_won.withColumn(\"no_of_times_into_finals\", expr('+'.join(col_to_sum))).\n",
    "                select(\"Team\",\"no_of_times_into_finals\").\n",
    "                orderBy(col(\"no_of_times_into_finals\").desc())\n",
    "                )"
   ]
  },
  {
   "cell_type": "markdown",
   "metadata": {
    "application/vnd.databricks.v1+cell": {
     "cellMetadata": {},
     "inputWidgets": {},
     "nuid": "74f74cf1-045e-4b89-ba48-7e53b3aa45bb",
     "showTitle": false,
     "title": ""
    }
   },
   "source": [
    "\n",
    "#### 8.Find out the if a team wins a toss and choose to bat do they win the match also?"
   ]
  },
  {
   "cell_type": "code",
   "execution_count": 0,
   "metadata": {
    "application/vnd.databricks.v1+cell": {
     "cellMetadata": {
      "byteLimit": 2048000,
      "rowLimit": 10000
     },
     "inputWidgets": {},
     "nuid": "f75ec0f2-7398-4d1f-b566-34d31df245b2",
     "showTitle": false,
     "title": ""
    }
   },
   "outputs": [],
   "source": [
    "def team_won_toss_and_chose_to_bat():\n",
    "\n",
    "        team_won_toss_and_chose_to_bat = (join_df.filter(col(\"TossDecision\") == \"bat\").\n",
    "                withColumn(\"Team_equals_TossWinner\",\n",
    "                when((col(\"Team1\") == col(\"TossWinner\")) & (col(\"Team1\") == col(\"WinningTeam\")) , col(\"Team1\")).\n",
    "                when((col(\"Team2\") == col(\"TossWinner\")) & (col(\"Team2\") == col(\"WinningTeam\")), col(\"Team2\"))\n",
    "                )\n",
    "        )\n",
    "\n",
    "        return(team_won_toss_and_chose_to_bat.filter(col(\"Team_equals_TossWinner\").isNotNull()).\n",
    "                select(\"Season\",\"Team1\",\"Team2\",\"TossWinner\",\"WinningTeam\", \"TossDecision\").\n",
    "                distinct()\n",
    "                )"
   ]
  },
  {
   "cell_type": "markdown",
   "metadata": {
    "application/vnd.databricks.v1+cell": {
     "cellMetadata": {},
     "inputWidgets": {},
     "nuid": "9f2c4cad-d4d7-47c2-a68e-9cd7a811ece1",
     "showTitle": false,
     "title": ""
    }
   },
   "source": [
    "\n",
    "#### 9.Find out city/venue where max and min matches where played in each season?"
   ]
  },
  {
   "cell_type": "code",
   "execution_count": 0,
   "metadata": {
    "application/vnd.databricks.v1+cell": {
     "cellMetadata": {
      "byteLimit": 2048000,
      "rowLimit": 10000
     },
     "inputWidgets": {},
     "nuid": "6a16c4fb-9149-47d1-952a-993599a0e46e",
     "showTitle": false,
     "title": ""
    }
   },
   "outputs": [],
   "source": [
    "def city_with_max_matches():\n",
    "\n",
    "    city_with_max_matches = (matches.groupBy(col(\"Season\"),col(\"Venue\")).\n",
    "                            agg(count(col(\"Venue\")).alias(\"no_of_matches\")).\n",
    "                            orderBy(col(\"no_of_matches\").desc()))\n",
    "\n",
    "    return(city_with_max_matches)"
   ]
  },
  {
   "cell_type": "markdown",
   "metadata": {
    "application/vnd.databricks.v1+cell": {
     "cellMetadata": {},
     "inputWidgets": {},
     "nuid": "ffbf54a2-e068-4013-bdd1-739ae2150aef",
     "showTitle": false,
     "title": ""
    }
   },
   "source": [
    "\n",
    "#### 10.Find the strongest and weakest teams based on match wins?"
   ]
  },
  {
   "cell_type": "code",
   "execution_count": 0,
   "metadata": {
    "application/vnd.databricks.v1+cell": {
     "cellMetadata": {
      "byteLimit": 2048000,
      "rowLimit": 10000
     },
     "inputWidgets": {},
     "nuid": "a6451fa3-3430-41b4-af54-994377a9fd4b",
     "showTitle": false,
     "title": ""
    }
   },
   "outputs": [],
   "source": [
    "\n",
    "team_won_season_wise = (matches.groupBy(col(\"Season\"), col(\"WinningTeam\")).\n",
    "                            agg(count(col(\"WinningTeam\")).alias(\"no_of_matches_won\")).\n",
    "                            orderBy(col(\"Season\").desc(), col(\"no_of_matches_won\").desc())\n",
    ")\n",
    "\n",
    "teams_won = (matches.groupBy(col(\"WinningTeam\")).\n",
    "            agg(count(col(\"WinningTeam\")).alias(\"no_of_matches_won\")).\n",
    "            filter(col(\"WinningTeam\") != \"NA\")\n",
    ")\n",
    "\n",
    "def strongest_team_season_wise():\n",
    "    team_won_season_wise_windowspec = Window.partitionBy(\"Season\").orderBy(col(\"no_of_matches_won\").desc())\n",
    "\n",
    "    strongest_team_season_wise = (team_won_season_wise.withColumn(\"rank\", dense_rank().\n",
    "                                over(team_won_season_wise_windowspec)).filter(col(\"rank\") == 1))\n",
    "\n",
    "    return(strongest_team_season_wise.select(\"Season\",col(\"WinningTeam\").alias(\"Strongest_Team\"),\"no_of_matches_won\").\n",
    "        orderBy(col(\"Season\").desc()))\n",
    "\n",
    "\n",
    "def weakest_team_season_wise():\n",
    "    team_won_season_wise_windowspec = Window.partitionBy(\"Season\").orderBy(col(\"no_of_matches_won\"))\n",
    "\n",
    "    weakest_team_season_wise = (team_won_season_wise.withColumn(\"rank\", dense_rank().\n",
    "                                over(team_won_season_wise_windowspec)).filter(col(\"rank\") == 1))\n",
    "\n",
    "    return(weakest_team_season_wise.select(\"Season\",col(\"WinningTeam\").alias(\"Weakest_Team\"),\"no_of_matches_won\").orderBy(col(\"Season\").desc()))\n",
    "\n",
    "def strongest_team():\n",
    "    return (teams_won.orderBy(col(\"no_of_matches_won\").desc()).limit(5))\n",
    "\n",
    "def weakest_team():\n",
    "    return (teams_won.orderBy(col(\"no_of_matches_won\")).limit(5))\n"
   ]
  },
  {
   "cell_type": "markdown",
   "metadata": {
    "application/vnd.databricks.v1+cell": {
     "cellMetadata": {},
     "inputWidgets": {},
     "nuid": "71fc114c-9a68-4184-95be-fec9e5a70ea3",
     "showTitle": false,
     "title": ""
    }
   },
   "source": [
    "\n",
    "#### 11.Find matches per season and plot them as a bar chart?"
   ]
  },
  {
   "cell_type": "code",
   "execution_count": 0,
   "metadata": {
    "application/vnd.databricks.v1+cell": {
     "cellMetadata": {
      "byteLimit": 2048000,
      "rowLimit": 10000
     },
     "inputWidgets": {},
     "nuid": "07cff2ca-eaeb-4b04-b17f-cddd2299e3f6",
     "showTitle": false,
     "title": ""
    }
   },
   "outputs": [
    {
     "output_type": "stream",
     "name": "stdout",
     "output_type": "stream",
     "text": [
      "Out[13]: Text(0.5, 1.0, 'Matches Per Season')"
     ]
    },
    {
     "output_type": "display_data",
     "data": {
      "image/png": "[encoded data removed]"
     },
     "metadata": {
      "application/vnd.databricks.v1+output": {
       "addedWidgets": {},
       "arguments": {},
       "data": "data:image/png;base64,iVBORw0KGgoAAAANSUhEUgAAAl4AAAGDCAYAAAD6aR7qAAAAOXRFWHRTb2Z0d2FyZQBNYXRwbG90bGliIHZlcnNpb24zLjUuMSwgaHR0cHM6Ly9tYXRwbG90bGliLm9yZy/YYfK9AAAACXBIWXMAAAsTAAALEwEAmpwYAAAjRklEQVR4nO3dedQkdX3v8ffHGRBZZEBGgiwOKsGoUdDRQKJGwQXUALlXDcSY0YtiEvcd9ejVHD0HzGqMMSAuaNwQRYgxKsElxgUdZJFFA7IECDCDiOASFfjeP6qeSzM868xTv36meb/O6dO1dP3q29X91HzmV9VVqSokSZI0vLuNuwBJkqS7CoOXJElSIwYvSZKkRgxekiRJjRi8JEmSGjF4SZIkNWLwkjR2SS5P8oRx1yFJQzN4SbqDPgT9MslOG0w/O0klWTWPNlb1r10+WKELlOQD/fv6SZIbkpye5IGL1PZuST6Z5PokP05yfpLnLEbbkiaLwUvSdC4DjpgaSfKbwNbjK2fRvL2qtgV2A9YBH1hoAzOEyQ8BVwL3Be4FPBu4buPLlDSpDF6SpvMh4I9HxtcAHxx9QZKn9r1gNyW5MsmbR2b/e/98Y9/DtH+/zPOTXJTk5iQXJnn4yDL7JDmv7zH6eJKtRtb1tCTnJLkxydeTPHRk3muTXN23+f0kB8715qrqZ8BHgIf0bdyn77Fan+SyJC8Zaf/NSU5O8k9JbgKeM02TjwQ+UFU/rapbqursqvrXkTb26+u+Mcm5SR43Mu+5I9vk0iQvGJm3U5LP9MvdkOSrSe7Wz/uNJF/u512Q5JCR5T6Q5F1J/qVv98wk959ru0gansFL0nS+Cdyz/8d9GXA48E8bvOandOFsBfBU4E+THNbPe2z/vKKqtq2qbyR5BvDmfpl7AocAPxxp75nAQcCewEPpA06SfYH3AS+g6006Djgtyd2T7A28CHhkVW0HPBm4fK43l2Rb4FnA2X2Q+WfgXGBX4EDgZUmePLLIocDJ/Xv98DRNfhN4V5LDk+yxwbp2Bf4FeCuwI/Aq4JNJVvYvWQc8rd8mzwX+ZiSQvhK4ClgJ7Ay8HqgkW/Q1fwG4N/Bi4MP99phyOPAWYAfgEuBtc20XScMzeEmayVSv1xOBi4CrR2dW1Zer6rtVdVtVnQd8FPjdWdp7Ht2hvm9X55KqumJk/t9V1X9X1Q10oWKffvpRwHFVdWZV3VpVJwK/APYDbgXuDjwoyRZVdXlV/WCWGl6V5Ea6ILItXbh7JLCyqv68qn5ZVZcC76ELLlO+UVWf7t/rz6dp9xnAV4E3Apf1vXOP7Of9EfDZqvpsv/zpwFrgKf12/Jeq+kG/Tb5CF6Ye0y/7K2AX4L5V9auq+mp1N9jdr6//mL7mLwKfYeTwMHBKVX2rqm6hC4v7IGnsDF6SZvIh4A/pwskHN5yZ5LeSfKk/PPdj4E+AnTZ83YjdgdlC0bUjwz+jCxbQnTf1yv6Q2o19cNoduE9VXQK8jK4nbV2SjyW5zyzr+MuqWlFVv1ZVh/Qh7b7AfTZo//V0PUxTrpylTarqR1V1dFU9uF/uHODTSdK3/4wN2n80XaAiycFJvtkfSryRLpBNbce/oAuJX+gPQx7dT78PcGVV3TZSxhV0PXZTZtqeksbI4CVpWn1v1GV0QeBT07zkI8BpwO5VtT3wj0CmFp/m9VcCG3Oe0ZXA2/rANPXYuqo+2tf5kap6NF3AKeDYjWj/sg3a366qnjLymunez7Sq6nrgL+nC0Y59+x/aoP1tquqYJHcHPtm/fueqWgF8ln47VtXNVfXKqrof3aHZV/TnsP03sPvU+V69PdigV1LS0mPwkjSbI4EDquqn08zbDrihqv4nyaPoesemrAduA+43Mu0EukN9j0jnAUnuO48a3gP8Sd/DliTb9Cf2b5dk7yQH9AHmf4Cf9+tdiG8BN/cn6d8jybIkDxk5VDinJMf2yyxPsh3wp8AlVfVDunPjfi/Jk/u2t0ryuCS7AVvSHSpdD9yS5GDgSSPtPq3fTgF+THdo9TbgTLperNck2aI/Wf/3gI8t8L1LaszgJWlG/blHa2eY/WfAnye5GXgTcNLIcj+jO5n7a/3htf2q6hP9tI8ANwOfpusRmquGtcDzgb8HfkR36O05/ey7A8cA19MdWrs38LoFvsdb6U5u34euh+96upC4/QKa2Ro4BbgRuJSu9+2Qvv0r6U7Ofz1dwLoSeDVwt6q6GXgJ3bb7EV14PW2k3b2AfwN+AnwD+Ieq+lJV/ZIuaB3c1/sPwB9X1fcW8t4ltZfuPE1JkiQNzR4vSZKkRgxekiRJjRi8JEmSGjF4SZIkNWLwkiRJamT5uAuYr5122qlWrVo17jIkSZLmdNZZZ11fVSs3nL7ZBK9Vq1axdu1MlxOSJElaOpJcMd10DzVKkiQ1YvCSJElqxOAlSZLUiMFLkiSpEYOXJElSIwYvSZKkRgxekiRJjRi8JEmSGjF4SZIkNWLwkiRJasTgJUmS1IjBS5IkqRGDlyRJUiPLx12ApIU75uzrm67v6H13aro+SZpU9nhJkiQ1YvCSJElqxOAlSZLUiMFLkiSpEYOXJElSIwYvSZKkRgxekiRJjXgdL2kBvH6WJC2+lvvWce9X7fGSJElqxOAlSZLUiMFLkiSpEc/x0mbhrnT8X5I0uezxkiRJasTgJUmS1IjBS5IkqRGDlyRJUiMGL0mSpEYMXpIkSY0YvCRJkhoxeEmSJDUyaPBKsneSc0YeNyV5WZIdk5ye5OL+eYch65AkSVoKBg1eVfX9qtqnqvYBHgH8DDgFOBo4o6r2As7oxyVJkiZay0ONBwI/qKorgEOBE/vpJwKHNaxDkiRpLFoGr8OBj/bDO1fVNf3wtcDODeuQJEkaiybBK8mWwCHAJzacV1UF1AzLHZVkbZK169evH7hKSZKkYbXq8ToY+E5VXdePX5dkF4D+ed10C1XV8VW1uqpWr1y5slGpkiRJw2gVvI7g9sOMAKcBa/rhNcCpjeqQJEkam8GDV5JtgCcCnxqZfAzwxCQXA0/oxyVJkiba8qFXUFU/Be61wbQf0v3KUZIk6S7DK9dLkiQ1YvCSJElqxOAlSZLUiMFLkiSpEYOXJElSIwYvSZKkRgxekiRJjRi8JEmSGjF4SZIkNWLwkiRJasTgJUmS1IjBS5IkqRGDlyRJUiMGL0mSpEYMXpIkSY0YvCRJkhoxeEmSJDVi8JIkSWrE4CVJktSIwUuSJKkRg5ckSVIjBi9JkqRGDF6SJEmNGLwkSZIaMXhJkiQ1YvCSJElqxOAlSZLUiMFLkiSpEYOXJElSIwYvSZKkRgxekiRJjRi8JEmSGhk8eCVZkeTkJN9LclGS/ZPsmOT0JBf3zzsMXYckSdK4tejxegfwuap6IPAw4CLgaOCMqtoLOKMflyRJmmiDBq8k2wOPBd4LUFW/rKobgUOBE/uXnQgcNmQdkiRJS8HQPV57AuuB9yc5O8kJSbYBdq6qa/rXXAvsPHAdkiRJY7e8QfsPB15cVWcmeQcbHFasqkpS0y2c5CjgKIA99thj4FI1nWPOvr7Zuo7ed6dm69Li8TtyRy23B7hNNjTb9lgqn81SqQOWzmdzVzJ0j9dVwFVVdWY/fjJdELsuyS4A/fO66RauquOranVVrV65cuXApUqSJA1r0OBVVdcCVybZu590IHAhcBqwpp+2Bjh1yDokSZKWgqEPNQK8GPhwki2BS4Hn0gW+k5IcCVwBPLNBHZIkSWM1ePCqqnOA1dPMOnDodUu66/BclTtzm0hLj1eulyRJasTgJUmS1IjBS5IkqZEWJ9dvNpbStVUkSdLkscdLkiSpEYOXJElSIwYvSZKkRjzHawnyXDNJkiaTPV6SJEmNGLwkSZIaMXhJkiQ1YvCSJElqxOAlSZLUiMFLkiSpEYOXJElSIwYvSZKkRgxekiRJjRi8JEmSGjF4SZIkNWLwkiRJasTgJUmS1IjBS5IkqRGDlyRJUiMGL0mSpEYMXpIkSY0YvCRJkhoxeEmSJDVi8JIkSWrE4CVJktSIwUuSJKkRg5ckSVIjBi9JkqRGlg+9giSXAzcDtwK3VNXqJDsCHwdWAZcDz6yqHw1diyRJ0ji16vF6fFXtU1Wr+/GjgTOqai/gjH5ckiRpoo3rUOOhwIn98InAYWOqQ5IkqZkWwauALyQ5K8lR/bSdq+qafvhaYOfpFkxyVJK1SdauX7++QamSJEnDGfwcL+DRVXV1knsDpyf53ujMqqokNd2CVXU8cDzA6tWrp32NJEnS5mLwHq+qurp/XgecAjwKuC7JLgD987qh65AkSRq3QYNXkm2SbDc1DDwJOB84DVjTv2wNcOqQdUiSJC0FQx9q3Bk4JcnUuj5SVZ9L8m3gpCRHAlcAzxy4DkmSpLEbNHhV1aXAw6aZ/kPgwCHXLUmStNR45XpJkqRGDF6SJEmNzCt4Jbl/krv3w49L8pIkKwatTJIkacLMt8frk8CtSR5Ad12t3YGPDFaVJEnSBJpv8Lqtqm4Bfh94Z1W9GthluLIkSZImz3yD16+SHEF3za3P9NO2GKYkSZKkyTTf4PVcYH/gbVV1WZI9gQ8NV5YkSdLkmdd1vKrqwiSvBfboxy8Djh2yMEmSpEkz3181/h5wDvC5fnyfJKcNWJckSdLEme+hxjfT3dz6RoCqOge43yAVSZIkTah5n1xfVT/eYNpti12MJEnSJJvvvRovSPKHwLIkewEvAb4+XFmSJEmTZ749Xi8GHgz8AvgocBPwsoFqkiRJmkjz/VXjz4A39A9JkiRthHkFryS/DrwKWDW6TFUdMExZkiRJk2e+53h9AvhH4ATg1uHKkSRJmlzzDV63VNW7B61EkiRpws0avJLs2A/+c5I/A06hO8EegKq6YcDaJEmSJspcPV5nAQWkH3/1yLzCi6hKkiTN26zBq6r2bFWIJEnSpJvvvRpfmGTFyPgO/aFHSZIkzdN8L6D6/Kq6cWqkqn4EPH+QiiRJkibUfIPXsiRT53mRZBmw5TAlSZIkTab5Xk7i88DHkxzXj78A+NwwJUmSJE2m+Qav1wBHAX/aj58OvGeQiiRJkibUfIPXi6vqHXRXrwcgyUuBdwxSlSRJ0gSa7zlea6aZ9pxFrEOSJGnizXXl+iOAPwT2THLayKztAK9aL0mStABzHWr8OnANsBPwVyPTbwbOG6ooSZKkSTTXleuvAK4A9m9TjiRJ0uSa75Xr90vy7SQ/SfLLJLcmuWno4iRJkibJfE+u/3vgCOBi4B7A84B3DVWUJEnSJJpv8KKqLgGWVdWtVfV+4KD5LptkWZKzk3ymH98zyZlJLkny8SReBV+SJE28+Qavn/Xh6Jwkb0/y8gUsC/BS4KKR8WOBv6mqBwA/Ao5cQFuSJEmbpfmGp2cDy4AXAT8Fdgf+93wWTLIb8FTghH48wAHAyf1LTgQOm3fFkiRJm6l5Xbm+/3UjwM+BtyxwHX9Ld8uh7frxewE3VtUt/fhVwK7TLZjkKLpbFbHHHnsscLWSJElLy1wXUJ31Wl1V9dA5ln8asK6qzkryuIUWV1XHA8cDrF69uha6vCRJ0lIyV4/XbUABHwH+ma7HayF+BzgkyVOArYB70t3fcUWS5X2v127A1QtsV5IkabMz6zleVbUP3WUktqULX28DHgxcPXL4cbblX1dVu1XVKuBw4ItV9SzgS8DT+5etAU7d2DcgSZK0uZjz5Pqq+l5V/d+qejhdr9cHgZdv4npfC7wiySV053y9dxPbkyRJWvLmPLk+ya50vVW/T3fph5cDpyx0RVX1ZeDL/fClwKMW2oYkSdLmbK6T679C92vEk4DnAj/sZ22ZZMequmHg+iRJkibGXD1e96U7uf4F9Jd16KWffr+B6pIkSZo4swav/qT4OSV5cFVdsCgVSZIkTaiF3PZnNh9apHYkSZIm1mIFryxSO5IkSRNrsYKXV5WXJEmaw2IFL0mSJM1hsYLXLxepHUmSpIk113W8Hj7b/Kr6Tv+832IWJUmSNInmuo7XX80yr4ADFrEWSZKkiTbXdbwe36oQSZKkSTfnvRqnJHkI8CBgq6lpVfXBIYqSJEmaRPMKXkn+L/A4uuD1WeBg4D8Ag5ckSdI8zfdXjU8HDgSurarnAg8Dth+sKkmSpAk03+D186q6DbglyT2BdcDuw5UlSZI0eeZ7jtfaJCuA9wBnAT8BvjFUUZIkSZNoXsGrqv6sH/zHJJ8D7llV5w1XliRJ0uSZ16HGJGdMDVfV5VV13ug0SZIkzW2uK9dvBWwN7JRkByD9rHsCuw5cmyRJ0kSZ61DjC4CXAfcBvjMy/Sbg7weqSZIkaSLNdeX6dwDvSPLiqnpno5okSZIm0nx/1XhckpcAj+3HvwwcV1W/GqQqSZKkCTTf4PUPwBb9M8CzgXcDzxuiKEmSpEk018n1y6vqFuCRVfWwkVlfTHLusKVJkiRNlrkuJ/Gt/vnWJPefmpjkfsCtg1UlSZI0geY61Dh1+YhXAV9Kcmk/vgp47lBFSZIkTaK5gtfKJK/oh48DlvXDtwL7Al8aqjBJkqRJM1fwWgZsy+09X6PLbTdIRZIkSRNqruB1TVX9eZNKJEmSJtxcJ9dv2NMlSZKkjTRX8DqwSRWSJEl3AbMGr6q6oVUhkiRJk26uHq9NkmSrJN9Kcm6SC5K8pZ++Z5Izk1yS5ONJthyyDkmSpKVg0OAF/AI4oL/q/T7AQUn2A44F/qaqHgD8CDhy4DokSZLGbtDgVZ2f9KNb9I8CDgBO7qefCBw2ZB2SJElLwdA9XiRZluQcYB1wOvAD4Mb+HpAAVwG7zrDsUUnWJlm7fv36oUuVJEka1ODBq6purap9gN2ARwEPXMCyx1fV6qpavXLlyqFKlCRJamLw4DWlqm6ku8XQ/sCKJFMXb90NuLpVHZIkSeMy9K8aVyZZ0Q/fA3gicBFdAHt6/7I1wKlD1iFJkrQUzHXLoE21C3BikmV0Ie+kqvpMkguBjyV5K3A28N6B65AkSRq7QYNXVZ0H7DvN9EvpzveSJEm6y2h2jpckSdJdncFLkiSpEYOXJElSIwYvSZKkRgxekiRJjRi8JEmSGjF4SZIkNWLwkiRJasTgJUmS1IjBS5IkqRGDlyRJUiMGL0mSpEYMXpIkSY0YvCRJkhoxeEmSJDVi8JIkSWrE4CVJktSIwUuSJKkRg5ckSVIjBi9JkqRGDF6SJEmNGLwkSZIaMXhJkiQ1YvCSJElqxOAlSZLUiMFLkiSpEYOXJElSIwYvSZKkRgxekiRJjRi8JEmSGjF4SZIkNWLwkiRJamTQ4JVk9yRfSnJhkguSvLSfvmOS05Nc3D/vMGQdkiRJS8HQPV63AK+sqgcB+wEvTPIg4GjgjKraCzijH5ckSZpogwavqrqmqr7TD98MXATsChwKnNi/7ETgsCHrkCRJWgqaneOVZBWwL3AmsHNVXdPPuhbYeYZljkqyNsna9evXtylUkiRpIE2CV5JtgU8CL6uqm0bnVVUBNd1yVXV8Va2uqtUrV65sUKkkSdJwBg9eSbagC10frqpP9ZOvS7JLP38XYN3QdUiSJI3b0L9qDPBe4KKq+uuRWacBa/rhNcCpQ9YhSZK0FCwfuP3fAZ4NfDfJOf201wPHACclORK4AnjmwHVIkiSN3aDBq6r+A8gMsw8cct2SJElLjVeulyRJasTgJUmS1IjBS5IkqRGDlyRJUiMGL0mSpEYMXpIkSY0YvCRJkhoxeEmSJDVi8JIkSWrE4CVJktSIwUuSJKkRg5ckSVIjBi9JkqRGDF6SJEmNGLwkSZIaMXhJkiQ1YvCSJElqxOAlSZLUiMFLkiSpEYOXJElSIwYvSZKkRgxekiRJjRi8JEmSGjF4SZIkNWLwkiRJasTgJUmS1IjBS5IkqRGDlyRJUiMGL0mSpEYMXpIkSY0YvCRJkhoZNHgleV+SdUnOH5m2Y5LTk1zcP+8wZA2SJElLxdA9Xh8ADtpg2tHAGVW1F3BGPy5JkjTxBg1eVfXvwA0bTD4UOLEfPhE4bMgaJEmSlopxnOO1c1Vd0w9fC+w8hhokSZKaG+vJ9VVVQM00P8lRSdYmWbt+/fqGlUmSJC2+cQSv65LsAtA/r5vphVV1fFWtrqrVK1eubFagJEnSEMYRvE4D1vTDa4BTx1CDJElSc0NfTuKjwDeAvZNcleRI4BjgiUkuBp7Qj0uSJE285UM2XlVHzDDrwCHXK0mStBR55XpJkqRGDF6SJEmNGLwkSZIaMXhJkiQ1YvCSJElqxOAlSZLUiMFLkiSpEYOXJElSIwYvSZKkRgxekiRJjRi8JEmSGjF4SZIkNWLwkiRJasTgJUmS1IjBS5IkqRGDlyRJUiMGL0mSpEYMXpIkSY0YvCRJkhoxeEmSJDVi8JIkSWrE4CVJktSIwUuSJKkRg5ckSVIjBi9JkqRGDF6SJEmNGLwkSZIaMXhJkiQ1YvCSJElqxOAlSZLUiMFLkiSpEYOXJElSI2MLXkkOSvL9JJckOXpcdUiSJLUyluCVZBnwLuBg4EHAEUkeNI5aJEmSWhlXj9ejgEuq6tKq+iXwMeDQMdUiSZLUxLiC167AlSPjV/XTJEmSJlaqqv1Kk6cDB1XV8/rxZwO/VVUv2uB1RwFH9aN7A99vWuj87QRcP+4isI7pLJVarOOOlkodsHRqsY47Wyq1WMcdLZU6YGnVsqH7VtXKDScuH0clwNXA7iPju/XT7qCqjgeOb1XUxkqytqpWW8fSqgOWTi3WsTTrgKVTi3Xc2VKpxTqWZh2wtGqZr3Edavw2sFeSPZNsCRwOnDamWiRJkpoYS49XVd2S5EXA54FlwPuq6oJx1CJJktTKuA41UlWfBT47rvUvsqVyONQ67myp1GIdd7RU6oClU4t13NlSqcU67mip1AFLq5Z5GcvJ9ZIkSXdF3jJIkiSplaq6yz3oflH5JeBC4ALgpf30HYHTgYv75x366QH+DrgEOA94eD/98cA5I4//AQ4bWc/hwBtmWr5/zdv7Gi7qX5PFrrOfdyxwfv/4gyG2xzzWM7U9Hgh8A/gF8KoNXnMQ3WVDLgGOXoTPbrZ1vQ9YB5zf4Ds0bR0ztTOGOrYCvgWc27fzlnFtk5H2lgFnA58ZVx3A5cB36f6+146xjhXAycD36PYV+4/hO7I3d9zf3QS8bIzb5OV9G+cDHwW2GlMdL+1ruGDD7bER63kW3T71u8DXgYeNtDXjvpHb962zLT/j/m6R69zo/epi1jJTO0vhMfYCxvKmYRduD0/bAf9Jd+uit099oYGjgWP74acA/0oXOPYDzpymzR2BG4CtR6adCDxipuWB3wa+RvcPzLL+D/txi10n8NT+i7oc2IbuV6X3HMN6prbHvYFHAm/jjjv2ZcAPgPsBW9KFgAdt4mc37br6eY8FHs7GBa9FqWOmdsZQR4Bt++EtgDOB/caxTUbaewXwERYevBbzO3I5sFOj/cxsdZwIPK8f3hJYMa7PZeRv9Vq66xSN4+9mV+Ay4B79+EnAc8ZQx0PoQtfWdPu9fwMesAnr+W1uDxQHc/u+ddZ9I7fvW6ddvh+fcX+3WHXOtZ6BPpuZttkm7VuHfIy9gKXwAE4Fnkj3v4ldRj607/fDxwFHjLz+/79uZNpRwIdHxtP/cWSm5YH9gbOAe/R/uGuB31jsOoFXA28cmf5e4Jkt1zO6PUbmv5k77sT2Bz4/Mv464HWb8tnNtK6R6as2dgexmHVs2M446+i/i9+hu6jxWLYJ3bX9zgAOYIHBa5HruJyNDF6LVQewPV3IyDjr2GDek4CvjXGbTN39ZEe6wPMZ4EljqOMZwHtHxt8IvGZT19NP3wG4uh+ecd/INPvWDZcfmbaKeezvNrbOha5nMT+bmWrZsJ3FqGlTH3f5c7ySrAL2pfsf/s5VdU0/61pg5354Prc4Opyuu3vKvsC51X3i0y5fVd+g6wq9pn98vqouGqDOc4GDkmydZCe6Q6SjF7BtsZ7R7TGTBd1Kap61Dm6x6tigneZ1JFmW5By6wwSnV9VG1bEYtQB/C7wGuG1ja1ikOgr4QpKz+jtpjKOOPYH1wPuTnJ3khCTbjKGOURvu75rWUlVXA38J/BfdvvPHVfWF1nXQ9XY9Jsm9kmxNdzRgU/ato46kO7IAs+8bZ9q3ji4/b5tY56JarFo2dd+62O7SwSvJtsAn6Y7L3zQ6r/8SzxYSRtvZBfhNuuuSTTmIOb6MSR4A/Abd/+53BQ5I8pjFrrPfIX2W7vj3R+kOad7aeD1zbo+FWKzPbqnUMVs7reqoqlurah+67+OjkjxkoXUsRi1Jngasq6qzNmb9i1VH79FV9XC6QxgvTPLYMdSxnO7Qzbural/gp3SHWlrXMdXOlsAhwCcWWsNi1ZJkB+BQulB6H2CbJH/Uuo7+P8rHAl8APkd37tsm71uTPJ4uRLx2Hm/jTvvWBS7fqs4FWaxaNnXfOoS7bPBKsgXdh/HhqvpUP/m6PkRNhal1/fS5bnH0TOCUqvrVyLQn0f0xzrb87wPfrKqfVNVP6P549h+izqp6W1XtU1VPpOua/s/G6xndHjOZ162kFljrYBarjhnaaV7HlKq6ka4n9qAx1fI7wCFJLgc+Rvcfkn8aQx1TPStU1TrgFOBRY6jjKuCqkR7Ik+mCWOs6phwMfKeqrltIDYtcyxOAy6pqfb/f/RTduT6t66Cq3ltVj6iqxwI/YtP2rSR5KHACcGhV/bCfPNu+8Q771hmWn9Mi1bkoFquWTd23DuUuGbyShO78o4uq6q9HZp0GrOmH19AdE56a/sfp7EfXrX3NyHJHMNLtnmR7YPnIF2Cm5f8L+N0ky/svyO/S/WJpUevsDyHdq2/zocBDueMf6qDrmWZ7zGTOW0ltRK2DWKw6ZmmndR0rk6zoh+9Bd07F98ZRS1W9rqp2q6pVdN+BL1bVvHszFnGbbJNku6lhun/gzm9dR1VdC1yZZO9+0oF0v9RqWseIO+zvFmIRa/kvYL90pzWEbptMe5rGwHWQ5N798x7A/6L7QchGradv41PAs6tqNMBNu2/ccN86y/JzvYfFqnOTLVYtm7pvHVQtgRPNWj+AR9N1U57H7T+NfgpwL7oTei+m+3XKjv3rA7yL7lcl3wVWj7S1iu5/HncbmfZ04M0j49MuT/dLlePodhgXAn89RJ10lwq4sH98E9in5Xqm2R6/Rve/+JuAG/vhe/bznkL3P8YfAG9YhM9utnV9lO78kF/1048c8Ds0bR0ztTOGOh5Kd+mG8+jCxZsa/F3N+NmMtPk4Fv6rxsXaJvejO29x6hIbd/o+ttoewD50P745D/g0/a+4xlDHNsAPge0b7Xtnq+UtdP85OB/4EHD3MdXxVbp93rnAgZu4nhPoes2mXrt2pK077Ru58751tuVn3N8tcp0bvV9dzFpmamdjvreL/fDK9QNIcgJwQlV9c9y1LAVuD0lafO5bN08GL0mSpEbukud4SZIkjYPBS5IkqRGDlyRJUiMGL0mSpEYMXpI2W0nekOSCJOclOSfJb427JkmazfJxFyBJGyPJ/sDTgIdX1S/S3R90yzGXJUmzssdL0uZqF+D6qvoFQFVdX1X/neQRSb6S7sbWnx+5zcjzk3w7yblJPpnupsYkeUaS8/vp/95P2yrJ+5N8N92NqR/fT39Okk8l+VySi5O8fUzvXdJmyut4Sdospbv57X8AW9NdyfrjdDdo/wrdPdvWJ/kD4MlV9X+S3Ktuv7XKW4HrquqdSb4LHFRVVydZUVU3Jnkl8OB+uQfS3WLr1+lu1fImYF/gF8D36W6kfWXTNy9ps+WhRkmbpar6SZJHAI8BHk8XvN4KPAQ4vbtVG8vobl8C8JA+cK0AtgU+30//GvCBJCfR3fMNutuNvLNfz/eSXEEXvADOqKofAyS5ELgvYPCSNC8GL0mbraq6Ffgy8OW+5+qFwAVVtf80L/8AcFhVnZvkOXT3gaSq/qQ/Kf+pwFl9mJvNL0aGb8X9qKQF8BwvSZulJHsn2Wtk0j50N5xf2Z94T5Itkjy4n78dcE2SLYBnjbRz/6o6s6reBKwHdqe78fGz+vm/DuxBd1hRkjaJ/1OTtLnaFnhnkhXALcAlwFHA8cDfJdmebh/3t8AFwBuBM+nC1Zl0QQzgL/oAF+AM4Fzge8C7+160W4Dn9L+cbPPOJE0sT66XJElqxEONkiRJjRi8JEmSGjF4SZIkNWLwkiRJasTgJUmS1IjBS5IkqRGDlyRJUiMGL0mSpEb+H457TJVIm+dkAAAAAElFTkSuQmCC\n",
       "datasetInfos": [],
       "metadata": {},
       "removedWidgets": [],
       "type": "image"
      }
     },
     "output_type": "display_data"
    }
   ],
   "source": [
    "\n",
    "matches_per_season = (matches.groupBy(\"Season\").agg(count(\"ID\").alias(\"Total_Matches\")).orderBy(\"Season\"))\n",
    "\n",
    "pd_df = matches_per_season.toPandas()\n",
    "\n",
    "plt.figure(figsize=(10, 6))\n",
    "plt.bar(pd_df['Season'], pd_df['Total_Matches'], color = 'SkyBlue')\n",
    "plt.xlabel('Season')\n",
    "plt.ylabel('Total_Matches')\n",
    "plt.title('Matches Per Season')"
   ]
  },
  {
   "cell_type": "markdown",
   "metadata": {
    "application/vnd.databricks.v1+cell": {
     "cellMetadata": {},
     "inputWidgets": {},
     "nuid": "a6f596e3-ff0c-4ef9-ade3-5599a2a98076",
     "showTitle": false,
     "title": ""
    }
   },
   "source": [
    "\n",
    "#### 12.Visualize most final matches played by a team?"
   ]
  },
  {
   "cell_type": "code",
   "execution_count": 0,
   "metadata": {
    "application/vnd.databricks.v1+cell": {
     "cellMetadata": {
      "byteLimit": 2048000,
      "rowLimit": 10000
     },
     "inputWidgets": {},
     "nuid": "4cd959b9-84da-45f9-8053-920544541cba",
     "showTitle": false,
     "title": ""
    }
   },
   "outputs": [
    {
     "output_type": "display_data",
     "data": {
      "image/png": "[encoded data removed]"
     },
     "metadata": {
      "application/vnd.databricks.v1+output": {
       "addedWidgets": {},
       "arguments": {},
       "data": "data:image/png;base64,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\n",
       "datasetInfos": [],
       "metadata": {},
       "removedWidgets": [],
       "type": "image"
      }
     },
     "output_type": "display_data"
    }
   ],
   "source": [
    "result_pd = team_into_finals().toPandas()\n",
    "explode = (0.05,0.05,0.05,0.05,0.05,0.05)\n",
    "plt.figure(figsize=(4,4))\n",
    "plt.pie(result_pd['no_of_times_into_finals'], labels=result_pd['Team'], autopct='%1.1f%%', startangle=140, explode=explode)\n",
    "plt.axis('equal')  # Equal aspect ratio ensures that pie is drawn as a circle.\n",
    "plt.title('Team Played Most Finals')\n",
    "plt.show()"
   ]
  },
  {
   "cell_type": "markdown",
   "metadata": {
    "application/vnd.databricks.v1+cell": {
     "cellMetadata": {},
     "inputWidgets": {},
     "nuid": "60122270-13f3-452a-a91a-00906a36e2a1",
     "showTitle": false,
     "title": ""
    }
   },
   "source": [
    "\n",
    "#### 13.Find out who hit the most boundaries?"
   ]
  },
  {
   "cell_type": "code",
   "execution_count": 0,
   "metadata": {
    "application/vnd.databricks.v1+cell": {
     "cellMetadata": {
      "byteLimit": 2048000,
      "rowLimit": 10000
     },
     "inputWidgets": {},
     "nuid": "c6793292-f400-470b-ab78-f3731a676614",
     "showTitle": false,
     "title": ""
    }
   },
   "outputs": [],
   "source": [
    "def batter_hit_most_boundaries():\n",
    "\n",
    "    batter_hit_most_boundaries = (join_df.filter(col(\"non_boundary\") == 1).\n",
    "                                select(\"batter\").\n",
    "                                groupBy(\"batter\").\n",
    "                                agg(count(col(\"batter\")).alias(\"no_of_boundaries\")).\n",
    "                                orderBy(col(\"no_of_boundaries\").desc()).limit(1)\n",
    "    )\n",
    "\n",
    "    return(batter_hit_most_boundaries)"
   ]
  },
  {
   "cell_type": "markdown",
   "metadata": {
    "application/vnd.databricks.v1+cell": {
     "cellMetadata": {},
     "inputWidgets": {},
     "nuid": "28e84860-695e-46cd-a756-0dbdac735cf3",
     "showTitle": false,
     "title": ""
    }
   },
   "source": [
    "\n",
    "#### 14.Who won most man of the matches?"
   ]
  },
  {
   "cell_type": "code",
   "execution_count": 0,
   "metadata": {
    "application/vnd.databricks.v1+cell": {
     "cellMetadata": {
      "byteLimit": 2048000,
      "rowLimit": 10000
     },
     "inputWidgets": {},
     "nuid": "aa9f3694-8301-47bf-a042-311da747c5b1",
     "showTitle": false,
     "title": ""
    }
   },
   "outputs": [
    {
     "output_type": "display_data",
     "data": {
      "text/html": [
       "<style scoped>\n",
       "  .table-result-container {\n",
       "    max-height: 300px;\n",
       "    overflow: auto;\n",
       "  }\n",
       "  table, th, td {\n",
       "    border: 1px solid black;\n",
       "    border-collapse: collapse;\n",
       "  }\n",
       "  th, td {\n",
       "    padding: 5px;\n",
       "  }\n",
       "  th {\n",
       "    text-align: left;\n",
       "  }\n",
       "</style><div class='table-result-container'><table class='table-result'><thead style='background-color: white'><tr><th>Player_of_Match</th><th>no_of_times_won</th></tr></thead><tbody><tr><td>AB de Villiers</td><td>25</td></tr></tbody></table></div>"
      ]
     },
     "metadata": {
      "application/vnd.databricks.v1+output": {
       "addedWidgets": {},
       "aggData": [],
       "aggError": "",
       "aggOverflow": false,
       "aggSchema": [],
       "aggSeriesLimitReached": false,
       "aggType": "",
       "arguments": {},
       "columnCustomDisplayInfos": {},
       "data": [
        [
         "AB de Villiers",
         25
        ]
       ],
       "datasetInfos": [],
       "dbfsResultPath": null,
       "isJsonSchema": true,
       "metadata": {},
       "overflow": false,
       "plotOptions": {
        "customPlotOptions": {},
        "displayType": "table",
        "pivotAggregation": null,
        "pivotColumns": null,
        "xColumns": null,
        "yColumns": null
       },
       "removedWidgets": [],
       "schema": [
        {
         "metadata": "{}",
         "name": "Player_of_Match",
         "type": "\"string\""
        },
        {
         "metadata": "{}",
         "name": "no_of_times_won",
         "type": "\"long\""
        }
       ],
       "type": "table"
      }
     },
     "output_type": "display_data"
    }
   ],
   "source": [
    "def most_player_of_the_match():\n",
    "    player_of_the_match = (matches.select(\"Player_of_Match\").groupBy(col(\"Player_of_Match\")).\n",
    "                           agg(count(col(\"Player_of_Match\")).alias(\"no_of_times_won\")).\n",
    "                           orderBy(col(\"no_of_times_won\").desc()).limit(1)\n",
    "    )\n",
    "    return(player_of_the_match)\n",
    "\n",
    "display(most_player_of_the_match())"
   ]
  },
  {
   "cell_type": "markdown",
   "metadata": {
    "application/vnd.databricks.v1+cell": {
     "cellMetadata": {},
     "inputWidgets": {},
     "nuid": "56f593ed-c2da-488f-b3f7-3066f333ac7e",
     "showTitle": false,
     "title": ""
    }
   },
   "source": [
    "\n",
    "#### 15.Bowler who bowled most no of dot balls?"
   ]
  },
  {
   "cell_type": "code",
   "execution_count": 0,
   "metadata": {
    "application/vnd.databricks.v1+cell": {
     "cellMetadata": {
      "byteLimit": 2048000,
      "rowLimit": 10000
     },
     "inputWidgets": {},
     "nuid": "1142c754-254e-4a30-a81b-ae9b35b7249a",
     "showTitle": false,
     "title": ""
    }
   },
   "outputs": [
    {
     "output_type": "display_data",
     "data": {
      "text/html": [
       "<style scoped>\n",
       "  .table-result-container {\n",
       "    max-height: 300px;\n",
       "    overflow: auto;\n",
       "  }\n",
       "  table, th, td {\n",
       "    border: 1px solid black;\n",
       "    border-collapse: collapse;\n",
       "  }\n",
       "  th, td {\n",
       "    padding: 5px;\n",
       "  }\n",
       "  th {\n",
       "    text-align: left;\n",
       "  }\n",
       "</style><div class='table-result-container'><table class='table-result'><thead style='background-color: white'><tr><th>bowler</th><th>no_of_dot_balls</th></tr></thead><tbody><tr><td>B Kumar</td><td>1385</td></tr></tbody></table></div>"
      ]
     },
     "metadata": {
      "application/vnd.databricks.v1+output": {
       "addedWidgets": {},
       "aggData": [],
       "aggError": "",
       "aggOverflow": false,
       "aggSchema": [],
       "aggSeriesLimitReached": false,
       "aggType": "",
       "arguments": {},
       "columnCustomDisplayInfos": {},
       "data": [
        [
         "B Kumar",
         1385
        ]
       ],
       "datasetInfos": [],
       "dbfsResultPath": null,
       "isJsonSchema": true,
       "metadata": {},
       "overflow": false,
       "plotOptions": {
        "customPlotOptions": {},
        "displayType": "table",
        "pivotAggregation": null,
        "pivotColumns": null,
        "xColumns": null,
        "yColumns": null
       },
       "removedWidgets": [],
       "schema": [
        {
         "metadata": "{}",
         "name": "bowler",
         "type": "\"string\""
        },
        {
         "metadata": "{}",
         "name": "no_of_dot_balls",
         "type": "\"long\""
        }
       ],
       "type": "table"
      }
     },
     "output_type": "display_data"
    }
   ],
   "source": [
    "def bowler_bowled_most_dot_balls():\n",
    "    bowler_bowled_most_dot_balls = (ball_by_ball.filter(col(\"total_run\") == 0).\n",
    "                                    select(\"bowler\",\"ballnumber\").\n",
    "                                    groupBy(col(\"bowler\")).\n",
    "                                    agg(count(col(\"ballnumber\")).alias(\"no_of_dot_balls\")).\n",
    "                                    orderBy(col(\"no_of_dot_balls\").desc()).limit(1)\n",
    "    )\n",
    "    return(bowler_bowled_most_dot_balls)\n",
    "\n",
    "display(bowler_bowled_most_dot_balls())"
   ]
  }
 ],
 "metadata": {
  "application/vnd.databricks.v1+notebook": {
   "dashboards": [],
   "language": "python",
   "notebookMetadata": {
    "pythonIndentUnit": 4
   },
   "notebookName": "IPL-Data-Analysis-PySpark",
   "widgets": {}
  }
 },
 "nbformat": 4,
 "nbformat_minor": 0
}
