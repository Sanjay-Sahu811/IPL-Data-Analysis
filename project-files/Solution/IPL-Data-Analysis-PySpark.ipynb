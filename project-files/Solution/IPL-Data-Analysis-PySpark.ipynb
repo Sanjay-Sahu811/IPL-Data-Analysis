{
 "cells": [
  {
   "cell_type": "markdown",
   "metadata": {
    "application/vnd.databricks.v1+cell": {
     "cellMetadata": {
      "byteLimit": 2048000,
      "rowLimit": 10000
     },
     "inputWidgets": {},
     "nuid": "2efb2b24-609a-45ed-8d06-6647e8e342ce",
     "showTitle": false,
     "tableResultSettingsMap": {},
     "title": ""
    }
   },
   "source": [
    "\n",
    "<div style=\"text-align: center;\">\n",
    "  <div style=\"display: flex; justify-content: center;\">\n",
    "    <img src=\"https://encrypted-tbn0.gstatic.com/images?q=tbn:ANd9GcRQHBG_JmpOhUxcbMLkJlZcrmEWNDLjJb1ufK7peaaJPPmDBiYBeAhIplBT-X3efpIAN5g&usqp=CAU\" alt=\"IPL Data Analysis In Databricks Using PySpark\" style=\"margin-bottom: 10px; width: 200px;\">\n",
    "  </div>\n",
    "  <h2 style=\"margin-top: 0;\">IPL Data Analysis In Databricks Using PySpark</h2>\n",
    "</div>\n"
   ]
  },
  {
   "cell_type": "code",
   "execution_count": 0,
   "metadata": {
    "application/vnd.databricks.v1+cell": {
     "cellMetadata": {
      "byteLimit": 2048000,
      "rowLimit": 10000
     },
     "inputWidgets": {},
     "nuid": "01729798-5026-43a8-b53b-db8de0a5067c",
     "showTitle": false,
     "tableResultSettingsMap": {},
     "title": ""
    }
   },
   "outputs": [],
   "source": [
    "from pyspark.sql.window import Window\n",
    "from pyspark.sql.functions import count, col, sum, max, min, dense_rank, row_number, expr, when\n",
    "import matplotlib.pyplot as plt "
   ]
  },
  {
   "cell_type": "code",
   "execution_count": 0,
   "metadata": {
    "application/vnd.databricks.v1+cell": {
     "cellMetadata": {
      "byteLimit": 2048000,
      "rowLimit": 10000
     },
     "inputWidgets": {},
     "nuid": "34175599-04c5-4ab4-bcfa-070d3eef04c5",
     "showTitle": false,
     "tableResultSettingsMap": {},
     "title": ""
    }
   },
   "outputs": [],
   "source": [
    "ball_by_ball_path = \"dbfs:/FileStore/tables/IPL/deliveries.csv\"\n",
    "matches_path = \"dbfs:/FileStore/tables/IPL/matches.csv\"\n",
    "\n",
    "ball_by_ball = spark.read.csv(ball_by_ball_path, header=True, inferSchema= True)\n",
    "matches = spark.read.csv(matches_path, header=True, inferSchema= True)\n",
    "\n",
    "join_df = ball_by_ball.join(matches, ball_by_ball['match_id'] == matches['id'], how=\"INNER\")"
   ]
  },
  {
   "cell_type": "markdown",
   "metadata": {
    "application/vnd.databricks.v1+cell": {
     "cellMetadata": {
      "byteLimit": 2048000,
      "rowLimit": 10000
     },
     "inputWidgets": {},
     "nuid": "9946935c-678b-4f8d-ac08-0cb1ab3506e0",
     "showTitle": false,
     "tableResultSettingsMap": {},
     "title": ""
    }
   },
   "source": [
    "\n",
    "#### 1.Find out max and min wicket taken by a bowler in each season ?"
   ]
  },
  {
   "cell_type": "code",
   "execution_count": 0,
   "metadata": {
    "application/vnd.databricks.v1+cell": {
     "cellMetadata": {
      "byteLimit": 2048000,
      "rowLimit": 10000
     },
     "inputWidgets": {},
     "nuid": "b63eaf6b-edfe-454b-a729-52e8d9fa11c4",
     "showTitle": false,
     "tableResultSettingsMap": {},
     "title": ""
    }
   },
   "outputs": [],
   "source": [
    "\n",
    "def wickets_sum():\n",
    "    return(ball_by_ball.join(matches, ball_by_ball['match_id'] == matches['id'], how=\"INNER\").\n",
    "                select(\"Season\", \"bowler\",\"is_wicket\").\n",
    "                filter(col(\"is_wicket\") == 1).\n",
    "                groupBy(\"Season\",\"bowler\").\n",
    "                agg(sum(col(\"is_wicket\")).alias(\"total_wickets\"))\n",
    "    )\n",
    "\n",
    "def max_wickets_taken_each_season():\n",
    "\n",
    "    max_wickets = (wickets_sum().groupBy(\"Season\",\"bowler\").\n",
    "                agg(max(col(\"total_wickets\")).alias(\"wickets\")).\n",
    "                orderBy(col(\"Season\").desc(),col(\"wickets\").desc())\n",
    "                )\n",
    "\n",
    "    # defin window specification for identifying max wicket taken by a bowler in each season\n",
    "\n",
    "    max_windowspec = Window.partitionBy(col(\"Season\")).orderBy(col(\"wickets\").desc())\n",
    "\n",
    "    return(display(max_wickets.withColumn(\"rank\", dense_rank().over(max_windowspec)).filter(col(\"rank\") == 1)))\n",
    "\n",
    "def min_wickets_taken_each_season():\n",
    "    min_wickets = (wickets_sum().groupBy(\"Season\",\"bowler\").\n",
    "                agg(min(col(\"total_wickets\")).alias(\"wickets\")).\n",
    "                orderBy(col(\"Season\").desc(),col(\"wickets\").desc())\n",
    "                )\n",
    "    # defin window specification for identifying min wicket taking bowler in each season\n",
    "\n",
    "    min_windowspec = Window.partitionBy(col(\"Season\")).orderBy(col(\"wickets\"))\n",
    "\n",
    "    return((min_wickets.withColumn(\"rank\", dense_rank().over(min_windowspec)).filter(col(\"rank\") == 1)))"
   ]
  },
  {
   "cell_type": "code",
   "execution_count": 0,
   "metadata": {
    "application/vnd.databricks.v1+cell": {
     "cellMetadata": {
      "byteLimit": 2048000,
      "rowLimit": 10000
     },
     "inputWidgets": {},
     "nuid": "65618b49-3797-480e-95aa-fd71efe83e37",
     "showTitle": false,
     "tableResultSettingsMap": {},
     "title": ""
    }
   },
   "outputs": [
    {
     "output_type": "display_data",
     "data": {
      "text/html": [
       "<h3>Min wickets taken in each season.</h3>"
      ]
     },
     "metadata": {
      "application/vnd.databricks.v1+output": {
       "addedWidgets": {},
       "arguments": {},
       "data": "<h3>Min wickets taken in each season.</h3>",
       "datasetInfos": [],
       "metadata": {},
       "removedWidgets": [],
       "textData": null,
       "type": "htmlSandbox"
      }
     },
     "output_type": "display_data"
    },
    {
     "output_type": "display_data",
     "data": {
      "text/html": [
       "<style scoped>\n",
       "  .table-result-container {\n",
       "    max-height: 300px;\n",
       "    overflow: auto;\n",
       "  }\n",
       "  table, th, td {\n",
       "    border: 1px solid black;\n",
       "    border-collapse: collapse;\n",
       "  }\n",
       "  th, td {\n",
       "    padding: 5px;\n",
       "  }\n",
       "  th {\n",
       "    text-align: left;\n",
       "  }\n",
       "</style><div class='table-result-container'><table class='table-result'><thead style='background-color: white'><tr><th>Season</th><th>bowler</th><th>wickets</th><th>rank</th></tr></thead><tbody><tr><td>2007/08</td><td>AM Nayar</td><td>1</td><td>1</td></tr><tr><td>2007/08</td><td>DB Ravi Teja</td><td>1</td><td>1</td></tr><tr><td>2007/08</td><td>RA Jadeja</td><td>1</td><td>1</td></tr><tr><td>2007/08</td><td>AA Noffke</td><td>1</td><td>1</td></tr><tr><td>2007/08</td><td>RG Sharma</td><td>1</td><td>1</td></tr><tr><td>2007/08</td><td>Iqbal Abdulla</td><td>1</td><td>1</td></tr><tr><td>2007/08</td><td>D Salunkhe</td><td>1</td><td>1</td></tr><tr><td>2007/08</td><td>TM Dilshan</td><td>1</td><td>1</td></tr><tr><td>2007/08</td><td>A Nel</td><td>1</td><td>1</td></tr><tr><td>2007/08</td><td>SB Joshi</td><td>1</td><td>1</td></tr><tr><td>2007/08</td><td>WA Mota</td><td>1</td><td>1</td></tr><tr><td>2007/08</td><td>PM Sarvesh Kumar</td><td>1</td><td>1</td></tr><tr><td>2007/08</td><td>BAW Mendis</td><td>1</td><td>1</td></tr><tr><td>2007/08</td><td>S Vidyut</td><td>1</td><td>1</td></tr><tr><td>2009</td><td>DR Smith</td><td>1</td><td>1</td></tr><tr><td>2009</td><td>T Henderson</td><td>1</td><td>1</td></tr><tr><td>2009</td><td>GR Napier</td><td>1</td><td>1</td></tr><tr><td>2009</td><td>CH Gayle</td><td>1</td><td>1</td></tr><tr><td>2009</td><td>LA Carseldine</td><td>1</td><td>1</td></tr><tr><td>2009</td><td>RR Raje</td><td>1</td><td>1</td></tr><tr><td>2009</td><td>AM Rahane</td><td>1</td><td>1</td></tr><tr><td>2009</td><td>VRV Singh</td><td>1</td><td>1</td></tr><tr><td>2009</td><td>Mashrafe Mortaza</td><td>1</td><td>1</td></tr><tr><td>2009</td><td>M Morkel</td><td>1</td><td>1</td></tr><tr><td>2009</td><td>DJ Hussey</td><td>1</td><td>1</td></tr><tr><td>2009</td><td>SS Sarkar</td><td>1</td><td>1</td></tr><tr><td>2009</td><td>VY Mahesh</td><td>1</td><td>1</td></tr><tr><td>2009/10</td><td>A Mithun</td><td>1</td><td>1</td></tr><tr><td>2009/10</td><td>DR Smith</td><td>1</td><td>1</td></tr><tr><td>2009/10</td><td>FY Fazal</td><td>1</td><td>1</td></tr><tr><td>2009/10</td><td>AC Voges</td><td>1</td><td>1</td></tr><tr><td>2009/10</td><td>YA Abdulla</td><td>1</td><td>1</td></tr><tr><td>2009/10</td><td>VY Mahesh</td><td>1</td><td>1</td></tr><tr><td>2009/10</td><td>JP Duminy</td><td>1</td><td>1</td></tr><tr><td>2009/10</td><td>MS Gony</td><td>1</td><td>1</td></tr><tr><td>2009/10</td><td>MK Tiwary</td><td>1</td><td>1</td></tr><tr><td>2009/10</td><td>Y Nagar</td><td>1</td><td>1</td></tr><tr><td>2009/10</td><td>VS Malik</td><td>1</td><td>1</td></tr><tr><td>2009/10</td><td>S Tyagi</td><td>1</td><td>1</td></tr><tr><td>2009/10</td><td>SB Wagh</td><td>1</td><td>1</td></tr><tr><td>2009/10</td><td>MC Henriques</td><td>1</td><td>1</td></tr><tr><td>2009/10</td><td>DS Kulkarni</td><td>1</td><td>1</td></tr><tr><td>2009/10</td><td>ND Doshi</td><td>1</td><td>1</td></tr><tr><td>2011</td><td>S Dhawan</td><td>1</td><td>1</td></tr><tr><td>2011</td><td>KMDN Kulasekara</td><td>1</td><td>1</td></tr><tr><td>2011</td><td>ND Doshi</td><td>1</td><td>1</td></tr><tr><td>2011</td><td>DJ Hussey</td><td>1</td><td>1</td></tr><tr><td>2011</td><td>Y Nagar</td><td>1</td><td>1</td></tr><tr><td>2011</td><td>JDP Oram</td><td>1</td><td>1</td></tr><tr><td>2011</td><td>TM Dilshan</td><td>1</td><td>1</td></tr><tr><td>2011</td><td>SS Mundhe</td><td>1</td><td>1</td></tr><tr><td>2011</td><td>A Symonds</td><td>1</td><td>1</td></tr><tr><td>2011</td><td>AA Kazi</td><td>1</td><td>1</td></tr><tr><td>2011</td><td>JP Faulkner</td><td>1</td><td>1</td></tr><tr><td>2012</td><td>CJ McKay</td><td>1</td><td>1</td></tr><tr><td>2012</td><td>PJ Sangwan</td><td>1</td><td>1</td></tr><tr><td>2012</td><td>JP Duminy</td><td>1</td><td>1</td></tr><tr><td>2012</td><td>TP Sudhindra</td><td>1</td><td>1</td></tr><tr><td>2012</td><td>LR Shukla</td><td>1</td><td>1</td></tr><tr><td>2012</td><td>KP Pietersen</td><td>1</td><td>1</td></tr><tr><td>2012</td><td>BJ Hodge</td><td>1</td><td>1</td></tr><tr><td>2012</td><td>AL Menaria</td><td>1</td><td>1</td></tr><tr><td>2012</td><td>JD Ryder</td><td>1</td><td>1</td></tr><tr><td>2012</td><td>J Syed Mohammad</td><td>1</td><td>1</td></tr><tr><td>2012</td><td>AA Jhunjhunwala</td><td>1</td><td>1</td></tr><tr><td>2012</td><td>RN ten Doeschate</td><td>1</td><td>1</td></tr><tr><td>2012</td><td>AD Russell</td><td>1</td><td>1</td></tr><tr><td>2013</td><td>AS Rajpoot</td><td>1</td><td>1</td></tr><tr><td>2013</td><td>B Laughlin</td><td>1</td><td>1</td></tr><tr><td>2013</td><td>AJ Finch</td><td>1</td><td>1</td></tr><tr><td>2013</td><td>RJ Harris</td><td>1</td><td>1</td></tr><tr><td>2013</td><td>SW Tait</td><td>1</td><td>1</td></tr><tr><td>2013</td><td>AB McDonald</td><td>1</td><td>1</td></tr><tr><td>2013</td><td>MN Samuels</td><td>1</td><td>1</td></tr><tr><td>2013</td><td>LR Shukla</td><td>1</td><td>1</td></tr><tr><td>2013</td><td>GH Vihari</td><td>1</td><td>1</td></tr><tr><td>2013</td><td>YK Pathan</td><td>1</td><td>1</td></tr><tr><td>2013</td><td>S Ladda</td><td>1</td><td>1</td></tr><tr><td>2013</td><td>R Sathish</td><td>1</td><td>1</td></tr><tr><td>2013</td><td>Mohammed Shami</td><td>1</td><td>1</td></tr><tr><td>2013</td><td>AC Gilchrist</td><td>1</td><td>1</td></tr><tr><td>2013</td><td>SK Raina</td><td>1</td><td>1</td></tr><tr><td>2013</td><td>AA Chavan</td><td>1</td><td>1</td></tr><tr><td>2013</td><td>A Mithun</td><td>1</td><td>1</td></tr><tr><td>2013</td><td>TL Suman</td><td>1</td><td>1</td></tr><tr><td>2013</td><td>PV Tambe</td><td>1</td><td>1</td></tr><tr><td>2013</td><td>IC Pandey</td><td>1</td><td>1</td></tr><tr><td>2013</td><td>RV Gomez</td><td>1</td><td>1</td></tr><tr><td>2013</td><td>NM Coulter-Nile</td><td>1</td><td>1</td></tr><tr><td>2013</td><td>BA Bhatt</td><td>1</td><td>1</td></tr><tr><td>2013</td><td>P Suyal</td><td>1</td><td>1</td></tr><tr><td>2013</td><td>CL White</td><td>1</td><td>1</td></tr><tr><td>2013</td><td>Bipul Sharma</td><td>1</td><td>1</td></tr><tr><td>2013</td><td>BMAJ Mendis</td><td>1</td><td>1</td></tr><tr><td>2013</td><td>Parvez Rasool</td><td>1</td><td>1</td></tr><tr><td>2014</td><td>VS Malik</td><td>1</td><td>1</td></tr><tr><td>2014</td><td>LR Shukla</td><td>1</td><td>1</td></tr><tr><td>2014</td><td>GJ Maxwell</td><td>1</td><td>1</td></tr><tr><td>2014</td><td>P Suyal</td><td>1</td><td>1</td></tr><tr><td>2014</td><td>P Negi</td><td>1</td><td>1</td></tr><tr><td>2014</td><td>JO Holder</td><td>1</td><td>1</td></tr><tr><td>2014</td><td>RN ten Doeschate</td><td>1</td><td>1</td></tr><tr><td>2014</td><td>R Sharma</td><td>1</td><td>1</td></tr><tr><td>2014</td><td>RG Sharma</td><td>1</td><td>1</td></tr><tr><td>2014</td><td>LMP Simmons</td><td>1</td><td>1</td></tr><tr><td>2014</td><td>JDS Neesham</td><td>1</td><td>1</td></tr><tr><td>2014</td><td>Parvez Rasool</td><td>1</td><td>1</td></tr><tr><td>2014</td><td>SK Raina</td><td>1</td><td>1</td></tr><tr><td>2014</td><td>JW Hastings</td><td>1</td><td>1</td></tr><tr><td>2015</td><td>RG More</td><td>1</td><td>1</td></tr><tr><td>2015</td><td>I Sharma</td><td>1</td><td>1</td></tr><tr><td>2015</td><td>Yuvraj Singh</td><td>1</td><td>1</td></tr><tr><td>2015</td><td>Shivam Sharma</td><td>1</td><td>1</td></tr><tr><td>2015</td><td>M de Lange</td><td>1</td><td>1</td></tr><tr><td>2015</td><td>J Botha</td><td>1</td><td>1</td></tr><tr><td>2015</td><td>J Theron</td><td>1</td><td>1</td></tr><tr><td>2015</td><td>PJ Cummins</td><td>1</td><td>1</td></tr><tr><td>2015</td><td>Parvez Rasool</td><td>1</td><td>1</td></tr><tr><td>2015</td><td>HH Pandya</td><td>1</td><td>1</td></tr><tr><td>2015</td><td>CJ Anderson</td><td>1</td><td>1</td></tr><tr><td>2015</td><td>NLTC Perera</td><td>1</td><td>1</td></tr><tr><td>2015</td><td>S Gopal</td><td>1</td><td>1</td></tr><tr><td>2015</td><td>Azhar Mahmood</td><td>1</td><td>1</td></tr><tr><td>2015</td><td>DJ Hooda</td><td>1</td><td>1</td></tr><tr><td>2015</td><td>R Dhawan</td><td>1</td><td>1</td></tr><tr><td>2015</td><td>GS Sandhu</td><td>1</td><td>1</td></tr><tr><td>2015</td><td>KC Cariappa</td><td>1</td><td>1</td></tr><tr><td>2015</td><td>DR Smith</td><td>1</td><td>1</td></tr><tr><td>2015</td><td>SN Thakur</td><td>1</td><td>1</td></tr><tr><td>2015</td><td>RN ten Doeschate</td><td>1</td><td>1</td></tr><tr><td>2015</td><td>V Kohli</td><td>1</td><td>1</td></tr><tr><td>2016</td><td>YK Pathan</td><td>1</td><td>1</td></tr><tr><td>2016</td><td>TA Boult</td><td>1</td><td>1</td></tr><tr><td>2016</td><td>Ankit Sharma</td><td>1</td><td>1</td></tr><tr><td>2016</td><td>KV Sharma</td><td>1</td><td>1</td></tr><tr><td>2016</td><td>A Ashish Reddy</td><td>1</td><td>1</td></tr><tr><td>2016</td><td>STR Binny</td><td>1</td><td>1</td></tr><tr><td>2016</td><td>Parvez Rasool</td><td>1</td><td>1</td></tr><tr><td>2016</td><td>AF Milne</td><td>1</td><td>1</td></tr><tr><td>2016</td><td>Anureet Singh</td><td>1</td><td>1</td></tr><tr><td>2017</td><td>Avesh Khan</td><td>1</td><td>1</td></tr><tr><td>2017</td><td>NB Singh</td><td>1</td><td>1</td></tr><tr><td>2017</td><td>SK Raina</td><td>1</td><td>1</td></tr><tr><td>2017</td><td>Swapnil Singh</td><td>1</td><td>1</td></tr><tr><td>2017</td><td>SS Agarwal</td><td>1</td><td>1</td></tr><tr><td>2017</td><td>CJ Jordan</td><td>1</td><td>1</td></tr><tr><td>2017</td><td>CR Brathwaite</td><td>1</td><td>1</td></tr><tr><td>2017</td><td>DL Chahar</td><td>1</td><td>1</td></tr><tr><td>2017</td><td>MM Patel</td><td>1</td><td>1</td></tr><tr><td>2017</td><td>YK Pathan</td><td>1</td><td>1</td></tr><tr><td>2018</td><td>P Negi</td><td>1</td><td>1</td></tr><tr><td>2018</td><td>V Shankar</td><td>1</td><td>1</td></tr><tr><td>2018</td><td>DJM Short</td><td>1</td><td>1</td></tr><tr><td>2018</td><td>Mohammad Nabi</td><td>1</td><td>1</td></tr><tr><td>2018</td><td>YK Pathan</td><td>1</td><td>1</td></tr><tr><td>2019</td><td>BCJ Cutting</td><td>1</td><td>1</td></tr><tr><td>2019</td><td>M Markande</td><td>1</td><td>1</td></tr><tr><td>2019</td><td>DJ Hooda</td><td>1</td><td>1</td></tr><tr><td>2019</td><td>AS Roy</td><td>1</td><td>1</td></tr><tr><td>2019</td><td>K Gowtham</td><td>1</td><td>1</td></tr><tr><td>2019</td><td>CV Varun</td><td>1</td><td>1</td></tr><tr><td>2019</td><td>TG Southee</td><td>1</td><td>1</td></tr><tr><td>2019</td><td>Abhishek Sharma</td><td>1</td><td>1</td></tr><tr><td>2019</td><td>KV Sharma</td><td>1</td><td>1</td></tr><tr><td>2019</td><td>J Yadav</td><td>1</td><td>1</td></tr><tr><td>2019</td><td>Y Prithvi Raj</td><td>1</td><td>1</td></tr><tr><td>2019</td><td>STR Binny</td><td>1</td><td>1</td></tr><tr><td>2019</td><td>K Khejroliya</td><td>1</td><td>1</td></tr><tr><td>2019</td><td>SE Rutherford</td><td>1</td><td>1</td></tr><tr><td>2019</td><td>MM Sharma</td><td>1</td><td>1</td></tr><tr><td>2020/21</td><td>Kuldeep Yadav</td><td>1</td><td>1</td></tr><tr><td>2020/21</td><td>Abdul Samad</td><td>1</td><td>1</td></tr><tr><td>2020/21</td><td>J Yadav</td><td>1</td><td>1</td></tr><tr><td>2020/21</td><td>JR Hazlewood</td><td>1</td><td>1</td></tr><tr><td>2020/21</td><td>MM Sharma</td><td>1</td><td>1</td></tr><tr><td>2020/21</td><td>K Gowtham</td><td>1</td><td>1</td></tr><tr><td>2020/21</td><td>Imran Tahir</td><td>1</td><td>1</td></tr><tr><td>2020/21</td><td>MM Ali</td><td>1</td><td>1</td></tr><tr><td>2020/21</td><td>Basil Thampi</td><td>1</td><td>1</td></tr><tr><td>2020/21</td><td>UT Yadav</td><td>1</td><td>1</td></tr><tr><td>2020/21</td><td>DW Steyn</td><td>1</td><td>1</td></tr><tr><td>2021</td><td>S Nadeem</td><td>1</td><td>1</td></tr><tr><td>2021</td><td>I Sharma</td><td>1</td><td>1</td></tr><tr><td>2021</td><td>KM Asif</td><td>1</td><td>1</td></tr><tr><td>2021</td><td>LI Meriwala</td><td>1</td><td>1</td></tr><tr><td>2021</td><td>DR Sams</td><td>1</td><td>1</td></tr><tr><td>2021</td><td>J Suchith</td><td>1</td><td>1</td></tr><tr><td>2021</td><td>PP Chawla</td><td>1</td><td>1</td></tr><tr><td>2021</td><td>FA Allen</td><td>1</td><td>1</td></tr><tr><td>2021</td><td>KW Richardson</td><td>1</td><td>1</td></tr><tr><td>2021</td><td>M Ashwin</td><td>1</td><td>1</td></tr><tr><td>2021</td><td>IC Porel</td><td>1</td><td>1</td></tr><tr><td>2021</td><td>MK Lomror</td><td>1</td><td>1</td></tr><tr><td>2021</td><td>Abdul Samad</td><td>1</td><td>1</td></tr><tr><td>2021</td><td>GD Phillips</td><td>1</td><td>1</td></tr><tr><td>2021</td><td>NT Ellis</td><td>1</td><td>1</td></tr><tr><td>2022</td><td>TU Deshpande</td><td>1</td><td>1</td></tr><tr><td>2022</td><td>Kartik Tyagi</td><td>1</td><td>1</td></tr><tr><td>2022</td><td>V Shankar</td><td>1</td><td>1</td></tr><tr><td>2022</td><td>AK Markram</td><td>1</td><td>1</td></tr><tr><td>2022</td><td>M Markande</td><td>1</td><td>1</td></tr><tr><td>2022</td><td>DJ Hooda</td><td>1</td><td>1</td></tr><tr><td>2022</td><td>R Tewatia</td><td>1</td><td>1</td></tr><tr><td>2022</td><td>D Brevis</td><td>1</td><td>1</td></tr><tr><td>2022</td><td>FA Allen</td><td>1</td><td>1</td></tr><tr><td>2022</td><td>S Gopal</td><td>1</td><td>1</td></tr><tr><td>2022</td><td>DJ Willey</td><td>1</td><td>1</td></tr><tr><td>2022</td><td>R Parag</td><td>1</td><td>1</td></tr><tr><td>2022</td><td>Harshit Rana</td><td>1</td><td>1</td></tr><tr><td>2022</td><td>AS Roy</td><td>1</td><td>1</td></tr><tr><td>2022</td><td>SA Abbott</td><td>1</td><td>1</td></tr><tr><td>2023</td><td>JD Unadkat</td><td>1</td><td>1</td></tr><tr><td>2023</td><td>T Stubbs</td><td>1</td><td>1</td></tr><tr><td>2023</td><td>P Dubey</td><td>1</td><td>1</td></tr><tr><td>2023</td><td>Shahbaz Ahmed</td><td>1</td><td>1</td></tr><tr><td>2023</td><td>GD Phillips</td><td>1</td><td>1</td></tr><tr><td>2023</td><td>SSB Magala</td><td>1</td><td>1</td></tr><tr><td>2023</td><td>UT Yadav</td><td>1</td><td>1</td></tr><tr><td>2023</td><td>Mustafizur Rahman</td><td>1</td><td>1</td></tr><tr><td>2023</td><td>MK Lomror</td><td>1</td><td>1</td></tr><tr><td>2023</td><td>Akash Deep</td><td>1</td><td>1</td></tr><tr><td>2023</td><td>AK Markram</td><td>1</td><td>1</td></tr><tr><td>2023</td><td>D Jansen</td><td>1</td><td>1</td></tr><tr><td>2023</td><td>R Dhawan</td><td>1</td><td>1</td></tr><tr><td>2023</td><td>LH Ferguson</td><td>1</td><td>1</td></tr><tr><td>2023</td><td>Kartik Tyagi</td><td>1</td><td>1</td></tr><tr><td>2023</td><td>RJW Topley</td><td>1</td><td>1</td></tr><tr><td>2023</td><td>DG Nalkande</td><td>1</td><td>1</td></tr><tr><td>2023</td><td>AJ Hosein</td><td>1</td><td>1</td></tr><tr><td>2023</td><td>Mayank Dagar</td><td>1</td><td>1</td></tr><tr><td>2023</td><td>R Powell</td><td>1</td><td>1</td></tr><tr><td>2024</td><td>DJ Mitchell</td><td>1</td><td>1</td></tr><tr><td>2024</td><td>LB Williams</td><td>1</td><td>1</td></tr><tr><td>2024</td><td>RJ Gleeson</td><td>1</td><td>1</td></tr><tr><td>2024</td><td>NT Ellis</td><td>1</td><td>1</td></tr><tr><td>2024</td><td>Washington Sundar</td><td>1</td><td>1</td></tr><tr><td>2024</td><td>KT Maphaka</td><td>1</td><td>1</td></tr><tr><td>2024</td><td>AS Joseph</td><td>1</td><td>1</td></tr><tr><td>2024</td><td>MR Marsh</td><td>1</td><td>1</td></tr><tr><td>2024</td><td>S Dube</td><td>1</td><td>1</td></tr><tr><td>2024</td><td>AS Roy</td><td>1</td><td>1</td></tr><tr><td>2024</td><td>MJ Henry</td><td>1</td><td>1</td></tr><tr><td>2024</td><td>Yudhvir Singh</td><td>1</td><td>1</td></tr><tr><td>2024</td><td>V Viyaskanth</td><td>1</td><td>1</td></tr><tr><td>2024</td><td>L Wood</td><td>1</td><td>1</td></tr><tr><td>2024</td><td>Akash Deep</td><td>1</td><td>1</td></tr><tr><td>2024</td><td>A Mishra</td><td>1</td><td>1</td></tr><tr><td>2024</td><td>Arshad Khan</td><td>1</td><td>1</td></tr><tr><td>2024</td><td>M Siddharth</td><td>1</td><td>1</td></tr><tr><td>2024</td><td>Mayank Dagar</td><td>1</td><td>1</td></tr><tr><td>2024</td><td>Shashank Singh</td><td>1</td><td>1</td></tr></tbody></table></div>"
      ]
     },
     "metadata": {
      "application/vnd.databricks.v1+output": {
       "addedWidgets": {},
       "aggData": [],
       "aggError": "",
       "aggOverflow": false,
       "aggSchema": [],
       "aggSeriesLimitReached": false,
       "aggType": "",
       "arguments": {},
       "columnCustomDisplayInfos": {},
       "data": [
        [
         "2007/08",
         "AM Nayar",
         1,
         1
        ],
        [
         "2007/08",
         "DB Ravi Teja",
         1,
         1
        ],
        [
         "2007/08",
         "RA Jadeja",
         1,
         1
        ],
        [
         "2007/08",
         "AA Noffke",
         1,
         1
        ],
        [
         "2007/08",
         "RG Sharma",
         1,
         1
        ],
        [
         "2007/08",
         "Iqbal Abdulla",
         1,
         1
        ],
        [
         "2007/08",
         "D Salunkhe",
         1,
         1
        ],
        [
         "2007/08",
         "TM Dilshan",
         1,
         1
        ],
        [
         "2007/08",
         "A Nel",
         1,
         1
        ],
        [
         "2007/08",
         "SB Joshi",
         1,
         1
        ],
        [
         "2007/08",
         "WA Mota",
         1,
         1
        ],
        [
         "2007/08",
         "PM Sarvesh Kumar",
         1,
         1
        ],
        [
         "2007/08",
         "BAW Mendis",
         1,
         1
        ],
        [
         "2007/08",
         "S Vidyut",
         1,
         1
        ],
        [
         "2009",
         "DR Smith",
         1,
         1
        ],
        [
         "2009",
         "T Henderson",
         1,
         1
        ],
        [
         "2009",
         "GR Napier",
         1,
         1
        ],
        [
         "2009",
         "CH Gayle",
         1,
         1
        ],
        [
         "2009",
         "LA Carseldine",
         1,
         1
        ],
        [
         "2009",
         "RR Raje",
         1,
         1
        ],
        [
         "2009",
         "AM Rahane",
         1,
         1
        ],
        [
         "2009",
         "VRV Singh",
         1,
         1
        ],
        [
         "2009",
         "Mashrafe Mortaza",
         1,
         1
        ],
        [
         "2009",
         "M Morkel",
         1,
         1
        ],
        [
         "2009",
         "DJ Hussey",
         1,
         1
        ],
        [
         "2009",
         "SS Sarkar",
         1,
         1
        ],
        [
         "2009",
         "VY Mahesh",
         1,
         1
        ],
        [
         "2009/10",
         "A Mithun",
         1,
         1
        ],
        [
         "2009/10",
         "DR Smith",
         1,
         1
        ],
        [
         "2009/10",
         "FY Fazal",
         1,
         1
        ],
        [
         "2009/10",
         "AC Voges",
         1,
         1
        ],
        [
         "2009/10",
         "YA Abdulla",
         1,
         1
        ],
        [
         "2009/10",
         "VY Mahesh",
         1,
         1
        ],
        [
         "2009/10",
         "JP Duminy",
         1,
         1
        ],
        [
         "2009/10",
         "MS Gony",
         1,
         1
        ],
        [
         "2009/10",
         "MK Tiwary",
         1,
         1
        ],
        [
         "2009/10",
         "Y Nagar",
         1,
         1
        ],
        [
         "2009/10",
         "VS Malik",
         1,
         1
        ],
        [
         "2009/10",
         "S Tyagi",
         1,
         1
        ],
        [
         "2009/10",
         "SB Wagh",
         1,
         1
        ],
        [
         "2009/10",
         "MC Henriques",
         1,
         1
        ],
        [
         "2009/10",
         "DS Kulkarni",
         1,
         1
        ],
        [
         "2009/10",
         "ND Doshi",
         1,
         1
        ],
        [
         "2011",
         "S Dhawan",
         1,
         1
        ],
        [
         "2011",
         "KMDN Kulasekara",
         1,
         1
        ],
        [
         "2011",
         "ND Doshi",
         1,
         1
        ],
        [
         "2011",
         "DJ Hussey",
         1,
         1
        ],
        [
         "2011",
         "Y Nagar",
         1,
         1
        ],
        [
         "2011",
         "JDP Oram",
         1,
         1
        ],
        [
         "2011",
         "TM Dilshan",
         1,
         1
        ],
        [
         "2011",
         "SS Mundhe",
         1,
         1
        ],
        [
         "2011",
         "A Symonds",
         1,
         1
        ],
        [
         "2011",
         "AA Kazi",
         1,
         1
        ],
        [
         "2011",
         "JP Faulkner",
         1,
         1
        ],
        [
         "2012",
         "CJ McKay",
         1,
         1
        ],
        [
         "2012",
         "PJ Sangwan",
         1,
         1
        ],
        [
         "2012",
         "JP Duminy",
         1,
         1
        ],
        [
         "2012",
         "TP Sudhindra",
         1,
         1
        ],
        [
         "2012",
         "LR Shukla",
         1,
         1
        ],
        [
         "2012",
         "KP Pietersen",
         1,
         1
        ],
        [
         "2012",
         "BJ Hodge",
         1,
         1
        ],
        [
         "2012",
         "AL Menaria",
         1,
         1
        ],
        [
         "2012",
         "JD Ryder",
         1,
         1
        ],
        [
         "2012",
         "J Syed Mohammad",
         1,
         1
        ],
        [
         "2012",
         "AA Jhunjhunwala",
         1,
         1
        ],
        [
         "2012",
         "RN ten Doeschate",
         1,
         1
        ],
        [
         "2012",
         "AD Russell",
         1,
         1
        ],
        [
         "2013",
         "AS Rajpoot",
         1,
         1
        ],
        [
         "2013",
         "B Laughlin",
         1,
         1
        ],
        [
         "2013",
         "AJ Finch",
         1,
         1
        ],
        [
         "2013",
         "RJ Harris",
         1,
         1
        ],
        [
         "2013",
         "SW Tait",
         1,
         1
        ],
        [
         "2013",
         "AB McDonald",
         1,
         1
        ],
        [
         "2013",
         "MN Samuels",
         1,
         1
        ],
        [
         "2013",
         "LR Shukla",
         1,
         1
        ],
        [
         "2013",
         "GH Vihari",
         1,
         1
        ],
        [
         "2013",
         "YK Pathan",
         1,
         1
        ],
        [
         "2013",
         "S Ladda",
         1,
         1
        ],
        [
         "2013",
         "R Sathish",
         1,
         1
        ],
        [
         "2013",
         "Mohammed Shami",
         1,
         1
        ],
        [
         "2013",
         "AC Gilchrist",
         1,
         1
        ],
        [
         "2013",
         "SK Raina",
         1,
         1
        ],
        [
         "2013",
         "AA Chavan",
         1,
         1
        ],
        [
         "2013",
         "A Mithun",
         1,
         1
        ],
        [
         "2013",
         "TL Suman",
         1,
         1
        ],
        [
         "2013",
         "PV Tambe",
         1,
         1
        ],
        [
         "2013",
         "IC Pandey",
         1,
         1
        ],
        [
         "2013",
         "RV Gomez",
         1,
         1
        ],
        [
         "2013",
         "NM Coulter-Nile",
         1,
         1
        ],
        [
         "2013",
         "BA Bhatt",
         1,
         1
        ],
        [
         "2013",
         "P Suyal",
         1,
         1
        ],
        [
         "2013",
         "CL White",
         1,
         1
        ],
        [
         "2013",
         "Bipul Sharma",
         1,
         1
        ],
        [
         "2013",
         "BMAJ Mendis",
         1,
         1
        ],
        [
         "2013",
         "Parvez Rasool",
         1,
         1
        ],
        [
         "2014",
         "VS Malik",
         1,
         1
        ],
        [
         "2014",
         "LR Shukla",
         1,
         1
        ],
        [
         "2014",
         "GJ Maxwell",
         1,
         1
        ],
        [
         "2014",
         "P Suyal",
         1,
         1
        ],
        [
         "2014",
         "P Negi",
         1,
         1
        ],
        [
         "2014",
         "JO Holder",
         1,
         1
        ],
        [
         "2014",
         "RN ten Doeschate",
         1,
         1
        ],
        [
         "2014",
         "R Sharma",
         1,
         1
        ],
        [
         "2014",
         "RG Sharma",
         1,
         1
        ],
        [
         "2014",
         "LMP Simmons",
         1,
         1
        ],
        [
         "2014",
         "JDS Neesham",
         1,
         1
        ],
        [
         "2014",
         "Parvez Rasool",
         1,
         1
        ],
        [
         "2014",
         "SK Raina",
         1,
         1
        ],
        [
         "2014",
         "JW Hastings",
         1,
         1
        ],
        [
         "2015",
         "RG More",
         1,
         1
        ],
        [
         "2015",
         "I Sharma",
         1,
         1
        ],
        [
         "2015",
         "Yuvraj Singh",
         1,
         1
        ],
        [
         "2015",
         "Shivam Sharma",
         1,
         1
        ],
        [
         "2015",
         "M de Lange",
         1,
         1
        ],
        [
         "2015",
         "J Botha",
         1,
         1
        ],
        [
         "2015",
         "J Theron",
         1,
         1
        ],
        [
         "2015",
         "PJ Cummins",
         1,
         1
        ],
        [
         "2015",
         "Parvez Rasool",
         1,
         1
        ],
        [
         "2015",
         "HH Pandya",
         1,
         1
        ],
        [
         "2015",
         "CJ Anderson",
         1,
         1
        ],
        [
         "2015",
         "NLTC Perera",
         1,
         1
        ],
        [
         "2015",
         "S Gopal",
         1,
         1
        ],
        [
         "2015",
         "Azhar Mahmood",
         1,
         1
        ],
        [
         "2015",
         "DJ Hooda",
         1,
         1
        ],
        [
         "2015",
         "R Dhawan",
         1,
         1
        ],
        [
         "2015",
         "GS Sandhu",
         1,
         1
        ],
        [
         "2015",
         "KC Cariappa",
         1,
         1
        ],
        [
         "2015",
         "DR Smith",
         1,
         1
        ],
        [
         "2015",
         "SN Thakur",
         1,
         1
        ],
        [
         "2015",
         "RN ten Doeschate",
         1,
         1
        ],
        [
         "2015",
         "V Kohli",
         1,
         1
        ],
        [
         "2016",
         "YK Pathan",
         1,
         1
        ],
        [
         "2016",
         "TA Boult",
         1,
         1
        ],
        [
         "2016",
         "Ankit Sharma",
         1,
         1
        ],
        [
         "2016",
         "KV Sharma",
         1,
         1
        ],
        [
         "2016",
         "A Ashish Reddy",
         1,
         1
        ],
        [
         "2016",
         "STR Binny",
         1,
         1
        ],
        [
         "2016",
         "Parvez Rasool",
         1,
         1
        ],
        [
         "2016",
         "AF Milne",
         1,
         1
        ],
        [
         "2016",
         "Anureet Singh",
         1,
         1
        ],
        [
         "2017",
         "Avesh Khan",
         1,
         1
        ],
        [
         "2017",
         "NB Singh",
         1,
         1
        ],
        [
         "2017",
         "SK Raina",
         1,
         1
        ],
        [
         "2017",
         "Swapnil Singh",
         1,
         1
        ],
        [
         "2017",
         "SS Agarwal",
         1,
         1
        ],
        [
         "2017",
         "CJ Jordan",
         1,
         1
        ],
        [
         "2017",
         "CR Brathwaite",
         1,
         1
        ],
        [
         "2017",
         "DL Chahar",
         1,
         1
        ],
        [
         "2017",
         "MM Patel",
         1,
         1
        ],
        [
         "2017",
         "YK Pathan",
         1,
         1
        ],
        [
         "2018",
         "P Negi",
         1,
         1
        ],
        [
         "2018",
         "V Shankar",
         1,
         1
        ],
        [
         "2018",
         "DJM Short",
         1,
         1
        ],
        [
         "2018",
         "Mohammad Nabi",
         1,
         1
        ],
        [
         "2018",
         "YK Pathan",
         1,
         1
        ],
        [
         "2019",
         "BCJ Cutting",
         1,
         1
        ],
        [
         "2019",
         "M Markande",
         1,
         1
        ],
        [
         "2019",
         "DJ Hooda",
         1,
         1
        ],
        [
         "2019",
         "AS Roy",
         1,
         1
        ],
        [
         "2019",
         "K Gowtham",
         1,
         1
        ],
        [
         "2019",
         "CV Varun",
         1,
         1
        ],
        [
         "2019",
         "TG Southee",
         1,
         1
        ],
        [
         "2019",
         "Abhishek Sharma",
         1,
         1
        ],
        [
         "2019",
         "KV Sharma",
         1,
         1
        ],
        [
         "2019",
         "J Yadav",
         1,
         1
        ],
        [
         "2019",
         "Y Prithvi Raj",
         1,
         1
        ],
        [
         "2019",
         "STR Binny",
         1,
         1
        ],
        [
         "2019",
         "K Khejroliya",
         1,
         1
        ],
        [
         "2019",
         "SE Rutherford",
         1,
         1
        ],
        [
         "2019",
         "MM Sharma",
         1,
         1
        ],
        [
         "2020/21",
         "Kuldeep Yadav",
         1,
         1
        ],
        [
         "2020/21",
         "Abdul Samad",
         1,
         1
        ],
        [
         "2020/21",
         "J Yadav",
         1,
         1
        ],
        [
         "2020/21",
         "JR Hazlewood",
         1,
         1
        ],
        [
         "2020/21",
         "MM Sharma",
         1,
         1
        ],
        [
         "2020/21",
         "K Gowtham",
         1,
         1
        ],
        [
         "2020/21",
         "Imran Tahir",
         1,
         1
        ],
        [
         "2020/21",
         "MM Ali",
         1,
         1
        ],
        [
         "2020/21",
         "Basil Thampi",
         1,
         1
        ],
        [
         "2020/21",
         "UT Yadav",
         1,
         1
        ],
        [
         "2020/21",
         "DW Steyn",
         1,
         1
        ],
        [
         "2021",
         "S Nadeem",
         1,
         1
        ],
        [
         "2021",
         "I Sharma",
         1,
         1
        ],
        [
         "2021",
         "KM Asif",
         1,
         1
        ],
        [
         "2021",
         "LI Meriwala",
         1,
         1
        ],
        [
         "2021",
         "DR Sams",
         1,
         1
        ],
        [
         "2021",
         "J Suchith",
         1,
         1
        ],
        [
         "2021",
         "PP Chawla",
         1,
         1
        ],
        [
         "2021",
         "FA Allen",
         1,
         1
        ],
        [
         "2021",
         "KW Richardson",
         1,
         1
        ],
        [
         "2021",
         "M Ashwin",
         1,
         1
        ],
        [
         "2021",
         "IC Porel",
         1,
         1
        ],
        [
         "2021",
         "MK Lomror",
         1,
         1
        ],
        [
         "2021",
         "Abdul Samad",
         1,
         1
        ],
        [
         "2021",
         "GD Phillips",
         1,
         1
        ],
        [
         "2021",
         "NT Ellis",
         1,
         1
        ],
        [
         "2022",
         "TU Deshpande",
         1,
         1
        ],
        [
         "2022",
         "Kartik Tyagi",
         1,
         1
        ],
        [
         "2022",
         "V Shankar",
         1,
         1
        ],
        [
         "2022",
         "AK Markram",
         1,
         1
        ],
        [
         "2022",
         "M Markande",
         1,
         1
        ],
        [
         "2022",
         "DJ Hooda",
         1,
         1
        ],
        [
         "2022",
         "R Tewatia",
         1,
         1
        ],
        [
         "2022",
         "D Brevis",
         1,
         1
        ],
        [
         "2022",
         "FA Allen",
         1,
         1
        ],
        [
         "2022",
         "S Gopal",
         1,
         1
        ],
        [
         "2022",
         "DJ Willey",
         1,
         1
        ],
        [
         "2022",
         "R Parag",
         1,
         1
        ],
        [
         "2022",
         "Harshit Rana",
         1,
         1
        ],
        [
         "2022",
         "AS Roy",
         1,
         1
        ],
        [
         "2022",
         "SA Abbott",
         1,
         1
        ],
        [
         "2023",
         "JD Unadkat",
         1,
         1
        ],
        [
         "2023",
         "T Stubbs",
         1,
         1
        ],
        [
         "2023",
         "P Dubey",
         1,
         1
        ],
        [
         "2023",
         "Shahbaz Ahmed",
         1,
         1
        ],
        [
         "2023",
         "GD Phillips",
         1,
         1
        ],
        [
         "2023",
         "SSB Magala",
         1,
         1
        ],
        [
         "2023",
         "UT Yadav",
         1,
         1
        ],
        [
         "2023",
         "Mustafizur Rahman",
         1,
         1
        ],
        [
         "2023",
         "MK Lomror",
         1,
         1
        ],
        [
         "2023",
         "Akash Deep",
         1,
         1
        ],
        [
         "2023",
         "AK Markram",
         1,
         1
        ],
        [
         "2023",
         "D Jansen",
         1,
         1
        ],
        [
         "2023",
         "R Dhawan",
         1,
         1
        ],
        [
         "2023",
         "LH Ferguson",
         1,
         1
        ],
        [
         "2023",
         "Kartik Tyagi",
         1,
         1
        ],
        [
         "2023",
         "RJW Topley",
         1,
         1
        ],
        [
         "2023",
         "DG Nalkande",
         1,
         1
        ],
        [
         "2023",
         "AJ Hosein",
         1,
         1
        ],
        [
         "2023",
         "Mayank Dagar",
         1,
         1
        ],
        [
         "2023",
         "R Powell",
         1,
         1
        ],
        [
         "2024",
         "DJ Mitchell",
         1,
         1
        ],
        [
         "2024",
         "LB Williams",
         1,
         1
        ],
        [
         "2024",
         "RJ Gleeson",
         1,
         1
        ],
        [
         "2024",
         "NT Ellis",
         1,
         1
        ],
        [
         "2024",
         "Washington Sundar",
         1,
         1
        ],
        [
         "2024",
         "KT Maphaka",
         1,
         1
        ],
        [
         "2024",
         "AS Joseph",
         1,
         1
        ],
        [
         "2024",
         "MR Marsh",
         1,
         1
        ],
        [
         "2024",
         "S Dube",
         1,
         1
        ],
        [
         "2024",
         "AS Roy",
         1,
         1
        ],
        [
         "2024",
         "MJ Henry",
         1,
         1
        ],
        [
         "2024",
         "Yudhvir Singh",
         1,
         1
        ],
        [
         "2024",
         "V Viyaskanth",
         1,
         1
        ],
        [
         "2024",
         "L Wood",
         1,
         1
        ],
        [
         "2024",
         "Akash Deep",
         1,
         1
        ],
        [
         "2024",
         "A Mishra",
         1,
         1
        ],
        [
         "2024",
         "Arshad Khan",
         1,
         1
        ],
        [
         "2024",
         "M Siddharth",
         1,
         1
        ],
        [
         "2024",
         "Mayank Dagar",
         1,
         1
        ],
        [
         "2024",
         "Shashank Singh",
         1,
         1
        ]
       ],
       "datasetInfos": [],
       "dbfsResultPath": null,
       "isJsonSchema": true,
       "metadata": {},
       "overflow": false,
       "plotOptions": {
        "customPlotOptions": {},
        "displayType": "table",
        "pivotAggregation": null,
        "pivotColumns": null,
        "xColumns": null,
        "yColumns": null
       },
       "removedWidgets": [],
       "schema": [
        {
         "metadata": "{}",
         "name": "Season",
         "type": "\"string\""
        },
        {
         "metadata": "{}",
         "name": "bowler",
         "type": "\"string\""
        },
        {
         "metadata": "{}",
         "name": "wickets",
         "type": "\"long\""
        },
        {
         "metadata": "{}",
         "name": "rank",
         "type": "\"integer\""
        }
       ],
       "type": "table"
      }
     },
     "output_type": "display_data"
    },
    {
     "output_type": "display_data",
     "data": {
      "text/html": [
       "<h3>Max wickets taken in each season.</h3>"
      ]
     },
     "metadata": {
      "application/vnd.databricks.v1+output": {
       "addedWidgets": {},
       "arguments": {},
       "data": "<h3>Max wickets taken in each season.</h3>",
       "datasetInfos": [],
       "metadata": {},
       "removedWidgets": [],
       "textData": null,
       "type": "htmlSandbox"
      }
     },
     "output_type": "display_data"
    },
    {
     "output_type": "display_data",
     "data": {
      "text/html": [
       "<style scoped>\n",
       "  .table-result-container {\n",
       "    max-height: 300px;\n",
       "    overflow: auto;\n",
       "  }\n",
       "  table, th, td {\n",
       "    border: 1px solid black;\n",
       "    border-collapse: collapse;\n",
       "  }\n",
       "  th, td {\n",
       "    padding: 5px;\n",
       "  }\n",
       "  th {\n",
       "    text-align: left;\n",
       "  }\n",
       "</style><div class='table-result-container'><table class='table-result'><thead style='background-color: white'><tr><th>Season</th><th>bowler</th><th>wickets</th><th>rank</th></tr></thead><tbody><tr><td>2007/08</td><td>Sohail Tanvir</td><td>24</td><td>1</td></tr><tr><td>2009</td><td>RP Singh</td><td>26</td><td>1</td></tr><tr><td>2009/10</td><td>PP Ojha</td><td>22</td><td>1</td></tr><tr><td>2011</td><td>SL Malinga</td><td>30</td><td>1</td></tr><tr><td>2012</td><td>M Morkel</td><td>30</td><td>1</td></tr><tr><td>2013</td><td>DJ Bravo</td><td>34</td><td>1</td></tr><tr><td>2014</td><td>MM Sharma</td><td>26</td><td>1</td></tr><tr><td>2015</td><td>DJ Bravo</td><td>28</td><td>1</td></tr><tr><td>2016</td><td>B Kumar</td><td>24</td><td>1</td></tr><tr><td>2017</td><td>B Kumar</td><td>28</td><td>1</td></tr><tr><td>2018</td><td>AJ Tye</td><td>28</td><td>1</td></tr><tr><td>2019</td><td>K Rabada</td><td>29</td><td>1</td></tr><tr><td>2020/21</td><td>K Rabada</td><td>32</td><td>1</td></tr><tr><td>2021</td><td>HV Patel</td><td>35</td><td>1</td></tr><tr><td>2022</td><td>YS Chahal</td><td>29</td><td>1</td></tr><tr><td>2023</td><td>MM Sharma</td><td>31</td><td>1</td></tr><tr><td>2024</td><td>HV Patel</td><td>30</td><td>1</td></tr></tbody></table></div>"
      ]
     },
     "metadata": {
      "application/vnd.databricks.v1+output": {
       "addedWidgets": {},
       "aggData": [],
       "aggError": "",
       "aggOverflow": false,
       "aggSchema": [],
       "aggSeriesLimitReached": false,
       "aggType": "",
       "arguments": {},
       "columnCustomDisplayInfos": {},
       "data": [
        [
         "2007/08",
         "Sohail Tanvir",
         24,
         1
        ],
        [
         "2009",
         "RP Singh",
         26,
         1
        ],
        [
         "2009/10",
         "PP Ojha",
         22,
         1
        ],
        [
         "2011",
         "SL Malinga",
         30,
         1
        ],
        [
         "2012",
         "M Morkel",
         30,
         1
        ],
        [
         "2013",
         "DJ Bravo",
         34,
         1
        ],
        [
         "2014",
         "MM Sharma",
         26,
         1
        ],
        [
         "2015",
         "DJ Bravo",
         28,
         1
        ],
        [
         "2016",
         "B Kumar",
         24,
         1
        ],
        [
         "2017",
         "B Kumar",
         28,
         1
        ],
        [
         "2018",
         "AJ Tye",
         28,
         1
        ],
        [
         "2019",
         "K Rabada",
         29,
         1
        ],
        [
         "2020/21",
         "K Rabada",
         32,
         1
        ],
        [
         "2021",
         "HV Patel",
         35,
         1
        ],
        [
         "2022",
         "YS Chahal",
         29,
         1
        ],
        [
         "2023",
         "MM Sharma",
         31,
         1
        ],
        [
         "2024",
         "HV Patel",
         30,
         1
        ]
       ],
       "datasetInfos": [],
       "dbfsResultPath": null,
       "isJsonSchema": true,
       "metadata": {},
       "overflow": false,
       "plotOptions": {
        "customPlotOptions": {},
        "displayType": "table",
        "pivotAggregation": null,
        "pivotColumns": null,
        "xColumns": null,
        "yColumns": null
       },
       "removedWidgets": [],
       "schema": [
        {
         "metadata": "{}",
         "name": "Season",
         "type": "\"string\""
        },
        {
         "metadata": "{}",
         "name": "bowler",
         "type": "\"string\""
        },
        {
         "metadata": "{}",
         "name": "wickets",
         "type": "\"long\""
        },
        {
         "metadata": "{}",
         "name": "rank",
         "type": "\"integer\""
        }
       ],
       "type": "table"
      }
     },
     "output_type": "display_data"
    }
   ],
   "source": [
    "displayHTML(\"<h3>Min wickets taken in each season.</h3>\")\n",
    "display(min_wickets_taken_each_season())\n",
    "\n",
    "displayHTML(\"<h3>Max wickets taken in each season.</h3>\")\n",
    "display(max_wickets_taken_each_season())"
   ]
  },
  {
   "cell_type": "markdown",
   "metadata": {
    "application/vnd.databricks.v1+cell": {
     "cellMetadata": {
      "byteLimit": 2048000,
      "rowLimit": 10000
     },
     "inputWidgets": {},
     "nuid": "d7570350-eec9-4974-89a2-d2baa29940f5",
     "showTitle": false,
     "tableResultSettingsMap": {},
     "title": ""
    }
   },
   "source": [
    "#### 2.Find out bowler taken wicket of same player more than once in same season or diff season?"
   ]
  },
  {
   "cell_type": "code",
   "execution_count": 0,
   "metadata": {
    "application/vnd.databricks.v1+cell": {
     "cellMetadata": {
      "byteLimit": 2048000,
      "rowLimit": 10000
     },
     "inputWidgets": {},
     "nuid": "65d37405-a9fa-498f-829d-50172cfe9cb1",
     "showTitle": false,
     "tableResultSettingsMap": {},
     "title": ""
    }
   },
   "outputs": [],
   "source": [
    "def wicket_pair():\n",
    "    wicket_pair = (join_df.\n",
    "                filter(col(\"is_wicket\") == 1).\n",
    "                select(\"batter\", \"bowler\").\n",
    "                groupBy(col(\"bowler\"), col(\"batter\")).count()\n",
    "    )\n",
    "    \n",
    "    return (wicket_pair.filter(col(\"count\") > 1).orderBy(col(\"count\")))"
   ]
  },
  {
   "cell_type": "code",
   "execution_count": 0,
   "metadata": {
    "application/vnd.databricks.v1+cell": {
     "cellMetadata": {
      "byteLimit": 2048000,
      "rowLimit": 10000
     },
     "inputWidgets": {},
     "nuid": "5b62e385-c6d5-4823-97d0-6ed927d30041",
     "showTitle": false,
     "tableResultSettingsMap": {},
     "title": ""
    }
   },
   "outputs": [
    {
     "output_type": "display_data",
     "data": {
      "text/html": [
       "<h3>Bowler taken wicket of same player more than once in same or diff. season.</h3>"
      ]
     },
     "metadata": {
      "application/vnd.databricks.v1+output": {
       "addedWidgets": {},
       "arguments": {},
       "data": "<h3>Bowler taken wicket of same player more than once in same or diff. season.</h3>",
       "datasetInfos": [],
       "metadata": {},
       "removedWidgets": [],
       "textData": null,
       "type": "htmlSandbox"
      }
     },
     "output_type": "display_data"
    },
    {
     "output_type": "display_data",
     "data": {
      "text/html": [
       "<style scoped>\n",
       "  .table-result-container {\n",
       "    max-height: 300px;\n",
       "    overflow: auto;\n",
       "  }\n",
       "  table, th, td {\n",
       "    border: 1px solid black;\n",
       "    border-collapse: collapse;\n",
       "  }\n",
       "  th, td {\n",
       "    padding: 5px;\n",
       "  }\n",
       "  th {\n",
       "    text-align: left;\n",
       "  }\n",
       "</style><div class='table-result-container'><table class='table-result'><thead style='background-color: white'><tr><th>bowler</th><th>batter</th><th>count</th></tr></thead><tbody><tr><td>DS Kulkarni</td><td>RA Jadeja</td><td>2</td></tr><tr><td>Z Khan</td><td>OA Shah</td><td>2</td></tr><tr><td>SK Trivedi</td><td>SC Ganguly</td><td>2</td></tr><tr><td>SR Watson</td><td>WP Saha</td><td>2</td></tr><tr><td>SL Malinga</td><td>TM Dilshan</td><td>2</td></tr><tr><td>SL Malinga</td><td>G Gambhir</td><td>2</td></tr><tr><td>PP Ojha</td><td>V Sehwag</td><td>2</td></tr><tr><td>RJ Harris</td><td>V Kohli</td><td>2</td></tr><tr><td>A Kumble</td><td>S Badrinath</td><td>2</td></tr><tr><td>MF Maharoof</td><td>SK Warne</td><td>2</td></tr><tr><td>DL Vettori</td><td>S Badrinath</td><td>2</td></tr><tr><td>JA Morkel</td><td>NV Ojha</td><td>2</td></tr><tr><td>DW Steyn</td><td>G Gambhir</td><td>2</td></tr><tr><td>DW Steyn</td><td>AS Yadav</td><td>2</td></tr><tr><td>L Balaji</td><td>KD Karthik</td><td>2</td></tr><tr><td>YK Pathan</td><td>ML Hayden</td><td>2</td></tr><tr><td>ST Jayasuriya</td><td>DR Smith</td><td>2</td></tr><tr><td>P Kumar</td><td>MD Mishra</td><td>2</td></tr><tr><td>PJ Sangwan</td><td>TL Suman</td><td>2</td></tr><tr><td>A Mishra</td><td>NV Ojha</td><td>2</td></tr><tr><td>SB Jakati</td><td>JH Kallis</td><td>2</td></tr><tr><td>JH Kallis</td><td>DA Warner</td><td>2</td></tr><tr><td>RP Singh</td><td>ST Jayasuriya</td><td>2</td></tr><tr><td>A Symonds</td><td>SM Katich</td><td>2</td></tr><tr><td>JH Kallis</td><td>Yuvraj Singh</td><td>2</td></tr><tr><td>SK Trivedi</td><td>JH Kallis</td><td>2</td></tr><tr><td>R Vinay Kumar</td><td>JDP Oram</td><td>2</td></tr><tr><td>Joginder Sharma</td><td>DJ Bravo</td><td>2</td></tr><tr><td>MF Maharoof</td><td>Misbah-ul-Haq</td><td>2</td></tr><tr><td>RE van der Merwe</td><td>MS Dhoni</td><td>2</td></tr><tr><td>R Bhatia</td><td>RG Sharma</td><td>2</td></tr><tr><td>Harbhajan Singh</td><td>DPMD Jayawardene</td><td>2</td></tr><tr><td>JDP Oram</td><td>B Akhil</td><td>2</td></tr><tr><td>JH Kallis</td><td>M Vijay</td><td>2</td></tr><tr><td>DJ Bravo</td><td>CH Gayle</td><td>2</td></tr><tr><td>SB Styris</td><td>R Dravid</td><td>2</td></tr><tr><td>AB Agarkar</td><td>RA Jadeja</td><td>2</td></tr><tr><td>Z Khan</td><td>NV Ojha</td><td>2</td></tr><tr><td>R Ashwin</td><td>AC Gilchrist</td><td>2</td></tr><tr><td>SK Warne</td><td>PA Patel</td><td>2</td></tr><tr><td>SK Trivedi</td><td>M Vijay</td><td>2</td></tr><tr><td>B Lee</td><td>DB Ravi Teja</td><td>2</td></tr><tr><td>SR Watson</td><td>SK Raina</td><td>2</td></tr><tr><td>Kamran Khan</td><td>RS Bopara</td><td>2</td></tr><tr><td>MS Gony</td><td>G Gambhir</td><td>2</td></tr><tr><td>Umar Gul</td><td>KC Sangakkara</td><td>2</td></tr><tr><td>Z Khan</td><td>BJ Hodge</td><td>2</td></tr><tr><td>JP Duminy</td><td>DA Warner</td><td>2</td></tr><tr><td>DJ Bravo</td><td>Yuvraj Singh</td><td>2</td></tr><tr><td>IK Pathan</td><td>R Ashwin</td><td>2</td></tr><tr><td>S Narwal</td><td>G Gambhir</td><td>2</td></tr><tr><td>Harbhajan Singh</td><td>R Bhatia</td><td>2</td></tr><tr><td>SL Malinga</td><td>PP Chawla</td><td>2</td></tr><tr><td>PJ Sangwan</td><td>RV Uthappa</td><td>2</td></tr><tr><td>IK Pathan</td><td>R Dravid</td><td>2</td></tr><tr><td>PJ Sangwan</td><td>ML Hayden</td><td>2</td></tr><tr><td>SK Raina</td><td>Yuvraj Singh</td><td>2</td></tr><tr><td>J Theron</td><td>SK Raina</td><td>2</td></tr><tr><td>DW Steyn</td><td>MS Dhoni</td><td>2</td></tr><tr><td>A Kumble</td><td>SK Warne</td><td>2</td></tr><tr><td>SK Warne</td><td>AB de Villiers</td><td>2</td></tr><tr><td>SK Trivedi</td><td>KC Sangakkara</td><td>2</td></tr><tr><td>Z Khan</td><td>RV Uthappa</td><td>2</td></tr><tr><td>Z Khan</td><td>RG Sharma</td><td>2</td></tr><tr><td>MM Patel</td><td>JH Kallis</td><td>2</td></tr><tr><td>A Mishra</td><td>WP Saha</td><td>2</td></tr><tr><td>Harbhajan Singh</td><td>SC Ganguly</td><td>2</td></tr><tr><td>Sohail Tanvir</td><td>JA Morkel</td><td>2</td></tr><tr><td>Sohail Tanvir</td><td>Umar Gul</td><td>2</td></tr><tr><td>MM Patel</td><td>DPMD Jayawardene</td><td>2</td></tr><tr><td>DW Steyn</td><td>DA Warner</td><td>2</td></tr><tr><td>R Bhatia</td><td>LRPL Taylor</td><td>2</td></tr><tr><td>S Sreesanth</td><td>DB Das</td><td>2</td></tr><tr><td>A Nehra</td><td>RV Uthappa</td><td>2</td></tr><tr><td>MS Gony</td><td>K Goel</td><td>2</td></tr><tr><td>BJ Hodge</td><td>AC Gilchrist</td><td>2</td></tr><tr><td>L Balaji</td><td>JH Kallis</td><td>2</td></tr><tr><td>SR Watson</td><td>ST Jayasuriya</td><td>2</td></tr><tr><td>S Sreesanth</td><td>AB de Villiers</td><td>2</td></tr><tr><td>JH Kallis</td><td>S Dhawan</td><td>2</td></tr><tr><td>AG Murtaza</td><td>NV Ojha</td><td>2</td></tr><tr><td>Harmeet Singh</td><td>RV Uthappa</td><td>2</td></tr><tr><td>R Bhatia</td><td>CH Gayle</td><td>2</td></tr><tr><td>SL Malinga</td><td>SE Marsh</td><td>2</td></tr><tr><td>JA Morkel</td><td>TM Dilshan</td><td>2</td></tr><tr><td>PP Chawla</td><td>DJ Bravo</td><td>2</td></tr><tr><td>PP Ojha</td><td>NV Ojha</td><td>2</td></tr><tr><td>JH Kallis</td><td>PA Patel</td><td>2</td></tr><tr><td>YK Pathan</td><td>BJ Hodge</td><td>2</td></tr><tr><td>IK Pathan</td><td>V Sehwag</td><td>2</td></tr><tr><td>A Kumble</td><td>KC Sangakkara</td><td>2</td></tr><tr><td>PJ Sangwan</td><td>MV Boucher</td><td>2</td></tr><tr><td>A Mishra</td><td>R Dravid</td><td>2</td></tr><tr><td>Kamran Khan</td><td>CH Gayle</td><td>2</td></tr><tr><td>PP Ojha</td><td>S Dhawan</td><td>2</td></tr><tr><td>R Vinay Kumar</td><td>GJ Bailey</td><td>2</td></tr><tr><td>SJ Srivastava</td><td>AT Rayudu</td><td>2</td></tr><tr><td>RR Powar</td><td>AC Gilchrist</td><td>2</td></tr><tr><td>Yuvraj Singh</td><td>HH Gibbs</td><td>2</td></tr><tr><td>MM Patel</td><td>MK Tiwary</td><td>2</td></tr><tr><td>SK Warne</td><td>TM Dilshan</td><td>2</td></tr><tr><td>A Nehra</td><td>Y Venugopal Rao</td><td>2</td></tr><tr><td>Harmeet Singh</td><td>R Dravid</td><td>2</td></tr><tr><td>AD Mascarenhas</td><td>RV Uthappa</td><td>2</td></tr><tr><td>SB Jakati</td><td>V Kohli</td><td>2</td></tr><tr><td>JH Kallis</td><td>CH Gayle</td><td>2</td></tr><tr><td>RP Singh</td><td>V Kohli</td><td>2</td></tr><tr><td>IK Pathan</td><td>AM Nayar</td><td>2</td></tr><tr><td>WPUJC Vaas</td><td>V Sehwag</td><td>2</td></tr><tr><td>B Lee</td><td>ST Jayasuriya</td><td>2</td></tr><tr><td>R Vinay Kumar</td><td>V Sehwag</td><td>2</td></tr><tr><td>M Kartik</td><td>RG Sharma</td><td>2</td></tr><tr><td>DJ Bravo</td><td>IK Pathan</td><td>2</td></tr><tr><td>KA Pollard</td><td>ML Hayden</td><td>2</td></tr><tr><td>SB Jakati</td><td>YK Pathan</td><td>2</td></tr><tr><td>RJ Harris</td><td>MK Pandey</td><td>2</td></tr><tr><td>A Mishra</td><td>AC Gilchrist</td><td>2</td></tr><tr><td>AB Dinda</td><td>DA Warner</td><td>2</td></tr><tr><td>DP Nannes</td><td>SC Ganguly</td><td>2</td></tr><tr><td>L Balaji</td><td>IK Pathan</td><td>2</td></tr><tr><td>P Kumar</td><td>HH Gibbs</td><td>2</td></tr><tr><td>JD Unadkat</td><td>NV Ojha</td><td>2</td></tr><tr><td>PP Chawla</td><td>HH Gibbs</td><td>2</td></tr><tr><td>A Mishra</td><td>M Kaif</td><td>2</td></tr><tr><td>RP Singh</td><td>S Sohal</td><td>2</td></tr><tr><td>Harbhajan Singh</td><td>V Sehwag</td><td>2</td></tr><tr><td>A Nehra</td><td>AM Nayar</td><td>2</td></tr><tr><td>S Sreesanth</td><td>AC Gilchrist</td><td>2</td></tr><tr><td>SL Malinga</td><td>K Goel</td><td>2</td></tr><tr><td>RR Powar</td><td>ML Hayden</td><td>2</td></tr><tr><td>IK Pathan</td><td>RA Jadeja</td><td>2</td></tr><tr><td>JH Kallis</td><td>SK Raina</td><td>2</td></tr><tr><td>PJ Sangwan</td><td>AM Rahane</td><td>2</td></tr><tr><td>MS Gony</td><td>R Dravid</td><td>2</td></tr><tr><td>SB Jakati</td><td>DR Smith</td><td>2</td></tr><tr><td>JH Kallis</td><td>AT Rayudu</td><td>2</td></tr><tr><td>L Balaji</td><td>G Gambhir</td><td>2</td></tr><tr><td>RR Raje</td><td>SR Watson</td><td>2</td></tr><tr><td>I Sharma</td><td>RA Jadeja</td><td>2</td></tr><tr><td>SK Trivedi</td><td>V Kohli</td><td>2</td></tr><tr><td>DS Kulkarni</td><td>V Sehwag</td><td>2</td></tr><tr><td>MC Henriques</td><td>G Gambhir</td><td>2</td></tr><tr><td>Sohail Tanvir</td><td>DB Das</td><td>2</td></tr><tr><td>Yuvraj Singh</td><td>RV Uthappa</td><td>2</td></tr><tr><td>SM Pollock</td><td>SC Ganguly</td><td>2</td></tr><tr><td>A Mishra</td><td>PC Valthaty</td><td>2</td></tr><tr><td>AB Dinda</td><td>MK Pandey</td><td>2</td></tr><tr><td>PP Chawla</td><td>Y Venugopal Rao</td><td>2</td></tr><tr><td>Harbhajan Singh</td><td>PP Chawla</td><td>2</td></tr><tr><td>VRV Singh</td><td>R Dravid</td><td>2</td></tr><tr><td>SK Trivedi</td><td>Yuvraj Singh</td><td>2</td></tr><tr><td>SW Tait</td><td>KD Karthik</td><td>2</td></tr><tr><td>Z Khan</td><td>LR Shukla</td><td>2</td></tr><tr><td>RJ Harris</td><td>DA Warner</td><td>2</td></tr><tr><td>PP Ojha</td><td>SC Ganguly</td><td>2</td></tr><tr><td>R Vinay Kumar</td><td>S Badrinath</td><td>2</td></tr><tr><td>JA Morkel</td><td>JH Kallis</td><td>2</td></tr><tr><td>I Sharma</td><td>Y Venugopal Rao</td><td>2</td></tr><tr><td>RP Singh</td><td>G Gambhir</td><td>2</td></tr><tr><td>DP Nannes</td><td>AC Gilchrist</td><td>2</td></tr><tr><td>Harbhajan Singh</td><td>JH Kallis</td><td>2</td></tr><tr><td>A Nehra</td><td>BJ Hodge</td><td>2</td></tr><tr><td>P Kumar</td><td>SC Ganguly</td><td>2</td></tr><tr><td>RP Singh</td><td>TM Dilshan</td><td>2</td></tr><tr><td>PJ Sangwan</td><td>SK Raina</td><td>2</td></tr><tr><td>AB Dinda</td><td>DPMD Jayawardene</td><td>2</td></tr><tr><td>MF Maharoof</td><td>YK Pathan</td><td>2</td></tr><tr><td>S Sreesanth</td><td>M Kaif</td><td>2</td></tr><tr><td>JA Morkel</td><td>SA Asnodkar</td><td>2</td></tr><tr><td>A Mishra</td><td>SR Tendulkar</td><td>2</td></tr><tr><td>JA Morkel</td><td>Yuvraj Singh</td><td>2</td></tr><tr><td>KA Pollard</td><td>Yuvraj Singh</td><td>2</td></tr><tr><td>R Bhatia</td><td>SK Raina</td><td>2</td></tr><tr><td>R Vinay Kumar</td><td>JA Morkel</td><td>2</td></tr><tr><td>SR Watson</td><td>S Dhawan</td><td>2</td></tr><tr><td>I Sharma</td><td>JH Kallis</td><td>2</td></tr><tr><td>A Nehra</td><td>M Vijay</td><td>2</td></tr><tr><td>A Kumble</td><td>A Symonds</td><td>2</td></tr><tr><td>SL Malinga</td><td>IK Pathan</td><td>2</td></tr><tr><td>RJ Harris</td><td>BJ Hodge</td><td>2</td></tr><tr><td>Yuvraj Singh</td><td>Y Venugopal Rao</td><td>2</td></tr><tr><td>A Mishra</td><td>JH Kallis</td><td>2</td></tr><tr><td>PP Chawla</td><td>DJ Hussey</td><td>2</td></tr><tr><td>RE van der Merwe</td><td>DPMD Jayawardene</td><td>2</td></tr><tr><td>A Singh</td><td>SK Raina</td><td>2</td></tr><tr><td>RP Singh</td><td>S Dhawan</td><td>2</td></tr><tr><td>M Muralitharan</td><td>DR Smith</td><td>2</td></tr><tr><td>PP Ojha</td><td>LRPL Taylor</td><td>2</td></tr><tr><td>S Sreesanth</td><td>NV Ojha</td><td>2</td></tr><tr><td>AB Agarkar</td><td>A Symonds</td><td>2</td></tr><tr><td>AB Dinda</td><td>AC Gilchrist</td><td>2</td></tr><tr><td>SC Ganguly</td><td>IK Pathan</td><td>2</td></tr><tr><td>SB Jakati</td><td>BB McCullum</td><td>2</td></tr><tr><td>DW Steyn</td><td>AB de Villiers</td><td>2</td></tr><tr><td>L Balaji</td><td>RA Jadeja</td><td>2</td></tr><tr><td>SK Warne</td><td>MS Bisla</td><td>2</td></tr><tr><td>Z Khan</td><td>SC Ganguly</td><td>2</td></tr><tr><td>I Sharma</td><td>R Dravid</td><td>2</td></tr><tr><td>SL Malinga</td><td>LRPL Taylor</td><td>2</td></tr><tr><td>A Mishra</td><td>Mandeep Singh</td><td>2</td></tr><tr><td>RE van der Merwe</td><td>ST Jayasuriya</td><td>2</td></tr><tr><td>MM Patel</td><td>Yuvraj Singh</td><td>2</td></tr><tr><td>JP Duminy</td><td>Yuvraj Singh</td><td>2</td></tr><tr><td>M Muralitharan</td><td>R Dravid</td><td>2</td></tr><tr><td>DW Steyn</td><td>TL Suman</td><td>2</td></tr><tr><td>JA Morkel</td><td>RV Uthappa</td><td>2</td></tr><tr><td>MS Gony</td><td>JH Kallis</td><td>2</td></tr><tr><td>MM Patel</td><td>TM Dilshan</td><td>2</td></tr><tr><td>DJ Bravo</td><td>KC Sangakkara</td><td>2</td></tr><tr><td>SK Raina</td><td>GC Smith</td><td>2</td></tr><tr><td>R Vinay Kumar</td><td>AT Rayudu</td><td>2</td></tr><tr><td>R Sharma</td><td>M Manhas</td><td>2</td></tr><tr><td>RP Singh</td><td>MV Boucher</td><td>2</td></tr><tr><td>IK Pathan</td><td>G Gambhir</td><td>2</td></tr><tr><td>KA Pollard</td><td>YK Pathan</td><td>2</td></tr><tr><td>WA Mota</td><td>SK Raina</td><td>2</td></tr><tr><td>JH Kallis</td><td>CA Pujara</td><td>2</td></tr><tr><td>MF Maharoof</td><td>GC Smith</td><td>2</td></tr><tr><td>DW Steyn</td><td>YK Pathan</td><td>2</td></tr><tr><td>ST Jayasuriya</td><td>Mohammad Hafeez</td><td>2</td></tr><tr><td>JA Morkel</td><td>YK Pathan</td><td>2</td></tr><tr><td>I Sharma</td><td>AM Rahane</td><td>2</td></tr><tr><td>PJ Sangwan</td><td>SR Tendulkar</td><td>2</td></tr><tr><td>DJ Bravo</td><td>AC Gilchrist</td><td>2</td></tr><tr><td>PP Chawla</td><td>NV Ojha</td><td>2</td></tr><tr><td>MM Patel</td><td>G Gambhir</td><td>2</td></tr><tr><td>AB Dinda</td><td>VVS Laxman</td><td>2</td></tr><tr><td>DW Steyn</td><td>ST Jayasuriya</td><td>2</td></tr><tr><td>Yuvraj Singh</td><td>KD Karthik</td><td>2</td></tr><tr><td>P Kumar</td><td>MEK Hussey</td><td>2</td></tr><tr><td>SL Malinga</td><td>MS Dhoni</td><td>2</td></tr><tr><td>P Kumar</td><td>IK Pathan</td><td>2</td></tr><tr><td>R Vinay Kumar</td><td>DJ Bravo</td><td>2</td></tr><tr><td>SK Trivedi</td><td>G Gambhir</td><td>2</td></tr><tr><td>A Kumble</td><td>ML Hayden</td><td>2</td></tr><tr><td>AB Dinda</td><td>KD Karthik</td><td>2</td></tr><tr><td>Z Khan</td><td>SE Marsh</td><td>2</td></tr><tr><td>DJ Bravo</td><td>RS Bopara</td><td>2</td></tr><tr><td>Harbhajan Singh</td><td>AC Gilchrist</td><td>2</td></tr><tr><td>DW Steyn</td><td>JA Morkel</td><td>2</td></tr><tr><td>Yuvraj Singh</td><td>A Symonds</td><td>2</td></tr><tr><td>GD McGrath</td><td>P Kumar</td><td>2</td></tr><tr><td>SL Malinga</td><td>BJ Hodge</td><td>2</td></tr><tr><td>JA Morkel</td><td>V Kohli</td><td>2</td></tr><tr><td>A Nehra</td><td>RJ Quiney</td><td>2</td></tr><tr><td>PP Ojha</td><td>MK Pandey</td><td>2</td></tr><tr><td>SB Jakati</td><td>SS Tiwary</td><td>2</td></tr><tr><td>IK Pathan</td><td>RG Sharma</td><td>2</td></tr><tr><td>PP Chawla</td><td>MK Pandey</td><td>2</td></tr><tr><td>A Kumble</td><td>RG Sharma</td><td>2</td></tr><tr><td>P Kumar</td><td>GC Smith</td><td>2</td></tr><tr><td>JA Morkel</td><td>MS Bisla</td><td>2</td></tr><tr><td>SL Malinga</td><td>KC Sangakkara</td><td>2</td></tr><tr><td>SR Watson</td><td>SE Marsh</td><td>2</td></tr><tr><td>IK Pathan</td><td>KD Karthik</td><td>2</td></tr><tr><td>KP Pietersen</td><td>SK Raina</td><td>2</td></tr><tr><td>DP Nannes</td><td>MS Dhoni</td><td>2</td></tr><tr><td>AB Dinda</td><td>RG Sharma</td><td>2</td></tr><tr><td>PP Ojha</td><td>KD Karthik</td><td>2</td></tr><tr><td>R Ashwin</td><td>AB de Villiers</td><td>2</td></tr><tr><td>IK Pathan</td><td>JDP Oram</td><td>2</td></tr><tr><td>SB Jakati</td><td>S Dhawan</td><td>2</td></tr><tr><td>PP Chawla</td><td>SS Tiwary</td><td>2</td></tr><tr><td>MS Gony</td><td>V Sehwag</td><td>2</td></tr><tr><td>R Sharma</td><td>SR Tendulkar</td><td>2</td></tr><tr><td>M Muralitharan</td><td>V Kohli</td><td>2</td></tr><tr><td>MM Patel</td><td>SC Ganguly</td><td>2</td></tr><tr><td>MM Patel</td><td>SK Raina</td><td>2</td></tr><tr><td>YK Pathan</td><td>AC Gilchrist</td><td>2</td></tr><tr><td>VRV Singh</td><td>LR Shukla</td><td>2</td></tr><tr><td>SK Trivedi</td><td>RP Singh</td><td>2</td></tr><tr><td>JA Morkel</td><td>MJ Lumb</td><td>2</td></tr><tr><td>P Kumar</td><td>SA Asnodkar</td><td>2</td></tr><tr><td>I Sharma</td><td>KD Karthik</td><td>2</td></tr><tr><td>SB Jakati</td><td>KD Karthik</td><td>2</td></tr><tr><td>DP Nannes</td><td>JP Duminy</td><td>2</td></tr><tr><td>DS Kulkarni</td><td>DA Warner</td><td>2</td></tr><tr><td>AB Dinda</td><td>S Dhawan</td><td>2</td></tr><tr><td>SL Malinga</td><td>AB Dinda</td><td>2</td></tr><tr><td>RP Singh</td><td>R Bhatia</td><td>2</td></tr><tr><td>AG Murtaza</td><td>V Sehwag</td><td>2</td></tr><tr><td>IK Pathan</td><td>JD Ryder</td><td>2</td></tr><tr><td>SK Raina</td><td>PP Ojha</td><td>2</td></tr><tr><td>A Mishra</td><td>IK Pathan</td><td>2</td></tr><tr><td>SR Watson</td><td>DJ Bravo</td><td>2</td></tr><tr><td>PP Ojha</td><td>R Dravid</td><td>2</td></tr><tr><td>SK Trivedi</td><td>DPMD Jayawardene</td><td>2</td></tr><tr><td>DW Steyn</td><td>RP Singh</td><td>2</td></tr><tr><td>M Muralitharan</td><td>M Kaif</td><td>2</td></tr><tr><td>SK Trivedi</td><td>JP Duminy</td><td>2</td></tr><tr><td>J Botha</td><td>S Dhawan</td><td>2</td></tr><tr><td>DW Steyn</td><td>Z Khan</td><td>2</td></tr><tr><td>DJ Bravo</td><td>N Saini</td><td>2</td></tr><tr><td>DJ Bravo</td><td>R Sathish</td><td>2</td></tr><tr><td>KA Pollard</td><td>DW Steyn</td><td>2</td></tr><tr><td>P Awana</td><td>CH Gayle</td><td>2</td></tr><tr><td>UT Yadav</td><td>PP Chawla</td><td>2</td></tr><tr><td>KA Pollard</td><td>STR Binny</td><td>2</td></tr><tr><td>AB Dinda</td><td>Harbhajan Singh</td><td>2</td></tr><tr><td>PP Chawla</td><td>MS Bisla</td><td>2</td></tr><tr><td>B Laughlin</td><td>AT Rayudu</td><td>2</td></tr><tr><td>PP Ojha</td><td>IK Pathan</td><td>2</td></tr><tr><td>R Vinay Kumar</td><td>PA Patel</td><td>2</td></tr><tr><td>R Ashwin</td><td>SR Watson</td><td>2</td></tr><tr><td>SP Narine</td><td>NV Ojha</td><td>2</td></tr><tr><td>A Mishra</td><td>G Gambhir</td><td>2</td></tr><tr><td>RP Singh</td><td>M Vijay</td><td>2</td></tr><tr><td>BW Hilfenhaus</td><td>V Sehwag</td><td>2</td></tr><tr><td>DT Christian</td><td>KA Pollard</td><td>2</td></tr><tr><td>IK Pathan</td><td>PC Valthaty</td><td>2</td></tr><tr><td>JH Kallis</td><td>V Sehwag</td><td>2</td></tr><tr><td>JA Morkel</td><td>KA Pollard</td><td>2</td></tr><tr><td>M Morkel</td><td>M Vijay</td><td>2</td></tr><tr><td>PP Ojha</td><td>JA Morkel</td><td>2</td></tr><tr><td>R Ashwin</td><td>AD Russell</td><td>2</td></tr><tr><td>SL Malinga</td><td>DW Steyn</td><td>2</td></tr><tr><td>R Bhatia</td><td>SP Goswami</td><td>2</td></tr><tr><td>HV Patel</td><td>DR Smith</td><td>2</td></tr><tr><td>DW Steyn</td><td>IK Pathan</td><td>2</td></tr><tr><td>VR Aaron</td><td>BB McCullum</td><td>2</td></tr><tr><td>MN Samuels</td><td>CL White</td><td>2</td></tr><tr><td>SP Narine</td><td>Harbhajan Singh</td><td>2</td></tr><tr><td>R Sharma</td><td>Mandeep Singh</td><td>2</td></tr><tr><td>AB Dinda</td><td>PA Patel</td><td>2</td></tr><tr><td>R Vinay Kumar</td><td>Shakib Al Hasan</td><td>2</td></tr><tr><td>Iqbal Abdulla</td><td>M Vijay</td><td>2</td></tr><tr><td>P Awana</td><td>V Sehwag</td><td>2</td></tr><tr><td>A Nehra</td><td>MS Bisla</td><td>2</td></tr><tr><td>MM Patel</td><td>RJ Harris</td><td>2</td></tr><tr><td>JA Morkel</td><td>LRPL Taylor</td><td>2</td></tr><tr><td>YK Pathan</td><td>JD Ryder</td><td>2</td></tr><tr><td>MR Marsh</td><td>KD Karthik</td><td>2</td></tr><tr><td>JA Morkel</td><td>KD Karthik</td><td>2</td></tr><tr><td>UT Yadav</td><td>M Vijay</td><td>2</td></tr><tr><td>L Balaji</td><td>Yuvraj Singh</td><td>2</td></tr><tr><td>S Nadeem</td><td>RV Uthappa</td><td>2</td></tr><tr><td>DS Kulkarni</td><td>AM Rahane</td><td>2</td></tr><tr><td>Z Khan</td><td>Yuvraj Singh</td><td>2</td></tr><tr><td>DR Smith</td><td>Shakib Al Hasan</td><td>2</td></tr><tr><td>SR Watson</td><td>PP Chawla</td><td>2</td></tr><tr><td>GB Hogg</td><td>CH Gayle</td><td>2</td></tr><tr><td>GB Hogg</td><td>V Sehwag</td><td>2</td></tr><tr><td>DJ Bravo</td><td>PP Chawla</td><td>2</td></tr><tr><td>R Vinay Kumar</td><td>Y Nagar</td><td>2</td></tr><tr><td>KA Pollard</td><td>SR Watson</td><td>2</td></tr><tr><td>SL Malinga</td><td>DA Warner</td><td>2</td></tr><tr><td>B Kumar</td><td>AT Rayudu</td><td>2</td></tr><tr><td>Shakib Al Hasan</td><td>SK Raina</td><td>2</td></tr><tr><td>R Vinay Kumar</td><td>CL White</td><td>2</td></tr><tr><td>M Morkel</td><td>SC Ganguly</td><td>2</td></tr><tr><td>R Ashwin</td><td>JH Kallis</td><td>2</td></tr><tr><td>Z Khan</td><td>SK Raina</td><td>2</td></tr><tr><td>Shakib Al Hasan</td><td>AM Rahane</td><td>2</td></tr><tr><td>YK Pathan</td><td>AL Menaria</td><td>2</td></tr><tr><td>UT Yadav</td><td>DT Christian</td><td>2</td></tr><tr><td>KMDN Kulasekara</td><td>JD Ryder</td><td>2</td></tr><tr><td>MG Johnson</td><td>RV Uthappa</td><td>2</td></tr><tr><td>SL Malinga</td><td>Mandeep Singh</td><td>2</td></tr><tr><td>RA Jadeja</td><td>MA Agarwal</td><td>2</td></tr><tr><td>PP Chawla</td><td>RV Uthappa</td><td>2</td></tr><tr><td>M Muralitharan</td><td>M Vijay</td><td>2</td></tr><tr><td>Harmeet Singh</td><td>V Sehwag</td><td>2</td></tr><tr><td>AB Agarkar</td><td>KD Karthik</td><td>2</td></tr><tr><td>Shakib Al Hasan</td><td>SC Ganguly</td><td>2</td></tr><tr><td>M Morkel</td><td>RG Sharma</td><td>2</td></tr><tr><td>S Sreesanth</td><td>DA Warner</td><td>2</td></tr><tr><td>JA Morkel</td><td>MK Pandey</td><td>2</td></tr><tr><td>DJ Bravo</td><td>MK Pandey</td><td>2</td></tr><tr><td>M Morkel</td><td>SE Marsh</td><td>2</td></tr><tr><td>DW Steyn</td><td>V Sehwag</td><td>2</td></tr><tr><td>MG Johnson</td><td>SK Raina</td><td>2</td></tr><tr><td>UT Yadav</td><td>JA Morkel</td><td>2</td></tr><tr><td>PP Chawla</td><td>M Vijay</td><td>2</td></tr><tr><td>MM Patel</td><td>DJ Hussey</td><td>2</td></tr><tr><td>SK Raina</td><td>S Dhawan</td><td>2</td></tr><tr><td>RJ Harris</td><td>R Dravid</td><td>2</td></tr><tr><td>R Ashwin</td><td>EJG Morgan</td><td>2</td></tr><tr><td>RP Singh</td><td>R Vinay Kumar</td><td>2</td></tr><tr><td>SP Narine</td><td>WD Parnell</td><td>2</td></tr><tr><td>AB Dinda</td><td>Q de Kock</td><td>2</td></tr><tr><td>DW Steyn</td><td>BB McCullum</td><td>2</td></tr><tr><td>RA Jadeja</td><td>M Vohra</td><td>2</td></tr><tr><td>DE Bollinger</td><td>NL McCullum</td><td>2</td></tr><tr><td>AD Mathews</td><td>M Vijay</td><td>2</td></tr><tr><td>IK Pathan</td><td>JH Kallis</td><td>2</td></tr><tr><td>PP Chawla</td><td>AL Menaria</td><td>2</td></tr><tr><td>JA Morkel</td><td>PP Chawla</td><td>2</td></tr><tr><td>A Nehra</td><td>NLTC Perera</td><td>2</td></tr><tr><td>R Bhatia</td><td>MS Dhoni</td><td>2</td></tr><tr><td>P Awana</td><td>RA Jadeja</td><td>2</td></tr><tr><td>Azhar Mahmood</td><td>EJG Morgan</td><td>2</td></tr><tr><td>JP Faulkner</td><td>KD Karthik</td><td>2</td></tr><tr><td>NLTC Perera</td><td>RV Uthappa</td><td>2</td></tr><tr><td>B Lee</td><td>Y Nagar</td><td>2</td></tr><tr><td>JH Kallis</td><td>BJ Hodge</td><td>2</td></tr><tr><td>WD Parnell</td><td>YK Pathan</td><td>2</td></tr><tr><td>SP Narine</td><td>Azhar Mahmood</td><td>2</td></tr><tr><td>UT Yadav</td><td>YK Pathan</td><td>2</td></tr><tr><td>KK Cooper</td><td>PP Chawla</td><td>2</td></tr><tr><td>P Awana</td><td>KA Pollard</td><td>2</td></tr><tr><td>KK Cooper</td><td>KD Karthik</td><td>2</td></tr><tr><td>JD Unadkat</td><td>BB McCullum</td><td>2</td></tr><tr><td>DE Bollinger</td><td>Z Khan</td><td>2</td></tr><tr><td>SL Malinga</td><td>MA Agarwal</td><td>2</td></tr><tr><td>B Kumar</td><td>GH Vihari</td><td>2</td></tr><tr><td>Shakib Al Hasan</td><td>R Vinay Kumar</td><td>2</td></tr><tr><td>CH Morris</td><td>V Kohli</td><td>2</td></tr><tr><td>NLTC Perera</td><td>M Vijay</td><td>2</td></tr><tr><td>UT Yadav</td><td>EJG Morgan</td><td>2</td></tr><tr><td>SL Malinga</td><td>M Manhas</td><td>2</td></tr><tr><td>L Balaji</td><td>M Vohra</td><td>2</td></tr><tr><td>BA Bhatt</td><td>JH Kallis</td><td>2</td></tr><tr><td>R Ashwin</td><td>NV Ojha</td><td>2</td></tr><tr><td>PP Ojha</td><td>MS Bisla</td><td>2</td></tr><tr><td>SP Narine</td><td>IK Pathan</td><td>2</td></tr><tr><td>AB Dinda</td><td>MS Dhoni</td><td>2</td></tr><tr><td>DW Steyn</td><td>AM Rahane</td><td>2</td></tr><tr><td>DT Christian</td><td>Yuvraj Singh</td><td>2</td></tr><tr><td>SL Malinga</td><td>M Vijay</td><td>2</td></tr><tr><td>Z Khan</td><td>DA Warner</td><td>2</td></tr><tr><td>MM Patel</td><td>CH Gayle</td><td>2</td></tr><tr><td>R Ashwin</td><td>G Gambhir</td><td>2</td></tr><tr><td>A Mishra</td><td>KK Nair</td><td>2</td></tr><tr><td>SB Jakati</td><td>SR Tendulkar</td><td>2</td></tr><tr><td>MC Henriques</td><td>YK Pathan</td><td>2</td></tr><tr><td>R Vinay Kumar</td><td>MEK Hussey</td><td>2</td></tr><tr><td>SL Malinga</td><td>SK Raina</td><td>2</td></tr><tr><td>DE Bollinger</td><td>RR Bhatkal</td><td>2</td></tr><tr><td>A Mishra</td><td>Yuvraj Singh</td><td>2</td></tr><tr><td>AD Mascarenhas</td><td>SC Ganguly</td><td>2</td></tr><tr><td>DJ Bravo</td><td>CL White</td><td>2</td></tr><tr><td>J Botha</td><td>KC Sangakkara</td><td>2</td></tr><tr><td>DE Bollinger</td><td>A Mishra</td><td>2</td></tr><tr><td>MM Patel</td><td>SP Goswami</td><td>2</td></tr><tr><td>JD Unadkat</td><td>V Sehwag</td><td>2</td></tr><tr><td>SP Narine</td><td>M Vijay</td><td>2</td></tr><tr><td>R Ashwin</td><td>Y Venugopal Rao</td><td>2</td></tr><tr><td>IK Pathan</td><td>MEK Hussey</td><td>2</td></tr><tr><td>R Ashwin</td><td>JD Ryder</td><td>2</td></tr><tr><td>JJ Bumrah</td><td>KK Nair</td><td>2</td></tr><tr><td>R Vinay Kumar</td><td>G Gambhir</td><td>2</td></tr><tr><td>Harbhajan Singh</td><td>JD Ryder</td><td>2</td></tr><tr><td>DW Steyn</td><td>RA Jadeja</td><td>2</td></tr><tr><td>AB McDonald</td><td>SE Marsh</td><td>2</td></tr><tr><td>A Nehra</td><td>KA Pollard</td><td>2</td></tr><tr><td>SP Narine</td><td>MA Agarwal</td><td>2</td></tr><tr><td>L Balaji</td><td>MEK Hussey</td><td>2</td></tr><tr><td>UT Yadav</td><td>DJ Bravo</td><td>2</td></tr><tr><td>WD Parnell</td><td>KD Karthik</td><td>2</td></tr><tr><td>M Morkel</td><td>KD Karthik</td><td>2</td></tr><tr><td>RA Jadeja</td><td>SS Tiwary</td><td>2</td></tr><tr><td>P Kumar</td><td>SR Tendulkar</td><td>2</td></tr><tr><td>BJ Hodge</td><td>AL Menaria</td><td>2</td></tr><tr><td>DW Steyn</td><td>RE Levi</td><td>2</td></tr><tr><td>R Ashwin</td><td>Mandeep Singh</td><td>2</td></tr><tr><td>I Sharma</td><td>AT Rayudu</td><td>2</td></tr><tr><td>R Vinay Kumar</td><td>A Ashish Reddy</td><td>2</td></tr><tr><td>AD Mathews</td><td>AC Gilchrist</td><td>2</td></tr><tr><td>R Ashwin</td><td>DPMD Jayawardene</td><td>2</td></tr><tr><td>A Ashish Reddy</td><td>V Kohli</td><td>2</td></tr><tr><td>UT Yadav</td><td>JH Kallis</td><td>2</td></tr><tr><td>MR Marsh</td><td>RA Jadeja</td><td>2</td></tr><tr><td>NLTC Perera</td><td>SK Raina</td><td>2</td></tr><tr><td>SL Malinga</td><td>MEK Hussey</td><td>2</td></tr><tr><td>DE Bollinger</td><td>SR Tendulkar</td><td>2</td></tr><tr><td>UT Yadav</td><td>STR Binny</td><td>2</td></tr><tr><td>RA Jadeja</td><td>MEK Hussey</td><td>2</td></tr><tr><td>SL Malinga</td><td>KM Jadhav</td><td>2</td></tr><tr><td>AB Dinda</td><td>PC Valthaty</td><td>2</td></tr><tr><td>RA Jadeja</td><td>MS Dhoni</td><td>2</td></tr><tr><td>NLTC Perera</td><td>R Dravid</td><td>2</td></tr><tr><td>S Aravind</td><td>SR Watson</td><td>2</td></tr><tr><td>M Morkel</td><td>BJ Hodge</td><td>2</td></tr><tr><td>A Mishra</td><td>STR Binny</td><td>2</td></tr><tr><td>A Mishra</td><td>MA Agarwal</td><td>2</td></tr><tr><td>R Bhatia</td><td>KC Sangakkara</td><td>2</td></tr><tr><td>JH Kallis</td><td>LRPL Taylor</td><td>2</td></tr><tr><td>Harbhajan Singh</td><td>DH Yagnik</td><td>2</td></tr><tr><td>P Parameswaran</td><td>CL White</td><td>2</td></tr><tr><td>A Mishra</td><td>Azhar Mahmood</td><td>2</td></tr><tr><td>VR Aaron</td><td>Mandeep Singh</td><td>2</td></tr><tr><td>A Mishra</td><td>MS Bisla</td><td>2</td></tr><tr><td>SL Malinga</td><td>A Mishra</td><td>2</td></tr><tr><td>JA Morkel</td><td>R Sathish</td><td>2</td></tr><tr><td>R Bhatia</td><td>S Dhawan</td><td>2</td></tr><tr><td>MM Patel</td><td>M Vijay</td><td>2</td></tr><tr><td>PP Ojha</td><td>SK Raina</td><td>2</td></tr><tr><td>P Awana</td><td>V Kohli</td><td>2</td></tr><tr><td>JP Duminy</td><td>SE Marsh</td><td>2</td></tr><tr><td>Iqbal Abdulla</td><td>MK Pandey</td><td>2</td></tr><tr><td>JH Kallis</td><td>Mandeep Singh</td><td>2</td></tr><tr><td>Z Khan</td><td>JP Duminy</td><td>2</td></tr><tr><td>S Nadeem</td><td>S Dhawan</td><td>2</td></tr><tr><td>S Nadeem</td><td>PA Patel</td><td>2</td></tr><tr><td>KA Pollard</td><td>MK Tiwary</td><td>2</td></tr><tr><td>JH Kallis</td><td>AJ Finch</td><td>2</td></tr><tr><td>KK Cooper</td><td>SE Marsh</td><td>2</td></tr><tr><td>RA Jadeja</td><td>PA Patel</td><td>2</td></tr><tr><td>SP Narine</td><td>SR Tendulkar</td><td>2</td></tr><tr><td>B Lee</td><td>UBT Chand</td><td>2</td></tr><tr><td>MM Patel</td><td>DT Christian</td><td>2</td></tr><tr><td>JH Kallis</td><td>MEK Hussey</td><td>2</td></tr><tr><td>PP Chawla</td><td>Shakib Al Hasan</td><td>2</td></tr><tr><td>P Kumar</td><td>SR Watson</td><td>2</td></tr><tr><td>A Nehra</td><td>SR Watson</td><td>2</td></tr><tr><td>R Rampaul</td><td>M Vijay</td><td>2</td></tr><tr><td>SB Jakati</td><td>AB de Villiers</td><td>2</td></tr><tr><td>AB Dinda</td><td>TM Dilshan</td><td>2</td></tr><tr><td>DJ Bravo</td><td>Gurkeerat Singh</td><td>2</td></tr><tr><td>R Bhatia</td><td>AD Mascarenhas</td><td>2</td></tr><tr><td>Yuvraj Singh</td><td>STR Binny</td><td>2</td></tr><tr><td>P Awana</td><td>RG Sharma</td><td>2</td></tr><tr><td>R Ashwin</td><td>P Negi</td><td>2</td></tr><tr><td>Azhar Mahmood</td><td>JA Morkel</td><td>2</td></tr><tr><td>DE Bollinger</td><td>RG Sharma</td><td>2</td></tr><tr><td>UT Yadav</td><td>Mandeep Singh</td><td>2</td></tr><tr><td>IK Pathan</td><td>AT Rayudu</td><td>2</td></tr><tr><td>R Ashwin</td><td>AL Menaria</td><td>2</td></tr><tr><td>Bipul Sharma</td><td>RG Sharma</td><td>2</td></tr><tr><td>KK Cooper</td><td>SK Raina</td><td>2</td></tr><tr><td>KA Pollard</td><td>S Badrinath</td><td>2</td></tr><tr><td>SP Narine</td><td>DA Warner</td><td>2</td></tr><tr><td>DL Vettori</td><td>BB McCullum</td><td>2</td></tr><tr><td>SP Narine</td><td>SPD Smith</td><td>2</td></tr><tr><td>Anand Rajan</td><td>J Botha</td><td>2</td></tr><tr><td>WD Parnell</td><td>G Gambhir</td><td>2</td></tr><tr><td>KA Pollard</td><td>MK Pandey</td><td>2</td></tr><tr><td>Yuvraj Singh</td><td>S Dhawan</td><td>2</td></tr><tr><td>JP Faulkner</td><td>RV Uthappa</td><td>2</td></tr><tr><td>Shakib Al Hasan</td><td>KD Karthik</td><td>2</td></tr><tr><td>AR Patel</td><td>MK Pandey</td><td>2</td></tr><tr><td>S Aravind</td><td>DR Smith</td><td>2</td></tr><tr><td>MJ McClenaghan</td><td>KL Rahul</td><td>2</td></tr><tr><td>J Yadav</td><td>SK Raina</td><td>2</td></tr><tr><td>PP Chawla</td><td>GH Vihari</td><td>2</td></tr><tr><td>DJ Bravo</td><td>UT Yadav</td><td>2</td></tr><tr><td>JD Unadkat</td><td>Yuvraj Singh</td><td>2</td></tr><tr><td>P Kumar</td><td>G Gambhir</td><td>2</td></tr><tr><td>KV Sharma</td><td>G Gambhir</td><td>2</td></tr><tr><td>MM Sharma</td><td>AM Rahane</td><td>2</td></tr><tr><td>Imran Tahir</td><td>AD Russell</td><td>2</td></tr><tr><td>Harbhajan Singh</td><td>SR Watson</td><td>2</td></tr><tr><td>R Ashwin</td><td>Gurkeerat Singh</td><td>2</td></tr><tr><td>MM Sharma</td><td>Mandeep Singh</td><td>2</td></tr><tr><td>MG Johnson</td><td>SP Narine</td><td>2</td></tr><tr><td>R Ashwin</td><td>MK Pandey</td><td>2</td></tr><tr><td>I Sharma</td><td>SR Watson</td><td>2</td></tr><tr><td>RA Jadeja</td><td>MK Pandey</td><td>2</td></tr><tr><td>VR Aaron</td><td>YK Pathan</td><td>2</td></tr><tr><td>Imran Tahir</td><td>GJ Bailey</td><td>2</td></tr><tr><td>MM Sharma</td><td>Harbhajan Singh</td><td>2</td></tr><tr><td>R Ashwin</td><td>LMP Simmons</td><td>2</td></tr><tr><td>SL Malinga</td><td>CH Morris</td><td>2</td></tr><tr><td>SP Narine</td><td>CJ Anderson</td><td>2</td></tr><tr><td>KV Sharma</td><td>SV Samson</td><td>2</td></tr><tr><td>HV Patel</td><td>SK Raina</td><td>2</td></tr><tr><td>A Nehra</td><td>GJ Bailey</td><td>2</td></tr><tr><td>HV Patel</td><td>F du Plessis</td><td>2</td></tr><tr><td>GJ Maxwell</td><td>SK Raina</td><td>2</td></tr><tr><td>R Dhawan</td><td>IK Pathan</td><td>2</td></tr><tr><td>IC Pandey</td><td>M Vohra</td><td>2</td></tr><tr><td>PP Chawla</td><td>M Vohra</td><td>2</td></tr><tr><td>YS Chahal</td><td>G Gambhir</td><td>2</td></tr><tr><td>Anureet Singh</td><td>KK Nair</td><td>2</td></tr><tr><td>NM Coulter-Nile</td><td>KK Nair</td><td>2</td></tr><tr><td>S Nadeem</td><td>SV Samson</td><td>2</td></tr><tr><td>YS Chahal</td><td>RA Jadeja</td><td>2</td></tr><tr><td>SL Malinga</td><td>P Negi</td><td>2</td></tr><tr><td>MM Sharma</td><td>V Sehwag</td><td>2</td></tr><tr><td>UT Yadav</td><td>NV Ojha</td><td>2</td></tr><tr><td>R Vinay Kumar</td><td>AM Rahane</td><td>2</td></tr><tr><td>TG Southee</td><td>WP Saha</td><td>2</td></tr><tr><td>JP Faulkner</td><td>BB Samantray</td><td>2</td></tr><tr><td>KA Pollard</td><td>SK Raina</td><td>2</td></tr><tr><td>HV Patel</td><td>SV Samson</td><td>2</td></tr><tr><td>KK Cooper</td><td>AP Tare</td><td>2</td></tr><tr><td>IC Pandey</td><td>JP Duminy</td><td>2</td></tr><tr><td>MM Sharma</td><td>R Bhatia</td><td>2</td></tr><tr><td>KV Sharma</td><td>Shakib Al Hasan</td><td>2</td></tr><tr><td>R Dhawan</td><td>F du Plessis</td><td>2</td></tr><tr><td>SP Narine</td><td>MG Johnson</td><td>2</td></tr><tr><td>JP Faulkner</td><td>SA Yadav</td><td>2</td></tr><tr><td>PJ Cummins</td><td>F du Plessis</td><td>2</td></tr><tr><td>JA Morkel</td><td>AP Tare</td><td>2</td></tr><tr><td>Shakib Al Hasan</td><td>SV Samson</td><td>2</td></tr><tr><td>MA Starc</td><td>DA Warner</td><td>2</td></tr><tr><td>UT Yadav</td><td>AJ Finch</td><td>2</td></tr><tr><td>MG Johnson</td><td>M Vijay</td><td>2</td></tr><tr><td>SL Malinga</td><td>GH Vihari</td><td>2</td></tr><tr><td>AD Russell</td><td>MS Dhoni</td><td>2</td></tr><tr><td>SP Narine</td><td>KD Karthik</td><td>2</td></tr><tr><td>SR Watson</td><td>DA Warner</td><td>2</td></tr><tr><td>AD Russell</td><td>BB McCullum</td><td>2</td></tr><tr><td>Mohammed Shami</td><td>PA Patel</td><td>2</td></tr><tr><td>JP Faulkner</td><td>V Sehwag</td><td>2</td></tr><tr><td>UT Yadav</td><td>SR Tendulkar</td><td>2</td></tr><tr><td>MJ McClenaghan</td><td>DJ Bravo</td><td>2</td></tr><tr><td>KV Sharma</td><td>Q de Kock</td><td>2</td></tr><tr><td>Shakib Al Hasan</td><td>DJG Sammy</td><td>2</td></tr><tr><td>DS Kulkarni</td><td>S Dhawan</td><td>2</td></tr><tr><td>DJ Bravo</td><td>HV Patel</td><td>2</td></tr><tr><td>NM Coulter-Nile</td><td>AR Patel</td><td>2</td></tr><tr><td>M Morkel</td><td>M Vohra</td><td>2</td></tr><tr><td>PP Chawla</td><td>V Sehwag</td><td>2</td></tr><tr><td>B Kumar</td><td>JP Faulkner</td><td>2</td></tr><tr><td>J Suchith</td><td>GJ Maxwell</td><td>2</td></tr><tr><td>JP Faulkner</td><td>A Mishra</td><td>2</td></tr><tr><td>Sandeep Sharma</td><td>AP Tare</td><td>2</td></tr><tr><td>MM Sharma</td><td>SPD Smith</td><td>2</td></tr><tr><td>A Ashish Reddy</td><td>MS Dhoni</td><td>2</td></tr><tr><td>UT Yadav</td><td>Q de Kock</td><td>2</td></tr><tr><td>RP Singh</td><td>B Kumar</td><td>2</td></tr><tr><td>CH Morris</td><td>BB McCullum</td><td>2</td></tr><tr><td>SL Malinga</td><td>SS Iyer</td><td>2</td></tr><tr><td>PV Tambe</td><td>MK Pandey</td><td>2</td></tr><tr><td>Imran Tahir</td><td>GJ Maxwell</td><td>2</td></tr><tr><td>AD Russell</td><td>V Kohli</td><td>2</td></tr><tr><td>Sandeep Sharma</td><td>MC Henriques</td><td>2</td></tr><tr><td>AR Patel</td><td>DA Warner</td><td>2</td></tr><tr><td>AD Russell</td><td>SK Raina</td><td>2</td></tr><tr><td>P Awana</td><td>RV Uthappa</td><td>2</td></tr><tr><td>KV Sharma</td><td>MK Pandey</td><td>2</td></tr><tr><td>JP Duminy</td><td>DA Miller</td><td>2</td></tr><tr><td>UT Yadav</td><td>CH Morris</td><td>2</td></tr><tr><td>Sandeep Sharma</td><td>G Gambhir</td><td>2</td></tr><tr><td>KV Sharma</td><td>CH Gayle</td><td>2</td></tr><tr><td>AR Patel</td><td>KK Nair</td><td>2</td></tr><tr><td>Parvez Rasool</td><td>Yuvraj Singh</td><td>2</td></tr><tr><td>L Balaji</td><td>MS Dhoni</td><td>2</td></tr><tr><td>GB Hogg</td><td>P Negi</td><td>2</td></tr><tr><td>MM Sharma</td><td>PA Patel</td><td>2</td></tr><tr><td>SR Watson</td><td>RV Uthappa</td><td>2</td></tr><tr><td>UT Yadav</td><td>KK Nair</td><td>2</td></tr><tr><td>M Morkel</td><td>DA Warner</td><td>2</td></tr><tr><td>JA Morkel</td><td>KM Jadhav</td><td>2</td></tr><tr><td>Sandeep Sharma</td><td>DR Smith</td><td>2</td></tr><tr><td>JP Faulkner</td><td>MS Dhoni</td><td>2</td></tr><tr><td>JP Duminy</td><td>V Sehwag</td><td>2</td></tr><tr><td>GB Hogg</td><td>RA Jadeja</td><td>2</td></tr><tr><td>CH Morris</td><td>P Negi</td><td>2</td></tr><tr><td>M Kartik</td><td>AM Nayar</td><td>2</td></tr><tr><td>PP Chawla</td><td>RG Sharma</td><td>2</td></tr><tr><td>MG Johnson</td><td>F du Plessis</td><td>2</td></tr><tr><td>A Mishra</td><td>KA Pollard</td><td>2</td></tr><tr><td>R Dhawan</td><td>S Dhawan</td><td>2</td></tr><tr><td>MJ McClenaghan</td><td>KK Nair</td><td>2</td></tr><tr><td>YS Chahal</td><td>DA Warner</td><td>2</td></tr><tr><td>JP Faulkner</td><td>KA Pollard</td><td>2</td></tr><tr><td>Mohammed Shami</td><td>WP Saha</td><td>2</td></tr><tr><td>MM Sharma</td><td>SR Watson</td><td>2</td></tr><tr><td>NM Coulter-Nile</td><td>DA Miller</td><td>2</td></tr><tr><td>KW Richardson</td><td>Yuvraj Singh</td><td>2</td></tr><tr><td>KV Sharma</td><td>DJ Hooda</td><td>2</td></tr><tr><td>Sandeep Sharma</td><td>JP Faulkner</td><td>2</td></tr><tr><td>MC Henriques</td><td>SR Watson</td><td>2</td></tr><tr><td>Imran Tahir</td><td>M Vohra</td><td>2</td></tr><tr><td>R Bhatia</td><td>KA Pollard</td><td>2</td></tr><tr><td>R Ashwin</td><td>M Vijay</td><td>2</td></tr><tr><td>TA Boult</td><td>RA Jadeja</td><td>2</td></tr><tr><td>STR Binny</td><td>DR Smith</td><td>2</td></tr><tr><td>VR Aaron</td><td>CA Lynn</td><td>2</td></tr><tr><td>PJ Cummins</td><td>DR Smith</td><td>2</td></tr><tr><td>P Kumar</td><td>UBT Chand</td><td>2</td></tr><tr><td>A Nehra</td><td>RR Rossouw</td><td>2</td></tr><tr><td>AR Patel</td><td>R Ashwin</td><td>2</td></tr><tr><td>RA Jadeja</td><td>AM Rahane</td><td>2</td></tr><tr><td>DJ Bravo</td><td>KV Sharma</td><td>2</td></tr><tr><td>UT Yadav</td><td>MS Dhoni</td><td>2</td></tr><tr><td>SP Narine</td><td>CH Gayle</td><td>2</td></tr><tr><td>UT Yadav</td><td>DA Miller</td><td>2</td></tr><tr><td>MM Sharma</td><td>KM Jadhav</td><td>2</td></tr><tr><td>HV Patel</td><td>KM Jadhav</td><td>2</td></tr><tr><td>Imran Tahir</td><td>STR Binny</td><td>2</td></tr><tr><td>RA Jadeja</td><td>DA Miller</td><td>2</td></tr><tr><td>MA Starc</td><td>G Gambhir</td><td>2</td></tr><tr><td>JP Faulkner</td><td>AT Rayudu</td><td>2</td></tr><tr><td>PP Chawla</td><td>DA Miller</td><td>2</td></tr><tr><td>DJ Bravo</td><td>MG Johnson</td><td>2</td></tr><tr><td>Shakib Al Hasan</td><td>DR Smith</td><td>2</td></tr><tr><td>Sandeep Sharma</td><td>SV Samson</td><td>2</td></tr><tr><td>Anureet Singh</td><td>PP Chawla</td><td>2</td></tr><tr><td>PP Ojha</td><td>SR Watson</td><td>2</td></tr><tr><td>R Rampaul</td><td>SV Samson</td><td>2</td></tr><tr><td>Z Khan</td><td>BB McCullum</td><td>2</td></tr><tr><td>HV Patel</td><td>SS Iyer</td><td>2</td></tr><tr><td>VR Aaron</td><td>NV Ojha</td><td>2</td></tr><tr><td>MM Sharma</td><td>P Kumar</td><td>2</td></tr><tr><td>PP Chawla</td><td>MS Dhoni</td><td>2</td></tr><tr><td>MG Johnson</td><td>AM Rahane</td><td>2</td></tr><tr><td>PP Chawla</td><td>Yuvraj Singh</td><td>2</td></tr><tr><td>MA Starc</td><td>DJ Bravo</td><td>2</td></tr><tr><td>Harbhajan Singh</td><td>BB McCullum</td><td>2</td></tr><tr><td>TG Southee</td><td>CH Gayle</td><td>2</td></tr><tr><td>NM Coulter-Nile</td><td>WP Saha</td><td>2</td></tr><tr><td>JJ Bumrah</td><td>HV Patel</td><td>2</td></tr><tr><td>SL Malinga</td><td>DJ Hooda</td><td>2</td></tr><tr><td>JD Unadkat</td><td>KA Pollard</td><td>2</td></tr><tr><td>JP Faulkner</td><td>DJG Sammy</td><td>2</td></tr><tr><td>SR Watson</td><td>MC Henriques</td><td>2</td></tr><tr><td>SP Narine</td><td>AD Mathews</td><td>2</td></tr><tr><td>CH Morris</td><td>DA Miller</td><td>2</td></tr><tr><td>MM Sharma</td><td>BB McCullum</td><td>2</td></tr><tr><td>JD Unadkat</td><td>KM Jadhav</td><td>2</td></tr><tr><td>Karanveer Singh</td><td>YK Pathan</td><td>2</td></tr><tr><td>A Nehra</td><td>MA Agarwal</td><td>2</td></tr><tr><td>MM Sharma</td><td>UBT Chand</td><td>2</td></tr><tr><td>DJ Bravo</td><td>SL Malinga</td><td>2</td></tr><tr><td>AD Russell</td><td>KK Nair</td><td>2</td></tr><tr><td>KV Sharma</td><td>DR Smith</td><td>2</td></tr><tr><td>RA Jadeja</td><td>LMP Simmons</td><td>2</td></tr><tr><td>NM Coulter-Nile</td><td>RG Sharma</td><td>2</td></tr><tr><td>TA Boult</td><td>AR Patel</td><td>2</td></tr><tr><td>YS Chahal</td><td>V Sehwag</td><td>2</td></tr><tr><td>DJ Bravo</td><td>V Kohli</td><td>2</td></tr><tr><td>J Suchith</td><td>SR Watson</td><td>2</td></tr><tr><td>AR Patel</td><td>AB de Villiers</td><td>2</td></tr><tr><td>RA Jadeja</td><td>Shakib Al Hasan</td><td>2</td></tr><tr><td>NM Coulter-Nile</td><td>KV Sharma</td><td>2</td></tr><tr><td>MJ McClenaghan</td><td>MA Agarwal</td><td>2</td></tr><tr><td>J Suchith</td><td>NV Ojha</td><td>2</td></tr><tr><td>Harbhajan Singh</td><td>RV Uthappa</td><td>2</td></tr><tr><td>S Nadeem</td><td>MK Pandey</td><td>2</td></tr><tr><td>DJ Bravo</td><td>AT Rayudu</td><td>2</td></tr><tr><td>S Nadeem</td><td>DR Smith</td><td>2</td></tr><tr><td>B Kumar</td><td>F du Plessis</td><td>2</td></tr><tr><td>CH Morris</td><td>SA Yadav</td><td>2</td></tr><tr><td>KV Sharma</td><td>RR Rossouw</td><td>2</td></tr><tr><td>Shakib Al Hasan</td><td>PA Patel</td><td>2</td></tr><tr><td>AR Patel</td><td>Shakib Al Hasan</td><td>2</td></tr><tr><td>A Nehra</td><td>AB de Villiers</td><td>2</td></tr><tr><td>SP Narine</td><td>SS Tiwary</td><td>2</td></tr><tr><td>SL Malinga</td><td>AJ Finch</td><td>2</td></tr><tr><td>SP Narine</td><td>S Dhawan</td><td>2</td></tr><tr><td>MG Johnson</td><td>S Badrinath</td><td>2</td></tr><tr><td>A Mishra</td><td>M Vohra</td><td>2</td></tr><tr><td>A Nehra</td><td>RG Sharma</td><td>2</td></tr><tr><td>MG Johnson</td><td>SPD Smith</td><td>2</td></tr><tr><td>KV Sharma</td><td>KD Karthik</td><td>2</td></tr><tr><td>MC Henriques</td><td>WP Saha</td><td>2</td></tr><tr><td>HV Patel</td><td>WP Saha</td><td>2</td></tr><tr><td>L Balaji</td><td>AJ Finch</td><td>2</td></tr><tr><td>UT Yadav</td><td>V Sehwag</td><td>2</td></tr><tr><td>DS Kulkarni</td><td>PA Patel</td><td>2</td></tr><tr><td>A Nehra</td><td>HV Patel</td><td>2</td></tr><tr><td>YS Chahal</td><td>Yuvraj Singh</td><td>2</td></tr><tr><td>Yuvraj Singh</td><td>SV Samson</td><td>2</td></tr><tr><td>S Gopal</td><td>GJ Maxwell</td><td>2</td></tr><tr><td>SL Malinga</td><td>AD Russell</td><td>2</td></tr><tr><td>JP Faulkner</td><td>PA Patel</td><td>2</td></tr><tr><td>SR Watson</td><td>NLTC Perera</td><td>2</td></tr><tr><td>MM Sharma</td><td>M Vijay</td><td>2</td></tr><tr><td>DJ Bravo</td><td>SV Samson</td><td>2</td></tr><tr><td>R Vinay Kumar</td><td>KA Pollard</td><td>2</td></tr><tr><td>AR Patel</td><td>CH Gayle</td><td>2</td></tr><tr><td>DS Kulkarni</td><td>KM Jadhav</td><td>2</td></tr><tr><td>B Kumar</td><td>AR Patel</td><td>2</td></tr><tr><td>AD Russell</td><td>SV Samson</td><td>2</td></tr><tr><td>WD Parnell</td><td>SV Samson</td><td>2</td></tr><tr><td>R Vinay Kumar</td><td>BJ Hodge</td><td>2</td></tr><tr><td>MG Johnson</td><td>STR Binny</td><td>2</td></tr><tr><td>Mohammed Shami</td><td>F du Plessis</td><td>2</td></tr><tr><td>MJ McClenaghan</td><td>DA Warner</td><td>2</td></tr><tr><td>PP Chawla</td><td>GJ Bailey</td><td>2</td></tr><tr><td>Sandeep Sharma</td><td>MK Pandey</td><td>2</td></tr><tr><td>S Gopal</td><td>M Vijay</td><td>2</td></tr><tr><td>KK Cooper</td><td>KA Pollard</td><td>2</td></tr><tr><td>M Morkel</td><td>MA Agarwal</td><td>2</td></tr><tr><td>BE Hendricks</td><td>KD Karthik</td><td>2</td></tr><tr><td>AR Patel</td><td>R Tewatia</td><td>2</td></tr><tr><td>DJ Bravo</td><td>D Wiese</td><td>2</td></tr><tr><td>AD Mathews</td><td>PA Patel</td><td>2</td></tr><tr><td>Ankit Sharma</td><td>LMP Simmons</td><td>2</td></tr><tr><td>MM Sharma</td><td>SA Yadav</td><td>2</td></tr><tr><td>AR Patel</td><td>KL Rahul</td><td>2</td></tr><tr><td>MC Henriques</td><td>KK Nair</td><td>2</td></tr><tr><td>CH Morris</td><td>Yuvraj Singh</td><td>2</td></tr><tr><td>RA Jadeja</td><td>M Vijay</td><td>2</td></tr><tr><td>SR Watson</td><td>KV Sharma</td><td>2</td></tr><tr><td>TA Boult</td><td>GJ Maxwell</td><td>2</td></tr><tr><td>RA Jadeja</td><td>STR Binny</td><td>2</td></tr><tr><td>RA Jadeja</td><td>KA Pollard</td><td>2</td></tr><tr><td>AR Patel</td><td>SPD Smith</td><td>2</td></tr><tr><td>AB Dinda</td><td>SS Tiwary</td><td>2</td></tr><tr><td>PP Chawla</td><td>KM Jadhav</td><td>2</td></tr><tr><td>J Suchith</td><td>SK Raina</td><td>2</td></tr><tr><td>MR Marsh</td><td>EJG Morgan</td><td>2</td></tr><tr><td>UT Yadav</td><td>RV Uthappa</td><td>2</td></tr><tr><td>SL Malinga</td><td>F du Plessis</td><td>2</td></tr><tr><td>UT Yadav</td><td>KM Jadhav</td><td>2</td></tr><tr><td>Shakib Al Hasan</td><td>AP Tare</td><td>2</td></tr><tr><td>Imran Tahir</td><td>YK Pathan</td><td>2</td></tr><tr><td>JD Unadkat</td><td>Harbhajan Singh</td><td>2</td></tr><tr><td>A Mishra</td><td>AD Russell</td><td>2</td></tr><tr><td>A Zampa</td><td>RR Pant</td><td>2</td></tr><tr><td>Avesh Khan</td><td>N Rana</td><td>2</td></tr><tr><td>DJ Bravo</td><td>JC Buttler</td><td>2</td></tr><tr><td>TA Boult</td><td>BA Stokes</td><td>2</td></tr><tr><td>SN Thakur</td><td>R Ashwin</td><td>2</td></tr><tr><td>KH Pandya</td><td>Mandeep Singh</td><td>2</td></tr><tr><td>SP Narine</td><td>KL Rahul</td><td>2</td></tr><tr><td>P Negi</td><td>RA Tripathi</td><td>2</td></tr><tr><td>Mohammed Siraj</td><td>SS Iyer</td><td>2</td></tr><tr><td>PP Chawla</td><td>HH Pandya</td><td>2</td></tr><tr><td>Mohammed Siraj</td><td>Ishan Kishan</td><td>2</td></tr><tr><td>Mohammed Siraj</td><td>AD Russell</td><td>2</td></tr><tr><td>MM Ali</td><td>RR Pant</td><td>2</td></tr><tr><td>HH Pandya</td><td>BA Stokes</td><td>2</td></tr><tr><td>M Markande</td><td>SN Khan</td><td>2</td></tr><tr><td>MJ McClenaghan</td><td>Yuvraj Singh</td><td>2</td></tr><tr><td>JJ Bumrah</td><td>K Rabada</td><td>2</td></tr><tr><td>YS Chahal</td><td>JJ Roy</td><td>2</td></tr><tr><td>DJ Bravo</td><td>RA Tripathi</td><td>2</td></tr><tr><td>TA Boult</td><td>KL Rahul</td><td>2</td></tr><tr><td>CR Woakes</td><td>JC Buttler</td><td>2</td></tr><tr><td>PJ Cummins</td><td>RV Uthappa</td><td>2</td></tr><tr><td>R Tewatia</td><td>Shubman Gill</td><td>2</td></tr><tr><td>HV Patel</td><td>SN Khan</td><td>2</td></tr><tr><td>SN Thakur</td><td>V Kohli</td><td>2</td></tr><tr><td>Rashid Khan</td><td>Mandeep Singh</td><td>2</td></tr><tr><td>SN Thakur</td><td>KH Pandya</td><td>2</td></tr><tr><td>Mohammed Siraj</td><td>KH Pandya</td><td>2</td></tr><tr><td>BCJ Cutting</td><td>CH Gayle</td><td>2</td></tr><tr><td>MP Stoinis</td><td>Ishan Kishan</td><td>2</td></tr><tr><td>PP Chawla</td><td>DA Warner</td><td>2</td></tr><tr><td>CR Woakes</td><td>CH Gayle</td><td>2</td></tr><tr><td>AJ Tye</td><td>Mandeep Singh</td><td>2</td></tr><tr><td>Mohammed Siraj</td><td>SP Narine</td><td>2</td></tr><tr><td>HV Patel</td><td>RR Pant</td><td>2</td></tr><tr><td>HH Pandya</td><td>SK Raina</td><td>2</td></tr><tr><td>SN Thakur</td><td>MK Pandey</td><td>2</td></tr><tr><td>Kuldeep Yadav</td><td>AM Rahane</td><td>2</td></tr><tr><td>MP Stoinis</td><td>N Rana</td><td>2</td></tr><tr><td>Mohammed Shami</td><td>JC Buttler</td><td>2</td></tr><tr><td>HV Patel</td><td>V Kohli</td><td>2</td></tr><tr><td>Mustafizur Rahman</td><td>SR Watson</td><td>2</td></tr><tr><td>A Mishra</td><td>JC Buttler</td><td>2</td></tr><tr><td>KH Pandya</td><td>RV Uthappa</td><td>2</td></tr><tr><td>HH Pandya</td><td>KK Nair</td><td>2</td></tr><tr><td>AR Patel</td><td>KD Karthik</td><td>2</td></tr><tr><td>MJ McClenaghan</td><td>SP Narine</td><td>2</td></tr><tr><td>KH Pandya</td><td>RA Jadeja</td><td>2</td></tr><tr><td>BA Stokes</td><td>SR Watson</td><td>2</td></tr><tr><td>BB Sran</td><td>KD Karthik</td><td>2</td></tr><tr><td>SN Thakur</td><td>KS Williamson</td><td>2</td></tr><tr><td>JJ Bumrah</td><td>YK Pathan</td><td>2</td></tr><tr><td>SP Narine</td><td>MS Dhoni</td><td>2</td></tr><tr><td>Washington Sundar</td><td>SS Iyer</td><td>2</td></tr><tr><td>PJ Cummins</td><td>SA Yadav</td><td>2</td></tr><tr><td>Rashid Khan</td><td>V Kohli</td><td>2</td></tr><tr><td>RA Jadeja</td><td>MP Stoinis</td><td>2</td></tr><tr><td>Mujeeb Ur Rahman</td><td>BA Stokes</td><td>2</td></tr><tr><td>Washington Sundar</td><td>AT Rayudu</td><td>2</td></tr><tr><td>S Gopal</td><td>SP Narine</td><td>2</td></tr><tr><td>SN Thakur</td><td>H Klaasen</td><td>2</td></tr><tr><td>Shakib Al Hasan</td><td>SP Narine</td><td>2</td></tr><tr><td>UT Yadav</td><td>MA Agarwal</td><td>2</td></tr><tr><td>AS Rajpoot</td><td>K Gowtham</td><td>2</td></tr><tr><td>TA Boult</td><td>R Ashwin</td><td>2</td></tr><tr><td>Kuldeep Yadav</td><td>Ishan Kishan</td><td>2</td></tr><tr><td>A Mishra</td><td>KD Karthik</td><td>2</td></tr><tr><td>K Rabada</td><td>HH Pandya</td><td>2</td></tr><tr><td>Mohammed Shami</td><td>KM Jadhav</td><td>2</td></tr><tr><td>B Kumar</td><td>N Rana</td><td>2</td></tr><tr><td>YS Chahal</td><td>PP Shaw</td><td>2</td></tr><tr><td>B Kumar</td><td>HM Amla</td><td>2</td></tr><tr><td>K Rabada</td><td>PA Patel</td><td>2</td></tr><tr><td>JC Archer</td><td>AT Rayudu</td><td>2</td></tr><tr><td>Kuldeep Yadav</td><td>AT Rayudu</td><td>2</td></tr><tr><td>AJ Tye</td><td>AD Russell</td><td>2</td></tr><tr><td>Kuldeep Yadav</td><td>S Dhawan</td><td>2</td></tr><tr><td>AJ Tye</td><td>RA Tripathi</td><td>2</td></tr><tr><td>KV Sharma</td><td>SP Narine</td><td>2</td></tr><tr><td>Kuldeep Yadav</td><td>MS Dhoni</td><td>2</td></tr><tr><td>CH Morris</td><td>RA Tripathi</td><td>2</td></tr><tr><td>AD Russell</td><td>DJ Hooda</td><td>2</td></tr><tr><td>Sandeep Sharma</td><td>SK Raina</td><td>2</td></tr><tr><td>P Negi</td><td>S Nadeem</td><td>2</td></tr><tr><td>K Rabada</td><td>SP Narine</td><td>2</td></tr><tr><td>S Kaul</td><td>C de Grandhomme</td><td>2</td></tr><tr><td>Kuldeep Yadav</td><td>WP Saha</td><td>2</td></tr><tr><td>Mohammad Nabi</td><td>EJG Morgan</td><td>2</td></tr><tr><td>AD Russell</td><td>Q de Kock</td><td>2</td></tr><tr><td>CJ Anderson</td><td>RG Sharma</td><td>2</td></tr><tr><td>M Ashwin</td><td>SA Yadav</td><td>2</td></tr><tr><td>SN Thakur</td><td>Mandeep Singh</td><td>2</td></tr><tr><td>JJ Bumrah</td><td>SV Samson</td><td>2</td></tr><tr><td>MJ McClenaghan</td><td>AM Rahane</td><td>2</td></tr><tr><td>SN Thakur</td><td>GJ Maxwell</td><td>2</td></tr><tr><td>AJ Tye</td><td>HH Pandya</td><td>2</td></tr><tr><td>AD Russell</td><td>M Vohra</td><td>2</td></tr><tr><td>Sandeep Sharma</td><td>AM Rahane</td><td>2</td></tr><tr><td>Mohammed Shami</td><td>DA Warner</td><td>2</td></tr><tr><td>S Kaul</td><td>SV Samson</td><td>2</td></tr><tr><td>M Morkel</td><td>S Dhawan</td><td>2</td></tr><tr><td>BB Sran</td><td>RV Uthappa</td><td>2</td></tr><tr><td>M Ashwin</td><td>RV Uthappa</td><td>2</td></tr><tr><td>Bipul Sharma</td><td>AM Rahane</td><td>2</td></tr><tr><td>MJ McClenaghan</td><td>SE Marsh</td><td>2</td></tr><tr><td>Rashid Khan</td><td>HH Pandya</td><td>2</td></tr><tr><td>UT Yadav</td><td>SA Yadav</td><td>2</td></tr><tr><td>Kuldeep Yadav</td><td>SK Raina</td><td>2</td></tr><tr><td>Kuldeep Yadav</td><td>RR Pant</td><td>2</td></tr><tr><td>JC Archer</td><td>RG Sharma</td><td>2</td></tr><tr><td>B Kumar</td><td>C de Grandhomme</td><td>2</td></tr><tr><td>KH Pandya</td><td>WP Saha</td><td>2</td></tr><tr><td>S Gopal</td><td>PP Shaw</td><td>2</td></tr><tr><td>PP Chawla</td><td>RA Tripathi</td><td>2</td></tr><tr><td>KH Pandya</td><td>SR Watson</td><td>2</td></tr><tr><td>TG Southee</td><td>HH Pandya</td><td>2</td></tr><tr><td>M Ashwin</td><td>AJ Finch</td><td>2</td></tr><tr><td>JD Unadkat</td><td>MK Pandey</td><td>2</td></tr><tr><td>JD Unadkat</td><td>RR Pant</td><td>2</td></tr><tr><td>SP Narine</td><td>MC Henriques</td><td>2</td></tr><tr><td>Rashid Khan</td><td>MS Dhoni</td><td>2</td></tr><tr><td>PJ Cummins</td><td>KD Karthik</td><td>2</td></tr><tr><td>UT Yadav</td><td>AR Patel</td><td>2</td></tr><tr><td>SP Narine</td><td>Ishan Kishan</td><td>2</td></tr><tr><td>CH Morris</td><td>HH Pandya</td><td>2</td></tr><tr><td>Z Khan</td><td>AM Rahane</td><td>2</td></tr><tr><td>JD Unadkat</td><td>MP Stoinis</td><td>2</td></tr><tr><td>MM Ali</td><td>AR Patel</td><td>2</td></tr><tr><td>Kuldeep Yadav</td><td>JC Buttler</td><td>2</td></tr><tr><td>S Nadeem</td><td>AJ Finch</td><td>2</td></tr><tr><td>A Nehra</td><td>JC Buttler</td><td>2</td></tr><tr><td>JC Archer</td><td>HH Pandya</td><td>2</td></tr><tr><td>UT Yadav</td><td>PA Patel</td><td>2</td></tr><tr><td>YS Chahal</td><td>CA Lynn</td><td>2</td></tr><tr><td>JD Unadkat</td><td>HH Pandya</td><td>2</td></tr><tr><td>AJ Tye</td><td>JD Unadkat</td><td>2</td></tr><tr><td>PJ Cummins</td><td>BA Stokes</td><td>2</td></tr><tr><td>CJ Jordan</td><td>DS Kulkarni</td><td>2</td></tr><tr><td>Mohammed Siraj</td><td>KD Karthik</td><td>2</td></tr><tr><td>Sandeep Sharma</td><td>AB de Villiers</td><td>2</td></tr><tr><td>HH Pandya</td><td>KS Williamson</td><td>2</td></tr><tr><td>Mohammed Siraj</td><td>N Rana</td><td>2</td></tr><tr><td>M Prasidh Krishna</td><td>RG Sharma</td><td>2</td></tr><tr><td>AJ Tye</td><td>KA Pollard</td><td>2</td></tr><tr><td>TA Boult</td><td>SK Raina</td><td>2</td></tr><tr><td>Harbhajan Singh</td><td>SP Narine</td><td>2</td></tr><tr><td>TA Boult</td><td>AD Russell</td><td>2</td></tr><tr><td>S Kaul</td><td>AT Rayudu</td><td>2</td></tr><tr><td>Rashid Khan</td><td>DA Miller</td><td>2</td></tr><tr><td>AJ Tye</td><td>R Tewatia</td><td>2</td></tr><tr><td>BA Stokes</td><td>DA Warner</td><td>2</td></tr><tr><td>Mohammed Shami</td><td>BA Stokes</td><td>2</td></tr><tr><td>Mustafizur Rahman</td><td>TG Southee</td><td>2</td></tr><tr><td>Shakib Al Hasan</td><td>CA Lynn</td><td>2</td></tr><tr><td>AD Russell</td><td>E Lewis</td><td>2</td></tr><tr><td>SN Thakur</td><td>PA Patel</td><td>2</td></tr><tr><td>AD Russell</td><td>CR Brathwaite</td><td>2</td></tr><tr><td>Mustafizur Rahman</td><td>V Kohli</td><td>2</td></tr><tr><td>Kuldeep Yadav</td><td>KS Williamson</td><td>2</td></tr><tr><td>TG Southee</td><td>Rashid Khan</td><td>2</td></tr><tr><td>PP Chawla</td><td>PP Shaw</td><td>2</td></tr><tr><td>BB Sran</td><td>DJ Bravo</td><td>2</td></tr><tr><td>Mustafizur Rahman</td><td>S Kaul</td><td>2</td></tr><tr><td>MJ McClenaghan</td><td>WP Saha</td><td>2</td></tr><tr><td>AR Patel</td><td>DR Smith</td><td>2</td></tr><tr><td>DL Chahar</td><td>DJ Hooda</td><td>2</td></tr><tr><td>DJ Bravo</td><td>N Rana</td><td>2</td></tr><tr><td>Sandeep Sharma</td><td>TM Head</td><td>2</td></tr><tr><td>JJ Bumrah</td><td>CA Lynn</td><td>2</td></tr><tr><td>Mujeeb Ur Rahman</td><td>Ishan Kishan</td><td>2</td></tr><tr><td>JJ Bumrah</td><td>SK Raina</td><td>2</td></tr><tr><td>MJ McClenaghan</td><td>SS Iyer</td><td>2</td></tr><tr><td>AR Patel</td><td>SK Raina</td><td>2</td></tr><tr><td>DJ Bravo</td><td>GJ Maxwell</td><td>2</td></tr><tr><td>JD Unadkat</td><td>SS Iyer</td><td>2</td></tr><tr><td>Washington Sundar</td><td>N Rana</td><td>2</td></tr><tr><td>MM Sharma</td><td>JC Buttler</td><td>2</td></tr><tr><td>K Gowtham</td><td>RV Uthappa</td><td>2</td></tr><tr><td>P Negi</td><td>CA Lynn</td><td>2</td></tr><tr><td>SN Thakur</td><td>Abhishek Sharma</td><td>2</td></tr><tr><td>CR Woakes</td><td>KA Pollard</td><td>2</td></tr><tr><td>UT Yadav</td><td>WP Saha</td><td>2</td></tr><tr><td>SN Thakur</td><td>STR Binny</td><td>2</td></tr><tr><td>S Kaul</td><td>HH Pandya</td><td>2</td></tr><tr><td>B Kumar</td><td>SP Narine</td><td>2</td></tr><tr><td>PP Chawla</td><td>Q de Kock</td><td>2</td></tr><tr><td>R Ashwin</td><td>SN Khan</td><td>2</td></tr><tr><td>Mustafizur Rahman</td><td>HH Pandya</td><td>2</td></tr><tr><td>RA Jadeja</td><td>SS Iyer</td><td>2</td></tr><tr><td>MP Stoinis</td><td>SV Samson</td><td>2</td></tr><tr><td>YS Chahal</td><td>DR Smith</td><td>2</td></tr><tr><td>AS Rajpoot</td><td>RG Sharma</td><td>2</td></tr><tr><td>RA Jadeja</td><td>RR Pant</td><td>2</td></tr><tr><td>KH Pandya</td><td>AT Rayudu</td><td>2</td></tr><tr><td>L Ngidi</td><td>RR Pant</td><td>2</td></tr><tr><td>Sandeep Sharma</td><td>RR Pant</td><td>2</td></tr><tr><td>DJ Bravo</td><td>DA Miller</td><td>2</td></tr><tr><td>SP Narine</td><td>DJ Hooda</td><td>2</td></tr><tr><td>UT Yadav</td><td>S Dhawan</td><td>2</td></tr><tr><td>V Shankar</td><td>F du Plessis</td><td>2</td></tr><tr><td>M Markande</td><td>RV Uthappa</td><td>2</td></tr><tr><td>DS Kulkarni</td><td>SR Watson</td><td>2</td></tr><tr><td>KH Pandya</td><td>KD Karthik</td><td>2</td></tr><tr><td>JC Archer</td><td>KH Pandya</td><td>2</td></tr><tr><td>BB Sran</td><td>AT Rayudu</td><td>2</td></tr><tr><td>Mohammed Shami</td><td>RA Jadeja</td><td>2</td></tr><tr><td>Mohammed Shami</td><td>CA Lynn</td><td>2</td></tr><tr><td>Kuldeep Yadav</td><td>Q de Kock</td><td>2</td></tr><tr><td>DJ Bravo</td><td>KK Nair</td><td>2</td></tr><tr><td>B Kumar</td><td>MJ Guptill</td><td>2</td></tr><tr><td>Basil Thampi</td><td>CH Gayle</td><td>2</td></tr><tr><td>AR Patel</td><td>N Rana</td><td>2</td></tr><tr><td>Washington Sundar</td><td>G Gambhir</td><td>2</td></tr><tr><td>DS Kulkarni</td><td>E Lewis</td><td>2</td></tr><tr><td>P Kumar</td><td>AM Rahane</td><td>2</td></tr><tr><td>S Badree</td><td>AM Rahane</td><td>2</td></tr><tr><td>JJ Bumrah</td><td>JP Faulkner</td><td>2</td></tr><tr><td>HH Pandya</td><td>SR Watson</td><td>2</td></tr><tr><td>Sandeep Sharma</td><td>BB McCullum</td><td>2</td></tr><tr><td>Mujeeb Ur Rahman</td><td>RR Pant</td><td>2</td></tr><tr><td>Mujeeb Ur Rahman</td><td>JC Buttler</td><td>2</td></tr><tr><td>CJ Jordan</td><td>RV Uthappa</td><td>2</td></tr><tr><td>Shivam Mavi</td><td>JC Buttler</td><td>2</td></tr><tr><td>S Nadeem</td><td>SR Watson</td><td>2</td></tr><tr><td>DJ Bravo</td><td>KS Williamson</td><td>2</td></tr><tr><td>R Ashwin</td><td>DA Miller</td><td>2</td></tr><tr><td>JJ Bumrah</td><td>JC Buttler</td><td>2</td></tr><tr><td>MP Stoinis</td><td>JC Buttler</td><td>2</td></tr><tr><td>A Zampa</td><td>SV Samson</td><td>2</td></tr><tr><td>UT Yadav</td><td>SR Watson</td><td>2</td></tr><tr><td>Rashid Khan</td><td>KA Pollard</td><td>2</td></tr><tr><td>JO Holder</td><td>Yuvraj Singh</td><td>2</td></tr><tr><td>GJ Maxwell</td><td>RR Pant</td><td>2</td></tr><tr><td>KH Pandya</td><td>Washington Sundar</td><td>2</td></tr><tr><td>Imran Tahir</td><td>AJ Finch</td><td>2</td></tr><tr><td>S Kaul</td><td>Mandeep Singh</td><td>2</td></tr><tr><td>M Markande</td><td>AT Rayudu</td><td>2</td></tr><tr><td>AJ Tye</td><td>RA Jadeja</td><td>2</td></tr><tr><td>KH Pandya</td><td>KK Nair</td><td>2</td></tr><tr><td>MP Stoinis</td><td>SA Yadav</td><td>2</td></tr><tr><td>Z Khan</td><td>UT Yadav</td><td>2</td></tr><tr><td>CJ Jordan</td><td>P Kumar</td><td>2</td></tr><tr><td>HH Pandya</td><td>SV Samson</td><td>2</td></tr><tr><td>K Rabada</td><td>MK Pandey</td><td>2</td></tr><tr><td>AD Russell</td><td>CH Gayle</td><td>2</td></tr><tr><td>KH Pandya</td><td>Q de Kock</td><td>2</td></tr><tr><td>S Kaul</td><td>DT Christian</td><td>2</td></tr><tr><td>CH Morris</td><td>KS Williamson</td><td>2</td></tr><tr><td>PP Chawla</td><td>BA Stokes</td><td>2</td></tr><tr><td>Kuldeep Yadav</td><td>DA Warner</td><td>2</td></tr><tr><td>Rashid Khan</td><td>AJ Finch</td><td>2</td></tr><tr><td>Sandeep Sharma</td><td>AJ Tye</td><td>2</td></tr><tr><td>K Rabada</td><td>RG Sharma</td><td>2</td></tr><tr><td>PP Chawla</td><td>JJ Roy</td><td>2</td></tr><tr><td>NM Coulter-Nile</td><td>SS Iyer</td><td>2</td></tr><tr><td>KK Ahmed</td><td>Shubman Gill</td><td>2</td></tr><tr><td>DJ Bravo</td><td>R Tewatia</td><td>2</td></tr><tr><td>CH Morris</td><td>BA Stokes</td><td>2</td></tr><tr><td>K Rabada</td><td>S Dube</td><td>2</td></tr><tr><td>SM Curran</td><td>AD Russell</td><td>2</td></tr><tr><td>B Kumar</td><td>HH Pandya</td><td>2</td></tr><tr><td>RD Chahar</td><td>MA Agarwal</td><td>2</td></tr><tr><td>Rashid Khan</td><td>RV Uthappa</td><td>2</td></tr><tr><td>Mohammed Siraj</td><td>DA Warner</td><td>2</td></tr><tr><td>MM Ali</td><td>Q de Kock</td><td>2</td></tr><tr><td>JP Behrendorff</td><td>V Kohli</td><td>2</td></tr><tr><td>YS Chahal</td><td>PJ Cummins</td><td>2</td></tr><tr><td>A Nortje</td><td>AB de Villiers</td><td>2</td></tr><tr><td>DL Chahar</td><td>N Rana</td><td>2</td></tr><tr><td>MM Ali</td><td>KL Rahul</td><td>2</td></tr><tr><td>Mohammed Shami</td><td>AD Russell</td><td>2</td></tr><tr><td>CV Varun</td><td>R Tewatia</td><td>2</td></tr><tr><td>TA Boult</td><td>AJ Finch</td><td>2</td></tr><tr><td>Avesh Khan</td><td>KD Karthik</td><td>2</td></tr><tr><td>R Ashwin</td><td>PP Shaw</td><td>2</td></tr><tr><td>Imran Tahir</td><td>KH Pandya</td><td>2</td></tr><tr><td>A Nortje</td><td>RG Sharma</td><td>2</td></tr><tr><td>Mohammed Siraj</td><td>JC Buttler</td><td>2</td></tr><tr><td>KK Ahmed</td><td>SP Narine</td><td>2</td></tr><tr><td>JJ Bumrah</td><td>D Padikkal</td><td>2</td></tr><tr><td>RA Jadeja</td><td>AB de Villiers</td><td>2</td></tr><tr><td>Ravi Bishnoi</td><td>Abdul Samad</td><td>2</td></tr><tr><td>SM Curran</td><td>V Kohli</td><td>2</td></tr><tr><td>JD Unadkat</td><td>SK Raina</td><td>2</td></tr><tr><td>SN Thakur</td><td>Shubman Gill</td><td>2</td></tr><tr><td>KK Ahmed</td><td>RG Sharma</td><td>2</td></tr><tr><td>RD Chahar</td><td>GJ Maxwell</td><td>2</td></tr><tr><td>YS Chahal</td><td>KL Rahul</td><td>2</td></tr><tr><td>R Ashwin</td><td>SV Samson</td><td>2</td></tr><tr><td>KK Ahmed</td><td>SW Billings</td><td>2</td></tr><tr><td>K Rabada</td><td>Shubman Gill</td><td>2</td></tr><tr><td>SN Thakur</td><td>AB de Villiers</td><td>2</td></tr><tr><td>KK Ahmed</td><td>SS Iyer</td><td>2</td></tr><tr><td>JC Archer</td><td>F du Plessis</td><td>2</td></tr><tr><td>SM Curran</td><td>MM Ali</td><td>2</td></tr><tr><td>T Natarajan</td><td>Washington Sundar</td><td>2</td></tr><tr><td>T Natarajan</td><td>RA Tripathi</td><td>2</td></tr><tr><td>Avesh Khan</td><td>MS Dhoni</td><td>2</td></tr><tr><td>CV Varun</td><td>N Pooran</td><td>2</td></tr><tr><td>RD Chahar</td><td>MS Dhoni</td><td>2</td></tr><tr><td>K Rabada</td><td>JC Archer</td><td>2</td></tr><tr><td>MJ Santner</td><td>SV Samson</td><td>2</td></tr><tr><td>Mohammed Shami</td><td>R Tewatia</td><td>2</td></tr><tr><td>JJ Bumrah</td><td>AT Rayudu</td><td>2</td></tr><tr><td>R Tewatia</td><td>MM Ali</td><td>2</td></tr><tr><td>Avesh Khan</td><td>Shubman Gill</td><td>2</td></tr><tr><td>JC Archer</td><td>Q de Kock</td><td>2</td></tr><tr><td>T Natarajan</td><td>MS Dhoni</td><td>2</td></tr><tr><td>JJ Bumrah</td><td>Mohammad Nabi</td><td>2</td></tr><tr><td>S Gopal</td><td>AJ Finch</td><td>2</td></tr><tr><td>AD Russell</td><td>M Jansen</td><td>2</td></tr><tr><td>YS Chahal</td><td>Abdul Samad</td><td>2</td></tr><tr><td>S Gopal</td><td>S Dhawan</td><td>2</td></tr><tr><td>JC Archer</td><td>DA Warner</td><td>2</td></tr><tr><td>KK Ahmed</td><td>MA Agarwal</td><td>2</td></tr><tr><td>L Ngidi</td><td>KL Rahul</td><td>2</td></tr><tr><td>PP Chawla</td><td>SV Samson</td><td>2</td></tr><tr><td>Sandeep Sharma</td><td>Q de Kock</td><td>2</td></tr><tr><td>SM Curran</td><td>SPD Smith</td><td>2</td></tr><tr><td>C Sakariya</td><td>AT Rayudu</td><td>2</td></tr><tr><td>AR Patel</td><td>Abhishek Sharma</td><td>2</td></tr><tr><td>RD Chahar</td><td>Shubman Gill</td><td>2</td></tr><tr><td>M Prasidh Krishna</td><td>DA Warner</td><td>2</td></tr><tr><td>K Rabada</td><td>R Parag</td><td>2</td></tr><tr><td>R Ashwin</td><td>MM Ali</td><td>2</td></tr><tr><td>Sandeep Sharma</td><td>S Dhawan</td><td>2</td></tr><tr><td>CV Varun</td><td>DA Warner</td><td>2</td></tr><tr><td>Navdeep Saini</td><td>KA Pollard</td><td>2</td></tr><tr><td>JC Archer</td><td>N Rana</td><td>2</td></tr><tr><td>RD Chahar</td><td>PP Shaw</td><td>2</td></tr><tr><td>JO Holder</td><td>R Parag</td><td>2</td></tr><tr><td>Harbhajan Singh</td><td>MA Agarwal</td><td>2</td></tr><tr><td>Mohammed Siraj</td><td>DA Miller</td><td>2</td></tr><tr><td>R Ashwin</td><td>N Pooran</td><td>2</td></tr><tr><td>K Rabada</td><td>Rashid Khan</td><td>2</td></tr><tr><td>K Rabada</td><td>GJ Maxwell</td><td>2</td></tr><tr><td>YS Chahal</td><td>KH Pandya</td><td>2</td></tr><tr><td>K Rabada</td><td>Ishan Kishan</td><td>2</td></tr><tr><td>PJ Cummins</td><td>R Parag</td><td>2</td></tr><tr><td>SP Narine</td><td>N Pooran</td><td>2</td></tr><tr><td>SN Thakur</td><td>MP Stoinis</td><td>2</td></tr><tr><td>RP Meredith</td><td>SPD Smith</td><td>2</td></tr><tr><td>Umran Malik</td><td>Ishan Kishan</td><td>2</td></tr><tr><td>KH Pandya</td><td>MA Agarwal</td><td>2</td></tr><tr><td>T Natarajan</td><td>GJ Maxwell</td><td>2</td></tr><tr><td>UT Yadav</td><td>PP Shaw</td><td>2</td></tr><tr><td>A Nortje</td><td>RV Uthappa</td><td>2</td></tr><tr><td>AD Russell</td><td>KH Pandya</td><td>2</td></tr><tr><td>Mohammed Shami</td><td>JC Archer</td><td>2</td></tr><tr><td>PJ Cummins</td><td>S Dhawan</td><td>2</td></tr><tr><td>AS Joseph</td><td>DA Warner</td><td>2</td></tr><tr><td>CV Varun</td><td>HV Patel</td><td>2</td></tr><tr><td>HV Patel</td><td>JJ Bumrah</td><td>2</td></tr><tr><td>Rashid Khan</td><td>AR Patel</td><td>2</td></tr><tr><td>Sandeep Sharma</td><td>GJ Maxwell</td><td>2</td></tr><tr><td>JJ Bumrah</td><td>Abhishek Sharma</td><td>2</td></tr><tr><td>M Ashwin</td><td>WP Saha</td><td>2</td></tr><tr><td>SM Curran</td><td>DA Warner</td><td>2</td></tr><tr><td>Avesh Khan</td><td>RA Jadeja</td><td>2</td></tr><tr><td>M Prasidh Krishna</td><td>Q de Kock</td><td>2</td></tr><tr><td>R Tewatia</td><td>JM Bairstow</td><td>2</td></tr><tr><td>Arshdeep Singh</td><td>S Dube</td><td>2</td></tr><tr><td>AR Patel</td><td>SA Yadav</td><td>2</td></tr><tr><td>Mohammed Siraj</td><td>SPD Smith</td><td>2</td></tr><tr><td>Harpreet Brar</td><td>V Kohli</td><td>2</td></tr><tr><td>Mohammed Siraj</td><td>RA Tripathi</td><td>2</td></tr><tr><td>CV Varun</td><td>AR Patel</td><td>2</td></tr><tr><td>TA Boult</td><td>JJ Roy</td><td>2</td></tr><tr><td>CH Morris</td><td>DJ Hooda</td><td>2</td></tr><tr><td>Kuldeep Yadav</td><td>MM Ali</td><td>2</td></tr><tr><td>SP Narine</td><td>Q de Kock</td><td>2</td></tr><tr><td>DL Chahar</td><td>CH Gayle</td><td>2</td></tr><tr><td>YS Chahal</td><td>RD Gaikwad</td><td>2</td></tr><tr><td>HV Patel</td><td>N Rana</td><td>2</td></tr><tr><td>Rashid Khan</td><td>Q de Kock</td><td>2</td></tr><tr><td>A Nortje</td><td>WP Saha</td><td>2</td></tr><tr><td>AR Patel</td><td>JO Holder</td><td>2</td></tr><tr><td>MJ Santner</td><td>SP Narine</td><td>2</td></tr><tr><td>K Rabada</td><td>KS Williamson</td><td>2</td></tr><tr><td>K Rabada</td><td>V Shankar</td><td>2</td></tr><tr><td>SP Narine</td><td>MM Ali</td><td>2</td></tr><tr><td>S Lamichhane</td><td>SM Curran</td><td>2</td></tr><tr><td>K Rabada</td><td>AD Russell</td><td>2</td></tr><tr><td>Mohammed Shami</td><td>CH Morris</td><td>2</td></tr><tr><td>I Sharma</td><td>Q de Kock</td><td>2</td></tr><tr><td>SN Thakur</td><td>KL Rahul</td><td>2</td></tr><tr><td>Imran Tahir</td><td>SS Iyer</td><td>2</td></tr><tr><td>DJ Bravo</td><td>Shakib Al Hasan</td><td>2</td></tr><tr><td>Shivam Mavi</td><td>F du Plessis</td><td>2</td></tr><tr><td>PJ Cummins</td><td>KL Rahul</td><td>2</td></tr><tr><td>HV Patel</td><td>JO Holder</td><td>2</td></tr><tr><td>SM Curran</td><td>SV Samson</td><td>2</td></tr><tr><td>CH Morris</td><td>F du Plessis</td><td>2</td></tr><tr><td>KV Sharma</td><td>KS Williamson</td><td>2</td></tr><tr><td>M Ashwin</td><td>SS Iyer</td><td>2</td></tr><tr><td>K Rabada</td><td>AM Rahane</td><td>2</td></tr><tr><td>T Natarajan</td><td>A Nortje</td><td>2</td></tr><tr><td>HV Patel</td><td>AD Russell</td><td>2</td></tr><tr><td>Mustafizur Rahman</td><td>Rashid Khan</td><td>2</td></tr><tr><td>RA Jadeja</td><td>JC Buttler</td><td>2</td></tr><tr><td>A Nortje</td><td>SP Narine</td><td>2</td></tr><tr><td>PP Chawla</td><td>MA Agarwal</td><td>2</td></tr><tr><td>CV Varun</td><td>JC Buttler</td><td>2</td></tr><tr><td>B Kumar</td><td>PP Shaw</td><td>2</td></tr><tr><td>RD Chahar</td><td>RA Tripathi</td><td>2</td></tr><tr><td>A Mishra</td><td>HH Pandya</td><td>2</td></tr><tr><td>SN Thakur</td><td>JC Buttler</td><td>2</td></tr><tr><td>AR Patel</td><td>MP Stoinis</td><td>2</td></tr><tr><td>Ravi Bishnoi</td><td>RR Pant</td><td>2</td></tr><tr><td>HV Patel</td><td>KD Karthik</td><td>2</td></tr><tr><td>HV Patel</td><td>KH Pandya</td><td>2</td></tr><tr><td>Sandeep Sharma</td><td>DA Miller</td><td>2</td></tr><tr><td>Arshdeep Singh</td><td>PK Garg</td><td>2</td></tr><tr><td>HV Patel</td><td>KA Pollard</td><td>2</td></tr><tr><td>HV Patel</td><td>Rashid Khan</td><td>2</td></tr><tr><td>LH Ferguson</td><td>D Padikkal</td><td>2</td></tr><tr><td>LH Ferguson</td><td>PP Shaw</td><td>2</td></tr><tr><td>PJ Cummins</td><td>SPD Smith</td><td>2</td></tr><tr><td>Avesh Khan</td><td>V Kohli</td><td>2</td></tr><tr><td>Avesh Khan</td><td>M Shahrukh Khan</td><td>2</td></tr><tr><td>Avesh Khan</td><td>S Dube</td><td>2</td></tr><tr><td>DL Chahar</td><td>Abhishek Sharma</td><td>2</td></tr><tr><td>A Nortje</td><td>EJG Morgan</td><td>2</td></tr><tr><td>MP Stoinis</td><td>HH Pandya</td><td>2</td></tr><tr><td>Washington Sundar</td><td>DA Warner</td><td>2</td></tr><tr><td>K Rabada</td><td>Abdul Samad</td><td>2</td></tr><tr><td>R Tewatia</td><td>MP Stoinis</td><td>2</td></tr><tr><td>MM Sharma</td><td>KH Pandya</td><td>2</td></tr><tr><td>RA Jadeja</td><td>HH Pandya</td><td>2</td></tr><tr><td>A Nortje</td><td>KM Jadhav</td><td>2</td></tr><tr><td>J Yadav</td><td>S Dhawan</td><td>2</td></tr><tr><td>SM Curran</td><td>SA Yadav</td><td>2</td></tr><tr><td>GC Viljoen</td><td>S Dhawan</td><td>2</td></tr><tr><td>JC Archer</td><td>PP Shaw</td><td>2</td></tr><tr><td>RD Chahar</td><td>SV Samson</td><td>2</td></tr><tr><td>Imran Tahir</td><td>Navdeep Saini</td><td>2</td></tr><tr><td>AD Russell</td><td>HH Pandya</td><td>2</td></tr><tr><td>CV Varun</td><td>SO Hetmyer</td><td>2</td></tr><tr><td>Avesh Khan</td><td>DA Miller</td><td>2</td></tr><tr><td>JJ Bumrah</td><td>VR Iyer</td><td>2</td></tr><tr><td>S Gopal</td><td>CA Lynn</td><td>2</td></tr><tr><td>AD Russell</td><td>KA Pollard</td><td>2</td></tr><tr><td>AR Patel</td><td>MM Ali</td><td>2</td></tr><tr><td>RD Chahar</td><td>JC Buttler</td><td>2</td></tr><tr><td>M Prasidh Krishna</td><td>AJ Finch</td><td>2</td></tr><tr><td>Rashid Khan</td><td>Shubman Gill</td><td>2</td></tr><tr><td>HV Patel</td><td>MP Stoinis</td><td>2</td></tr><tr><td>JC Archer</td><td>Shubman Gill</td><td>2</td></tr><tr><td>K Rabada</td><td>SV Samson</td><td>2</td></tr><tr><td>KK Ahmed</td><td>SA Yadav</td><td>2</td></tr><tr><td>A Nortje</td><td>SA Yadav</td><td>2</td></tr><tr><td>A Nortje</td><td>HH Pandya</td><td>2</td></tr><tr><td>YS Chahal</td><td>V Shankar</td><td>2</td></tr><tr><td>JJ Bumrah</td><td>S Dube</td><td>2</td></tr><tr><td>RD Chahar</td><td>KD Karthik</td><td>2</td></tr><tr><td>M Prasidh Krishna</td><td>KL Rahul</td><td>2</td></tr><tr><td>PP Chawla</td><td>KH Pandya</td><td>2</td></tr><tr><td>Arshdeep Singh</td><td>Rashid Khan</td><td>2</td></tr><tr><td>JO Holder</td><td>V Kohli</td><td>2</td></tr><tr><td>Navdeep Saini</td><td>SP Narine</td><td>2</td></tr><tr><td>DL Chahar</td><td>DA Warner</td><td>2</td></tr><tr><td>Avesh Khan</td><td>N Pooran</td><td>2</td></tr><tr><td>Shahbaz Ahmed</td><td>JM Bairstow</td><td>2</td></tr><tr><td>DL Chahar</td><td>AJ Finch</td><td>2</td></tr><tr><td>KK Ahmed</td><td>N Pooran</td><td>2</td></tr><tr><td>MP Stoinis</td><td>MA Agarwal</td><td>2</td></tr><tr><td>CV Varun</td><td>MP Stoinis</td><td>2</td></tr><tr><td>DJ Bravo</td><td>Shivam Mavi</td><td>2</td></tr><tr><td>JC Archer</td><td>KD Karthik</td><td>2</td></tr><tr><td>DL Chahar</td><td>BA Stokes</td><td>2</td></tr><tr><td>Mohammed Siraj</td><td>Q de Kock</td><td>2</td></tr><tr><td>RD Chahar</td><td>Abhishek Sharma</td><td>2</td></tr><tr><td>Mohammed Shami</td><td>PP Shaw</td><td>2</td></tr><tr><td>JJ Bumrah</td><td>S Gopal</td><td>2</td></tr><tr><td>S Gopal</td><td>MK Pandey</td><td>2</td></tr><tr><td>Mohammed Shami</td><td>AT Rayudu</td><td>2</td></tr><tr><td>Rashid Khan</td><td>RD Gaikwad</td><td>2</td></tr><tr><td>CV Varun</td><td>Q de Kock</td><td>2</td></tr><tr><td>S Gopal</td><td>RG Sharma</td><td>2</td></tr><tr><td>JD Unadkat</td><td>DJ Hooda</td><td>2</td></tr><tr><td>CH Morris</td><td>PJ Cummins</td><td>2</td></tr><tr><td>HV Patel</td><td>CH Morris</td><td>2</td></tr><tr><td>RA Jadeja</td><td>WP Saha</td><td>2</td></tr><tr><td>Rashid Khan</td><td>SS Iyer</td><td>2</td></tr><tr><td>CV Varun</td><td>RD Gaikwad</td><td>2</td></tr><tr><td>JJ Bumrah</td><td>EJG Morgan</td><td>2</td></tr><tr><td>BA Stokes</td><td>N Pooran</td><td>2</td></tr><tr><td>Arshdeep Singh</td><td>Shubman Gill</td><td>2</td></tr><tr><td>TA Boult</td><td>D Padikkal</td><td>2</td></tr><tr><td>SN Thakur</td><td>CR Brathwaite</td><td>2</td></tr><tr><td>Rashid Khan</td><td>SV Samson</td><td>2</td></tr><tr><td>L Ngidi</td><td>SP Goswami</td><td>2</td></tr><tr><td>MP Stoinis</td><td>RA Tripathi</td><td>2</td></tr><tr><td>JC Archer</td><td>Mandeep Singh</td><td>2</td></tr><tr><td>SN Thakur</td><td>Q de Kock</td><td>2</td></tr><tr><td>HV Patel</td><td>C Sakariya</td><td>2</td></tr><tr><td>Shivam Mavi</td><td>RG Sharma</td><td>2</td></tr><tr><td>Mohammed Shami</td><td>RV Uthappa</td><td>2</td></tr><tr><td>JO Holder</td><td>NM Coulter-Nile</td><td>2</td></tr><tr><td>RD Chahar</td><td>S Dhawan</td><td>2</td></tr><tr><td>Arshdeep Singh</td><td>AM Rahane</td><td>2</td></tr><tr><td>Mohammed Shami</td><td>AR Patel</td><td>2</td></tr><tr><td>Avesh Khan</td><td>JC Buttler</td><td>2</td></tr><tr><td>PVD Chameera</td><td>KA Pollard</td><td>2</td></tr><tr><td>Yash Dayal</td><td>RD Gaikwad</td><td>2</td></tr><tr><td>Arshdeep Singh</td><td>R Ashwin</td><td>2</td></tr><tr><td>YS Chahal</td><td>RA Tripathi</td><td>2</td></tr><tr><td>T Natarajan</td><td>SO Hetmyer</td><td>2</td></tr><tr><td>Avesh Khan</td><td>Abdul Samad</td><td>2</td></tr><tr><td>JO Holder</td><td>KL Rahul</td><td>2</td></tr><tr><td>A Nortje</td><td>RD Gaikwad</td><td>2</td></tr><tr><td>DR Sams</td><td>RD Gaikwad</td><td>2</td></tr><tr><td>TA Boult</td><td>Abhishek Sharma</td><td>2</td></tr><tr><td>Suyash Sharma</td><td>KD Karthik</td><td>2</td></tr><tr><td>Mohammed Siraj</td><td>KR Mayers</td><td>2</td></tr><tr><td>AR Patel</td><td>JM Sharma</td><td>2</td></tr><tr><td>Mukesh Kumar</td><td>YBK Jaiswal</td><td>2</td></tr><tr><td>Mohsin Khan</td><td>HH Pandya</td><td>2</td></tr><tr><td>M Theekshana</td><td>Shahbaz Ahmed</td><td>2</td></tr><tr><td>SP Narine</td><td>R Powell</td><td>2</td></tr><tr><td>K Rabada</td><td>KH Pandya</td><td>2</td></tr><tr><td>Mustafizur Rahman</td><td>R Tewatia</td><td>2</td></tr><tr><td>MM Ali</td><td>KH Pandya</td><td>2</td></tr><tr><td>JJ Bumrah</td><td>PP Shaw</td><td>2</td></tr><tr><td>PWH de Silva</td><td>DJ Hooda</td><td>2</td></tr><tr><td>Rashid Khan</td><td>Aman Hakim Khan</td><td>2</td></tr><tr><td>PP Chawla</td><td>JC Buttler</td><td>2</td></tr><tr><td>KK Ahmed</td><td>Tilak Varma</td><td>2</td></tr><tr><td>TA Boult</td><td>A Badoni</td><td>2</td></tr><tr><td>JO Holder</td><td>Washington Sundar</td><td>2</td></tr><tr><td>M Pathirana</td><td>D Padikkal</td><td>2</td></tr><tr><td>AD Russell</td><td>KS Williamson</td><td>2</td></tr><tr><td>Yash Dayal</td><td>Abhishek Sharma</td><td>2</td></tr><tr><td>C Green</td><td>MP Stoinis</td><td>2</td></tr><tr><td>DL Chahar</td><td>PD Salt</td><td>2</td></tr><tr><td>YS Chahal</td><td>Abishek Porel</td><td>2</td></tr><tr><td>YS Chahal</td><td>DJ Willey</td><td>2</td></tr><tr><td>MJ Santner</td><td>SA Yadav</td><td>2</td></tr><tr><td>Avesh Khan</td><td>DA Warner</td><td>2</td></tr><tr><td>M Jansen</td><td>Ishan Kishan</td><td>2</td></tr><tr><td>YS Chahal</td><td>VR Iyer</td><td>2</td></tr><tr><td>MM Ali</td><td>F du Plessis</td><td>2</td></tr><tr><td>HH Pandya</td><td>JC Buttler</td><td>2</td></tr><tr><td>HV Patel</td><td>Abishek Porel</td><td>2</td></tr><tr><td>MM Sharma</td><td>MP Stoinis</td><td>2</td></tr><tr><td>TA Boult</td><td>Ishan Kishan</td><td>2</td></tr><tr><td>Yash Dayal</td><td>YBK Jaiswal</td><td>2</td></tr><tr><td>MR Marsh</td><td>S Dube</td><td>2</td></tr><tr><td>Ravi Bishnoi</td><td>R Powell</td><td>2</td></tr><tr><td>Arshdeep Singh</td><td>SA Yadav</td><td>2</td></tr><tr><td>Arshdeep Singh</td><td>WP Saha</td><td>2</td></tr><tr><td>HV Patel</td><td>MM Ali</td><td>2</td></tr><tr><td>SN Thakur</td><td>DJ Hooda</td><td>2</td></tr><tr><td>NT Ellis</td><td>Rahmanullah Gurbaz</td><td>2</td></tr><tr><td>JD Unadkat</td><td>V Kohli</td><td>2</td></tr><tr><td>UT Yadav</td><td>AK Markram</td><td>2</td></tr><tr><td>JR Hazlewood</td><td>EJG Morgan</td><td>2</td></tr><tr><td>HV Patel</td><td>S Dhawan</td><td>2</td></tr><tr><td>RA Jadeja</td><td>PP Shaw</td><td>2</td></tr><tr><td>Arshdeep Singh</td><td>KL Rahul</td><td>2</td></tr><tr><td>MR Marsh</td><td>F du Plessis</td><td>2</td></tr><tr><td>Shahbaz Ahmed</td><td>RD Gaikwad</td><td>2</td></tr><tr><td>SP Narine</td><td>Shubman Gill</td><td>2</td></tr><tr><td>CV Varun</td><td>AK Markram</td><td>2</td></tr><tr><td>R Ashwin</td><td>S Dube</td><td>2</td></tr><tr><td>KK Ahmed</td><td>KD Karthik</td><td>2</td></tr><tr><td>R Ashwin</td><td>RM Patidar</td><td>2</td></tr><tr><td>TU Deshpande</td><td>Shubman Gill</td><td>2</td></tr><tr><td>Naveen-ul-Haq</td><td>Tilak Varma</td><td>2</td></tr><tr><td>Yash Thakur</td><td>RA Tripathi</td><td>2</td></tr><tr><td>HV Patel</td><td>H Klaasen</td><td>2</td></tr><tr><td>B Kumar</td><td>DA Warner</td><td>2</td></tr><tr><td>GJ Maxwell</td><td>Abhishek Sharma</td><td>2</td></tr><tr><td>Noor Ahmad</td><td>N Pooran</td><td>2</td></tr><tr><td>Mohsin Khan</td><td>N Wadhera</td><td>2</td></tr><tr><td>KV Sharma</td><td>MP Stoinis</td><td>2</td></tr><tr><td>JR Hazlewood</td><td>SS Iyer</td><td>2</td></tr><tr><td>Kuldeep Yadav</td><td>SP Narine</td><td>2</td></tr><tr><td>JR Hazlewood</td><td>A Badoni</td><td>2</td></tr><tr><td>Ravi Bishnoi</td><td>MM Ali</td><td>2</td></tr><tr><td>HV Patel</td><td>VR Iyer</td><td>2</td></tr><tr><td>Mukesh Choudhary</td><td>Ishan Kishan</td><td>2</td></tr><tr><td>Mohammed Siraj</td><td>D Padikkal</td><td>2</td></tr><tr><td>T Natarajan</td><td>KH Pandya</td><td>2</td></tr><tr><td>JJ Bumrah</td><td>N Rana</td><td>2</td></tr><tr><td>T Natarajan</td><td>VR Iyer</td><td>2</td></tr><tr><td>JJ Bumrah</td><td>SP Narine</td><td>2</td></tr><tr><td>Arshdeep Singh</td><td>RA Jadeja</td><td>2</td></tr><tr><td>KH Pandya</td><td>DR Sams</td><td>2</td></tr><tr><td>SM Curran</td><td>MP Stoinis</td><td>2</td></tr><tr><td>Avesh Khan</td><td>Abhishek Sharma</td><td>2</td></tr><tr><td>NT Ellis</td><td>SV Samson</td><td>2</td></tr><tr><td>Umran Malik</td><td>D Padikkal</td><td>2</td></tr><tr><td>B Kumar</td><td>P Simran Singh</td><td>2</td></tr><tr><td>AD Russell</td><td>Abhishek Sharma</td><td>2</td></tr><tr><td>MM Sharma</td><td>Vishnu Vinod</td><td>2</td></tr><tr><td>B Kumar</td><td>JC Buttler</td><td>2</td></tr><tr><td>Avesh Khan</td><td>RG Sharma</td><td>2</td></tr><tr><td>Akash Deep</td><td>Ishan Kishan</td><td>2</td></tr><tr><td>Rashid Khan</td><td>Tilak Varma</td><td>2</td></tr><tr><td>M Pathirana</td><td>N Pooran</td><td>2</td></tr><tr><td>TU Deshpande</td><td>YBK Jaiswal</td><td>2</td></tr><tr><td>KK Ahmed</td><td>D Padikkal</td><td>2</td></tr><tr><td>Mukesh Kumar</td><td>Tilak Varma</td><td>2</td></tr><tr><td>PP Chawla</td><td>V Shankar</td><td>2</td></tr><tr><td>Akash Madhwal</td><td>Shubman Gill</td><td>2</td></tr><tr><td>Kuldeep Yadav</td><td>SS Iyer</td><td>2</td></tr><tr><td>CV Varun</td><td>F du Plessis</td><td>2</td></tr><tr><td>PP Chawla</td><td>H Klaasen</td><td>2</td></tr><tr><td>RA Jadeja</td><td>P Simran Singh</td><td>2</td></tr><tr><td>Vijaykumar Vyshak</td><td>V Shankar</td><td>2</td></tr><tr><td>YS Chahal</td><td>JM Sharma</td><td>2</td></tr><tr><td>HV Patel</td><td>RD Chahar</td><td>2</td></tr><tr><td>JO Holder</td><td>Tilak Varma</td><td>2</td></tr><tr><td>Kuldeep Yadav</td><td>Abhishek Sharma</td><td>2</td></tr><tr><td>Rashid Khan</td><td>TH David</td><td>2</td></tr><tr><td>NT Ellis</td><td>C Green</td><td>2</td></tr><tr><td>M Pathirana</td><td>T Stubbs</td><td>2</td></tr><tr><td>Harshit Rana</td><td>MA Agarwal</td><td>2</td></tr><tr><td>Naveen-ul-Haq</td><td>Mohammed Siraj</td><td>2</td></tr><tr><td>HV Patel</td><td>RK Singh</td><td>2</td></tr><tr><td>Mohammed Shami</td><td>KL Rahul</td><td>2</td></tr><tr><td>K Rabada</td><td>JC Buttler</td><td>2</td></tr><tr><td>Kuldeep Yadav</td><td>Harpreet Brar</td><td>2</td></tr><tr><td>YS Chahal</td><td>SS Iyer</td><td>2</td></tr><tr><td>T Natarajan</td><td>R Parag</td><td>2</td></tr><tr><td>SN Thakur</td><td>SA Yadav</td><td>2</td></tr><tr><td>Simarjeet Singh</td><td>JC Buttler</td><td>2</td></tr><tr><td>TA Boult</td><td>P Simran Singh</td><td>2</td></tr><tr><td>M Markande</td><td>PD Salt</td><td>2</td></tr><tr><td>LH Ferguson</td><td>JM Bairstow</td><td>2</td></tr><tr><td>HV Patel</td><td>TA Boult</td><td>2</td></tr><tr><td>LS Livingstone</td><td>DA Miller</td><td>2</td></tr><tr><td>Sandeep Sharma</td><td>N Pooran</td><td>2</td></tr><tr><td>SM Curran</td><td>SO Hetmyer</td><td>2</td></tr><tr><td>UT Yadav</td><td>D Padikkal</td><td>2</td></tr><tr><td>PP Chawla</td><td>Abhishek Sharma</td><td>2</td></tr><tr><td>Sandeep Sharma</td><td>Shubman Gill</td><td>2</td></tr><tr><td>MM Ali</td><td>KR Mayers</td><td>2</td></tr><tr><td>T Natarajan</td><td>F du Plessis</td><td>2</td></tr><tr><td>Shivam Mavi</td><td>MP Stoinis</td><td>2</td></tr><tr><td>MR Marsh</td><td>RA Tripathi</td><td>2</td></tr><tr><td>LH Ferguson</td><td>RR Pant</td><td>2</td></tr><tr><td>Rashid Khan</td><td>R Parag</td><td>2</td></tr><tr><td>Vijaykumar Vyshak</td><td>SA Yadav</td><td>2</td></tr><tr><td>TU Deshpande</td><td>TH David</td><td>2</td></tr><tr><td>M Markande</td><td>AD Russell</td><td>2</td></tr><tr><td>UT Yadav</td><td>RD Gaikwad</td><td>2</td></tr><tr><td>Umran Malik</td><td>SS Iyer</td><td>2</td></tr><tr><td>A Zampa</td><td>MM Ali</td><td>2</td></tr><tr><td>Sandeep Sharma</td><td>MP Stoinis</td><td>2</td></tr><tr><td>M Pathirana</td><td>H Klaasen</td><td>2</td></tr><tr><td>CV Varun</td><td>Shahbaz Ahmed</td><td>2</td></tr><tr><td>Mohammed Siraj</td><td>SO Hetmyer</td><td>2</td></tr><tr><td>TU Deshpande</td><td>MK Pandey</td><td>2</td></tr><tr><td>Rashid Khan</td><td>SN Thakur</td><td>2</td></tr><tr><td>R Ashwin</td><td>C Green</td><td>2</td></tr><tr><td>Arshdeep Singh</td><td>YBK Jaiswal</td><td>2</td></tr><tr><td>Kuldeep Yadav</td><td>KL Rahul</td><td>2</td></tr><tr><td>SN Thakur</td><td>VR Iyer</td><td>2</td></tr><tr><td>RD Chahar</td><td>MM Ali</td><td>2</td></tr><tr><td>AD Russell</td><td>Abdul Samad</td><td>2</td></tr><tr><td>Arshdeep Singh</td><td>TM Head</td><td>2</td></tr><tr><td>AD Russell</td><td>RM Patidar</td><td>2</td></tr><tr><td>S Sandeep Warrier</td><td>PP Shaw</td><td>2</td></tr><tr><td>M Pathirana</td><td>B Sai Sudharsan</td><td>2</td></tr><tr><td>Yash Thakur</td><td>MK Lomror</td><td>2</td></tr><tr><td>N Thushara</td><td>PD Salt</td><td>2</td></tr><tr><td>LH Ferguson</td><td>SM Curran</td><td>2</td></tr><tr><td>HV Patel</td><td>RA Tripathi</td><td>2</td></tr><tr><td>Mukesh Kumar</td><td>C Green</td><td>2</td></tr><tr><td>CV Varun</td><td>T Stubbs</td><td>2</td></tr><tr><td>PJ Cummins</td><td>SP Narine</td><td>2</td></tr><tr><td>VG Arora</td><td>PP Shaw</td><td>2</td></tr><tr><td>I Sharma</td><td>DJ Hooda</td><td>2</td></tr><tr><td>AD Russell</td><td>PJ Cummins</td><td>2</td></tr><tr><td>Harshit Rana</td><td>H Klaasen</td><td>2</td></tr><tr><td>MP Stoinis</td><td>S Dube</td><td>2</td></tr><tr><td>J Little</td><td>C Green</td><td>2</td></tr><tr><td>A Nehra</td><td>PA Patel</td><td>3</td></tr><tr><td>AD Mathews</td><td>R Dravid</td><td>3</td></tr><tr><td>PP Chawla</td><td>YK Pathan</td><td>3</td></tr><tr><td>KA Pollard</td><td>RV Uthappa</td><td>3</td></tr><tr><td>RP Singh</td><td>SR Watson</td><td>3</td></tr><tr><td>SR Watson</td><td>MS Dhoni</td><td>3</td></tr><tr><td>SR Watson</td><td>V Sehwag</td><td>3</td></tr><tr><td>Z Khan</td><td>AC Gilchrist</td><td>3</td></tr><tr><td>M Muralitharan</td><td>RV Uthappa</td><td>3</td></tr><tr><td>KA Pollard</td><td>MS Dhoni</td><td>3</td></tr><tr><td>MM Patel</td><td>R Dravid</td><td>3</td></tr><tr><td>RP Singh</td><td>DJ Bravo</td><td>3</td></tr><tr><td>SL Malinga</td><td>Y Venugopal Rao</td><td>3</td></tr><tr><td>DL Vettori</td><td>DPMD Jayawardene</td><td>3</td></tr><tr><td>A Nehra</td><td>V Sehwag</td><td>3</td></tr><tr><td>A Singh</td><td>R Vinay Kumar</td><td>3</td></tr><tr><td>JA Morkel</td><td>DPMD Jayawardene</td><td>3</td></tr><tr><td>PP Ojha</td><td>S Badrinath</td><td>3</td></tr><tr><td>P Kumar</td><td>PA Patel</td><td>3</td></tr><tr><td>RP Singh</td><td>S Badrinath</td><td>3</td></tr><tr><td>AD Mascarenhas</td><td>G Gambhir</td><td>3</td></tr><tr><td>L Balaji</td><td>DA Warner</td><td>3</td></tr><tr><td>YK Pathan</td><td>PA Patel</td><td>3</td></tr><tr><td>L Balaji</td><td>RG Sharma</td><td>3</td></tr><tr><td>PP Chawla</td><td>V Kohli</td><td>3</td></tr><tr><td>PP Ojha</td><td>JH Kallis</td><td>3</td></tr><tr><td>RP Singh</td><td>BB McCullum</td><td>3</td></tr><tr><td>Harbhajan Singh</td><td>TL Suman</td><td>3</td></tr><tr><td>Harbhajan Singh</td><td>KP Pietersen</td><td>3</td></tr><tr><td>I Sharma</td><td>TM Dilshan</td><td>3</td></tr><tr><td>A Mishra</td><td>A Symonds</td><td>3</td></tr><tr><td>SK Trivedi</td><td>MK Pandey</td><td>3</td></tr><tr><td>R Vinay Kumar</td><td>AD Mathews</td><td>3</td></tr><tr><td>R Ashwin</td><td>BB McCullum</td><td>3</td></tr><tr><td>A Kumble</td><td>AC Gilchrist</td><td>3</td></tr><tr><td>M Muralitharan</td><td>DPMD Jayawardene</td><td>3</td></tr><tr><td>Z Khan</td><td>HH Gibbs</td><td>3</td></tr><tr><td>PP Chawla</td><td>AM Rahane</td><td>3</td></tr><tr><td>SK Warne</td><td>RV Uthappa</td><td>3</td></tr><tr><td>RJ Harris</td><td>R Vinay Kumar</td><td>3</td></tr><tr><td>MM Patel</td><td>V Sehwag</td><td>3</td></tr><tr><td>SR Watson</td><td>G Gambhir</td><td>3</td></tr><tr><td>Z Khan</td><td>IK Pathan</td><td>3</td></tr><tr><td>JA Morkel</td><td>AC Gilchrist</td><td>3</td></tr><tr><td>R Vinay Kumar</td><td>SR Tendulkar</td><td>3</td></tr><tr><td>RA Jadeja</td><td>RV Uthappa</td><td>3</td></tr><tr><td>P Kumar</td><td>SK Raina</td><td>3</td></tr><tr><td>A Nehra</td><td>MS Dhoni</td><td>3</td></tr><tr><td>M Muralitharan</td><td>KC Sangakkara</td><td>3</td></tr><tr><td>R Ashwin</td><td>KC Sangakkara</td><td>3</td></tr><tr><td>DJ Bravo</td><td>SR Watson</td><td>3</td></tr><tr><td>SR Watson</td><td>M Vijay</td><td>3</td></tr><tr><td>DJ Bravo</td><td>WP Saha</td><td>3</td></tr><tr><td>Harbhajan Singh</td><td>M Vijay</td><td>3</td></tr><tr><td>S Sreesanth</td><td>TM Dilshan</td><td>3</td></tr><tr><td>UT Yadav</td><td>DJ Hussey</td><td>3</td></tr><tr><td>P Kumar</td><td>V Sehwag</td><td>3</td></tr><tr><td>UT Yadav</td><td>AD Mathews</td><td>3</td></tr><tr><td>JH Kallis</td><td>SR Tendulkar</td><td>3</td></tr><tr><td>M Kartik</td><td>RV Uthappa</td><td>3</td></tr><tr><td>SL Malinga</td><td>DB Ravi Teja</td><td>3</td></tr><tr><td>Harbhajan Singh</td><td>AB de Villiers</td><td>3</td></tr><tr><td>SK Warne</td><td>SK Raina</td><td>3</td></tr><tr><td>SL Malinga</td><td>DPMD Jayawardene</td><td>3</td></tr><tr><td>AB Dinda</td><td>V Kohli</td><td>3</td></tr><tr><td>RA Jadeja</td><td>RG Sharma</td><td>3</td></tr><tr><td>R Bhatia</td><td>SR Tendulkar</td><td>3</td></tr><tr><td>A Nehra</td><td>AT Rayudu</td><td>3</td></tr><tr><td>DL Vettori</td><td>JH Kallis</td><td>3</td></tr><tr><td>PP Chawla</td><td>SR Watson</td><td>3</td></tr><tr><td>PP Ojha</td><td>DJ Bravo</td><td>3</td></tr><tr><td>Harbhajan Singh</td><td>R Dravid</td><td>3</td></tr><tr><td>L Balaji</td><td>V Kohli</td><td>3</td></tr><tr><td>KA Pollard</td><td>V Kohli</td><td>3</td></tr><tr><td>IK Pathan</td><td>S Dhawan</td><td>3</td></tr><tr><td>DJ Bravo</td><td>JH Kallis</td><td>3</td></tr><tr><td>JA Morkel</td><td>AB de Villiers</td><td>3</td></tr><tr><td>R Ashwin</td><td>DJ Hussey</td><td>3</td></tr><tr><td>IK Pathan</td><td>KA Pollard</td><td>3</td></tr><tr><td>SL Malinga</td><td>PA Patel</td><td>3</td></tr><tr><td>Z Khan</td><td>CH Gayle</td><td>3</td></tr><tr><td>PP Ojha</td><td>YK Pathan</td><td>3</td></tr><tr><td>A Mishra</td><td>SK Warne</td><td>3</td></tr><tr><td>RP Singh</td><td>SR Tendulkar</td><td>3</td></tr><tr><td>R Ashwin</td><td>YK Pathan</td><td>3</td></tr><tr><td>R Ashwin</td><td>MA Agarwal</td><td>3</td></tr><tr><td>I Sharma</td><td>DPMD Jayawardene</td><td>3</td></tr><tr><td>R Bhatia</td><td>P Dogra</td><td>3</td></tr><tr><td>JP Faulkner</td><td>MG Johnson</td><td>3</td></tr><tr><td>P Negi</td><td>SR Watson</td><td>3</td></tr><tr><td>L Balaji</td><td>AB de Villiers</td><td>3</td></tr><tr><td>R Vinay Kumar</td><td>Mandeep Singh</td><td>3</td></tr><tr><td>BW Hilfenhaus</td><td>DA Warner</td><td>3</td></tr><tr><td>SL Malinga</td><td>DJ Bravo</td><td>3</td></tr><tr><td>A Mishra</td><td>AT Rayudu</td><td>3</td></tr><tr><td>M Morkel</td><td>V Kohli</td><td>3</td></tr><tr><td>Bipul Sharma</td><td>BB McCullum</td><td>3</td></tr><tr><td>DW Steyn</td><td>JH Kallis</td><td>3</td></tr><tr><td>B Kumar</td><td>MK Tiwary</td><td>3</td></tr><tr><td>R Vinay Kumar</td><td>JH Kallis</td><td>3</td></tr><tr><td>SL Malinga</td><td>Shakib Al Hasan</td><td>3</td></tr><tr><td>SP Narine</td><td>S Nadeem</td><td>3</td></tr><tr><td>Z Khan</td><td>V Sehwag</td><td>3</td></tr><tr><td>P Kumar</td><td>DA Warner</td><td>3</td></tr><tr><td>JD Unadkat</td><td>PA Patel</td><td>3</td></tr><tr><td>A Mishra</td><td>MK Pandey</td><td>3</td></tr><tr><td>S Aravind</td><td>G Gambhir</td><td>3</td></tr><tr><td>B Kumar</td><td>S Dhawan</td><td>3</td></tr><tr><td>SL Malinga</td><td>R Ashwin</td><td>3</td></tr><tr><td>JJ Bumrah</td><td>MA Agarwal</td><td>3</td></tr><tr><td>YK Pathan</td><td>SK Raina</td><td>3</td></tr><tr><td>DW Steyn</td><td>KD Karthik</td><td>3</td></tr><tr><td>B Kumar</td><td>SE Marsh</td><td>3</td></tr><tr><td>M Muralitharan</td><td>KD Karthik</td><td>3</td></tr><tr><td>RA Jadeja</td><td>MK Tiwary</td><td>3</td></tr><tr><td>Harbhajan Singh</td><td>R Ashwin</td><td>3</td></tr><tr><td>SL Malinga</td><td>Yuvraj Singh</td><td>3</td></tr><tr><td>B Kumar</td><td>Shakib Al Hasan</td><td>3</td></tr><tr><td>JH Kallis</td><td>V Kohli</td><td>3</td></tr><tr><td>CH Morris</td><td>CH Gayle</td><td>3</td></tr><tr><td>R Vinay Kumar</td><td>SPD Smith</td><td>3</td></tr><tr><td>S Nadeem</td><td>AT Rayudu</td><td>3</td></tr><tr><td>B Kumar</td><td>SK Raina</td><td>3</td></tr><tr><td>Iqbal Abdulla</td><td>RV Uthappa</td><td>3</td></tr><tr><td>JA Morkel</td><td>RG Sharma</td><td>3</td></tr><tr><td>SL Malinga</td><td>RA Jadeja</td><td>3</td></tr><tr><td>M Morkel</td><td>CH Gayle</td><td>3</td></tr><tr><td>SL Malinga</td><td>P Kumar</td><td>3</td></tr><tr><td>MG Johnson</td><td>AJ Finch</td><td>3</td></tr><tr><td>SP Narine</td><td>RA Jadeja</td><td>3</td></tr><tr><td>SL Malinga</td><td>JH Kallis</td><td>3</td></tr><tr><td>R Bhatia</td><td>NV Ojha</td><td>3</td></tr><tr><td>A Singh</td><td>JH Kallis</td><td>3</td></tr><tr><td>P Kumar</td><td>MK Pandey</td><td>3</td></tr><tr><td>CH Morris</td><td>RV Uthappa</td><td>3</td></tr><tr><td>R Vinay Kumar</td><td>MK Tiwary</td><td>3</td></tr><tr><td>A Mishra</td><td>V Kohli</td><td>3</td></tr><tr><td>A Ashish Reddy</td><td>RV Uthappa</td><td>3</td></tr><tr><td>I Sharma</td><td>RG Sharma</td><td>3</td></tr><tr><td>PP Chawla</td><td>KD Karthik</td><td>3</td></tr><tr><td>A Mishra</td><td>AM Rahane</td><td>3</td></tr><tr><td>KA Pollard</td><td>AB de Villiers</td><td>3</td></tr><tr><td>R Vinay Kumar</td><td>KD Karthik</td><td>3</td></tr><tr><td>MG Johnson</td><td>S Dhawan</td><td>3</td></tr><tr><td>CH Morris</td><td>G Gambhir</td><td>3</td></tr><tr><td>SR Watson</td><td>CH Gayle</td><td>3</td></tr><tr><td>RA Jadeja</td><td>SA Yadav</td><td>3</td></tr><tr><td>YS Chahal</td><td>AM Rahane</td><td>3</td></tr><tr><td>A Mishra</td><td>DA Warner</td><td>3</td></tr><tr><td>MM Sharma</td><td>PP Chawla</td><td>3</td></tr><tr><td>SP Narine</td><td>BB McCullum</td><td>3</td></tr><tr><td>CH Morris</td><td>SK Raina</td><td>3</td></tr><tr><td>RA Jadeja</td><td>SP Narine</td><td>3</td></tr><tr><td>KV Sharma</td><td>RV Uthappa</td><td>3</td></tr><tr><td>DJ Bravo</td><td>YK Pathan</td><td>3</td></tr><tr><td>YS Chahal</td><td>BB McCullum</td><td>3</td></tr><tr><td>DS Kulkarni</td><td>DA Miller</td><td>3</td></tr><tr><td>Sandeep Sharma</td><td>AT Rayudu</td><td>3</td></tr><tr><td>AD Russell</td><td>Gurkeerat Singh</td><td>3</td></tr><tr><td>Sandeep Sharma</td><td>SS Iyer</td><td>3</td></tr><tr><td>MM Sharma</td><td>KA Pollard</td><td>3</td></tr><tr><td>R Ashwin</td><td>GJ Maxwell</td><td>3</td></tr><tr><td>B Kumar</td><td>AB de Villiers</td><td>3</td></tr><tr><td>SP Narine</td><td>SV Samson</td><td>3</td></tr><tr><td>RA Jadeja</td><td>SV Samson</td><td>3</td></tr><tr><td>YS Chahal</td><td>GJ Maxwell</td><td>3</td></tr><tr><td>DS Kulkarni</td><td>CH Gayle</td><td>3</td></tr><tr><td>UT Yadav</td><td>SK Raina</td><td>3</td></tr><tr><td>KV Sharma</td><td>DA Miller</td><td>3</td></tr><tr><td>HV Patel</td><td>MS Dhoni</td><td>3</td></tr><tr><td>PP Chawla</td><td>KL Rahul</td><td>3</td></tr><tr><td>TA Boult</td><td>MS Dhoni</td><td>3</td></tr><tr><td>AR Patel</td><td>Mandeep Singh</td><td>3</td></tr><tr><td>R Ashwin</td><td>AR Patel</td><td>3</td></tr><tr><td>Sandeep Sharma</td><td>KD Karthik</td><td>3</td></tr><tr><td>Sandeep Sharma</td><td>PA Patel</td><td>3</td></tr><tr><td>Sandeep Sharma</td><td>MA Agarwal</td><td>3</td></tr><tr><td>NLTC Perera</td><td>PP Chawla</td><td>3</td></tr><tr><td>M Morkel</td><td>WP Saha</td><td>3</td></tr><tr><td>B Kumar</td><td>SS Iyer</td><td>3</td></tr><tr><td>JJ Bumrah</td><td>WP Saha</td><td>3</td></tr><tr><td>PP Chawla</td><td>GJ Maxwell</td><td>3</td></tr><tr><td>Imran Tahir</td><td>DR Smith</td><td>3</td></tr><tr><td>DJ Bravo</td><td>PA Patel</td><td>3</td></tr><tr><td>UT Yadav</td><td>GJ Maxwell</td><td>3</td></tr><tr><td>JJ Bumrah</td><td>AB de Villiers</td><td>3</td></tr><tr><td>Harbhajan Singh</td><td>F du Plessis</td><td>3</td></tr><tr><td>SL Malinga</td><td>DA Miller</td><td>3</td></tr><tr><td>B Kumar</td><td>DR Smith</td><td>3</td></tr><tr><td>RA Jadeja</td><td>KD Karthik</td><td>3</td></tr><tr><td>MC Henriques</td><td>GJ Bailey</td><td>3</td></tr><tr><td>MM Sharma</td><td>S Dhawan</td><td>3</td></tr><tr><td>JD Unadkat</td><td>RG Sharma</td><td>3</td></tr><tr><td>JD Unadkat</td><td>RV Uthappa</td><td>3</td></tr><tr><td>AR Patel</td><td>RV Uthappa</td><td>3</td></tr><tr><td>CH Morris</td><td>RG Sharma</td><td>3</td></tr><tr><td>B Kumar</td><td>KA Pollard</td><td>3</td></tr><tr><td>HV Patel</td><td>RG Sharma</td><td>3</td></tr><tr><td>JP Faulkner</td><td>RG Sharma</td><td>3</td></tr><tr><td>GJ Maxwell</td><td>S Dhawan</td><td>3</td></tr><tr><td>MM Sharma</td><td>KL Rahul</td><td>3</td></tr><tr><td>R Vinay Kumar</td><td>STR Binny</td><td>3</td></tr><tr><td>SR Watson</td><td>RA Jadeja</td><td>3</td></tr><tr><td>MJ McClenaghan</td><td>S Dhawan</td><td>3</td></tr><tr><td>MM Sharma</td><td>WP Saha</td><td>3</td></tr><tr><td>DJ Bravo</td><td>SPD Smith</td><td>3</td></tr><tr><td>IC Pandey</td><td>G Gambhir</td><td>3</td></tr><tr><td>JD Unadkat</td><td>AM Rahane</td><td>3</td></tr><tr><td>KV Sharma</td><td>AM Rahane</td><td>3</td></tr><tr><td>Harbhajan Singh</td><td>KL Rahul</td><td>3</td></tr><tr><td>TA Boult</td><td>AM Rahane</td><td>3</td></tr><tr><td>YS Chahal</td><td>DA Miller</td><td>3</td></tr><tr><td>YS Chahal</td><td>F du Plessis</td><td>3</td></tr><tr><td>Sandeep Sharma</td><td>DA Warner</td><td>3</td></tr><tr><td>P Negi</td><td>AJ Finch</td><td>3</td></tr><tr><td>YS Chahal</td><td>MS Dhoni</td><td>3</td></tr><tr><td>Sandeep Sharma</td><td>RV Uthappa</td><td>3</td></tr><tr><td>MG Johnson</td><td>G Gambhir</td><td>3</td></tr><tr><td>MM Sharma</td><td>AJ Finch</td><td>3</td></tr><tr><td>B Kumar</td><td>GJ Maxwell</td><td>3</td></tr><tr><td>Imran Tahir</td><td>AR Patel</td><td>3</td></tr><tr><td>YS Chahal</td><td>RV Uthappa</td><td>3</td></tr><tr><td>SL Malinga</td><td>KD Karthik</td><td>3</td></tr><tr><td>TA Boult</td><td>WP Saha</td><td>3</td></tr><tr><td>YS Chahal</td><td>SR Watson</td><td>3</td></tr><tr><td>MJ McClenaghan</td><td>Q de Kock</td><td>3</td></tr><tr><td>Rashid Khan</td><td>RR Pant</td><td>3</td></tr><tr><td>JJ Bumrah</td><td>RV Uthappa</td><td>3</td></tr><tr><td>R Ashwin</td><td>DJ Hooda</td><td>3</td></tr><tr><td>AJ Tye</td><td>CA Lynn</td><td>3</td></tr><tr><td>Rashid Khan</td><td>F du Plessis</td><td>3</td></tr><tr><td>AR Patel</td><td>RG Sharma</td><td>3</td></tr><tr><td>MP Stoinis</td><td>KH Pandya</td><td>3</td></tr><tr><td>KH Pandya</td><td>RA Tripathi</td><td>3</td></tr><tr><td>CH Morris</td><td>N Rana</td><td>3</td></tr><tr><td>HH Pandya</td><td>N Rana</td><td>3</td></tr><tr><td>UT Yadav</td><td>SV Samson</td><td>3</td></tr><tr><td>JC Archer</td><td>CH Gayle</td><td>3</td></tr><tr><td>SP Narine</td><td>SK Raina</td><td>3</td></tr><tr><td>JJ Bumrah</td><td>SPD Smith</td><td>3</td></tr><tr><td>MM Sharma</td><td>DJ Hooda</td><td>3</td></tr><tr><td>KH Pandya</td><td>GJ Maxwell</td><td>3</td></tr><tr><td>DJ Bravo</td><td>DJ Hooda</td><td>3</td></tr><tr><td>S Gopal</td><td>V Kohli</td><td>3</td></tr><tr><td>HH Pandya</td><td>Shubman Gill</td><td>3</td></tr><tr><td>TA Boult</td><td>SV Samson</td><td>3</td></tr><tr><td>AJ Tye</td><td>BA Stokes</td><td>3</td></tr><tr><td>AD Russell</td><td>MA Agarwal</td><td>3</td></tr><tr><td>SP Narine</td><td>Mandeep Singh</td><td>3</td></tr><tr><td>KH Pandya</td><td>RR Pant</td><td>3</td></tr><tr><td>A Mishra</td><td>S Dhawan</td><td>3</td></tr><tr><td>Rashid Khan</td><td>BA Stokes</td><td>3</td></tr><tr><td>TA Boult</td><td>RG Sharma</td><td>3</td></tr><tr><td>Imran Tahir</td><td>AB de Villiers</td><td>3</td></tr><tr><td>Mohammed Siraj</td><td>SV Samson</td><td>3</td></tr><tr><td>TG Southee</td><td>S Dhawan</td><td>3</td></tr><tr><td>SP Narine</td><td>SS Iyer</td><td>3</td></tr><tr><td>HH Pandya</td><td>MK Pandey</td><td>3</td></tr><tr><td>Rashid Khan</td><td>SK Raina</td><td>3</td></tr><tr><td>Rashid Khan</td><td>R Ashwin</td><td>3</td></tr><tr><td>TA Boult</td><td>SP Narine</td><td>3</td></tr><tr><td>Mohammed Shami</td><td>KD Karthik</td><td>3</td></tr><tr><td>JJ Bumrah</td><td>SR Watson</td><td>3</td></tr><tr><td>YS Chahal</td><td>DJ Hooda</td><td>3</td></tr><tr><td>Rashid Khan</td><td>KL Rahul</td><td>3</td></tr><tr><td>YS Chahal</td><td>YK Pathan</td><td>3</td></tr><tr><td>DJ Bravo</td><td>S Dhawan</td><td>3</td></tr><tr><td>JJ Bumrah</td><td>MP Stoinis</td><td>3</td></tr><tr><td>YS Chahal</td><td>WP Saha</td><td>3</td></tr><tr><td>JD Unadkat</td><td>SP Narine</td><td>3</td></tr><tr><td>HH Pandya</td><td>MA Agarwal</td><td>3</td></tr><tr><td>JJ Bumrah</td><td>KL Rahul</td><td>3</td></tr><tr><td>MP Stoinis</td><td>Q de Kock</td><td>3</td></tr><tr><td>Kuldeep Yadav</td><td>DJ Hooda</td><td>3</td></tr><tr><td>AD Russell</td><td>MP Stoinis</td><td>3</td></tr><tr><td>SP Narine</td><td>KH Pandya</td><td>3</td></tr><tr><td>RA Jadeja</td><td>Mandeep Singh</td><td>3</td></tr><tr><td>Rashid Khan</td><td>KD Karthik</td><td>3</td></tr><tr><td>MM Sharma</td><td>MS Dhoni</td><td>3</td></tr><tr><td>Imran Tahir</td><td>KD Karthik</td><td>3</td></tr><tr><td>Mohammed Shami</td><td>KH Pandya</td><td>3</td></tr><tr><td>Avesh Khan</td><td>AD Russell</td><td>3</td></tr><tr><td>AR Patel</td><td>SV Samson</td><td>3</td></tr><tr><td>Rashid Khan</td><td>KH Pandya</td><td>3</td></tr><tr><td>Mustafizur Rahman</td><td>RA Jadeja</td><td>3</td></tr><tr><td>Washington Sundar</td><td>RG Sharma</td><td>3</td></tr><tr><td>JJ Bumrah</td><td>RK Singh</td><td>3</td></tr><tr><td>YS Chahal</td><td>S Dhawan</td><td>3</td></tr><tr><td>Rashid Khan</td><td>AB de Villiers</td><td>3</td></tr><tr><td>DL Chahar</td><td>SV Samson</td><td>3</td></tr><tr><td>A Mishra</td><td>Ishan Kishan</td><td>3</td></tr><tr><td>B Kumar</td><td>Shubman Gill</td><td>3</td></tr><tr><td>YS Chahal</td><td>AR Patel</td><td>3</td></tr><tr><td>NM Coulter-Nile</td><td>RR Pant</td><td>3</td></tr><tr><td>YS Chahal</td><td>SA Yadav</td><td>3</td></tr><tr><td>YS Chahal</td><td>Shubman Gill</td><td>3</td></tr><tr><td>K Rabada</td><td>R Tewatia</td><td>3</td></tr><tr><td>Rashid Khan</td><td>SO Hetmyer</td><td>3</td></tr><tr><td>KH Pandya</td><td>AM Rahane</td><td>3</td></tr><tr><td>Mohammed Shami</td><td>HH Pandya</td><td>3</td></tr><tr><td>YS Chahal</td><td>RR Pant</td><td>3</td></tr><tr><td>PJ Cummins</td><td>JM Bairstow</td><td>3</td></tr><tr><td>SN Thakur</td><td>D Padikkal</td><td>3</td></tr><tr><td>RD Chahar</td><td>MP Stoinis</td><td>3</td></tr><tr><td>Arshdeep Singh</td><td>Ishan Kishan</td><td>3</td></tr><tr><td>SN Thakur</td><td>S Dhawan</td><td>3</td></tr><tr><td>Arshdeep Singh</td><td>RD Gaikwad</td><td>3</td></tr><tr><td>Rashid Khan</td><td>LS Livingstone</td><td>3</td></tr><tr><td>Washington Sundar</td><td>EJG Morgan</td><td>3</td></tr><tr><td>K Rabada</td><td>DA Warner</td><td>3</td></tr><tr><td>Sandeep Sharma</td><td>Ishan Kishan</td><td>3</td></tr><tr><td>SP Narine</td><td>Lalit Yadav</td><td>3</td></tr><tr><td>M Prasidh Krishna</td><td>V Kohli</td><td>3</td></tr><tr><td>RD Chahar</td><td>SS Iyer</td><td>3</td></tr><tr><td>MP Stoinis</td><td>YBK Jaiswal</td><td>3</td></tr><tr><td>RA Jadeja</td><td>RA Tripathi</td><td>3</td></tr><tr><td>C Sakariya</td><td>KL Rahul</td><td>3</td></tr><tr><td>Ravi Bishnoi</td><td>DA Warner</td><td>3</td></tr><tr><td>YS Chahal</td><td>KD Karthik</td><td>3</td></tr><tr><td>JJ Bumrah</td><td>N Pooran</td><td>3</td></tr><tr><td>PP Chawla</td><td>S Dhawan</td><td>3</td></tr><tr><td>Sandeep Sharma</td><td>F du Plessis</td><td>3</td></tr><tr><td>K Rabada</td><td>F du Plessis</td><td>3</td></tr><tr><td>Rashid Khan</td><td>Ishan Kishan</td><td>3</td></tr><tr><td>KK Ahmed</td><td>HH Pandya</td><td>3</td></tr><tr><td>A Nortje</td><td>D Padikkal</td><td>3</td></tr><tr><td>K Rabada</td><td>V Kohli</td><td>3</td></tr><tr><td>RD Chahar</td><td>N Rana</td><td>3</td></tr><tr><td>Ravi Bishnoi</td><td>SA Yadav</td><td>3</td></tr><tr><td>K Rabada</td><td>Washington Sundar</td><td>3</td></tr><tr><td>Rashid Khan</td><td>CH Gayle</td><td>3</td></tr><tr><td>KK Ahmed</td><td>AT Rayudu</td><td>3</td></tr><tr><td>JO Holder</td><td>F du Plessis</td><td>3</td></tr><tr><td>CV Varun</td><td>S Dhawan</td><td>3</td></tr><tr><td>SN Thakur</td><td>AD Russell</td><td>3</td></tr><tr><td>YS Chahal</td><td>MK Lomror</td><td>3</td></tr><tr><td>CV Varun</td><td>GJ Maxwell</td><td>3</td></tr><tr><td>Mohammed Shami</td><td>Shubman Gill</td><td>3</td></tr><tr><td>JJ Bumrah</td><td>SO Hetmyer</td><td>3</td></tr><tr><td>KK Ahmed</td><td>PP Shaw</td><td>3</td></tr><tr><td>JD Unadkat</td><td>F du Plessis</td><td>3</td></tr><tr><td>JJ Bumrah</td><td>SM Curran</td><td>3</td></tr><tr><td>JO Holder</td><td>SV Samson</td><td>3</td></tr><tr><td>T Natarajan</td><td>N Rana</td><td>3</td></tr><tr><td>K Rabada</td><td>SA Yadav</td><td>3</td></tr><tr><td>YS Chahal</td><td>Ishan Kishan</td><td>3</td></tr><tr><td>CV Varun</td><td>RR Pant</td><td>3</td></tr><tr><td>TA Boult</td><td>RD Gaikwad</td><td>3</td></tr><tr><td>PJ Cummins</td><td>RG Sharma</td><td>3</td></tr><tr><td>Arshdeep Singh</td><td>AD Russell</td><td>3</td></tr><tr><td>I Sharma</td><td>LS Livingstone</td><td>3</td></tr><tr><td>Mohammed Shami</td><td>MK Pandey</td><td>3</td></tr><tr><td>CH Morris</td><td>RA Jadeja</td><td>3</td></tr><tr><td>Arshdeep Singh</td><td>D Padikkal</td><td>3</td></tr><tr><td>AR Patel</td><td>F du Plessis</td><td>3</td></tr><tr><td>HV Patel</td><td>R Parag</td><td>3</td></tr><tr><td>Rashid Khan</td><td>AD Russell</td><td>3</td></tr><tr><td>K Rabada</td><td>KD Karthik</td><td>3</td></tr><tr><td>Ravi Bishnoi</td><td>EJG Morgan</td><td>3</td></tr><tr><td>DL Chahar</td><td>RG Sharma</td><td>3</td></tr><tr><td>T Natarajan</td><td>RK Singh</td><td>3</td></tr><tr><td>K Rabada</td><td>RD Gaikwad</td><td>3</td></tr><tr><td>CV Varun</td><td>PP Shaw</td><td>3</td></tr><tr><td>Avesh Khan</td><td>HH Pandya</td><td>3</td></tr><tr><td>SP Narine</td><td>A Badoni</td><td>3</td></tr><tr><td>GJ Maxwell</td><td>KH Pandya</td><td>3</td></tr><tr><td>TA Boult</td><td>Q de Kock</td><td>3</td></tr><tr><td>PWH de Silva</td><td>SV Samson</td><td>3</td></tr><tr><td>M Jansen</td><td>VR Iyer</td><td>3</td></tr><tr><td>KH Pandya</td><td>AK Markram</td><td>3</td></tr><tr><td>Mohammed Shami</td><td>DP Conway</td><td>3</td></tr><tr><td>TU Deshpande</td><td>KD Karthik</td><td>3</td></tr><tr><td>Arshdeep Singh</td><td>KD Karthik</td><td>3</td></tr><tr><td>TA Boult</td><td>Shahbaz Ahmed</td><td>3</td></tr><tr><td>DL Chahar</td><td>WP Saha</td><td>3</td></tr><tr><td>T Natarajan</td><td>RD Gaikwad</td><td>3</td></tr><tr><td>Harbhajan Singh</td><td>MK Pandey</td><td>4</td></tr><tr><td>PP Chawla</td><td>SK Raina</td><td>4</td></tr><tr><td>IK Pathan</td><td>RV Uthappa</td><td>4</td></tr><tr><td>RP Singh</td><td>JH Kallis</td><td>4</td></tr><tr><td>P Kumar</td><td>Harbhajan Singh</td><td>4</td></tr><tr><td>DS Kulkarni</td><td>RV Uthappa</td><td>4</td></tr><tr><td>SL Malinga</td><td>BB McCullum</td><td>4</td></tr><tr><td>PP Chawla</td><td>BB McCullum</td><td>4</td></tr><tr><td>PP Chawla</td><td>WP Saha</td><td>4</td></tr><tr><td>PP Chawla</td><td>SR Tendulkar</td><td>4</td></tr><tr><td>R Ashwin</td><td>KA Pollard</td><td>4</td></tr><tr><td>Harbhajan Singh</td><td>KC Sangakkara</td><td>4</td></tr><tr><td>AB Dinda</td><td>AT Rayudu</td><td>4</td></tr><tr><td>RP Singh</td><td>NV Ojha</td><td>4</td></tr><tr><td>I Sharma</td><td>S Dhawan</td><td>4</td></tr><tr><td>Z Khan</td><td>MEK Hussey</td><td>4</td></tr><tr><td>DJ Bravo</td><td>KD Karthik</td><td>4</td></tr><tr><td>R Vinay Kumar</td><td>SC Ganguly</td><td>4</td></tr><tr><td>A Mishra</td><td>RA Jadeja</td><td>4</td></tr><tr><td>IK Pathan</td><td>V Kohli</td><td>4</td></tr><tr><td>SK Warne</td><td>RG Sharma</td><td>4</td></tr><tr><td>DJ Bravo</td><td>SK Raina</td><td>4</td></tr><tr><td>SK Trivedi</td><td>DJ Hussey</td><td>4</td></tr><tr><td>R Ashwin</td><td>DA Warner</td><td>4</td></tr><tr><td>Z Khan</td><td>V Kohli</td><td>4</td></tr><tr><td>SR Watson</td><td>AT Rayudu</td><td>4</td></tr><tr><td>IK Pathan</td><td>AC Gilchrist</td><td>4</td></tr><tr><td>R Vinay Kumar</td><td>YK Pathan</td><td>4</td></tr><tr><td>S Nadeem</td><td>AM Rahane</td><td>4</td></tr><tr><td>P Kumar</td><td>S Dhawan</td><td>4</td></tr><tr><td>Shakib Al Hasan</td><td>AT Rayudu</td><td>4</td></tr><tr><td>SL Malinga</td><td>MK Pandey</td><td>4</td></tr><tr><td>M Morkel</td><td>MK Tiwary</td><td>4</td></tr><tr><td>SP Narine</td><td>AM Rahane</td><td>4</td></tr><tr><td>PP Chawla</td><td>RA Jadeja</td><td>4</td></tr><tr><td>A Mishra</td><td>SK Raina</td><td>4</td></tr><tr><td>Z Khan</td><td>S Dhawan</td><td>4</td></tr><tr><td>Harbhajan Singh</td><td>DA Warner</td><td>4</td></tr><tr><td>S Aravind</td><td>M Vijay</td><td>4</td></tr><tr><td>R Ashwin</td><td>PA Patel</td><td>4</td></tr><tr><td>A Nehra</td><td>KD Karthik</td><td>4</td></tr><tr><td>B Kumar</td><td>YK Pathan</td><td>4</td></tr><tr><td>SP Narine</td><td>MEK Hussey</td><td>4</td></tr><tr><td>DJ Bravo</td><td>KA Pollard</td><td>4</td></tr><tr><td>SL Malinga</td><td>SR Watson</td><td>4</td></tr><tr><td>SL Malinga</td><td>S Dhawan</td><td>4</td></tr><tr><td>DJ Bravo</td><td>Harbhajan Singh</td><td>4</td></tr><tr><td>PP Chawla</td><td>AB de Villiers</td><td>4</td></tr><tr><td>Harbhajan Singh</td><td>S Dhawan</td><td>4</td></tr><tr><td>UT Yadav</td><td>AM Rahane</td><td>4</td></tr><tr><td>Sandeep Sharma</td><td>CH Gayle</td><td>4</td></tr><tr><td>YS Chahal</td><td>SK Raina</td><td>4</td></tr><tr><td>SP Narine</td><td>AT Rayudu</td><td>4</td></tr><tr><td>MJ McClenaghan</td><td>SV Samson</td><td>4</td></tr><tr><td>SP Narine</td><td>AR Patel</td><td>4</td></tr><tr><td>YS Chahal</td><td>HH Pandya</td><td>4</td></tr><tr><td>Harbhajan Singh</td><td>KK Nair</td><td>4</td></tr><tr><td>UT Yadav</td><td>Yuvraj Singh</td><td>4</td></tr><tr><td>Harbhajan Singh</td><td>DR Smith</td><td>4</td></tr><tr><td>SP Narine</td><td>WP Saha</td><td>4</td></tr><tr><td>JP Faulkner</td><td>S Dhawan</td><td>4</td></tr><tr><td>DJ Bravo</td><td>AR Patel</td><td>4</td></tr><tr><td>AR Patel</td><td>BB McCullum</td><td>4</td></tr><tr><td>Sandeep Sharma</td><td>SA Yadav</td><td>4</td></tr><tr><td>Mohammed Shami</td><td>RG Sharma</td><td>4</td></tr><tr><td>R Ashwin</td><td>RG Sharma</td><td>4</td></tr><tr><td>UT Yadav</td><td>CH Gayle</td><td>4</td></tr><tr><td>YS Chahal</td><td>KA Pollard</td><td>4</td></tr><tr><td>CH Morris</td><td>AD Russell</td><td>4</td></tr><tr><td>AR Patel</td><td>MA Agarwal</td><td>4</td></tr><tr><td>SP Narine</td><td>AB de Villiers</td><td>4</td></tr><tr><td>SP Narine</td><td>V Kohli</td><td>4</td></tr><tr><td>DS Kulkarni</td><td>RG Sharma</td><td>4</td></tr><tr><td>SP Narine</td><td>GJ Maxwell</td><td>4</td></tr><tr><td>CH Morris</td><td>KD Karthik</td><td>4</td></tr><tr><td>MJ McClenaghan</td><td>V Kohli</td><td>4</td></tr><tr><td>DS Kulkarni</td><td>V Kohli</td><td>4</td></tr><tr><td>DS Kulkarni</td><td>KL Rahul</td><td>4</td></tr><tr><td>B Kumar</td><td>SV Samson</td><td>4</td></tr><tr><td>Mohammed Siraj</td><td>RR Pant</td><td>4</td></tr><tr><td>JJ Bumrah</td><td>DJ Bravo</td><td>4</td></tr><tr><td>TA Boult</td><td>RA Tripathi</td><td>4</td></tr><tr><td>Rashid Khan</td><td>MM Ali</td><td>4</td></tr><tr><td>CJ Jordan</td><td>KD Karthik</td><td>4</td></tr><tr><td>JJ Bumrah</td><td>Rashid Khan</td><td>4</td></tr><tr><td>AD Russell</td><td>RR Pant</td><td>4</td></tr><tr><td>JJ Bumrah</td><td>AD Russell</td><td>4</td></tr><tr><td>Mohammed Siraj</td><td>WP Saha</td><td>4</td></tr><tr><td>JJ Bumrah</td><td>MS Dhoni</td><td>4</td></tr><tr><td>PJ Cummins</td><td>Ishan Kishan</td><td>4</td></tr><tr><td>B Kumar</td><td>SR Watson</td><td>4</td></tr><tr><td>AD Russell</td><td>RA Tripathi</td><td>4</td></tr><tr><td>S Gopal</td><td>AB de Villiers</td><td>4</td></tr><tr><td>KH Pandya</td><td>AB de Villiers</td><td>4</td></tr><tr><td>R Ashwin</td><td>Q de Kock</td><td>4</td></tr><tr><td>Mohammed Shami</td><td>KS Williamson</td><td>4</td></tr><tr><td>DL Chahar</td><td>AM Rahane</td><td>4</td></tr><tr><td>Rashid Khan</td><td>RG Sharma</td><td>4</td></tr><tr><td>YS Chahal</td><td>MK Pandey</td><td>4</td></tr><tr><td>AD Russell</td><td>SA Yadav</td><td>4</td></tr><tr><td>B Kumar</td><td>MK Pandey</td><td>4</td></tr><tr><td>R Ashwin</td><td>S Dhawan</td><td>4</td></tr><tr><td>Kuldeep Yadav</td><td>GJ Maxwell</td><td>4</td></tr><tr><td>JJ Bumrah</td><td>AR Patel</td><td>4</td></tr><tr><td>Rashid Khan</td><td>JC Buttler</td><td>4</td></tr><tr><td>Mohammed Shami</td><td>R Parag</td><td>4</td></tr><tr><td>Rashid Khan</td><td>D Padikkal</td><td>4</td></tr><tr><td>Rashid Khan</td><td>S Dhawan</td><td>4</td></tr><tr><td>Ravi Bishnoi</td><td>RG Sharma</td><td>4</td></tr><tr><td>YS Chahal</td><td>JM Bairstow</td><td>4</td></tr><tr><td>HV Patel</td><td>HH Pandya</td><td>4</td></tr><tr><td>A Nortje</td><td>Shubman Gill</td><td>4</td></tr><tr><td>K Rabada</td><td>N Pooran</td><td>4</td></tr><tr><td>Harpreet Brar</td><td>GJ Maxwell</td><td>4</td></tr><tr><td>KK Ahmed</td><td>M Shahrukh Khan</td><td>4</td></tr><tr><td>YS Chahal</td><td>AT Rayudu</td><td>4</td></tr><tr><td>DL Chahar</td><td>Q de Kock</td><td>4</td></tr><tr><td>TA Boult</td><td>PP Shaw</td><td>4</td></tr><tr><td>SN Thakur</td><td>N Pooran</td><td>4</td></tr><tr><td>Mohammed Shami</td><td>RA Tripathi</td><td>4</td></tr><tr><td>Ravi Bishnoi</td><td>Ishan Kishan</td><td>4</td></tr><tr><td>CV Varun</td><td>MS Dhoni</td><td>4</td></tr><tr><td>Mohammed Siraj</td><td>PP Shaw</td><td>4</td></tr><tr><td>K Rabada</td><td>KL Rahul</td><td>4</td></tr><tr><td>Mohammed Shami</td><td>SO Hetmyer</td><td>4</td></tr><tr><td>Mohammed Shami</td><td>Q de Kock</td><td>4</td></tr><tr><td>TA Boult</td><td>F du Plessis</td><td>4</td></tr><tr><td>Rashid Khan</td><td>DJ Hooda</td><td>4</td></tr><tr><td>K Rabada</td><td>WP Saha</td><td>4</td></tr><tr><td>DJ Bravo</td><td>RG Sharma</td><td>5</td></tr><tr><td>R Ashwin</td><td>CH Gayle</td><td>5</td></tr><tr><td>UT Yadav</td><td>RG Sharma</td><td>5</td></tr><tr><td>A Mishra</td><td>RV Uthappa</td><td>5</td></tr><tr><td>Harbhajan Singh</td><td>G Gambhir</td><td>5</td></tr><tr><td>PP Ojha</td><td>G Gambhir</td><td>5</td></tr><tr><td>R Sharma</td><td>KC Sangakkara</td><td>5</td></tr><tr><td>RA Jadeja</td><td>V Kohli</td><td>5</td></tr><tr><td>JJ Bumrah</td><td>V Kohli</td><td>5</td></tr><tr><td>RA Jadeja</td><td>SR Watson</td><td>5</td></tr><tr><td>UT Yadav</td><td>V Kohli</td><td>5</td></tr><tr><td>R Ashwin</td><td>AT Rayudu</td><td>5</td></tr><tr><td>HV Patel</td><td>AT Rayudu</td><td>5</td></tr><tr><td>Harbhajan Singh</td><td>SK Raina</td><td>5</td></tr><tr><td>UT Yadav</td><td>DA Warner</td><td>5</td></tr><tr><td>MM Sharma</td><td>YK Pathan</td><td>5</td></tr><tr><td>RA Jadeja</td><td>SPD Smith</td><td>5</td></tr><tr><td>Harbhajan Singh</td><td>CH Gayle</td><td>5</td></tr><tr><td>SP Narine</td><td>SR Watson</td><td>5</td></tr><tr><td>A Mishra</td><td>GJ Maxwell</td><td>5</td></tr><tr><td>Sandeep Sharma</td><td>RG Sharma</td><td>5</td></tr><tr><td>YS Chahal</td><td>SV Samson</td><td>5</td></tr><tr><td>B Kumar</td><td>V Kohli</td><td>5</td></tr><tr><td>JJ Bumrah</td><td>GJ Maxwell</td><td>5</td></tr><tr><td>Shivam Mavi</td><td>SV Samson</td><td>5</td></tr><tr><td>Mohammed Shami</td><td>V Kohli</td><td>5</td></tr><tr><td>AD Russell</td><td>SS Iyer</td><td>5</td></tr><tr><td>Imran Tahir</td><td>Ishan Kishan</td><td>5</td></tr><tr><td>DL Chahar</td><td>Shubman Gill</td><td>5</td></tr><tr><td>SK Trivedi</td><td>RG Sharma</td><td>6</td></tr><tr><td>A Nehra</td><td>V Kohli</td><td>6</td></tr><tr><td>R Vinay Kumar</td><td>RG Sharma</td><td>6</td></tr><tr><td>Z Khan</td><td>G Gambhir</td><td>6</td></tr><tr><td>PP Chawla</td><td>AT Rayudu</td><td>6</td></tr><tr><td>A Mishra</td><td>SR Watson</td><td>6</td></tr><tr><td>R Ashwin</td><td>AM Rahane</td><td>6</td></tr><tr><td>RA Jadeja</td><td>GJ Maxwell</td><td>6</td></tr><tr><td>YS Chahal</td><td>Q de Kock</td><td>6</td></tr><tr><td>AR Patel</td><td>SR Watson</td><td>6</td></tr><tr><td>YS Chahal</td><td>N Rana</td><td>6</td></tr><tr><td>DL Chahar</td><td>PP Shaw</td><td>6</td></tr><tr><td>YS Chahal</td><td>MA Agarwal</td><td>6</td></tr><tr><td>A Mishra</td><td>RG Sharma</td><td>7</td></tr><tr><td>Z Khan</td><td>MS Dhoni</td><td>7</td></tr><tr><td>PP Ojha</td><td>MS Dhoni</td><td>7</td></tr><tr><td>B Kumar</td><td>PA Patel</td><td>7</td></tr><tr><td>R Ashwin</td><td>RV Uthappa</td><td>7</td></tr><tr><td>B Kumar</td><td>AM Rahane</td><td>7</td></tr><tr><td>MM Sharma</td><td>AT Rayudu</td><td>7</td></tr><tr><td>Sandeep Sharma</td><td>V Kohli</td><td>7</td></tr><tr><td>JJ Bumrah</td><td>RR Pant</td><td>7</td></tr><tr><td>SP Narine</td><td>RG Sharma</td><td>9</td></tr></tbody></table></div>"
      ]
     },
     "metadata": {
      "application/vnd.databricks.v1+output": {
       "addedWidgets": {},
       "aggData": [],
       "aggError": "",
       "aggOverflow": false,
       "aggSchema": [],
       "aggSeriesLimitReached": false,
       "aggType": "",
       "arguments": {},
       "columnCustomDisplayInfos": {},
       "data": [
        [
         "DS Kulkarni",
         "RA Jadeja",
         2
        ],
        [
         "Z Khan",
         "OA Shah",
         2
        ],
        [
         "SK Trivedi",
         "SC Ganguly",
         2
        ],
        [
         "SR Watson",
         "WP Saha",
         2
        ],
        [
         "SL Malinga",
         "TM Dilshan",
         2
        ],
        [
         "SL Malinga",
         "G Gambhir",
         2
        ],
        [
         "PP Ojha",
         "V Sehwag",
         2
        ],
        [
         "RJ Harris",
         "V Kohli",
         2
        ],
        [
         "A Kumble",
         "S Badrinath",
         2
        ],
        [
         "MF Maharoof",
         "SK Warne",
         2
        ],
        [
         "DL Vettori",
         "S Badrinath",
         2
        ],
        [
         "JA Morkel",
         "NV Ojha",
         2
        ],
        [
         "DW Steyn",
         "G Gambhir",
         2
        ],
        [
         "DW Steyn",
         "AS Yadav",
         2
        ],
        [
         "L Balaji",
         "KD Karthik",
         2
        ],
        [
         "YK Pathan",
         "ML Hayden",
         2
        ],
        [
         "ST Jayasuriya",
         "DR Smith",
         2
        ],
        [
         "P Kumar",
         "MD Mishra",
         2
        ],
        [
         "PJ Sangwan",
         "TL Suman",
         2
        ],
        [
         "A Mishra",
         "NV Ojha",
         2
        ],
        [
         "SB Jakati",
         "JH Kallis",
         2
        ],
        [
         "JH Kallis",
         "DA Warner",
         2
        ],
        [
         "RP Singh",
         "ST Jayasuriya",
         2
        ],
        [
         "A Symonds",
         "SM Katich",
         2
        ],
        [
         "JH Kallis",
         "Yuvraj Singh",
         2
        ],
        [
         "SK Trivedi",
         "JH Kallis",
         2
        ],
        [
         "R Vinay Kumar",
         "JDP Oram",
         2
        ],
        [
         "Joginder Sharma",
         "DJ Bravo",
         2
        ],
        [
         "MF Maharoof",
         "Misbah-ul-Haq",
         2
        ],
        [
         "RE van der Merwe",
         "MS Dhoni",
         2
        ],
        [
         "R Bhatia",
         "RG Sharma",
         2
        ],
        [
         "Harbhajan Singh",
         "DPMD Jayawardene",
         2
        ],
        [
         "JDP Oram",
         "B Akhil",
         2
        ],
        [
         "JH Kallis",
         "M Vijay",
         2
        ],
        [
         "DJ Bravo",
         "CH Gayle",
         2
        ],
        [
         "SB Styris",
         "R Dravid",
         2
        ],
        [
         "AB Agarkar",
         "RA Jadeja",
         2
        ],
        [
         "Z Khan",
         "NV Ojha",
         2
        ],
        [
         "R Ashwin",
         "AC Gilchrist",
         2
        ],
        [
         "SK Warne",
         "PA Patel",
         2
        ],
        [
         "SK Trivedi",
         "M Vijay",
         2
        ],
        [
         "B Lee",
         "DB Ravi Teja",
         2
        ],
        [
         "SR Watson",
         "SK Raina",
         2
        ],
        [
         "Kamran Khan",
         "RS Bopara",
         2
        ],
        [
         "MS Gony",
         "G Gambhir",
         2
        ],
        [
         "Umar Gul",
         "KC Sangakkara",
         2
        ],
        [
         "Z Khan",
         "BJ Hodge",
         2
        ],
        [
         "JP Duminy",
         "DA Warner",
         2
        ],
        [
         "DJ Bravo",
         "Yuvraj Singh",
         2
        ],
        [
         "IK Pathan",
         "R Ashwin",
         2
        ],
        [
         "S Narwal",
         "G Gambhir",
         2
        ],
        [
         "Harbhajan Singh",
         "R Bhatia",
         2
        ],
        [
         "SL Malinga",
         "PP Chawla",
         2
        ],
        [
         "PJ Sangwan",
         "RV Uthappa",
         2
        ],
        [
         "IK Pathan",
         "R Dravid",
         2
        ],
        [
         "PJ Sangwan",
         "ML Hayden",
         2
        ],
        [
         "SK Raina",
         "Yuvraj Singh",
         2
        ],
        [
         "J Theron",
         "SK Raina",
         2
        ],
        [
         "DW Steyn",
         "MS Dhoni",
         2
        ],
        [
         "A Kumble",
         "SK Warne",
         2
        ],
        [
         "SK Warne",
         "AB de Villiers",
         2
        ],
        [
         "SK Trivedi",
         "KC Sangakkara",
         2
        ],
        [
         "Z Khan",
         "RV Uthappa",
         2
        ],
        [
         "Z Khan",
         "RG Sharma",
         2
        ],
        [
         "MM Patel",
         "JH Kallis",
         2
        ],
        [
         "A Mishra",
         "WP Saha",
         2
        ],
        [
         "Harbhajan Singh",
         "SC Ganguly",
         2
        ],
        [
         "Sohail Tanvir",
         "JA Morkel",
         2
        ],
        [
         "Sohail Tanvir",
         "Umar Gul",
         2
        ],
        [
         "MM Patel",
         "DPMD Jayawardene",
         2
        ],
        [
         "DW Steyn",
         "DA Warner",
         2
        ],
        [
         "R Bhatia",
         "LRPL Taylor",
         2
        ],
        [
         "S Sreesanth",
         "DB Das",
         2
        ],
        [
         "A Nehra",
         "RV Uthappa",
         2
        ],
        [
         "MS Gony",
         "K Goel",
         2
        ],
        [
         "BJ Hodge",
         "AC Gilchrist",
         2
        ],
        [
         "L Balaji",
         "JH Kallis",
         2
        ],
        [
         "SR Watson",
         "ST Jayasuriya",
         2
        ],
        [
         "S Sreesanth",
         "AB de Villiers",
         2
        ],
        [
         "JH Kallis",
         "S Dhawan",
         2
        ],
        [
         "AG Murtaza",
         "NV Ojha",
         2
        ],
        [
         "Harmeet Singh",
         "RV Uthappa",
         2
        ],
        [
         "R Bhatia",
         "CH Gayle",
         2
        ],
        [
         "SL Malinga",
         "SE Marsh",
         2
        ],
        [
         "JA Morkel",
         "TM Dilshan",
         2
        ],
        [
         "PP Chawla",
         "DJ Bravo",
         2
        ],
        [
         "PP Ojha",
         "NV Ojha",
         2
        ],
        [
         "JH Kallis",
         "PA Patel",
         2
        ],
        [
         "YK Pathan",
         "BJ Hodge",
         2
        ],
        [
         "IK Pathan",
         "V Sehwag",
         2
        ],
        [
         "A Kumble",
         "KC Sangakkara",
         2
        ],
        [
         "PJ Sangwan",
         "MV Boucher",
         2
        ],
        [
         "A Mishra",
         "R Dravid",
         2
        ],
        [
         "Kamran Khan",
         "CH Gayle",
         2
        ],
        [
         "PP Ojha",
         "S Dhawan",
         2
        ],
        [
         "R Vinay Kumar",
         "GJ Bailey",
         2
        ],
        [
         "SJ Srivastava",
         "AT Rayudu",
         2
        ],
        [
         "RR Powar",
         "AC Gilchrist",
         2
        ],
        [
         "Yuvraj Singh",
         "HH Gibbs",
         2
        ],
        [
         "MM Patel",
         "MK Tiwary",
         2
        ],
        [
         "SK Warne",
         "TM Dilshan",
         2
        ],
        [
         "A Nehra",
         "Y Venugopal Rao",
         2
        ],
        [
         "Harmeet Singh",
         "R Dravid",
         2
        ],
        [
         "AD Mascarenhas",
         "RV Uthappa",
         2
        ],
        [
         "SB Jakati",
         "V Kohli",
         2
        ],
        [
         "JH Kallis",
         "CH Gayle",
         2
        ],
        [
         "RP Singh",
         "V Kohli",
         2
        ],
        [
         "IK Pathan",
         "AM Nayar",
         2
        ],
        [
         "WPUJC Vaas",
         "V Sehwag",
         2
        ],
        [
         "B Lee",
         "ST Jayasuriya",
         2
        ],
        [
         "R Vinay Kumar",
         "V Sehwag",
         2
        ],
        [
         "M Kartik",
         "RG Sharma",
         2
        ],
        [
         "DJ Bravo",
         "IK Pathan",
         2
        ],
        [
         "KA Pollard",
         "ML Hayden",
         2
        ],
        [
         "SB Jakati",
         "YK Pathan",
         2
        ],
        [
         "RJ Harris",
         "MK Pandey",
         2
        ],
        [
         "A Mishra",
         "AC Gilchrist",
         2
        ],
        [
         "AB Dinda",
         "DA Warner",
         2
        ],
        [
         "DP Nannes",
         "SC Ganguly",
         2
        ],
        [
         "L Balaji",
         "IK Pathan",
         2
        ],
        [
         "P Kumar",
         "HH Gibbs",
         2
        ],
        [
         "JD Unadkat",
         "NV Ojha",
         2
        ],
        [
         "PP Chawla",
         "HH Gibbs",
         2
        ],
        [
         "A Mishra",
         "M Kaif",
         2
        ],
        [
         "RP Singh",
         "S Sohal",
         2
        ],
        [
         "Harbhajan Singh",
         "V Sehwag",
         2
        ],
        [
         "A Nehra",
         "AM Nayar",
         2
        ],
        [
         "S Sreesanth",
         "AC Gilchrist",
         2
        ],
        [
         "SL Malinga",
         "K Goel",
         2
        ],
        [
         "RR Powar",
         "ML Hayden",
         2
        ],
        [
         "IK Pathan",
         "RA Jadeja",
         2
        ],
        [
         "JH Kallis",
         "SK Raina",
         2
        ],
        [
         "PJ Sangwan",
         "AM Rahane",
         2
        ],
        [
         "MS Gony",
         "R Dravid",
         2
        ],
        [
         "SB Jakati",
         "DR Smith",
         2
        ],
        [
         "JH Kallis",
         "AT Rayudu",
         2
        ],
        [
         "L Balaji",
         "G Gambhir",
         2
        ],
        [
         "RR Raje",
         "SR Watson",
         2
        ],
        [
         "I Sharma",
         "RA Jadeja",
         2
        ],
        [
         "SK Trivedi",
         "V Kohli",
         2
        ],
        [
         "DS Kulkarni",
         "V Sehwag",
         2
        ],
        [
         "MC Henriques",
         "G Gambhir",
         2
        ],
        [
         "Sohail Tanvir",
         "DB Das",
         2
        ],
        [
         "Yuvraj Singh",
         "RV Uthappa",
         2
        ],
        [
         "SM Pollock",
         "SC Ganguly",
         2
        ],
        [
         "A Mishra",
         "PC Valthaty",
         2
        ],
        [
         "AB Dinda",
         "MK Pandey",
         2
        ],
        [
         "PP Chawla",
         "Y Venugopal Rao",
         2
        ],
        [
         "Harbhajan Singh",
         "PP Chawla",
         2
        ],
        [
         "VRV Singh",
         "R Dravid",
         2
        ],
        [
         "SK Trivedi",
         "Yuvraj Singh",
         2
        ],
        [
         "SW Tait",
         "KD Karthik",
         2
        ],
        [
         "Z Khan",
         "LR Shukla",
         2
        ],
        [
         "RJ Harris",
         "DA Warner",
         2
        ],
        [
         "PP Ojha",
         "SC Ganguly",
         2
        ],
        [
         "R Vinay Kumar",
         "S Badrinath",
         2
        ],
        [
         "JA Morkel",
         "JH Kallis",
         2
        ],
        [
         "I Sharma",
         "Y Venugopal Rao",
         2
        ],
        [
         "RP Singh",
         "G Gambhir",
         2
        ],
        [
         "DP Nannes",
         "AC Gilchrist",
         2
        ],
        [
         "Harbhajan Singh",
         "JH Kallis",
         2
        ],
        [
         "A Nehra",
         "BJ Hodge",
         2
        ],
        [
         "P Kumar",
         "SC Ganguly",
         2
        ],
        [
         "RP Singh",
         "TM Dilshan",
         2
        ],
        [
         "PJ Sangwan",
         "SK Raina",
         2
        ],
        [
         "AB Dinda",
         "DPMD Jayawardene",
         2
        ],
        [
         "MF Maharoof",
         "YK Pathan",
         2
        ],
        [
         "S Sreesanth",
         "M Kaif",
         2
        ],
        [
         "JA Morkel",
         "SA Asnodkar",
         2
        ],
        [
         "A Mishra",
         "SR Tendulkar",
         2
        ],
        [
         "JA Morkel",
         "Yuvraj Singh",
         2
        ],
        [
         "KA Pollard",
         "Yuvraj Singh",
         2
        ],
        [
         "R Bhatia",
         "SK Raina",
         2
        ],
        [
         "R Vinay Kumar",
         "JA Morkel",
         2
        ],
        [
         "SR Watson",
         "S Dhawan",
         2
        ],
        [
         "I Sharma",
         "JH Kallis",
         2
        ],
        [
         "A Nehra",
         "M Vijay",
         2
        ],
        [
         "A Kumble",
         "A Symonds",
         2
        ],
        [
         "SL Malinga",
         "IK Pathan",
         2
        ],
        [
         "RJ Harris",
         "BJ Hodge",
         2
        ],
        [
         "Yuvraj Singh",
         "Y Venugopal Rao",
         2
        ],
        [
         "A Mishra",
         "JH Kallis",
         2
        ],
        [
         "PP Chawla",
         "DJ Hussey",
         2
        ],
        [
         "RE van der Merwe",
         "DPMD Jayawardene",
         2
        ],
        [
         "A Singh",
         "SK Raina",
         2
        ],
        [
         "RP Singh",
         "S Dhawan",
         2
        ],
        [
         "M Muralitharan",
         "DR Smith",
         2
        ],
        [
         "PP Ojha",
         "LRPL Taylor",
         2
        ],
        [
         "S Sreesanth",
         "NV Ojha",
         2
        ],
        [
         "AB Agarkar",
         "A Symonds",
         2
        ],
        [
         "AB Dinda",
         "AC Gilchrist",
         2
        ],
        [
         "SC Ganguly",
         "IK Pathan",
         2
        ],
        [
         "SB Jakati",
         "BB McCullum",
         2
        ],
        [
         "DW Steyn",
         "AB de Villiers",
         2
        ],
        [
         "L Balaji",
         "RA Jadeja",
         2
        ],
        [
         "SK Warne",
         "MS Bisla",
         2
        ],
        [
         "Z Khan",
         "SC Ganguly",
         2
        ],
        [
         "I Sharma",
         "R Dravid",
         2
        ],
        [
         "SL Malinga",
         "LRPL Taylor",
         2
        ],
        [
         "A Mishra",
         "Mandeep Singh",
         2
        ],
        [
         "RE van der Merwe",
         "ST Jayasuriya",
         2
        ],
        [
         "MM Patel",
         "Yuvraj Singh",
         2
        ],
        [
         "JP Duminy",
         "Yuvraj Singh",
         2
        ],
        [
         "M Muralitharan",
         "R Dravid",
         2
        ],
        [
         "DW Steyn",
         "TL Suman",
         2
        ],
        [
         "JA Morkel",
         "RV Uthappa",
         2
        ],
        [
         "MS Gony",
         "JH Kallis",
         2
        ],
        [
         "MM Patel",
         "TM Dilshan",
         2
        ],
        [
         "DJ Bravo",
         "KC Sangakkara",
         2
        ],
        [
         "SK Raina",
         "GC Smith",
         2
        ],
        [
         "R Vinay Kumar",
         "AT Rayudu",
         2
        ],
        [
         "R Sharma",
         "M Manhas",
         2
        ],
        [
         "RP Singh",
         "MV Boucher",
         2
        ],
        [
         "IK Pathan",
         "G Gambhir",
         2
        ],
        [
         "KA Pollard",
         "YK Pathan",
         2
        ],
        [
         "WA Mota",
         "SK Raina",
         2
        ],
        [
         "JH Kallis",
         "CA Pujara",
         2
        ],
        [
         "MF Maharoof",
         "GC Smith",
         2
        ],
        [
         "DW Steyn",
         "YK Pathan",
         2
        ],
        [
         "ST Jayasuriya",
         "Mohammad Hafeez",
         2
        ],
        [
         "JA Morkel",
         "YK Pathan",
         2
        ],
        [
         "I Sharma",
         "AM Rahane",
         2
        ],
        [
         "PJ Sangwan",
         "SR Tendulkar",
         2
        ],
        [
         "DJ Bravo",
         "AC Gilchrist",
         2
        ],
        [
         "PP Chawla",
         "NV Ojha",
         2
        ],
        [
         "MM Patel",
         "G Gambhir",
         2
        ],
        [
         "AB Dinda",
         "VVS Laxman",
         2
        ],
        [
         "DW Steyn",
         "ST Jayasuriya",
         2
        ],
        [
         "Yuvraj Singh",
         "KD Karthik",
         2
        ],
        [
         "P Kumar",
         "MEK Hussey",
         2
        ],
        [
         "SL Malinga",
         "MS Dhoni",
         2
        ],
        [
         "P Kumar",
         "IK Pathan",
         2
        ],
        [
         "R Vinay Kumar",
         "DJ Bravo",
         2
        ],
        [
         "SK Trivedi",
         "G Gambhir",
         2
        ],
        [
         "A Kumble",
         "ML Hayden",
         2
        ],
        [
         "AB Dinda",
         "KD Karthik",
         2
        ],
        [
         "Z Khan",
         "SE Marsh",
         2
        ],
        [
         "DJ Bravo",
         "RS Bopara",
         2
        ],
        [
         "Harbhajan Singh",
         "AC Gilchrist",
         2
        ],
        [
         "DW Steyn",
         "JA Morkel",
         2
        ],
        [
         "Yuvraj Singh",
         "A Symonds",
         2
        ],
        [
         "GD McGrath",
         "P Kumar",
         2
        ],
        [
         "SL Malinga",
         "BJ Hodge",
         2
        ],
        [
         "JA Morkel",
         "V Kohli",
         2
        ],
        [
         "A Nehra",
         "RJ Quiney",
         2
        ],
        [
         "PP Ojha",
         "MK Pandey",
         2
        ],
        [
         "SB Jakati",
         "SS Tiwary",
         2
        ],
        [
         "IK Pathan",
         "RG Sharma",
         2
        ],
        [
         "PP Chawla",
         "MK Pandey",
         2
        ],
        [
         "A Kumble",
         "RG Sharma",
         2
        ],
        [
         "P Kumar",
         "GC Smith",
         2
        ],
        [
         "JA Morkel",
         "MS Bisla",
         2
        ],
        [
         "SL Malinga",
         "KC Sangakkara",
         2
        ],
        [
         "SR Watson",
         "SE Marsh",
         2
        ],
        [
         "IK Pathan",
         "KD Karthik",
         2
        ],
        [
         "KP Pietersen",
         "SK Raina",
         2
        ],
        [
         "DP Nannes",
         "MS Dhoni",
         2
        ],
        [
         "AB Dinda",
         "RG Sharma",
         2
        ],
        [
         "PP Ojha",
         "KD Karthik",
         2
        ],
        [
         "R Ashwin",
         "AB de Villiers",
         2
        ],
        [
         "IK Pathan",
         "JDP Oram",
         2
        ],
        [
         "SB Jakati",
         "S Dhawan",
         2
        ],
        [
         "PP Chawla",
         "SS Tiwary",
         2
        ],
        [
         "MS Gony",
         "V Sehwag",
         2
        ],
        [
         "R Sharma",
         "SR Tendulkar",
         2
        ],
        [
         "M Muralitharan",
         "V Kohli",
         2
        ],
        [
         "MM Patel",
         "SC Ganguly",
         2
        ],
        [
         "MM Patel",
         "SK Raina",
         2
        ],
        [
         "YK Pathan",
         "AC Gilchrist",
         2
        ],
        [
         "VRV Singh",
         "LR Shukla",
         2
        ],
        [
         "SK Trivedi",
         "RP Singh",
         2
        ],
        [
         "JA Morkel",
         "MJ Lumb",
         2
        ],
        [
         "P Kumar",
         "SA Asnodkar",
         2
        ],
        [
         "I Sharma",
         "KD Karthik",
         2
        ],
        [
         "SB Jakati",
         "KD Karthik",
         2
        ],
        [
         "DP Nannes",
         "JP Duminy",
         2
        ],
        [
         "DS Kulkarni",
         "DA Warner",
         2
        ],
        [
         "AB Dinda",
         "S Dhawan",
         2
        ],
        [
         "SL Malinga",
         "AB Dinda",
         2
        ],
        [
         "RP Singh",
         "R Bhatia",
         2
        ],
        [
         "AG Murtaza",
         "V Sehwag",
         2
        ],
        [
         "IK Pathan",
         "JD Ryder",
         2
        ],
        [
         "SK Raina",
         "PP Ojha",
         2
        ],
        [
         "A Mishra",
         "IK Pathan",
         2
        ],
        [
         "SR Watson",
         "DJ Bravo",
         2
        ],
        [
         "PP Ojha",
         "R Dravid",
         2
        ],
        [
         "SK Trivedi",
         "DPMD Jayawardene",
         2
        ],
        [
         "DW Steyn",
         "RP Singh",
         2
        ],
        [
         "M Muralitharan",
         "M Kaif",
         2
        ],
        [
         "SK Trivedi",
         "JP Duminy",
         2
        ],
        [
         "J Botha",
         "S Dhawan",
         2
        ],
        [
         "DW Steyn",
         "Z Khan",
         2
        ],
        [
         "DJ Bravo",
         "N Saini",
         2
        ],
        [
         "DJ Bravo",
         "R Sathish",
         2
        ],
        [
         "KA Pollard",
         "DW Steyn",
         2
        ],
        [
         "P Awana",
         "CH Gayle",
         2
        ],
        [
         "UT Yadav",
         "PP Chawla",
         2
        ],
        [
         "KA Pollard",
         "STR Binny",
         2
        ],
        [
         "AB Dinda",
         "Harbhajan Singh",
         2
        ],
        [
         "PP Chawla",
         "MS Bisla",
         2
        ],
        [
         "B Laughlin",
         "AT Rayudu",
         2
        ],
        [
         "PP Ojha",
         "IK Pathan",
         2
        ],
        [
         "R Vinay Kumar",
         "PA Patel",
         2
        ],
        [
         "R Ashwin",
         "SR Watson",
         2
        ],
        [
         "SP Narine",
         "NV Ojha",
         2
        ],
        [
         "A Mishra",
         "G Gambhir",
         2
        ],
        [
         "RP Singh",
         "M Vijay",
         2
        ],
        [
         "BW Hilfenhaus",
         "V Sehwag",
         2
        ],
        [
         "DT Christian",
         "KA Pollard",
         2
        ],
        [
         "IK Pathan",
         "PC Valthaty",
         2
        ],
        [
         "JH Kallis",
         "V Sehwag",
         2
        ],
        [
         "JA Morkel",
         "KA Pollard",
         2
        ],
        [
         "M Morkel",
         "M Vijay",
         2
        ],
        [
         "PP Ojha",
         "JA Morkel",
         2
        ],
        [
         "R Ashwin",
         "AD Russell",
         2
        ],
        [
         "SL Malinga",
         "DW Steyn",
         2
        ],
        [
         "R Bhatia",
         "SP Goswami",
         2
        ],
        [
         "HV Patel",
         "DR Smith",
         2
        ],
        [
         "DW Steyn",
         "IK Pathan",
         2
        ],
        [
         "VR Aaron",
         "BB McCullum",
         2
        ],
        [
         "MN Samuels",
         "CL White",
         2
        ],
        [
         "SP Narine",
         "Harbhajan Singh",
         2
        ],
        [
         "R Sharma",
         "Mandeep Singh",
         2
        ],
        [
         "AB Dinda",
         "PA Patel",
         2
        ],
        [
         "R Vinay Kumar",
         "Shakib Al Hasan",
         2
        ],
        [
         "Iqbal Abdulla",
         "M Vijay",
         2
        ],
        [
         "P Awana",
         "V Sehwag",
         2
        ],
        [
         "A Nehra",
         "MS Bisla",
         2
        ],
        [
         "MM Patel",
         "RJ Harris",
         2
        ],
        [
         "JA Morkel",
         "LRPL Taylor",
         2
        ],
        [
         "YK Pathan",
         "JD Ryder",
         2
        ],
        [
         "MR Marsh",
         "KD Karthik",
         2
        ],
        [
         "JA Morkel",
         "KD Karthik",
         2
        ],
        [
         "UT Yadav",
         "M Vijay",
         2
        ],
        [
         "L Balaji",
         "Yuvraj Singh",
         2
        ],
        [
         "S Nadeem",
         "RV Uthappa",
         2
        ],
        [
         "DS Kulkarni",
         "AM Rahane",
         2
        ],
        [
         "Z Khan",
         "Yuvraj Singh",
         2
        ],
        [
         "DR Smith",
         "Shakib Al Hasan",
         2
        ],
        [
         "SR Watson",
         "PP Chawla",
         2
        ],
        [
         "GB Hogg",
         "CH Gayle",
         2
        ],
        [
         "GB Hogg",
         "V Sehwag",
         2
        ],
        [
         "DJ Bravo",
         "PP Chawla",
         2
        ],
        [
         "R Vinay Kumar",
         "Y Nagar",
         2
        ],
        [
         "KA Pollard",
         "SR Watson",
         2
        ],
        [
         "SL Malinga",
         "DA Warner",
         2
        ],
        [
         "B Kumar",
         "AT Rayudu",
         2
        ],
        [
         "Shakib Al Hasan",
         "SK Raina",
         2
        ],
        [
         "R Vinay Kumar",
         "CL White",
         2
        ],
        [
         "M Morkel",
         "SC Ganguly",
         2
        ],
        [
         "R Ashwin",
         "JH Kallis",
         2
        ],
        [
         "Z Khan",
         "SK Raina",
         2
        ],
        [
         "Shakib Al Hasan",
         "AM Rahane",
         2
        ],
        [
         "YK Pathan",
         "AL Menaria",
         2
        ],
        [
         "UT Yadav",
         "DT Christian",
         2
        ],
        [
         "KMDN Kulasekara",
         "JD Ryder",
         2
        ],
        [
         "MG Johnson",
         "RV Uthappa",
         2
        ],
        [
         "SL Malinga",
         "Mandeep Singh",
         2
        ],
        [
         "RA Jadeja",
         "MA Agarwal",
         2
        ],
        [
         "PP Chawla",
         "RV Uthappa",
         2
        ],
        [
         "M Muralitharan",
         "M Vijay",
         2
        ],
        [
         "Harmeet Singh",
         "V Sehwag",
         2
        ],
        [
         "AB Agarkar",
         "KD Karthik",
         2
        ],
        [
         "Shakib Al Hasan",
         "SC Ganguly",
         2
        ],
        [
         "M Morkel",
         "RG Sharma",
         2
        ],
        [
         "S Sreesanth",
         "DA Warner",
         2
        ],
        [
         "JA Morkel",
         "MK Pandey",
         2
        ],
        [
         "DJ Bravo",
         "MK Pandey",
         2
        ],
        [
         "M Morkel",
         "SE Marsh",
         2
        ],
        [
         "DW Steyn",
         "V Sehwag",
         2
        ],
        [
         "MG Johnson",
         "SK Raina",
         2
        ],
        [
         "UT Yadav",
         "JA Morkel",
         2
        ],
        [
         "PP Chawla",
         "M Vijay",
         2
        ],
        [
         "MM Patel",
         "DJ Hussey",
         2
        ],
        [
         "SK Raina",
         "S Dhawan",
         2
        ],
        [
         "RJ Harris",
         "R Dravid",
         2
        ],
        [
         "R Ashwin",
         "EJG Morgan",
         2
        ],
        [
         "RP Singh",
         "R Vinay Kumar",
         2
        ],
        [
         "SP Narine",
         "WD Parnell",
         2
        ],
        [
         "AB Dinda",
         "Q de Kock",
         2
        ],
        [
         "DW Steyn",
         "BB McCullum",
         2
        ],
        [
         "RA Jadeja",
         "M Vohra",
         2
        ],
        [
         "DE Bollinger",
         "NL McCullum",
         2
        ],
        [
         "AD Mathews",
         "M Vijay",
         2
        ],
        [
         "IK Pathan",
         "JH Kallis",
         2
        ],
        [
         "PP Chawla",
         "AL Menaria",
         2
        ],
        [
         "JA Morkel",
         "PP Chawla",
         2
        ],
        [
         "A Nehra",
         "NLTC Perera",
         2
        ],
        [
         "R Bhatia",
         "MS Dhoni",
         2
        ],
        [
         "P Awana",
         "RA Jadeja",
         2
        ],
        [
         "Azhar Mahmood",
         "EJG Morgan",
         2
        ],
        [
         "JP Faulkner",
         "KD Karthik",
         2
        ],
        [
         "NLTC Perera",
         "RV Uthappa",
         2
        ],
        [
         "B Lee",
         "Y Nagar",
         2
        ],
        [
         "JH Kallis",
         "BJ Hodge",
         2
        ],
        [
         "WD Parnell",
         "YK Pathan",
         2
        ],
        [
         "SP Narine",
         "Azhar Mahmood",
         2
        ],
        [
         "UT Yadav",
         "YK Pathan",
         2
        ],
        [
         "KK Cooper",
         "PP Chawla",
         2
        ],
        [
         "P Awana",
         "KA Pollard",
         2
        ],
        [
         "KK Cooper",
         "KD Karthik",
         2
        ],
        [
         "JD Unadkat",
         "BB McCullum",
         2
        ],
        [
         "DE Bollinger",
         "Z Khan",
         2
        ],
        [
         "SL Malinga",
         "MA Agarwal",
         2
        ],
        [
         "B Kumar",
         "GH Vihari",
         2
        ],
        [
         "Shakib Al Hasan",
         "R Vinay Kumar",
         2
        ],
        [
         "CH Morris",
         "V Kohli",
         2
        ],
        [
         "NLTC Perera",
         "M Vijay",
         2
        ],
        [
         "UT Yadav",
         "EJG Morgan",
         2
        ],
        [
         "SL Malinga",
         "M Manhas",
         2
        ],
        [
         "L Balaji",
         "M Vohra",
         2
        ],
        [
         "BA Bhatt",
         "JH Kallis",
         2
        ],
        [
         "R Ashwin",
         "NV Ojha",
         2
        ],
        [
         "PP Ojha",
         "MS Bisla",
         2
        ],
        [
         "SP Narine",
         "IK Pathan",
         2
        ],
        [
         "AB Dinda",
         "MS Dhoni",
         2
        ],
        [
         "DW Steyn",
         "AM Rahane",
         2
        ],
        [
         "DT Christian",
         "Yuvraj Singh",
         2
        ],
        [
         "SL Malinga",
         "M Vijay",
         2
        ],
        [
         "Z Khan",
         "DA Warner",
         2
        ],
        [
         "MM Patel",
         "CH Gayle",
         2
        ],
        [
         "R Ashwin",
         "G Gambhir",
         2
        ],
        [
         "A Mishra",
         "KK Nair",
         2
        ],
        [
         "SB Jakati",
         "SR Tendulkar",
         2
        ],
        [
         "MC Henriques",
         "YK Pathan",
         2
        ],
        [
         "R Vinay Kumar",
         "MEK Hussey",
         2
        ],
        [
         "SL Malinga",
         "SK Raina",
         2
        ],
        [
         "DE Bollinger",
         "RR Bhatkal",
         2
        ],
        [
         "A Mishra",
         "Yuvraj Singh",
         2
        ],
        [
         "AD Mascarenhas",
         "SC Ganguly",
         2
        ],
        [
         "DJ Bravo",
         "CL White",
         2
        ],
        [
         "J Botha",
         "KC Sangakkara",
         2
        ],
        [
         "DE Bollinger",
         "A Mishra",
         2
        ],
        [
         "MM Patel",
         "SP Goswami",
         2
        ],
        [
         "JD Unadkat",
         "V Sehwag",
         2
        ],
        [
         "SP Narine",
         "M Vijay",
         2
        ],
        [
         "R Ashwin",
         "Y Venugopal Rao",
         2
        ],
        [
         "IK Pathan",
         "MEK Hussey",
         2
        ],
        [
         "R Ashwin",
         "JD Ryder",
         2
        ],
        [
         "JJ Bumrah",
         "KK Nair",
         2
        ],
        [
         "R Vinay Kumar",
         "G Gambhir",
         2
        ],
        [
         "Harbhajan Singh",
         "JD Ryder",
         2
        ],
        [
         "DW Steyn",
         "RA Jadeja",
         2
        ],
        [
         "AB McDonald",
         "SE Marsh",
         2
        ],
        [
         "A Nehra",
         "KA Pollard",
         2
        ],
        [
         "SP Narine",
         "MA Agarwal",
         2
        ],
        [
         "L Balaji",
         "MEK Hussey",
         2
        ],
        [
         "UT Yadav",
         "DJ Bravo",
         2
        ],
        [
         "WD Parnell",
         "KD Karthik",
         2
        ],
        [
         "M Morkel",
         "KD Karthik",
         2
        ],
        [
         "RA Jadeja",
         "SS Tiwary",
         2
        ],
        [
         "P Kumar",
         "SR Tendulkar",
         2
        ],
        [
         "BJ Hodge",
         "AL Menaria",
         2
        ],
        [
         "DW Steyn",
         "RE Levi",
         2
        ],
        [
         "R Ashwin",
         "Mandeep Singh",
         2
        ],
        [
         "I Sharma",
         "AT Rayudu",
         2
        ],
        [
         "R Vinay Kumar",
         "A Ashish Reddy",
         2
        ],
        [
         "AD Mathews",
         "AC Gilchrist",
         2
        ],
        [
         "R Ashwin",
         "DPMD Jayawardene",
         2
        ],
        [
         "A Ashish Reddy",
         "V Kohli",
         2
        ],
        [
         "UT Yadav",
         "JH Kallis",
         2
        ],
        [
         "MR Marsh",
         "RA Jadeja",
         2
        ],
        [
         "NLTC Perera",
         "SK Raina",
         2
        ],
        [
         "SL Malinga",
         "MEK Hussey",
         2
        ],
        [
         "DE Bollinger",
         "SR Tendulkar",
         2
        ],
        [
         "UT Yadav",
         "STR Binny",
         2
        ],
        [
         "RA Jadeja",
         "MEK Hussey",
         2
        ],
        [
         "SL Malinga",
         "KM Jadhav",
         2
        ],
        [
         "AB Dinda",
         "PC Valthaty",
         2
        ],
        [
         "RA Jadeja",
         "MS Dhoni",
         2
        ],
        [
         "NLTC Perera",
         "R Dravid",
         2
        ],
        [
         "S Aravind",
         "SR Watson",
         2
        ],
        [
         "M Morkel",
         "BJ Hodge",
         2
        ],
        [
         "A Mishra",
         "STR Binny",
         2
        ],
        [
         "A Mishra",
         "MA Agarwal",
         2
        ],
        [
         "R Bhatia",
         "KC Sangakkara",
         2
        ],
        [
         "JH Kallis",
         "LRPL Taylor",
         2
        ],
        [
         "Harbhajan Singh",
         "DH Yagnik",
         2
        ],
        [
         "P Parameswaran",
         "CL White",
         2
        ],
        [
         "A Mishra",
         "Azhar Mahmood",
         2
        ],
        [
         "VR Aaron",
         "Mandeep Singh",
         2
        ],
        [
         "A Mishra",
         "MS Bisla",
         2
        ],
        [
         "SL Malinga",
         "A Mishra",
         2
        ],
        [
         "JA Morkel",
         "R Sathish",
         2
        ],
        [
         "R Bhatia",
         "S Dhawan",
         2
        ],
        [
         "MM Patel",
         "M Vijay",
         2
        ],
        [
         "PP Ojha",
         "SK Raina",
         2
        ],
        [
         "P Awana",
         "V Kohli",
         2
        ],
        [
         "JP Duminy",
         "SE Marsh",
         2
        ],
        [
         "Iqbal Abdulla",
         "MK Pandey",
         2
        ],
        [
         "JH Kallis",
         "Mandeep Singh",
         2
        ],
        [
         "Z Khan",
         "JP Duminy",
         2
        ],
        [
         "S Nadeem",
         "S Dhawan",
         2
        ],
        [
         "S Nadeem",
         "PA Patel",
         2
        ],
        [
         "KA Pollard",
         "MK Tiwary",
         2
        ],
        [
         "JH Kallis",
         "AJ Finch",
         2
        ],
        [
         "KK Cooper",
         "SE Marsh",
         2
        ],
        [
         "RA Jadeja",
         "PA Patel",
         2
        ],
        [
         "SP Narine",
         "SR Tendulkar",
         2
        ],
        [
         "B Lee",
         "UBT Chand",
         2
        ],
        [
         "MM Patel",
         "DT Christian",
         2
        ],
        [
         "JH Kallis",
         "MEK Hussey",
         2
        ],
        [
         "PP Chawla",
         "Shakib Al Hasan",
         2
        ],
        [
         "P Kumar",
         "SR Watson",
         2
        ],
        [
         "A Nehra",
         "SR Watson",
         2
        ],
        [
         "R Rampaul",
         "M Vijay",
         2
        ],
        [
         "SB Jakati",
         "AB de Villiers",
         2
        ],
        [
         "AB Dinda",
         "TM Dilshan",
         2
        ],
        [
         "DJ Bravo",
         "Gurkeerat Singh",
         2
        ],
        [
         "R Bhatia",
         "AD Mascarenhas",
         2
        ],
        [
         "Yuvraj Singh",
         "STR Binny",
         2
        ],
        [
         "P Awana",
         "RG Sharma",
         2
        ],
        [
         "R Ashwin",
         "P Negi",
         2
        ],
        [
         "Azhar Mahmood",
         "JA Morkel",
         2
        ],
        [
         "DE Bollinger",
         "RG Sharma",
         2
        ],
        [
         "UT Yadav",
         "Mandeep Singh",
         2
        ],
        [
         "IK Pathan",
         "AT Rayudu",
         2
        ],
        [
         "R Ashwin",
         "AL Menaria",
         2
        ],
        [
         "Bipul Sharma",
         "RG Sharma",
         2
        ],
        [
         "KK Cooper",
         "SK Raina",
         2
        ],
        [
         "KA Pollard",
         "S Badrinath",
         2
        ],
        [
         "SP Narine",
         "DA Warner",
         2
        ],
        [
         "DL Vettori",
         "BB McCullum",
         2
        ],
        [
         "SP Narine",
         "SPD Smith",
         2
        ],
        [
         "Anand Rajan",
         "J Botha",
         2
        ],
        [
         "WD Parnell",
         "G Gambhir",
         2
        ],
        [
         "KA Pollard",
         "MK Pandey",
         2
        ],
        [
         "Yuvraj Singh",
         "S Dhawan",
         2
        ],
        [
         "JP Faulkner",
         "RV Uthappa",
         2
        ],
        [
         "Shakib Al Hasan",
         "KD Karthik",
         2
        ],
        [
         "AR Patel",
         "MK Pandey",
         2
        ],
        [
         "S Aravind",
         "DR Smith",
         2
        ],
        [
         "MJ McClenaghan",
         "KL Rahul",
         2
        ],
        [
         "J Yadav",
         "SK Raina",
         2
        ],
        [
         "PP Chawla",
         "GH Vihari",
         2
        ],
        [
         "DJ Bravo",
         "UT Yadav",
         2
        ],
        [
         "JD Unadkat",
         "Yuvraj Singh",
         2
        ],
        [
         "P Kumar",
         "G Gambhir",
         2
        ],
        [
         "KV Sharma",
         "G Gambhir",
         2
        ],
        [
         "MM Sharma",
         "AM Rahane",
         2
        ],
        [
         "Imran Tahir",
         "AD Russell",
         2
        ],
        [
         "Harbhajan Singh",
         "SR Watson",
         2
        ],
        [
         "R Ashwin",
         "Gurkeerat Singh",
         2
        ],
        [
         "MM Sharma",
         "Mandeep Singh",
         2
        ],
        [
         "MG Johnson",
         "SP Narine",
         2
        ],
        [
         "R Ashwin",
         "MK Pandey",
         2
        ],
        [
         "I Sharma",
         "SR Watson",
         2
        ],
        [
         "RA Jadeja",
         "MK Pandey",
         2
        ],
        [
         "VR Aaron",
         "YK Pathan",
         2
        ],
        [
         "Imran Tahir",
         "GJ Bailey",
         2
        ],
        [
         "MM Sharma",
         "Harbhajan Singh",
         2
        ],
        [
         "R Ashwin",
         "LMP Simmons",
         2
        ],
        [
         "SL Malinga",
         "CH Morris",
         2
        ],
        [
         "SP Narine",
         "CJ Anderson",
         2
        ],
        [
         "KV Sharma",
         "SV Samson",
         2
        ],
        [
         "HV Patel",
         "SK Raina",
         2
        ],
        [
         "A Nehra",
         "GJ Bailey",
         2
        ],
        [
         "HV Patel",
         "F du Plessis",
         2
        ],
        [
         "GJ Maxwell",
         "SK Raina",
         2
        ],
        [
         "R Dhawan",
         "IK Pathan",
         2
        ],
        [
         "IC Pandey",
         "M Vohra",
         2
        ],
        [
         "PP Chawla",
         "M Vohra",
         2
        ],
        [
         "YS Chahal",
         "G Gambhir",
         2
        ],
        [
         "Anureet Singh",
         "KK Nair",
         2
        ],
        [
         "NM Coulter-Nile",
         "KK Nair",
         2
        ],
        [
         "S Nadeem",
         "SV Samson",
         2
        ],
        [
         "YS Chahal",
         "RA Jadeja",
         2
        ],
        [
         "SL Malinga",
         "P Negi",
         2
        ],
        [
         "MM Sharma",
         "V Sehwag",
         2
        ],
        [
         "UT Yadav",
         "NV Ojha",
         2
        ],
        [
         "R Vinay Kumar",
         "AM Rahane",
         2
        ],
        [
         "TG Southee",
         "WP Saha",
         2
        ],
        [
         "JP Faulkner",
         "BB Samantray",
         2
        ],
        [
         "KA Pollard",
         "SK Raina",
         2
        ],
        [
         "HV Patel",
         "SV Samson",
         2
        ],
        [
         "KK Cooper",
         "AP Tare",
         2
        ],
        [
         "IC Pandey",
         "JP Duminy",
         2
        ],
        [
         "MM Sharma",
         "R Bhatia",
         2
        ],
        [
         "KV Sharma",
         "Shakib Al Hasan",
         2
        ],
        [
         "R Dhawan",
         "F du Plessis",
         2
        ],
        [
         "SP Narine",
         "MG Johnson",
         2
        ],
        [
         "JP Faulkner",
         "SA Yadav",
         2
        ],
        [
         "PJ Cummins",
         "F du Plessis",
         2
        ],
        [
         "JA Morkel",
         "AP Tare",
         2
        ],
        [
         "Shakib Al Hasan",
         "SV Samson",
         2
        ],
        [
         "MA Starc",
         "DA Warner",
         2
        ],
        [
         "UT Yadav",
         "AJ Finch",
         2
        ],
        [
         "MG Johnson",
         "M Vijay",
         2
        ],
        [
         "SL Malinga",
         "GH Vihari",
         2
        ],
        [
         "AD Russell",
         "MS Dhoni",
         2
        ],
        [
         "SP Narine",
         "KD Karthik",
         2
        ],
        [
         "SR Watson",
         "DA Warner",
         2
        ],
        [
         "AD Russell",
         "BB McCullum",
         2
        ],
        [
         "Mohammed Shami",
         "PA Patel",
         2
        ],
        [
         "JP Faulkner",
         "V Sehwag",
         2
        ],
        [
         "UT Yadav",
         "SR Tendulkar",
         2
        ],
        [
         "MJ McClenaghan",
         "DJ Bravo",
         2
        ],
        [
         "KV Sharma",
         "Q de Kock",
         2
        ],
        [
         "Shakib Al Hasan",
         "DJG Sammy",
         2
        ],
        [
         "DS Kulkarni",
         "S Dhawan",
         2
        ],
        [
         "DJ Bravo",
         "HV Patel",
         2
        ],
        [
         "NM Coulter-Nile",
         "AR Patel",
         2
        ],
        [
         "M Morkel",
         "M Vohra",
         2
        ],
        [
         "PP Chawla",
         "V Sehwag",
         2
        ],
        [
         "B Kumar",
         "JP Faulkner",
         2
        ],
        [
         "J Suchith",
         "GJ Maxwell",
         2
        ],
        [
         "JP Faulkner",
         "A Mishra",
         2
        ],
        [
         "Sandeep Sharma",
         "AP Tare",
         2
        ],
        [
         "MM Sharma",
         "SPD Smith",
         2
        ],
        [
         "A Ashish Reddy",
         "MS Dhoni",
         2
        ],
        [
         "UT Yadav",
         "Q de Kock",
         2
        ],
        [
         "RP Singh",
         "B Kumar",
         2
        ],
        [
         "CH Morris",
         "BB McCullum",
         2
        ],
        [
         "SL Malinga",
         "SS Iyer",
         2
        ],
        [
         "PV Tambe",
         "MK Pandey",
         2
        ],
        [
         "Imran Tahir",
         "GJ Maxwell",
         2
        ],
        [
         "AD Russell",
         "V Kohli",
         2
        ],
        [
         "Sandeep Sharma",
         "MC Henriques",
         2
        ],
        [
         "AR Patel",
         "DA Warner",
         2
        ],
        [
         "AD Russell",
         "SK Raina",
         2
        ],
        [
         "P Awana",
         "RV Uthappa",
         2
        ],
        [
         "KV Sharma",
         "MK Pandey",
         2
        ],
        [
         "JP Duminy",
         "DA Miller",
         2
        ],
        [
         "UT Yadav",
         "CH Morris",
         2
        ],
        [
         "Sandeep Sharma",
         "G Gambhir",
         2
        ],
        [
         "KV Sharma",
         "CH Gayle",
         2
        ],
        [
         "AR Patel",
         "KK Nair",
         2
        ],
        [
         "Parvez Rasool",
         "Yuvraj Singh",
         2
        ],
        [
         "L Balaji",
         "MS Dhoni",
         2
        ],
        [
         "GB Hogg",
         "P Negi",
         2
        ],
        [
         "MM Sharma",
         "PA Patel",
         2
        ],
        [
         "SR Watson",
         "RV Uthappa",
         2
        ],
        [
         "UT Yadav",
         "KK Nair",
         2
        ],
        [
         "M Morkel",
         "DA Warner",
         2
        ],
        [
         "JA Morkel",
         "KM Jadhav",
         2
        ],
        [
         "Sandeep Sharma",
         "DR Smith",
         2
        ],
        [
         "JP Faulkner",
         "MS Dhoni",
         2
        ],
        [
         "JP Duminy",
         "V Sehwag",
         2
        ],
        [
         "GB Hogg",
         "RA Jadeja",
         2
        ],
        [
         "CH Morris",
         "P Negi",
         2
        ],
        [
         "M Kartik",
         "AM Nayar",
         2
        ],
        [
         "PP Chawla",
         "RG Sharma",
         2
        ],
        [
         "MG Johnson",
         "F du Plessis",
         2
        ],
        [
         "A Mishra",
         "KA Pollard",
         2
        ],
        [
         "R Dhawan",
         "S Dhawan",
         2
        ],
        [
         "MJ McClenaghan",
         "KK Nair",
         2
        ],
        [
         "YS Chahal",
         "DA Warner",
         2
        ],
        [
         "JP Faulkner",
         "KA Pollard",
         2
        ],
        [
         "Mohammed Shami",
         "WP Saha",
         2
        ],
        [
         "MM Sharma",
         "SR Watson",
         2
        ],
        [
         "NM Coulter-Nile",
         "DA Miller",
         2
        ],
        [
         "KW Richardson",
         "Yuvraj Singh",
         2
        ],
        [
         "KV Sharma",
         "DJ Hooda",
         2
        ],
        [
         "Sandeep Sharma",
         "JP Faulkner",
         2
        ],
        [
         "MC Henriques",
         "SR Watson",
         2
        ],
        [
         "Imran Tahir",
         "M Vohra",
         2
        ],
        [
         "R Bhatia",
         "KA Pollard",
         2
        ],
        [
         "R Ashwin",
         "M Vijay",
         2
        ],
        [
         "TA Boult",
         "RA Jadeja",
         2
        ],
        [
         "STR Binny",
         "DR Smith",
         2
        ],
        [
         "VR Aaron",
         "CA Lynn",
         2
        ],
        [
         "PJ Cummins",
         "DR Smith",
         2
        ],
        [
         "P Kumar",
         "UBT Chand",
         2
        ],
        [
         "A Nehra",
         "RR Rossouw",
         2
        ],
        [
         "AR Patel",
         "R Ashwin",
         2
        ],
        [
         "RA Jadeja",
         "AM Rahane",
         2
        ],
        [
         "DJ Bravo",
         "KV Sharma",
         2
        ],
        [
         "UT Yadav",
         "MS Dhoni",
         2
        ],
        [
         "SP Narine",
         "CH Gayle",
         2
        ],
        [
         "UT Yadav",
         "DA Miller",
         2
        ],
        [
         "MM Sharma",
         "KM Jadhav",
         2
        ],
        [
         "HV Patel",
         "KM Jadhav",
         2
        ],
        [
         "Imran Tahir",
         "STR Binny",
         2
        ],
        [
         "RA Jadeja",
         "DA Miller",
         2
        ],
        [
         "MA Starc",
         "G Gambhir",
         2
        ],
        [
         "JP Faulkner",
         "AT Rayudu",
         2
        ],
        [
         "PP Chawla",
         "DA Miller",
         2
        ],
        [
         "DJ Bravo",
         "MG Johnson",
         2
        ],
        [
         "Shakib Al Hasan",
         "DR Smith",
         2
        ],
        [
         "Sandeep Sharma",
         "SV Samson",
         2
        ],
        [
         "Anureet Singh",
         "PP Chawla",
         2
        ],
        [
         "PP Ojha",
         "SR Watson",
         2
        ],
        [
         "R Rampaul",
         "SV Samson",
         2
        ],
        [
         "Z Khan",
         "BB McCullum",
         2
        ],
        [
         "HV Patel",
         "SS Iyer",
         2
        ],
        [
         "VR Aaron",
         "NV Ojha",
         2
        ],
        [
         "MM Sharma",
         "P Kumar",
         2
        ],
        [
         "PP Chawla",
         "MS Dhoni",
         2
        ],
        [
         "MG Johnson",
         "AM Rahane",
         2
        ],
        [
         "PP Chawla",
         "Yuvraj Singh",
         2
        ],
        [
         "MA Starc",
         "DJ Bravo",
         2
        ],
        [
         "Harbhajan Singh",
         "BB McCullum",
         2
        ],
        [
         "TG Southee",
         "CH Gayle",
         2
        ],
        [
         "NM Coulter-Nile",
         "WP Saha",
         2
        ],
        [
         "JJ Bumrah",
         "HV Patel",
         2
        ],
        [
         "SL Malinga",
         "DJ Hooda",
         2
        ],
        [
         "JD Unadkat",
         "KA Pollard",
         2
        ],
        [
         "JP Faulkner",
         "DJG Sammy",
         2
        ],
        [
         "SR Watson",
         "MC Henriques",
         2
        ],
        [
         "SP Narine",
         "AD Mathews",
         2
        ],
        [
         "CH Morris",
         "DA Miller",
         2
        ],
        [
         "MM Sharma",
         "BB McCullum",
         2
        ],
        [
         "JD Unadkat",
         "KM Jadhav",
         2
        ],
        [
         "Karanveer Singh",
         "YK Pathan",
         2
        ],
        [
         "A Nehra",
         "MA Agarwal",
         2
        ],
        [
         "MM Sharma",
         "UBT Chand",
         2
        ],
        [
         "DJ Bravo",
         "SL Malinga",
         2
        ],
        [
         "AD Russell",
         "KK Nair",
         2
        ],
        [
         "KV Sharma",
         "DR Smith",
         2
        ],
        [
         "RA Jadeja",
         "LMP Simmons",
         2
        ],
        [
         "NM Coulter-Nile",
         "RG Sharma",
         2
        ],
        [
         "TA Boult",
         "AR Patel",
         2
        ],
        [
         "YS Chahal",
         "V Sehwag",
         2
        ],
        [
         "DJ Bravo",
         "V Kohli",
         2
        ],
        [
         "J Suchith",
         "SR Watson",
         2
        ],
        [
         "AR Patel",
         "AB de Villiers",
         2
        ],
        [
         "RA Jadeja",
         "Shakib Al Hasan",
         2
        ],
        [
         "NM Coulter-Nile",
         "KV Sharma",
         2
        ],
        [
         "MJ McClenaghan",
         "MA Agarwal",
         2
        ],
        [
         "J Suchith",
         "NV Ojha",
         2
        ],
        [
         "Harbhajan Singh",
         "RV Uthappa",
         2
        ],
        [
         "S Nadeem",
         "MK Pandey",
         2
        ],
        [
         "DJ Bravo",
         "AT Rayudu",
         2
        ],
        [
         "S Nadeem",
         "DR Smith",
         2
        ],
        [
         "B Kumar",
         "F du Plessis",
         2
        ],
        [
         "CH Morris",
         "SA Yadav",
         2
        ],
        [
         "KV Sharma",
         "RR Rossouw",
         2
        ],
        [
         "Shakib Al Hasan",
         "PA Patel",
         2
        ],
        [
         "AR Patel",
         "Shakib Al Hasan",
         2
        ],
        [
         "A Nehra",
         "AB de Villiers",
         2
        ],
        [
         "SP Narine",
         "SS Tiwary",
         2
        ],
        [
         "SL Malinga",
         "AJ Finch",
         2
        ],
        [
         "SP Narine",
         "S Dhawan",
         2
        ],
        [
         "MG Johnson",
         "S Badrinath",
         2
        ],
        [
         "A Mishra",
         "M Vohra",
         2
        ],
        [
         "A Nehra",
         "RG Sharma",
         2
        ],
        [
         "MG Johnson",
         "SPD Smith",
         2
        ],
        [
         "KV Sharma",
         "KD Karthik",
         2
        ],
        [
         "MC Henriques",
         "WP Saha",
         2
        ],
        [
         "HV Patel",
         "WP Saha",
         2
        ],
        [
         "L Balaji",
         "AJ Finch",
         2
        ],
        [
         "UT Yadav",
         "V Sehwag",
         2
        ],
        [
         "DS Kulkarni",
         "PA Patel",
         2
        ],
        [
         "A Nehra",
         "HV Patel",
         2
        ],
        [
         "YS Chahal",
         "Yuvraj Singh",
         2
        ],
        [
         "Yuvraj Singh",
         "SV Samson",
         2
        ],
        [
         "S Gopal",
         "GJ Maxwell",
         2
        ],
        [
         "SL Malinga",
         "AD Russell",
         2
        ],
        [
         "JP Faulkner",
         "PA Patel",
         2
        ],
        [
         "SR Watson",
         "NLTC Perera",
         2
        ],
        [
         "MM Sharma",
         "M Vijay",
         2
        ],
        [
         "DJ Bravo",
         "SV Samson",
         2
        ],
        [
         "R Vinay Kumar",
         "KA Pollard",
         2
        ],
        [
         "AR Patel",
         "CH Gayle",
         2
        ],
        [
         "DS Kulkarni",
         "KM Jadhav",
         2
        ],
        [
         "B Kumar",
         "AR Patel",
         2
        ],
        [
         "AD Russell",
         "SV Samson",
         2
        ],
        [
         "WD Parnell",
         "SV Samson",
         2
        ],
        [
         "R Vinay Kumar",
         "BJ Hodge",
         2
        ],
        [
         "MG Johnson",
         "STR Binny",
         2
        ],
        [
         "Mohammed Shami",
         "F du Plessis",
         2
        ],
        [
         "MJ McClenaghan",
         "DA Warner",
         2
        ],
        [
         "PP Chawla",
         "GJ Bailey",
         2
        ],
        [
         "Sandeep Sharma",
         "MK Pandey",
         2
        ],
        [
         "S Gopal",
         "M Vijay",
         2
        ],
        [
         "KK Cooper",
         "KA Pollard",
         2
        ],
        [
         "M Morkel",
         "MA Agarwal",
         2
        ],
        [
         "BE Hendricks",
         "KD Karthik",
         2
        ],
        [
         "AR Patel",
         "R Tewatia",
         2
        ],
        [
         "DJ Bravo",
         "D Wiese",
         2
        ],
        [
         "AD Mathews",
         "PA Patel",
         2
        ],
        [
         "Ankit Sharma",
         "LMP Simmons",
         2
        ],
        [
         "MM Sharma",
         "SA Yadav",
         2
        ],
        [
         "AR Patel",
         "KL Rahul",
         2
        ],
        [
         "MC Henriques",
         "KK Nair",
         2
        ],
        [
         "CH Morris",
         "Yuvraj Singh",
         2
        ],
        [
         "RA Jadeja",
         "M Vijay",
         2
        ],
        [
         "SR Watson",
         "KV Sharma",
         2
        ],
        [
         "TA Boult",
         "GJ Maxwell",
         2
        ],
        [
         "RA Jadeja",
         "STR Binny",
         2
        ],
        [
         "RA Jadeja",
         "KA Pollard",
         2
        ],
        [
         "AR Patel",
         "SPD Smith",
         2
        ],
        [
         "AB Dinda",
         "SS Tiwary",
         2
        ],
        [
         "PP Chawla",
         "KM Jadhav",
         2
        ],
        [
         "J Suchith",
         "SK Raina",
         2
        ],
        [
         "MR Marsh",
         "EJG Morgan",
         2
        ],
        [
         "UT Yadav",
         "RV Uthappa",
         2
        ],
        [
         "SL Malinga",
         "F du Plessis",
         2
        ],
        [
         "UT Yadav",
         "KM Jadhav",
         2
        ],
        [
         "Shakib Al Hasan",
         "AP Tare",
         2
        ],
        [
         "Imran Tahir",
         "YK Pathan",
         2
        ],
        [
         "JD Unadkat",
         "Harbhajan Singh",
         2
        ],
        [
         "A Mishra",
         "AD Russell",
         2
        ],
        [
         "A Zampa",
         "RR Pant",
         2
        ],
        [
         "Avesh Khan",
         "N Rana",
         2
        ],
        [
         "DJ Bravo",
         "JC Buttler",
         2
        ],
        [
         "TA Boult",
         "BA Stokes",
         2
        ],
        [
         "SN Thakur",
         "R Ashwin",
         2
        ],
        [
         "KH Pandya",
         "Mandeep Singh",
         2
        ],
        [
         "SP Narine",
         "KL Rahul",
         2
        ],
        [
         "P Negi",
         "RA Tripathi",
         2
        ],
        [
         "Mohammed Siraj",
         "SS Iyer",
         2
        ],
        [
         "PP Chawla",
         "HH Pandya",
         2
        ],
        [
         "Mohammed Siraj",
         "Ishan Kishan",
         2
        ],
        [
         "Mohammed Siraj",
         "AD Russell",
         2
        ],
        [
         "MM Ali",
         "RR Pant",
         2
        ],
        [
         "HH Pandya",
         "BA Stokes",
         2
        ],
        [
         "M Markande",
         "SN Khan",
         2
        ],
        [
         "MJ McClenaghan",
         "Yuvraj Singh",
         2
        ],
        [
         "JJ Bumrah",
         "K Rabada",
         2
        ],
        [
         "YS Chahal",
         "JJ Roy",
         2
        ],
        [
         "DJ Bravo",
         "RA Tripathi",
         2
        ],
        [
         "TA Boult",
         "KL Rahul",
         2
        ],
        [
         "CR Woakes",
         "JC Buttler",
         2
        ],
        [
         "PJ Cummins",
         "RV Uthappa",
         2
        ],
        [
         "R Tewatia",
         "Shubman Gill",
         2
        ],
        [
         "HV Patel",
         "SN Khan",
         2
        ],
        [
         "SN Thakur",
         "V Kohli",
         2
        ],
        [
         "Rashid Khan",
         "Mandeep Singh",
         2
        ],
        [
         "SN Thakur",
         "KH Pandya",
         2
        ],
        [
         "Mohammed Siraj",
         "KH Pandya",
         2
        ],
        [
         "BCJ Cutting",
         "CH Gayle",
         2
        ],
        [
         "MP Stoinis",
         "Ishan Kishan",
         2
        ],
        [
         "PP Chawla",
         "DA Warner",
         2
        ],
        [
         "CR Woakes",
         "CH Gayle",
         2
        ],
        [
         "AJ Tye",
         "Mandeep Singh",
         2
        ],
        [
         "Mohammed Siraj",
         "SP Narine",
         2
        ],
        [
         "HV Patel",
         "RR Pant",
         2
        ],
        [
         "HH Pandya",
         "SK Raina",
         2
        ],
        [
         "SN Thakur",
         "MK Pandey",
         2
        ],
        [
         "Kuldeep Yadav",
         "AM Rahane",
         2
        ],
        [
         "MP Stoinis",
         "N Rana",
         2
        ],
        [
         "Mohammed Shami",
         "JC Buttler",
         2
        ],
        [
         "HV Patel",
         "V Kohli",
         2
        ],
        [
         "Mustafizur Rahman",
         "SR Watson",
         2
        ],
        [
         "A Mishra",
         "JC Buttler",
         2
        ],
        [
         "KH Pandya",
         "RV Uthappa",
         2
        ],
        [
         "HH Pandya",
         "KK Nair",
         2
        ],
        [
         "AR Patel",
         "KD Karthik",
         2
        ],
        [
         "MJ McClenaghan",
         "SP Narine",
         2
        ],
        [
         "KH Pandya",
         "RA Jadeja",
         2
        ],
        [
         "BA Stokes",
         "SR Watson",
         2
        ],
        [
         "BB Sran",
         "KD Karthik",
         2
        ],
        [
         "SN Thakur",
         "KS Williamson",
         2
        ],
        [
         "JJ Bumrah",
         "YK Pathan",
         2
        ],
        [
         "SP Narine",
         "MS Dhoni",
         2
        ],
        [
         "Washington Sundar",
         "SS Iyer",
         2
        ],
        [
         "PJ Cummins",
         "SA Yadav",
         2
        ],
        [
         "Rashid Khan",
         "V Kohli",
         2
        ],
        [
         "RA Jadeja",
         "MP Stoinis",
         2
        ],
        [
         "Mujeeb Ur Rahman",
         "BA Stokes",
         2
        ],
        [
         "Washington Sundar",
         "AT Rayudu",
         2
        ],
        [
         "S Gopal",
         "SP Narine",
         2
        ],
        [
         "SN Thakur",
         "H Klaasen",
         2
        ],
        [
         "Shakib Al Hasan",
         "SP Narine",
         2
        ],
        [
         "UT Yadav",
         "MA Agarwal",
         2
        ],
        [
         "AS Rajpoot",
         "K Gowtham",
         2
        ],
        [
         "TA Boult",
         "R Ashwin",
         2
        ],
        [
         "Kuldeep Yadav",
         "Ishan Kishan",
         2
        ],
        [
         "A Mishra",
         "KD Karthik",
         2
        ],
        [
         "K Rabada",
         "HH Pandya",
         2
        ],
        [
         "Mohammed Shami",
         "KM Jadhav",
         2
        ],
        [
         "B Kumar",
         "N Rana",
         2
        ],
        [
         "YS Chahal",
         "PP Shaw",
         2
        ],
        [
         "B Kumar",
         "HM Amla",
         2
        ],
        [
         "K Rabada",
         "PA Patel",
         2
        ],
        [
         "JC Archer",
         "AT Rayudu",
         2
        ],
        [
         "Kuldeep Yadav",
         "AT Rayudu",
         2
        ],
        [
         "AJ Tye",
         "AD Russell",
         2
        ],
        [
         "Kuldeep Yadav",
         "S Dhawan",
         2
        ],
        [
         "AJ Tye",
         "RA Tripathi",
         2
        ],
        [
         "KV Sharma",
         "SP Narine",
         2
        ],
        [
         "Kuldeep Yadav",
         "MS Dhoni",
         2
        ],
        [
         "CH Morris",
         "RA Tripathi",
         2
        ],
        [
         "AD Russell",
         "DJ Hooda",
         2
        ],
        [
         "Sandeep Sharma",
         "SK Raina",
         2
        ],
        [
         "P Negi",
         "S Nadeem",
         2
        ],
        [
         "K Rabada",
         "SP Narine",
         2
        ],
        [
         "S Kaul",
         "C de Grandhomme",
         2
        ],
        [
         "Kuldeep Yadav",
         "WP Saha",
         2
        ],
        [
         "Mohammad Nabi",
         "EJG Morgan",
         2
        ],
        [
         "AD Russell",
         "Q de Kock",
         2
        ],
        [
         "CJ Anderson",
         "RG Sharma",
         2
        ],
        [
         "M Ashwin",
         "SA Yadav",
         2
        ],
        [
         "SN Thakur",
         "Mandeep Singh",
         2
        ],
        [
         "JJ Bumrah",
         "SV Samson",
         2
        ],
        [
         "MJ McClenaghan",
         "AM Rahane",
         2
        ],
        [
         "SN Thakur",
         "GJ Maxwell",
         2
        ],
        [
         "AJ Tye",
         "HH Pandya",
         2
        ],
        [
         "AD Russell",
         "M Vohra",
         2
        ],
        [
         "Sandeep Sharma",
         "AM Rahane",
         2
        ],
        [
         "Mohammed Shami",
         "DA Warner",
         2
        ],
        [
         "S Kaul",
         "SV Samson",
         2
        ],
        [
         "M Morkel",
         "S Dhawan",
         2
        ],
        [
         "BB Sran",
         "RV Uthappa",
         2
        ],
        [
         "M Ashwin",
         "RV Uthappa",
         2
        ],
        [
         "Bipul Sharma",
         "AM Rahane",
         2
        ],
        [
         "MJ McClenaghan",
         "SE Marsh",
         2
        ],
        [
         "Rashid Khan",
         "HH Pandya",
         2
        ],
        [
         "UT Yadav",
         "SA Yadav",
         2
        ],
        [
         "Kuldeep Yadav",
         "SK Raina",
         2
        ],
        [
         "Kuldeep Yadav",
         "RR Pant",
         2
        ],
        [
         "JC Archer",
         "RG Sharma",
         2
        ],
        [
         "B Kumar",
         "C de Grandhomme",
         2
        ],
        [
         "KH Pandya",
         "WP Saha",
         2
        ],
        [
         "S Gopal",
         "PP Shaw",
         2
        ],
        [
         "PP Chawla",
         "RA Tripathi",
         2
        ],
        [
         "KH Pandya",
         "SR Watson",
         2
        ],
        [
         "TG Southee",
         "HH Pandya",
         2
        ],
        [
         "M Ashwin",
         "AJ Finch",
         2
        ],
        [
         "JD Unadkat",
         "MK Pandey",
         2
        ],
        [
         "JD Unadkat",
         "RR Pant",
         2
        ],
        [
         "SP Narine",
         "MC Henriques",
         2
        ],
        [
         "Rashid Khan",
         "MS Dhoni",
         2
        ],
        [
         "PJ Cummins",
         "KD Karthik",
         2
        ],
        [
         "UT Yadav",
         "AR Patel",
         2
        ],
        [
         "SP Narine",
         "Ishan Kishan",
         2
        ],
        [
         "CH Morris",
         "HH Pandya",
         2
        ],
        [
         "Z Khan",
         "AM Rahane",
         2
        ],
        [
         "JD Unadkat",
         "MP Stoinis",
         2
        ],
        [
         "MM Ali",
         "AR Patel",
         2
        ],
        [
         "Kuldeep Yadav",
         "JC Buttler",
         2
        ],
        [
         "S Nadeem",
         "AJ Finch",
         2
        ],
        [
         "A Nehra",
         "JC Buttler",
         2
        ],
        [
         "JC Archer",
         "HH Pandya",
         2
        ],
        [
         "UT Yadav",
         "PA Patel",
         2
        ],
        [
         "YS Chahal",
         "CA Lynn",
         2
        ],
        [
         "JD Unadkat",
         "HH Pandya",
         2
        ],
        [
         "AJ Tye",
         "JD Unadkat",
         2
        ],
        [
         "PJ Cummins",
         "BA Stokes",
         2
        ],
        [
         "CJ Jordan",
         "DS Kulkarni",
         2
        ],
        [
         "Mohammed Siraj",
         "KD Karthik",
         2
        ],
        [
         "Sandeep Sharma",
         "AB de Villiers",
         2
        ],
        [
         "HH Pandya",
         "KS Williamson",
         2
        ],
        [
         "Mohammed Siraj",
         "N Rana",
         2
        ],
        [
         "M Prasidh Krishna",
         "RG Sharma",
         2
        ],
        [
         "AJ Tye",
         "KA Pollard",
         2
        ],
        [
         "TA Boult",
         "SK Raina",
         2
        ],
        [
         "Harbhajan Singh",
         "SP Narine",
         2
        ],
        [
         "TA Boult",
         "AD Russell",
         2
        ],
        [
         "S Kaul",
         "AT Rayudu",
         2
        ],
        [
         "Rashid Khan",
         "DA Miller",
         2
        ],
        [
         "AJ Tye",
         "R Tewatia",
         2
        ],
        [
         "BA Stokes",
         "DA Warner",
         2
        ],
        [
         "Mohammed Shami",
         "BA Stokes",
         2
        ],
        [
         "Mustafizur Rahman",
         "TG Southee",
         2
        ],
        [
         "Shakib Al Hasan",
         "CA Lynn",
         2
        ],
        [
         "AD Russell",
         "E Lewis",
         2
        ],
        [
         "SN Thakur",
         "PA Patel",
         2
        ],
        [
         "AD Russell",
         "CR Brathwaite",
         2
        ],
        [
         "Mustafizur Rahman",
         "V Kohli",
         2
        ],
        [
         "Kuldeep Yadav",
         "KS Williamson",
         2
        ],
        [
         "TG Southee",
         "Rashid Khan",
         2
        ],
        [
         "PP Chawla",
         "PP Shaw",
         2
        ],
        [
         "BB Sran",
         "DJ Bravo",
         2
        ],
        [
         "Mustafizur Rahman",
         "S Kaul",
         2
        ],
        [
         "MJ McClenaghan",
         "WP Saha",
         2
        ],
        [
         "AR Patel",
         "DR Smith",
         2
        ],
        [
         "DL Chahar",
         "DJ Hooda",
         2
        ],
        [
         "DJ Bravo",
         "N Rana",
         2
        ],
        [
         "Sandeep Sharma",
         "TM Head",
         2
        ],
        [
         "JJ Bumrah",
         "CA Lynn",
         2
        ],
        [
         "Mujeeb Ur Rahman",
         "Ishan Kishan",
         2
        ],
        [
         "JJ Bumrah",
         "SK Raina",
         2
        ],
        [
         "MJ McClenaghan",
         "SS Iyer",
         2
        ],
        [
         "AR Patel",
         "SK Raina",
         2
        ],
        [
         "DJ Bravo",
         "GJ Maxwell",
         2
        ],
        [
         "JD Unadkat",
         "SS Iyer",
         2
        ],
        [
         "Washington Sundar",
         "N Rana",
         2
        ],
        [
         "MM Sharma",
         "JC Buttler",
         2
        ],
        [
         "K Gowtham",
         "RV Uthappa",
         2
        ],
        [
         "P Negi",
         "CA Lynn",
         2
        ],
        [
         "SN Thakur",
         "Abhishek Sharma",
         2
        ],
        [
         "CR Woakes",
         "KA Pollard",
         2
        ],
        [
         "UT Yadav",
         "WP Saha",
         2
        ],
        [
         "SN Thakur",
         "STR Binny",
         2
        ],
        [
         "S Kaul",
         "HH Pandya",
         2
        ],
        [
         "B Kumar",
         "SP Narine",
         2
        ],
        [
         "PP Chawla",
         "Q de Kock",
         2
        ],
        [
         "R Ashwin",
         "SN Khan",
         2
        ],
        [
         "Mustafizur Rahman",
         "HH Pandya",
         2
        ],
        [
         "RA Jadeja",
         "SS Iyer",
         2
        ],
        [
         "MP Stoinis",
         "SV Samson",
         2
        ],
        [
         "YS Chahal",
         "DR Smith",
         2
        ],
        [
         "AS Rajpoot",
         "RG Sharma",
         2
        ],
        [
         "RA Jadeja",
         "RR Pant",
         2
        ],
        [
         "KH Pandya",
         "AT Rayudu",
         2
        ],
        [
         "L Ngidi",
         "RR Pant",
         2
        ],
        [
         "Sandeep Sharma",
         "RR Pant",
         2
        ],
        [
         "DJ Bravo",
         "DA Miller",
         2
        ],
        [
         "SP Narine",
         "DJ Hooda",
         2
        ],
        [
         "UT Yadav",
         "S Dhawan",
         2
        ],
        [
         "V Shankar",
         "F du Plessis",
         2
        ],
        [
         "M Markande",
         "RV Uthappa",
         2
        ],
        [
         "DS Kulkarni",
         "SR Watson",
         2
        ],
        [
         "KH Pandya",
         "KD Karthik",
         2
        ],
        [
         "JC Archer",
         "KH Pandya",
         2
        ],
        [
         "BB Sran",
         "AT Rayudu",
         2
        ],
        [
         "Mohammed Shami",
         "RA Jadeja",
         2
        ],
        [
         "Mohammed Shami",
         "CA Lynn",
         2
        ],
        [
         "Kuldeep Yadav",
         "Q de Kock",
         2
        ],
        [
         "DJ Bravo",
         "KK Nair",
         2
        ],
        [
         "B Kumar",
         "MJ Guptill",
         2
        ],
        [
         "Basil Thampi",
         "CH Gayle",
         2
        ],
        [
         "AR Patel",
         "N Rana",
         2
        ],
        [
         "Washington Sundar",
         "G Gambhir",
         2
        ],
        [
         "DS Kulkarni",
         "E Lewis",
         2
        ],
        [
         "P Kumar",
         "AM Rahane",
         2
        ],
        [
         "S Badree",
         "AM Rahane",
         2
        ],
        [
         "JJ Bumrah",
         "JP Faulkner",
         2
        ],
        [
         "HH Pandya",
         "SR Watson",
         2
        ],
        [
         "Sandeep Sharma",
         "BB McCullum",
         2
        ],
        [
         "Mujeeb Ur Rahman",
         "RR Pant",
         2
        ],
        [
         "Mujeeb Ur Rahman",
         "JC Buttler",
         2
        ],
        [
         "CJ Jordan",
         "RV Uthappa",
         2
        ],
        [
         "Shivam Mavi",
         "JC Buttler",
         2
        ],
        [
         "S Nadeem",
         "SR Watson",
         2
        ],
        [
         "DJ Bravo",
         "KS Williamson",
         2
        ],
        [
         "R Ashwin",
         "DA Miller",
         2
        ],
        [
         "JJ Bumrah",
         "JC Buttler",
         2
        ],
        [
         "MP Stoinis",
         "JC Buttler",
         2
        ],
        [
         "A Zampa",
         "SV Samson",
         2
        ],
        [
         "UT Yadav",
         "SR Watson",
         2
        ],
        [
         "Rashid Khan",
         "KA Pollard",
         2
        ],
        [
         "JO Holder",
         "Yuvraj Singh",
         2
        ],
        [
         "GJ Maxwell",
         "RR Pant",
         2
        ],
        [
         "KH Pandya",
         "Washington Sundar",
         2
        ],
        [
         "Imran Tahir",
         "AJ Finch",
         2
        ],
        [
         "S Kaul",
         "Mandeep Singh",
         2
        ],
        [
         "M Markande",
         "AT Rayudu",
         2
        ],
        [
         "AJ Tye",
         "RA Jadeja",
         2
        ],
        [
         "KH Pandya",
         "KK Nair",
         2
        ],
        [
         "MP Stoinis",
         "SA Yadav",
         2
        ],
        [
         "Z Khan",
         "UT Yadav",
         2
        ],
        [
         "CJ Jordan",
         "P Kumar",
         2
        ],
        [
         "HH Pandya",
         "SV Samson",
         2
        ],
        [
         "K Rabada",
         "MK Pandey",
         2
        ],
        [
         "AD Russell",
         "CH Gayle",
         2
        ],
        [
         "KH Pandya",
         "Q de Kock",
         2
        ],
        [
         "S Kaul",
         "DT Christian",
         2
        ],
        [
         "CH Morris",
         "KS Williamson",
         2
        ],
        [
         "PP Chawla",
         "BA Stokes",
         2
        ],
        [
         "Kuldeep Yadav",
         "DA Warner",
         2
        ],
        [
         "Rashid Khan",
         "AJ Finch",
         2
        ],
        [
         "Sandeep Sharma",
         "AJ Tye",
         2
        ],
        [
         "K Rabada",
         "RG Sharma",
         2
        ],
        [
         "PP Chawla",
         "JJ Roy",
         2
        ],
        [
         "NM Coulter-Nile",
         "SS Iyer",
         2
        ],
        [
         "KK Ahmed",
         "Shubman Gill",
         2
        ],
        [
         "DJ Bravo",
         "R Tewatia",
         2
        ],
        [
         "CH Morris",
         "BA Stokes",
         2
        ],
        [
         "K Rabada",
         "S Dube",
         2
        ],
        [
         "SM Curran",
         "AD Russell",
         2
        ],
        [
         "B Kumar",
         "HH Pandya",
         2
        ],
        [
         "RD Chahar",
         "MA Agarwal",
         2
        ],
        [
         "Rashid Khan",
         "RV Uthappa",
         2
        ],
        [
         "Mohammed Siraj",
         "DA Warner",
         2
        ],
        [
         "MM Ali",
         "Q de Kock",
         2
        ],
        [
         "JP Behrendorff",
         "V Kohli",
         2
        ],
        [
         "YS Chahal",
         "PJ Cummins",
         2
        ],
        [
         "A Nortje",
         "AB de Villiers",
         2
        ],
        [
         "DL Chahar",
         "N Rana",
         2
        ],
        [
         "MM Ali",
         "KL Rahul",
         2
        ],
        [
         "Mohammed Shami",
         "AD Russell",
         2
        ],
        [
         "CV Varun",
         "R Tewatia",
         2
        ],
        [
         "TA Boult",
         "AJ Finch",
         2
        ],
        [
         "Avesh Khan",
         "KD Karthik",
         2
        ],
        [
         "R Ashwin",
         "PP Shaw",
         2
        ],
        [
         "Imran Tahir",
         "KH Pandya",
         2
        ],
        [
         "A Nortje",
         "RG Sharma",
         2
        ],
        [
         "Mohammed Siraj",
         "JC Buttler",
         2
        ],
        [
         "KK Ahmed",
         "SP Narine",
         2
        ],
        [
         "JJ Bumrah",
         "D Padikkal",
         2
        ],
        [
         "RA Jadeja",
         "AB de Villiers",
         2
        ],
        [
         "Ravi Bishnoi",
         "Abdul Samad",
         2
        ],
        [
         "SM Curran",
         "V Kohli",
         2
        ],
        [
         "JD Unadkat",
         "SK Raina",
         2
        ],
        [
         "SN Thakur",
         "Shubman Gill",
         2
        ],
        [
         "KK Ahmed",
         "RG Sharma",
         2
        ],
        [
         "RD Chahar",
         "GJ Maxwell",
         2
        ],
        [
         "YS Chahal",
         "KL Rahul",
         2
        ],
        [
         "R Ashwin",
         "SV Samson",
         2
        ],
        [
         "KK Ahmed",
         "SW Billings",
         2
        ],
        [
         "K Rabada",
         "Shubman Gill",
         2
        ],
        [
         "SN Thakur",
         "AB de Villiers",
         2
        ],
        [
         "KK Ahmed",
         "SS Iyer",
         2
        ],
        [
         "JC Archer",
         "F du Plessis",
         2
        ],
        [
         "SM Curran",
         "MM Ali",
         2
        ],
        [
         "T Natarajan",
         "Washington Sundar",
         2
        ],
        [
         "T Natarajan",
         "RA Tripathi",
         2
        ],
        [
         "Avesh Khan",
         "MS Dhoni",
         2
        ],
        [
         "CV Varun",
         "N Pooran",
         2
        ],
        [
         "RD Chahar",
         "MS Dhoni",
         2
        ],
        [
         "K Rabada",
         "JC Archer",
         2
        ],
        [
         "MJ Santner",
         "SV Samson",
         2
        ],
        [
         "Mohammed Shami",
         "R Tewatia",
         2
        ],
        [
         "JJ Bumrah",
         "AT Rayudu",
         2
        ],
        [
         "R Tewatia",
         "MM Ali",
         2
        ],
        [
         "Avesh Khan",
         "Shubman Gill",
         2
        ],
        [
         "JC Archer",
         "Q de Kock",
         2
        ],
        [
         "T Natarajan",
         "MS Dhoni",
         2
        ],
        [
         "JJ Bumrah",
         "Mohammad Nabi",
         2
        ],
        [
         "S Gopal",
         "AJ Finch",
         2
        ],
        [
         "AD Russell",
         "M Jansen",
         2
        ],
        [
         "YS Chahal",
         "Abdul Samad",
         2
        ],
        [
         "S Gopal",
         "S Dhawan",
         2
        ],
        [
         "JC Archer",
         "DA Warner",
         2
        ],
        [
         "KK Ahmed",
         "MA Agarwal",
         2
        ],
        [
         "L Ngidi",
         "KL Rahul",
         2
        ],
        [
         "PP Chawla",
         "SV Samson",
         2
        ],
        [
         "Sandeep Sharma",
         "Q de Kock",
         2
        ],
        [
         "SM Curran",
         "SPD Smith",
         2
        ],
        [
         "C Sakariya",
         "AT Rayudu",
         2
        ],
        [
         "AR Patel",
         "Abhishek Sharma",
         2
        ],
        [
         "RD Chahar",
         "Shubman Gill",
         2
        ],
        [
         "M Prasidh Krishna",
         "DA Warner",
         2
        ],
        [
         "K Rabada",
         "R Parag",
         2
        ],
        [
         "R Ashwin",
         "MM Ali",
         2
        ],
        [
         "Sandeep Sharma",
         "S Dhawan",
         2
        ],
        [
         "CV Varun",
         "DA Warner",
         2
        ],
        [
         "Navdeep Saini",
         "KA Pollard",
         2
        ],
        [
         "JC Archer",
         "N Rana",
         2
        ],
        [
         "RD Chahar",
         "PP Shaw",
         2
        ],
        [
         "JO Holder",
         "R Parag",
         2
        ],
        [
         "Harbhajan Singh",
         "MA Agarwal",
         2
        ],
        [
         "Mohammed Siraj",
         "DA Miller",
         2
        ],
        [
         "R Ashwin",
         "N Pooran",
         2
        ],
        [
         "K Rabada",
         "Rashid Khan",
         2
        ],
        [
         "K Rabada",
         "GJ Maxwell",
         2
        ],
        [
         "YS Chahal",
         "KH Pandya",
         2
        ],
        [
         "K Rabada",
         "Ishan Kishan",
         2
        ],
        [
         "PJ Cummins",
         "R Parag",
         2
        ],
        [
         "SP Narine",
         "N Pooran",
         2
        ],
        [
         "SN Thakur",
         "MP Stoinis",
         2
        ],
        [
         "RP Meredith",
         "SPD Smith",
         2
        ],
        [
         "Umran Malik",
         "Ishan Kishan",
         2
        ],
        [
         "KH Pandya",
         "MA Agarwal",
         2
        ],
        [
         "T Natarajan",
         "GJ Maxwell",
         2
        ],
        [
         "UT Yadav",
         "PP Shaw",
         2
        ],
        [
         "A Nortje",
         "RV Uthappa",
         2
        ],
        [
         "AD Russell",
         "KH Pandya",
         2
        ],
        [
         "Mohammed Shami",
         "JC Archer",
         2
        ],
        [
         "PJ Cummins",
         "S Dhawan",
         2
        ],
        [
         "AS Joseph",
         "DA Warner",
         2
        ],
        [
         "CV Varun",
         "HV Patel",
         2
        ],
        [
         "HV Patel",
         "JJ Bumrah",
         2
        ],
        [
         "Rashid Khan",
         "AR Patel",
         2
        ],
        [
         "Sandeep Sharma",
         "GJ Maxwell",
         2
        ],
        [
         "JJ Bumrah",
         "Abhishek Sharma",
         2
        ],
        [
         "M Ashwin",
         "WP Saha",
         2
        ],
        [
         "SM Curran",
         "DA Warner",
         2
        ],
        [
         "Avesh Khan",
         "RA Jadeja",
         2
        ],
        [
         "M Prasidh Krishna",
         "Q de Kock",
         2
        ],
        [
         "R Tewatia",
         "JM Bairstow",
         2
        ],
        [
         "Arshdeep Singh",
         "S Dube",
         2
        ],
        [
         "AR Patel",
         "SA Yadav",
         2
        ],
        [
         "Mohammed Siraj",
         "SPD Smith",
         2
        ],
        [
         "Harpreet Brar",
         "V Kohli",
         2
        ],
        [
         "Mohammed Siraj",
         "RA Tripathi",
         2
        ],
        [
         "CV Varun",
         "AR Patel",
         2
        ],
        [
         "TA Boult",
         "JJ Roy",
         2
        ],
        [
         "CH Morris",
         "DJ Hooda",
         2
        ],
        [
         "Kuldeep Yadav",
         "MM Ali",
         2
        ],
        [
         "SP Narine",
         "Q de Kock",
         2
        ],
        [
         "DL Chahar",
         "CH Gayle",
         2
        ],
        [
         "YS Chahal",
         "RD Gaikwad",
         2
        ],
        [
         "HV Patel",
         "N Rana",
         2
        ],
        [
         "Rashid Khan",
         "Q de Kock",
         2
        ],
        [
         "A Nortje",
         "WP Saha",
         2
        ],
        [
         "AR Patel",
         "JO Holder",
         2
        ],
        [
         "MJ Santner",
         "SP Narine",
         2
        ],
        [
         "K Rabada",
         "KS Williamson",
         2
        ],
        [
         "K Rabada",
         "V Shankar",
         2
        ],
        [
         "SP Narine",
         "MM Ali",
         2
        ],
        [
         "S Lamichhane",
         "SM Curran",
         2
        ],
        [
         "K Rabada",
         "AD Russell",
         2
        ],
        [
         "Mohammed Shami",
         "CH Morris",
         2
        ],
        [
         "I Sharma",
         "Q de Kock",
         2
        ],
        [
         "SN Thakur",
         "KL Rahul",
         2
        ],
        [
         "Imran Tahir",
         "SS Iyer",
         2
        ],
        [
         "DJ Bravo",
         "Shakib Al Hasan",
         2
        ],
        [
         "Shivam Mavi",
         "F du Plessis",
         2
        ],
        [
         "PJ Cummins",
         "KL Rahul",
         2
        ],
        [
         "HV Patel",
         "JO Holder",
         2
        ],
        [
         "SM Curran",
         "SV Samson",
         2
        ],
        [
         "CH Morris",
         "F du Plessis",
         2
        ],
        [
         "KV Sharma",
         "KS Williamson",
         2
        ],
        [
         "M Ashwin",
         "SS Iyer",
         2
        ],
        [
         "K Rabada",
         "AM Rahane",
         2
        ],
        [
         "T Natarajan",
         "A Nortje",
         2
        ],
        [
         "HV Patel",
         "AD Russell",
         2
        ],
        [
         "Mustafizur Rahman",
         "Rashid Khan",
         2
        ],
        [
         "RA Jadeja",
         "JC Buttler",
         2
        ],
        [
         "A Nortje",
         "SP Narine",
         2
        ],
        [
         "PP Chawla",
         "MA Agarwal",
         2
        ],
        [
         "CV Varun",
         "JC Buttler",
         2
        ],
        [
         "B Kumar",
         "PP Shaw",
         2
        ],
        [
         "RD Chahar",
         "RA Tripathi",
         2
        ],
        [
         "A Mishra",
         "HH Pandya",
         2
        ],
        [
         "SN Thakur",
         "JC Buttler",
         2
        ],
        [
         "AR Patel",
         "MP Stoinis",
         2
        ],
        [
         "Ravi Bishnoi",
         "RR Pant",
         2
        ],
        [
         "HV Patel",
         "KD Karthik",
         2
        ],
        [
         "HV Patel",
         "KH Pandya",
         2
        ],
        [
         "Sandeep Sharma",
         "DA Miller",
         2
        ],
        [
         "Arshdeep Singh",
         "PK Garg",
         2
        ],
        [
         "HV Patel",
         "KA Pollard",
         2
        ],
        [
         "HV Patel",
         "Rashid Khan",
         2
        ],
        [
         "LH Ferguson",
         "D Padikkal",
         2
        ],
        [
         "LH Ferguson",
         "PP Shaw",
         2
        ],
        [
         "PJ Cummins",
         "SPD Smith",
         2
        ],
        [
         "Avesh Khan",
         "V Kohli",
         2
        ],
        [
         "Avesh Khan",
         "M Shahrukh Khan",
         2
        ],
        [
         "Avesh Khan",
         "S Dube",
         2
        ],
        [
         "DL Chahar",
         "Abhishek Sharma",
         2
        ],
        [
         "A Nortje",
         "EJG Morgan",
         2
        ],
        [
         "MP Stoinis",
         "HH Pandya",
         2
        ],
        [
         "Washington Sundar",
         "DA Warner",
         2
        ],
        [
         "K Rabada",
         "Abdul Samad",
         2
        ],
        [
         "R Tewatia",
         "MP Stoinis",
         2
        ],
        [
         "MM Sharma",
         "KH Pandya",
         2
        ],
        [
         "RA Jadeja",
         "HH Pandya",
         2
        ],
        [
         "A Nortje",
         "KM Jadhav",
         2
        ],
        [
         "J Yadav",
         "S Dhawan",
         2
        ],
        [
         "SM Curran",
         "SA Yadav",
         2
        ],
        [
         "GC Viljoen",
         "S Dhawan",
         2
        ],
        [
         "JC Archer",
         "PP Shaw",
         2
        ],
        [
         "RD Chahar",
         "SV Samson",
         2
        ],
        [
         "Imran Tahir",
         "Navdeep Saini",
         2
        ],
        [
         "AD Russell",
         "HH Pandya",
         2
        ],
        [
         "CV Varun",
         "SO Hetmyer",
         2
        ],
        [
         "Avesh Khan",
         "DA Miller",
         2
        ],
        [
         "JJ Bumrah",
         "VR Iyer",
         2
        ],
        [
         "S Gopal",
         "CA Lynn",
         2
        ],
        [
         "AD Russell",
         "KA Pollard",
         2
        ],
        [
         "AR Patel",
         "MM Ali",
         2
        ],
        [
         "RD Chahar",
         "JC Buttler",
         2
        ],
        [
         "M Prasidh Krishna",
         "AJ Finch",
         2
        ],
        [
         "Rashid Khan",
         "Shubman Gill",
         2
        ],
        [
         "HV Patel",
         "MP Stoinis",
         2
        ],
        [
         "JC Archer",
         "Shubman Gill",
         2
        ],
        [
         "K Rabada",
         "SV Samson",
         2
        ],
        [
         "KK Ahmed",
         "SA Yadav",
         2
        ],
        [
         "A Nortje",
         "SA Yadav",
         2
        ],
        [
         "A Nortje",
         "HH Pandya",
         2
        ],
        [
         "YS Chahal",
         "V Shankar",
         2
        ],
        [
         "JJ Bumrah",
         "S Dube",
         2
        ],
        [
         "RD Chahar",
         "KD Karthik",
         2
        ],
        [
         "M Prasidh Krishna",
         "KL Rahul",
         2
        ],
        [
         "PP Chawla",
         "KH Pandya",
         2
        ],
        [
         "Arshdeep Singh",
         "Rashid Khan",
         2
        ],
        [
         "JO Holder",
         "V Kohli",
         2
        ],
        [
         "Navdeep Saini",
         "SP Narine",
         2
        ],
        [
         "DL Chahar",
         "DA Warner",
         2
        ],
        [
         "Avesh Khan",
         "N Pooran",
         2
        ],
        [
         "Shahbaz Ahmed",
         "JM Bairstow",
         2
        ],
        [
         "DL Chahar",
         "AJ Finch",
         2
        ],
        [
         "KK Ahmed",
         "N Pooran",
         2
        ],
        [
         "MP Stoinis",
         "MA Agarwal",
         2
        ],
        [
         "CV Varun",
         "MP Stoinis",
         2
        ],
        [
         "DJ Bravo",
         "Shivam Mavi",
         2
        ],
        [
         "JC Archer",
         "KD Karthik",
         2
        ],
        [
         "DL Chahar",
         "BA Stokes",
         2
        ],
        [
         "Mohammed Siraj",
         "Q de Kock",
         2
        ],
        [
         "RD Chahar",
         "Abhishek Sharma",
         2
        ],
        [
         "Mohammed Shami",
         "PP Shaw",
         2
        ],
        [
         "JJ Bumrah",
         "S Gopal",
         2
        ],
        [
         "S Gopal",
         "MK Pandey",
         2
        ],
        [
         "Mohammed Shami",
         "AT Rayudu",
         2
        ],
        [
         "Rashid Khan",
         "RD Gaikwad",
         2
        ],
        [
         "CV Varun",
         "Q de Kock",
         2
        ],
        [
         "S Gopal",
         "RG Sharma",
         2
        ],
        [
         "JD Unadkat",
         "DJ Hooda",
         2
        ],
        [
         "CH Morris",
         "PJ Cummins",
         2
        ],
        [
         "HV Patel",
         "CH Morris",
         2
        ],
        [
         "RA Jadeja",
         "WP Saha",
         2
        ],
        [
         "Rashid Khan",
         "SS Iyer",
         2
        ],
        [
         "CV Varun",
         "RD Gaikwad",
         2
        ],
        [
         "JJ Bumrah",
         "EJG Morgan",
         2
        ],
        [
         "BA Stokes",
         "N Pooran",
         2
        ],
        [
         "Arshdeep Singh",
         "Shubman Gill",
         2
        ],
        [
         "TA Boult",
         "D Padikkal",
         2
        ],
        [
         "SN Thakur",
         "CR Brathwaite",
         2
        ],
        [
         "Rashid Khan",
         "SV Samson",
         2
        ],
        [
         "L Ngidi",
         "SP Goswami",
         2
        ],
        [
         "MP Stoinis",
         "RA Tripathi",
         2
        ],
        [
         "JC Archer",
         "Mandeep Singh",
         2
        ],
        [
         "SN Thakur",
         "Q de Kock",
         2
        ],
        [
         "HV Patel",
         "C Sakariya",
         2
        ],
        [
         "Shivam Mavi",
         "RG Sharma",
         2
        ],
        [
         "Mohammed Shami",
         "RV Uthappa",
         2
        ],
        [
         "JO Holder",
         "NM Coulter-Nile",
         2
        ],
        [
         "RD Chahar",
         "S Dhawan",
         2
        ],
        [
         "Arshdeep Singh",
         "AM Rahane",
         2
        ],
        [
         "Mohammed Shami",
         "AR Patel",
         2
        ],
        [
         "Avesh Khan",
         "JC Buttler",
         2
        ],
        [
         "PVD Chameera",
         "KA Pollard",
         2
        ],
        [
         "Yash Dayal",
         "RD Gaikwad",
         2
        ],
        [
         "Arshdeep Singh",
         "R Ashwin",
         2
        ],
        [
         "YS Chahal",
         "RA Tripathi",
         2
        ],
        [
         "T Natarajan",
         "SO Hetmyer",
         2
        ],
        [
         "Avesh Khan",
         "Abdul Samad",
         2
        ],
        [
         "JO Holder",
         "KL Rahul",
         2
        ],
        [
         "A Nortje",
         "RD Gaikwad",
         2
        ],
        [
         "DR Sams",
         "RD Gaikwad",
         2
        ],
        [
         "TA Boult",
         "Abhishek Sharma",
         2
        ],
        [
         "Suyash Sharma",
         "KD Karthik",
         2
        ],
        [
         "Mohammed Siraj",
         "KR Mayers",
         2
        ],
        [
         "AR Patel",
         "JM Sharma",
         2
        ],
        [
         "Mukesh Kumar",
         "YBK Jaiswal",
         2
        ],
        [
         "Mohsin Khan",
         "HH Pandya",
         2
        ],
        [
         "M Theekshana",
         "Shahbaz Ahmed",
         2
        ],
        [
         "SP Narine",
         "R Powell",
         2
        ],
        [
         "K Rabada",
         "KH Pandya",
         2
        ],
        [
         "Mustafizur Rahman",
         "R Tewatia",
         2
        ],
        [
         "MM Ali",
         "KH Pandya",
         2
        ],
        [
         "JJ Bumrah",
         "PP Shaw",
         2
        ],
        [
         "PWH de Silva",
         "DJ Hooda",
         2
        ],
        [
         "Rashid Khan",
         "Aman Hakim Khan",
         2
        ],
        [
         "PP Chawla",
         "JC Buttler",
         2
        ],
        [
         "KK Ahmed",
         "Tilak Varma",
         2
        ],
        [
         "TA Boult",
         "A Badoni",
         2
        ],
        [
         "JO Holder",
         "Washington Sundar",
         2
        ],
        [
         "M Pathirana",
         "D Padikkal",
         2
        ],
        [
         "AD Russell",
         "KS Williamson",
         2
        ],
        [
         "Yash Dayal",
         "Abhishek Sharma",
         2
        ],
        [
         "C Green",
         "MP Stoinis",
         2
        ],
        [
         "DL Chahar",
         "PD Salt",
         2
        ],
        [
         "YS Chahal",
         "Abishek Porel",
         2
        ],
        [
         "YS Chahal",
         "DJ Willey",
         2
        ],
        [
         "MJ Santner",
         "SA Yadav",
         2
        ],
        [
         "Avesh Khan",
         "DA Warner",
         2
        ],
        [
         "M Jansen",
         "Ishan Kishan",
         2
        ],
        [
         "YS Chahal",
         "VR Iyer",
         2
        ],
        [
         "MM Ali",
         "F du Plessis",
         2
        ],
        [
         "HH Pandya",
         "JC Buttler",
         2
        ],
        [
         "HV Patel",
         "Abishek Porel",
         2
        ],
        [
         "MM Sharma",
         "MP Stoinis",
         2
        ],
        [
         "TA Boult",
         "Ishan Kishan",
         2
        ],
        [
         "Yash Dayal",
         "YBK Jaiswal",
         2
        ],
        [
         "MR Marsh",
         "S Dube",
         2
        ],
        [
         "Ravi Bishnoi",
         "R Powell",
         2
        ],
        [
         "Arshdeep Singh",
         "SA Yadav",
         2
        ],
        [
         "Arshdeep Singh",
         "WP Saha",
         2
        ],
        [
         "HV Patel",
         "MM Ali",
         2
        ],
        [
         "SN Thakur",
         "DJ Hooda",
         2
        ],
        [
         "NT Ellis",
         "Rahmanullah Gurbaz",
         2
        ],
        [
         "JD Unadkat",
         "V Kohli",
         2
        ],
        [
         "UT Yadav",
         "AK Markram",
         2
        ],
        [
         "JR Hazlewood",
         "EJG Morgan",
         2
        ],
        [
         "HV Patel",
         "S Dhawan",
         2
        ],
        [
         "RA Jadeja",
         "PP Shaw",
         2
        ],
        [
         "Arshdeep Singh",
         "KL Rahul",
         2
        ],
        [
         "MR Marsh",
         "F du Plessis",
         2
        ],
        [
         "Shahbaz Ahmed",
         "RD Gaikwad",
         2
        ],
        [
         "SP Narine",
         "Shubman Gill",
         2
        ],
        [
         "CV Varun",
         "AK Markram",
         2
        ],
        [
         "R Ashwin",
         "S Dube",
         2
        ],
        [
         "KK Ahmed",
         "KD Karthik",
         2
        ],
        [
         "R Ashwin",
         "RM Patidar",
         2
        ],
        [
         "TU Deshpande",
         "Shubman Gill",
         2
        ],
        [
         "Naveen-ul-Haq",
         "Tilak Varma",
         2
        ],
        [
         "Yash Thakur",
         "RA Tripathi",
         2
        ],
        [
         "HV Patel",
         "H Klaasen",
         2
        ],
        [
         "B Kumar",
         "DA Warner",
         2
        ],
        [
         "GJ Maxwell",
         "Abhishek Sharma",
         2
        ],
        [
         "Noor Ahmad",
         "N Pooran",
         2
        ],
        [
         "Mohsin Khan",
         "N Wadhera",
         2
        ],
        [
         "KV Sharma",
         "MP Stoinis",
         2
        ],
        [
         "JR Hazlewood",
         "SS Iyer",
         2
        ],
        [
         "Kuldeep Yadav",
         "SP Narine",
         2
        ],
        [
         "JR Hazlewood",
         "A Badoni",
         2
        ],
        [
         "Ravi Bishnoi",
         "MM Ali",
         2
        ],
        [
         "HV Patel",
         "VR Iyer",
         2
        ],
        [
         "Mukesh Choudhary",
         "Ishan Kishan",
         2
        ],
        [
         "Mohammed Siraj",
         "D Padikkal",
         2
        ],
        [
         "T Natarajan",
         "KH Pandya",
         2
        ],
        [
         "JJ Bumrah",
         "N Rana",
         2
        ],
        [
         "T Natarajan",
         "VR Iyer",
         2
        ],
        [
         "JJ Bumrah",
         "SP Narine",
         2
        ],
        [
         "Arshdeep Singh",
         "RA Jadeja",
         2
        ],
        [
         "KH Pandya",
         "DR Sams",
         2
        ],
        [
         "SM Curran",
         "MP Stoinis",
         2
        ],
        [
         "Avesh Khan",
         "Abhishek Sharma",
         2
        ],
        [
         "NT Ellis",
         "SV Samson",
         2
        ],
        [
         "Umran Malik",
         "D Padikkal",
         2
        ],
        [
         "B Kumar",
         "P Simran Singh",
         2
        ],
        [
         "AD Russell",
         "Abhishek Sharma",
         2
        ],
        [
         "MM Sharma",
         "Vishnu Vinod",
         2
        ],
        [
         "B Kumar",
         "JC Buttler",
         2
        ],
        [
         "Avesh Khan",
         "RG Sharma",
         2
        ],
        [
         "Akash Deep",
         "Ishan Kishan",
         2
        ],
        [
         "Rashid Khan",
         "Tilak Varma",
         2
        ],
        [
         "M Pathirana",
         "N Pooran",
         2
        ],
        [
         "TU Deshpande",
         "YBK Jaiswal",
         2
        ],
        [
         "KK Ahmed",
         "D Padikkal",
         2
        ],
        [
         "Mukesh Kumar",
         "Tilak Varma",
         2
        ],
        [
         "PP Chawla",
         "V Shankar",
         2
        ],
        [
         "Akash Madhwal",
         "Shubman Gill",
         2
        ],
        [
         "Kuldeep Yadav",
         "SS Iyer",
         2
        ],
        [
         "CV Varun",
         "F du Plessis",
         2
        ],
        [
         "PP Chawla",
         "H Klaasen",
         2
        ],
        [
         "RA Jadeja",
         "P Simran Singh",
         2
        ],
        [
         "Vijaykumar Vyshak",
         "V Shankar",
         2
        ],
        [
         "YS Chahal",
         "JM Sharma",
         2
        ],
        [
         "HV Patel",
         "RD Chahar",
         2
        ],
        [
         "JO Holder",
         "Tilak Varma",
         2
        ],
        [
         "Kuldeep Yadav",
         "Abhishek Sharma",
         2
        ],
        [
         "Rashid Khan",
         "TH David",
         2
        ],
        [
         "NT Ellis",
         "C Green",
         2
        ],
        [
         "M Pathirana",
         "T Stubbs",
         2
        ],
        [
         "Harshit Rana",
         "MA Agarwal",
         2
        ],
        [
         "Naveen-ul-Haq",
         "Mohammed Siraj",
         2
        ],
        [
         "HV Patel",
         "RK Singh",
         2
        ],
        [
         "Mohammed Shami",
         "KL Rahul",
         2
        ],
        [
         "K Rabada",
         "JC Buttler",
         2
        ],
        [
         "Kuldeep Yadav",
         "Harpreet Brar",
         2
        ],
        [
         "YS Chahal",
         "SS Iyer",
         2
        ],
        [
         "T Natarajan",
         "R Parag",
         2
        ],
        [
         "SN Thakur",
         "SA Yadav",
         2
        ],
        [
         "Simarjeet Singh",
         "JC Buttler",
         2
        ],
        [
         "TA Boult",
         "P Simran Singh",
         2
        ],
        [
         "M Markande",
         "PD Salt",
         2
        ],
        [
         "LH Ferguson",
         "JM Bairstow",
         2
        ],
        [
         "HV Patel",
         "TA Boult",
         2
        ],
        [
         "LS Livingstone",
         "DA Miller",
         2
        ],
        [
         "Sandeep Sharma",
         "N Pooran",
         2
        ],
        [
         "SM Curran",
         "SO Hetmyer",
         2
        ],
        [
         "UT Yadav",
         "D Padikkal",
         2
        ],
        [
         "PP Chawla",
         "Abhishek Sharma",
         2
        ],
        [
         "Sandeep Sharma",
         "Shubman Gill",
         2
        ],
        [
         "MM Ali",
         "KR Mayers",
         2
        ],
        [
         "T Natarajan",
         "F du Plessis",
         2
        ],
        [
         "Shivam Mavi",
         "MP Stoinis",
         2
        ],
        [
         "MR Marsh",
         "RA Tripathi",
         2
        ],
        [
         "LH Ferguson",
         "RR Pant",
         2
        ],
        [
         "Rashid Khan",
         "R Parag",
         2
        ],
        [
         "Vijaykumar Vyshak",
         "SA Yadav",
         2
        ],
        [
         "TU Deshpande",
         "TH David",
         2
        ],
        [
         "M Markande",
         "AD Russell",
         2
        ],
        [
         "UT Yadav",
         "RD Gaikwad",
         2
        ],
        [
         "Umran Malik",
         "SS Iyer",
         2
        ],
        [
         "A Zampa",
         "MM Ali",
         2
        ],
        [
         "Sandeep Sharma",
         "MP Stoinis",
         2
        ],
        [
         "M Pathirana",
         "H Klaasen",
         2
        ],
        [
         "CV Varun",
         "Shahbaz Ahmed",
         2
        ],
        [
         "Mohammed Siraj",
         "SO Hetmyer",
         2
        ],
        [
         "TU Deshpande",
         "MK Pandey",
         2
        ],
        [
         "Rashid Khan",
         "SN Thakur",
         2
        ],
        [
         "R Ashwin",
         "C Green",
         2
        ],
        [
         "Arshdeep Singh",
         "YBK Jaiswal",
         2
        ],
        [
         "Kuldeep Yadav",
         "KL Rahul",
         2
        ],
        [
         "SN Thakur",
         "VR Iyer",
         2
        ],
        [
         "RD Chahar",
         "MM Ali",
         2
        ],
        [
         "AD Russell",
         "Abdul Samad",
         2
        ],
        [
         "Arshdeep Singh",
         "TM Head",
         2
        ],
        [
         "AD Russell",
         "RM Patidar",
         2
        ],
        [
         "S Sandeep Warrier",
         "PP Shaw",
         2
        ],
        [
         "M Pathirana",
         "B Sai Sudharsan",
         2
        ],
        [
         "Yash Thakur",
         "MK Lomror",
         2
        ],
        [
         "N Thushara",
         "PD Salt",
         2
        ],
        [
         "LH Ferguson",
         "SM Curran",
         2
        ],
        [
         "HV Patel",
         "RA Tripathi",
         2
        ],
        [
         "Mukesh Kumar",
         "C Green",
         2
        ],
        [
         "CV Varun",
         "T Stubbs",
         2
        ],
        [
         "PJ Cummins",
         "SP Narine",
         2
        ],
        [
         "VG Arora",
         "PP Shaw",
         2
        ],
        [
         "I Sharma",
         "DJ Hooda",
         2
        ],
        [
         "AD Russell",
         "PJ Cummins",
         2
        ],
        [
         "Harshit Rana",
         "H Klaasen",
         2
        ],
        [
         "MP Stoinis",
         "S Dube",
         2
        ],
        [
         "J Little",
         "C Green",
         2
        ],
        [
         "A Nehra",
         "PA Patel",
         3
        ],
        [
         "AD Mathews",
         "R Dravid",
         3
        ],
        [
         "PP Chawla",
         "YK Pathan",
         3
        ],
        [
         "KA Pollard",
         "RV Uthappa",
         3
        ],
        [
         "RP Singh",
         "SR Watson",
         3
        ],
        [
         "SR Watson",
         "MS Dhoni",
         3
        ],
        [
         "SR Watson",
         "V Sehwag",
         3
        ],
        [
         "Z Khan",
         "AC Gilchrist",
         3
        ],
        [
         "M Muralitharan",
         "RV Uthappa",
         3
        ],
        [
         "KA Pollard",
         "MS Dhoni",
         3
        ],
        [
         "MM Patel",
         "R Dravid",
         3
        ],
        [
         "RP Singh",
         "DJ Bravo",
         3
        ],
        [
         "SL Malinga",
         "Y Venugopal Rao",
         3
        ],
        [
         "DL Vettori",
         "DPMD Jayawardene",
         3
        ],
        [
         "A Nehra",
         "V Sehwag",
         3
        ],
        [
         "A Singh",
         "R Vinay Kumar",
         3
        ],
        [
         "JA Morkel",
         "DPMD Jayawardene",
         3
        ],
        [
         "PP Ojha",
         "S Badrinath",
         3
        ],
        [
         "P Kumar",
         "PA Patel",
         3
        ],
        [
         "RP Singh",
         "S Badrinath",
         3
        ],
        [
         "AD Mascarenhas",
         "G Gambhir",
         3
        ],
        [
         "L Balaji",
         "DA Warner",
         3
        ],
        [
         "YK Pathan",
         "PA Patel",
         3
        ],
        [
         "L Balaji",
         "RG Sharma",
         3
        ],
        [
         "PP Chawla",
         "V Kohli",
         3
        ],
        [
         "PP Ojha",
         "JH Kallis",
         3
        ],
        [
         "RP Singh",
         "BB McCullum",
         3
        ],
        [
         "Harbhajan Singh",
         "TL Suman",
         3
        ],
        [
         "Harbhajan Singh",
         "KP Pietersen",
         3
        ],
        [
         "I Sharma",
         "TM Dilshan",
         3
        ],
        [
         "A Mishra",
         "A Symonds",
         3
        ],
        [
         "SK Trivedi",
         "MK Pandey",
         3
        ],
        [
         "R Vinay Kumar",
         "AD Mathews",
         3
        ],
        [
         "R Ashwin",
         "BB McCullum",
         3
        ],
        [
         "A Kumble",
         "AC Gilchrist",
         3
        ],
        [
         "M Muralitharan",
         "DPMD Jayawardene",
         3
        ],
        [
         "Z Khan",
         "HH Gibbs",
         3
        ],
        [
         "PP Chawla",
         "AM Rahane",
         3
        ],
        [
         "SK Warne",
         "RV Uthappa",
         3
        ],
        [
         "RJ Harris",
         "R Vinay Kumar",
         3
        ],
        [
         "MM Patel",
         "V Sehwag",
         3
        ],
        [
         "SR Watson",
         "G Gambhir",
         3
        ],
        [
         "Z Khan",
         "IK Pathan",
         3
        ],
        [
         "JA Morkel",
         "AC Gilchrist",
         3
        ],
        [
         "R Vinay Kumar",
         "SR Tendulkar",
         3
        ],
        [
         "RA Jadeja",
         "RV Uthappa",
         3
        ],
        [
         "P Kumar",
         "SK Raina",
         3
        ],
        [
         "A Nehra",
         "MS Dhoni",
         3
        ],
        [
         "M Muralitharan",
         "KC Sangakkara",
         3
        ],
        [
         "R Ashwin",
         "KC Sangakkara",
         3
        ],
        [
         "DJ Bravo",
         "SR Watson",
         3
        ],
        [
         "SR Watson",
         "M Vijay",
         3
        ],
        [
         "DJ Bravo",
         "WP Saha",
         3
        ],
        [
         "Harbhajan Singh",
         "M Vijay",
         3
        ],
        [
         "S Sreesanth",
         "TM Dilshan",
         3
        ],
        [
         "UT Yadav",
         "DJ Hussey",
         3
        ],
        [
         "P Kumar",
         "V Sehwag",
         3
        ],
        [
         "UT Yadav",
         "AD Mathews",
         3
        ],
        [
         "JH Kallis",
         "SR Tendulkar",
         3
        ],
        [
         "M Kartik",
         "RV Uthappa",
         3
        ],
        [
         "SL Malinga",
         "DB Ravi Teja",
         3
        ],
        [
         "Harbhajan Singh",
         "AB de Villiers",
         3
        ],
        [
         "SK Warne",
         "SK Raina",
         3
        ],
        [
         "SL Malinga",
         "DPMD Jayawardene",
         3
        ],
        [
         "AB Dinda",
         "V Kohli",
         3
        ],
        [
         "RA Jadeja",
         "RG Sharma",
         3
        ],
        [
         "R Bhatia",
         "SR Tendulkar",
         3
        ],
        [
         "A Nehra",
         "AT Rayudu",
         3
        ],
        [
         "DL Vettori",
         "JH Kallis",
         3
        ],
        [
         "PP Chawla",
         "SR Watson",
         3
        ],
        [
         "PP Ojha",
         "DJ Bravo",
         3
        ],
        [
         "Harbhajan Singh",
         "R Dravid",
         3
        ],
        [
         "L Balaji",
         "V Kohli",
         3
        ],
        [
         "KA Pollard",
         "V Kohli",
         3
        ],
        [
         "IK Pathan",
         "S Dhawan",
         3
        ],
        [
         "DJ Bravo",
         "JH Kallis",
         3
        ],
        [
         "JA Morkel",
         "AB de Villiers",
         3
        ],
        [
         "R Ashwin",
         "DJ Hussey",
         3
        ],
        [
         "IK Pathan",
         "KA Pollard",
         3
        ],
        [
         "SL Malinga",
         "PA Patel",
         3
        ],
        [
         "Z Khan",
         "CH Gayle",
         3
        ],
        [
         "PP Ojha",
         "YK Pathan",
         3
        ],
        [
         "A Mishra",
         "SK Warne",
         3
        ],
        [
         "RP Singh",
         "SR Tendulkar",
         3
        ],
        [
         "R Ashwin",
         "YK Pathan",
         3
        ],
        [
         "R Ashwin",
         "MA Agarwal",
         3
        ],
        [
         "I Sharma",
         "DPMD Jayawardene",
         3
        ],
        [
         "R Bhatia",
         "P Dogra",
         3
        ],
        [
         "JP Faulkner",
         "MG Johnson",
         3
        ],
        [
         "P Negi",
         "SR Watson",
         3
        ],
        [
         "L Balaji",
         "AB de Villiers",
         3
        ],
        [
         "R Vinay Kumar",
         "Mandeep Singh",
         3
        ],
        [
         "BW Hilfenhaus",
         "DA Warner",
         3
        ],
        [
         "SL Malinga",
         "DJ Bravo",
         3
        ],
        [
         "A Mishra",
         "AT Rayudu",
         3
        ],
        [
         "M Morkel",
         "V Kohli",
         3
        ],
        [
         "Bipul Sharma",
         "BB McCullum",
         3
        ],
        [
         "DW Steyn",
         "JH Kallis",
         3
        ],
        [
         "B Kumar",
         "MK Tiwary",
         3
        ],
        [
         "R Vinay Kumar",
         "JH Kallis",
         3
        ],
        [
         "SL Malinga",
         "Shakib Al Hasan",
         3
        ],
        [
         "SP Narine",
         "S Nadeem",
         3
        ],
        [
         "Z Khan",
         "V Sehwag",
         3
        ],
        [
         "P Kumar",
         "DA Warner",
         3
        ],
        [
         "JD Unadkat",
         "PA Patel",
         3
        ],
        [
         "A Mishra",
         "MK Pandey",
         3
        ],
        [
         "S Aravind",
         "G Gambhir",
         3
        ],
        [
         "B Kumar",
         "S Dhawan",
         3
        ],
        [
         "SL Malinga",
         "R Ashwin",
         3
        ],
        [
         "JJ Bumrah",
         "MA Agarwal",
         3
        ],
        [
         "YK Pathan",
         "SK Raina",
         3
        ],
        [
         "DW Steyn",
         "KD Karthik",
         3
        ],
        [
         "B Kumar",
         "SE Marsh",
         3
        ],
        [
         "M Muralitharan",
         "KD Karthik",
         3
        ],
        [
         "RA Jadeja",
         "MK Tiwary",
         3
        ],
        [
         "Harbhajan Singh",
         "R Ashwin",
         3
        ],
        [
         "SL Malinga",
         "Yuvraj Singh",
         3
        ],
        [
         "B Kumar",
         "Shakib Al Hasan",
         3
        ],
        [
         "JH Kallis",
         "V Kohli",
         3
        ],
        [
         "CH Morris",
         "CH Gayle",
         3
        ],
        [
         "R Vinay Kumar",
         "SPD Smith",
         3
        ],
        [
         "S Nadeem",
         "AT Rayudu",
         3
        ],
        [
         "B Kumar",
         "SK Raina",
         3
        ],
        [
         "Iqbal Abdulla",
         "RV Uthappa",
         3
        ],
        [
         "JA Morkel",
         "RG Sharma",
         3
        ],
        [
         "SL Malinga",
         "RA Jadeja",
         3
        ],
        [
         "M Morkel",
         "CH Gayle",
         3
        ],
        [
         "SL Malinga",
         "P Kumar",
         3
        ],
        [
         "MG Johnson",
         "AJ Finch",
         3
        ],
        [
         "SP Narine",
         "RA Jadeja",
         3
        ],
        [
         "SL Malinga",
         "JH Kallis",
         3
        ],
        [
         "R Bhatia",
         "NV Ojha",
         3
        ],
        [
         "A Singh",
         "JH Kallis",
         3
        ],
        [
         "P Kumar",
         "MK Pandey",
         3
        ],
        [
         "CH Morris",
         "RV Uthappa",
         3
        ],
        [
         "R Vinay Kumar",
         "MK Tiwary",
         3
        ],
        [
         "A Mishra",
         "V Kohli",
         3
        ],
        [
         "A Ashish Reddy",
         "RV Uthappa",
         3
        ],
        [
         "I Sharma",
         "RG Sharma",
         3
        ],
        [
         "PP Chawla",
         "KD Karthik",
         3
        ],
        [
         "A Mishra",
         "AM Rahane",
         3
        ],
        [
         "KA Pollard",
         "AB de Villiers",
         3
        ],
        [
         "R Vinay Kumar",
         "KD Karthik",
         3
        ],
        [
         "MG Johnson",
         "S Dhawan",
         3
        ],
        [
         "CH Morris",
         "G Gambhir",
         3
        ],
        [
         "SR Watson",
         "CH Gayle",
         3
        ],
        [
         "RA Jadeja",
         "SA Yadav",
         3
        ],
        [
         "YS Chahal",
         "AM Rahane",
         3
        ],
        [
         "A Mishra",
         "DA Warner",
         3
        ],
        [
         "MM Sharma",
         "PP Chawla",
         3
        ],
        [
         "SP Narine",
         "BB McCullum",
         3
        ],
        [
         "CH Morris",
         "SK Raina",
         3
        ],
        [
         "RA Jadeja",
         "SP Narine",
         3
        ],
        [
         "KV Sharma",
         "RV Uthappa",
         3
        ],
        [
         "DJ Bravo",
         "YK Pathan",
         3
        ],
        [
         "YS Chahal",
         "BB McCullum",
         3
        ],
        [
         "DS Kulkarni",
         "DA Miller",
         3
        ],
        [
         "Sandeep Sharma",
         "AT Rayudu",
         3
        ],
        [
         "AD Russell",
         "Gurkeerat Singh",
         3
        ],
        [
         "Sandeep Sharma",
         "SS Iyer",
         3
        ],
        [
         "MM Sharma",
         "KA Pollard",
         3
        ],
        [
         "R Ashwin",
         "GJ Maxwell",
         3
        ],
        [
         "B Kumar",
         "AB de Villiers",
         3
        ],
        [
         "SP Narine",
         "SV Samson",
         3
        ],
        [
         "RA Jadeja",
         "SV Samson",
         3
        ],
        [
         "YS Chahal",
         "GJ Maxwell",
         3
        ],
        [
         "DS Kulkarni",
         "CH Gayle",
         3
        ],
        [
         "UT Yadav",
         "SK Raina",
         3
        ],
        [
         "KV Sharma",
         "DA Miller",
         3
        ],
        [
         "HV Patel",
         "MS Dhoni",
         3
        ],
        [
         "PP Chawla",
         "KL Rahul",
         3
        ],
        [
         "TA Boult",
         "MS Dhoni",
         3
        ],
        [
         "AR Patel",
         "Mandeep Singh",
         3
        ],
        [
         "R Ashwin",
         "AR Patel",
         3
        ],
        [
         "Sandeep Sharma",
         "KD Karthik",
         3
        ],
        [
         "Sandeep Sharma",
         "PA Patel",
         3
        ],
        [
         "Sandeep Sharma",
         "MA Agarwal",
         3
        ],
        [
         "NLTC Perera",
         "PP Chawla",
         3
        ],
        [
         "M Morkel",
         "WP Saha",
         3
        ],
        [
         "B Kumar",
         "SS Iyer",
         3
        ],
        [
         "JJ Bumrah",
         "WP Saha",
         3
        ],
        [
         "PP Chawla",
         "GJ Maxwell",
         3
        ],
        [
         "Imran Tahir",
         "DR Smith",
         3
        ],
        [
         "DJ Bravo",
         "PA Patel",
         3
        ],
        [
         "UT Yadav",
         "GJ Maxwell",
         3
        ],
        [
         "JJ Bumrah",
         "AB de Villiers",
         3
        ],
        [
         "Harbhajan Singh",
         "F du Plessis",
         3
        ],
        [
         "SL Malinga",
         "DA Miller",
         3
        ],
        [
         "B Kumar",
         "DR Smith",
         3
        ],
        [
         "RA Jadeja",
         "KD Karthik",
         3
        ],
        [
         "MC Henriques",
         "GJ Bailey",
         3
        ],
        [
         "MM Sharma",
         "S Dhawan",
         3
        ],
        [
         "JD Unadkat",
         "RG Sharma",
         3
        ],
        [
         "JD Unadkat",
         "RV Uthappa",
         3
        ],
        [
         "AR Patel",
         "RV Uthappa",
         3
        ],
        [
         "CH Morris",
         "RG Sharma",
         3
        ],
        [
         "B Kumar",
         "KA Pollard",
         3
        ],
        [
         "HV Patel",
         "RG Sharma",
         3
        ],
        [
         "JP Faulkner",
         "RG Sharma",
         3
        ],
        [
         "GJ Maxwell",
         "S Dhawan",
         3
        ],
        [
         "MM Sharma",
         "KL Rahul",
         3
        ],
        [
         "R Vinay Kumar",
         "STR Binny",
         3
        ],
        [
         "SR Watson",
         "RA Jadeja",
         3
        ],
        [
         "MJ McClenaghan",
         "S Dhawan",
         3
        ],
        [
         "MM Sharma",
         "WP Saha",
         3
        ],
        [
         "DJ Bravo",
         "SPD Smith",
         3
        ],
        [
         "IC Pandey",
         "G Gambhir",
         3
        ],
        [
         "JD Unadkat",
         "AM Rahane",
         3
        ],
        [
         "KV Sharma",
         "AM Rahane",
         3
        ],
        [
         "Harbhajan Singh",
         "KL Rahul",
         3
        ],
        [
         "TA Boult",
         "AM Rahane",
         3
        ],
        [
         "YS Chahal",
         "DA Miller",
         3
        ],
        [
         "YS Chahal",
         "F du Plessis",
         3
        ],
        [
         "Sandeep Sharma",
         "DA Warner",
         3
        ],
        [
         "P Negi",
         "AJ Finch",
         3
        ],
        [
         "YS Chahal",
         "MS Dhoni",
         3
        ],
        [
         "Sandeep Sharma",
         "RV Uthappa",
         3
        ],
        [
         "MG Johnson",
         "G Gambhir",
         3
        ],
        [
         "MM Sharma",
         "AJ Finch",
         3
        ],
        [
         "B Kumar",
         "GJ Maxwell",
         3
        ],
        [
         "Imran Tahir",
         "AR Patel",
         3
        ],
        [
         "YS Chahal",
         "RV Uthappa",
         3
        ],
        [
         "SL Malinga",
         "KD Karthik",
         3
        ],
        [
         "TA Boult",
         "WP Saha",
         3
        ],
        [
         "YS Chahal",
         "SR Watson",
         3
        ],
        [
         "MJ McClenaghan",
         "Q de Kock",
         3
        ],
        [
         "Rashid Khan",
         "RR Pant",
         3
        ],
        [
         "JJ Bumrah",
         "RV Uthappa",
         3
        ],
        [
         "R Ashwin",
         "DJ Hooda",
         3
        ],
        [
         "AJ Tye",
         "CA Lynn",
         3
        ],
        [
         "Rashid Khan",
         "F du Plessis",
         3
        ],
        [
         "AR Patel",
         "RG Sharma",
         3
        ],
        [
         "MP Stoinis",
         "KH Pandya",
         3
        ],
        [
         "KH Pandya",
         "RA Tripathi",
         3
        ],
        [
         "CH Morris",
         "N Rana",
         3
        ],
        [
         "HH Pandya",
         "N Rana",
         3
        ],
        [
         "UT Yadav",
         "SV Samson",
         3
        ],
        [
         "JC Archer",
         "CH Gayle",
         3
        ],
        [
         "SP Narine",
         "SK Raina",
         3
        ],
        [
         "JJ Bumrah",
         "SPD Smith",
         3
        ],
        [
         "MM Sharma",
         "DJ Hooda",
         3
        ],
        [
         "KH Pandya",
         "GJ Maxwell",
         3
        ],
        [
         "DJ Bravo",
         "DJ Hooda",
         3
        ],
        [
         "S Gopal",
         "V Kohli",
         3
        ],
        [
         "HH Pandya",
         "Shubman Gill",
         3
        ],
        [
         "TA Boult",
         "SV Samson",
         3
        ],
        [
         "AJ Tye",
         "BA Stokes",
         3
        ],
        [
         "AD Russell",
         "MA Agarwal",
         3
        ],
        [
         "SP Narine",
         "Mandeep Singh",
         3
        ],
        [
         "KH Pandya",
         "RR Pant",
         3
        ],
        [
         "A Mishra",
         "S Dhawan",
         3
        ],
        [
         "Rashid Khan",
         "BA Stokes",
         3
        ],
        [
         "TA Boult",
         "RG Sharma",
         3
        ],
        [
         "Imran Tahir",
         "AB de Villiers",
         3
        ],
        [
         "Mohammed Siraj",
         "SV Samson",
         3
        ],
        [
         "TG Southee",
         "S Dhawan",
         3
        ],
        [
         "SP Narine",
         "SS Iyer",
         3
        ],
        [
         "HH Pandya",
         "MK Pandey",
         3
        ],
        [
         "Rashid Khan",
         "SK Raina",
         3
        ],
        [
         "Rashid Khan",
         "R Ashwin",
         3
        ],
        [
         "TA Boult",
         "SP Narine",
         3
        ],
        [
         "Mohammed Shami",
         "KD Karthik",
         3
        ],
        [
         "JJ Bumrah",
         "SR Watson",
         3
        ],
        [
         "YS Chahal",
         "DJ Hooda",
         3
        ],
        [
         "Rashid Khan",
         "KL Rahul",
         3
        ],
        [
         "YS Chahal",
         "YK Pathan",
         3
        ],
        [
         "DJ Bravo",
         "S Dhawan",
         3
        ],
        [
         "JJ Bumrah",
         "MP Stoinis",
         3
        ],
        [
         "YS Chahal",
         "WP Saha",
         3
        ],
        [
         "JD Unadkat",
         "SP Narine",
         3
        ],
        [
         "HH Pandya",
         "MA Agarwal",
         3
        ],
        [
         "JJ Bumrah",
         "KL Rahul",
         3
        ],
        [
         "MP Stoinis",
         "Q de Kock",
         3
        ],
        [
         "Kuldeep Yadav",
         "DJ Hooda",
         3
        ],
        [
         "AD Russell",
         "MP Stoinis",
         3
        ],
        [
         "SP Narine",
         "KH Pandya",
         3
        ],
        [
         "RA Jadeja",
         "Mandeep Singh",
         3
        ],
        [
         "Rashid Khan",
         "KD Karthik",
         3
        ],
        [
         "MM Sharma",
         "MS Dhoni",
         3
        ],
        [
         "Imran Tahir",
         "KD Karthik",
         3
        ],
        [
         "Mohammed Shami",
         "KH Pandya",
         3
        ],
        [
         "Avesh Khan",
         "AD Russell",
         3
        ],
        [
         "AR Patel",
         "SV Samson",
         3
        ],
        [
         "Rashid Khan",
         "KH Pandya",
         3
        ],
        [
         "Mustafizur Rahman",
         "RA Jadeja",
         3
        ],
        [
         "Washington Sundar",
         "RG Sharma",
         3
        ],
        [
         "JJ Bumrah",
         "RK Singh",
         3
        ],
        [
         "YS Chahal",
         "S Dhawan",
         3
        ],
        [
         "Rashid Khan",
         "AB de Villiers",
         3
        ],
        [
         "DL Chahar",
         "SV Samson",
         3
        ],
        [
         "A Mishra",
         "Ishan Kishan",
         3
        ],
        [
         "B Kumar",
         "Shubman Gill",
         3
        ],
        [
         "YS Chahal",
         "AR Patel",
         3
        ],
        [
         "NM Coulter-Nile",
         "RR Pant",
         3
        ],
        [
         "YS Chahal",
         "SA Yadav",
         3
        ],
        [
         "YS Chahal",
         "Shubman Gill",
         3
        ],
        [
         "K Rabada",
         "R Tewatia",
         3
        ],
        [
         "Rashid Khan",
         "SO Hetmyer",
         3
        ],
        [
         "KH Pandya",
         "AM Rahane",
         3
        ],
        [
         "Mohammed Shami",
         "HH Pandya",
         3
        ],
        [
         "YS Chahal",
         "RR Pant",
         3
        ],
        [
         "PJ Cummins",
         "JM Bairstow",
         3
        ],
        [
         "SN Thakur",
         "D Padikkal",
         3
        ],
        [
         "RD Chahar",
         "MP Stoinis",
         3
        ],
        [
         "Arshdeep Singh",
         "Ishan Kishan",
         3
        ],
        [
         "SN Thakur",
         "S Dhawan",
         3
        ],
        [
         "Arshdeep Singh",
         "RD Gaikwad",
         3
        ],
        [
         "Rashid Khan",
         "LS Livingstone",
         3
        ],
        [
         "Washington Sundar",
         "EJG Morgan",
         3
        ],
        [
         "K Rabada",
         "DA Warner",
         3
        ],
        [
         "Sandeep Sharma",
         "Ishan Kishan",
         3
        ],
        [
         "SP Narine",
         "Lalit Yadav",
         3
        ],
        [
         "M Prasidh Krishna",
         "V Kohli",
         3
        ],
        [
         "RD Chahar",
         "SS Iyer",
         3
        ],
        [
         "MP Stoinis",
         "YBK Jaiswal",
         3
        ],
        [
         "RA Jadeja",
         "RA Tripathi",
         3
        ],
        [
         "C Sakariya",
         "KL Rahul",
         3
        ],
        [
         "Ravi Bishnoi",
         "DA Warner",
         3
        ],
        [
         "YS Chahal",
         "KD Karthik",
         3
        ],
        [
         "JJ Bumrah",
         "N Pooran",
         3
        ],
        [
         "PP Chawla",
         "S Dhawan",
         3
        ],
        [
         "Sandeep Sharma",
         "F du Plessis",
         3
        ],
        [
         "K Rabada",
         "F du Plessis",
         3
        ],
        [
         "Rashid Khan",
         "Ishan Kishan",
         3
        ],
        [
         "KK Ahmed",
         "HH Pandya",
         3
        ],
        [
         "A Nortje",
         "D Padikkal",
         3
        ],
        [
         "K Rabada",
         "V Kohli",
         3
        ],
        [
         "RD Chahar",
         "N Rana",
         3
        ],
        [
         "Ravi Bishnoi",
         "SA Yadav",
         3
        ],
        [
         "K Rabada",
         "Washington Sundar",
         3
        ],
        [
         "Rashid Khan",
         "CH Gayle",
         3
        ],
        [
         "KK Ahmed",
         "AT Rayudu",
         3
        ],
        [
         "JO Holder",
         "F du Plessis",
         3
        ],
        [
         "CV Varun",
         "S Dhawan",
         3
        ],
        [
         "SN Thakur",
         "AD Russell",
         3
        ],
        [
         "YS Chahal",
         "MK Lomror",
         3
        ],
        [
         "CV Varun",
         "GJ Maxwell",
         3
        ],
        [
         "Mohammed Shami",
         "Shubman Gill",
         3
        ],
        [
         "JJ Bumrah",
         "SO Hetmyer",
         3
        ],
        [
         "KK Ahmed",
         "PP Shaw",
         3
        ],
        [
         "JD Unadkat",
         "F du Plessis",
         3
        ],
        [
         "JJ Bumrah",
         "SM Curran",
         3
        ],
        [
         "JO Holder",
         "SV Samson",
         3
        ],
        [
         "T Natarajan",
         "N Rana",
         3
        ],
        [
         "K Rabada",
         "SA Yadav",
         3
        ],
        [
         "YS Chahal",
         "Ishan Kishan",
         3
        ],
        [
         "CV Varun",
         "RR Pant",
         3
        ],
        [
         "TA Boult",
         "RD Gaikwad",
         3
        ],
        [
         "PJ Cummins",
         "RG Sharma",
         3
        ],
        [
         "Arshdeep Singh",
         "AD Russell",
         3
        ],
        [
         "I Sharma",
         "LS Livingstone",
         3
        ],
        [
         "Mohammed Shami",
         "MK Pandey",
         3
        ],
        [
         "CH Morris",
         "RA Jadeja",
         3
        ],
        [
         "Arshdeep Singh",
         "D Padikkal",
         3
        ],
        [
         "AR Patel",
         "F du Plessis",
         3
        ],
        [
         "HV Patel",
         "R Parag",
         3
        ],
        [
         "Rashid Khan",
         "AD Russell",
         3
        ],
        [
         "K Rabada",
         "KD Karthik",
         3
        ],
        [
         "Ravi Bishnoi",
         "EJG Morgan",
         3
        ],
        [
         "DL Chahar",
         "RG Sharma",
         3
        ],
        [
         "T Natarajan",
         "RK Singh",
         3
        ],
        [
         "K Rabada",
         "RD Gaikwad",
         3
        ],
        [
         "CV Varun",
         "PP Shaw",
         3
        ],
        [
         "Avesh Khan",
         "HH Pandya",
         3
        ],
        [
         "SP Narine",
         "A Badoni",
         3
        ],
        [
         "GJ Maxwell",
         "KH Pandya",
         3
        ],
        [
         "TA Boult",
         "Q de Kock",
         3
        ],
        [
         "PWH de Silva",
         "SV Samson",
         3
        ],
        [
         "M Jansen",
         "VR Iyer",
         3
        ],
        [
         "KH Pandya",
         "AK Markram",
         3
        ],
        [
         "Mohammed Shami",
         "DP Conway",
         3
        ],
        [
         "TU Deshpande",
         "KD Karthik",
         3
        ],
        [
         "Arshdeep Singh",
         "KD Karthik",
         3
        ],
        [
         "TA Boult",
         "Shahbaz Ahmed",
         3
        ],
        [
         "DL Chahar",
         "WP Saha",
         3
        ],
        [
         "T Natarajan",
         "RD Gaikwad",
         3
        ],
        [
         "Harbhajan Singh",
         "MK Pandey",
         4
        ],
        [
         "PP Chawla",
         "SK Raina",
         4
        ],
        [
         "IK Pathan",
         "RV Uthappa",
         4
        ],
        [
         "RP Singh",
         "JH Kallis",
         4
        ],
        [
         "P Kumar",
         "Harbhajan Singh",
         4
        ],
        [
         "DS Kulkarni",
         "RV Uthappa",
         4
        ],
        [
         "SL Malinga",
         "BB McCullum",
         4
        ],
        [
         "PP Chawla",
         "BB McCullum",
         4
        ],
        [
         "PP Chawla",
         "WP Saha",
         4
        ],
        [
         "PP Chawla",
         "SR Tendulkar",
         4
        ],
        [
         "R Ashwin",
         "KA Pollard",
         4
        ],
        [
         "Harbhajan Singh",
         "KC Sangakkara",
         4
        ],
        [
         "AB Dinda",
         "AT Rayudu",
         4
        ],
        [
         "RP Singh",
         "NV Ojha",
         4
        ],
        [
         "I Sharma",
         "S Dhawan",
         4
        ],
        [
         "Z Khan",
         "MEK Hussey",
         4
        ],
        [
         "DJ Bravo",
         "KD Karthik",
         4
        ],
        [
         "R Vinay Kumar",
         "SC Ganguly",
         4
        ],
        [
         "A Mishra",
         "RA Jadeja",
         4
        ],
        [
         "IK Pathan",
         "V Kohli",
         4
        ],
        [
         "SK Warne",
         "RG Sharma",
         4
        ],
        [
         "DJ Bravo",
         "SK Raina",
         4
        ],
        [
         "SK Trivedi",
         "DJ Hussey",
         4
        ],
        [
         "R Ashwin",
         "DA Warner",
         4
        ],
        [
         "Z Khan",
         "V Kohli",
         4
        ],
        [
         "SR Watson",
         "AT Rayudu",
         4
        ],
        [
         "IK Pathan",
         "AC Gilchrist",
         4
        ],
        [
         "R Vinay Kumar",
         "YK Pathan",
         4
        ],
        [
         "S Nadeem",
         "AM Rahane",
         4
        ],
        [
         "P Kumar",
         "S Dhawan",
         4
        ],
        [
         "Shakib Al Hasan",
         "AT Rayudu",
         4
        ],
        [
         "SL Malinga",
         "MK Pandey",
         4
        ],
        [
         "M Morkel",
         "MK Tiwary",
         4
        ],
        [
         "SP Narine",
         "AM Rahane",
         4
        ],
        [
         "PP Chawla",
         "RA Jadeja",
         4
        ],
        [
         "A Mishra",
         "SK Raina",
         4
        ],
        [
         "Z Khan",
         "S Dhawan",
         4
        ],
        [
         "Harbhajan Singh",
         "DA Warner",
         4
        ],
        [
         "S Aravind",
         "M Vijay",
         4
        ],
        [
         "R Ashwin",
         "PA Patel",
         4
        ],
        [
         "A Nehra",
         "KD Karthik",
         4
        ],
        [
         "B Kumar",
         "YK Pathan",
         4
        ],
        [
         "SP Narine",
         "MEK Hussey",
         4
        ],
        [
         "DJ Bravo",
         "KA Pollard",
         4
        ],
        [
         "SL Malinga",
         "SR Watson",
         4
        ],
        [
         "SL Malinga",
         "S Dhawan",
         4
        ],
        [
         "DJ Bravo",
         "Harbhajan Singh",
         4
        ],
        [
         "PP Chawla",
         "AB de Villiers",
         4
        ],
        [
         "Harbhajan Singh",
         "S Dhawan",
         4
        ],
        [
         "UT Yadav",
         "AM Rahane",
         4
        ],
        [
         "Sandeep Sharma",
         "CH Gayle",
         4
        ],
        [
         "YS Chahal",
         "SK Raina",
         4
        ],
        [
         "SP Narine",
         "AT Rayudu",
         4
        ],
        [
         "MJ McClenaghan",
         "SV Samson",
         4
        ],
        [
         "SP Narine",
         "AR Patel",
         4
        ],
        [
         "YS Chahal",
         "HH Pandya",
         4
        ],
        [
         "Harbhajan Singh",
         "KK Nair",
         4
        ],
        [
         "UT Yadav",
         "Yuvraj Singh",
         4
        ],
        [
         "Harbhajan Singh",
         "DR Smith",
         4
        ],
        [
         "SP Narine",
         "WP Saha",
         4
        ],
        [
         "JP Faulkner",
         "S Dhawan",
         4
        ],
        [
         "DJ Bravo",
         "AR Patel",
         4
        ],
        [
         "AR Patel",
         "BB McCullum",
         4
        ],
        [
         "Sandeep Sharma",
         "SA Yadav",
         4
        ],
        [
         "Mohammed Shami",
         "RG Sharma",
         4
        ],
        [
         "R Ashwin",
         "RG Sharma",
         4
        ],
        [
         "UT Yadav",
         "CH Gayle",
         4
        ],
        [
         "YS Chahal",
         "KA Pollard",
         4
        ],
        [
         "CH Morris",
         "AD Russell",
         4
        ],
        [
         "AR Patel",
         "MA Agarwal",
         4
        ],
        [
         "SP Narine",
         "AB de Villiers",
         4
        ],
        [
         "SP Narine",
         "V Kohli",
         4
        ],
        [
         "DS Kulkarni",
         "RG Sharma",
         4
        ],
        [
         "SP Narine",
         "GJ Maxwell",
         4
        ],
        [
         "CH Morris",
         "KD Karthik",
         4
        ],
        [
         "MJ McClenaghan",
         "V Kohli",
         4
        ],
        [
         "DS Kulkarni",
         "V Kohli",
         4
        ],
        [
         "DS Kulkarni",
         "KL Rahul",
         4
        ],
        [
         "B Kumar",
         "SV Samson",
         4
        ],
        [
         "Mohammed Siraj",
         "RR Pant",
         4
        ],
        [
         "JJ Bumrah",
         "DJ Bravo",
         4
        ],
        [
         "TA Boult",
         "RA Tripathi",
         4
        ],
        [
         "Rashid Khan",
         "MM Ali",
         4
        ],
        [
         "CJ Jordan",
         "KD Karthik",
         4
        ],
        [
         "JJ Bumrah",
         "Rashid Khan",
         4
        ],
        [
         "AD Russell",
         "RR Pant",
         4
        ],
        [
         "JJ Bumrah",
         "AD Russell",
         4
        ],
        [
         "Mohammed Siraj",
         "WP Saha",
         4
        ],
        [
         "JJ Bumrah",
         "MS Dhoni",
         4
        ],
        [
         "PJ Cummins",
         "Ishan Kishan",
         4
        ],
        [
         "B Kumar",
         "SR Watson",
         4
        ],
        [
         "AD Russell",
         "RA Tripathi",
         4
        ],
        [
         "S Gopal",
         "AB de Villiers",
         4
        ],
        [
         "KH Pandya",
         "AB de Villiers",
         4
        ],
        [
         "R Ashwin",
         "Q de Kock",
         4
        ],
        [
         "Mohammed Shami",
         "KS Williamson",
         4
        ],
        [
         "DL Chahar",
         "AM Rahane",
         4
        ],
        [
         "Rashid Khan",
         "RG Sharma",
         4
        ],
        [
         "YS Chahal",
         "MK Pandey",
         4
        ],
        [
         "AD Russell",
         "SA Yadav",
         4
        ],
        [
         "B Kumar",
         "MK Pandey",
         4
        ],
        [
         "R Ashwin",
         "S Dhawan",
         4
        ],
        [
         "Kuldeep Yadav",
         "GJ Maxwell",
         4
        ],
        [
         "JJ Bumrah",
         "AR Patel",
         4
        ],
        [
         "Rashid Khan",
         "JC Buttler",
         4
        ],
        [
         "Mohammed Shami",
         "R Parag",
         4
        ],
        [
         "Rashid Khan",
         "D Padikkal",
         4
        ],
        [
         "Rashid Khan",
         "S Dhawan",
         4
        ],
        [
         "Ravi Bishnoi",
         "RG Sharma",
         4
        ],
        [
         "YS Chahal",
         "JM Bairstow",
         4
        ],
        [
         "HV Patel",
         "HH Pandya",
         4
        ],
        [
         "A Nortje",
         "Shubman Gill",
         4
        ],
        [
         "K Rabada",
         "N Pooran",
         4
        ],
        [
         "Harpreet Brar",
         "GJ Maxwell",
         4
        ],
        [
         "KK Ahmed",
         "M Shahrukh Khan",
         4
        ],
        [
         "YS Chahal",
         "AT Rayudu",
         4
        ],
        [
         "DL Chahar",
         "Q de Kock",
         4
        ],
        [
         "TA Boult",
         "PP Shaw",
         4
        ],
        [
         "SN Thakur",
         "N Pooran",
         4
        ],
        [
         "Mohammed Shami",
         "RA Tripathi",
         4
        ],
        [
         "Ravi Bishnoi",
         "Ishan Kishan",
         4
        ],
        [
         "CV Varun",
         "MS Dhoni",
         4
        ],
        [
         "Mohammed Siraj",
         "PP Shaw",
         4
        ],
        [
         "K Rabada",
         "KL Rahul",
         4
        ],
        [
         "Mohammed Shami",
         "SO Hetmyer",
         4
        ],
        [
         "Mohammed Shami",
         "Q de Kock",
         4
        ],
        [
         "TA Boult",
         "F du Plessis",
         4
        ],
        [
         "Rashid Khan",
         "DJ Hooda",
         4
        ],
        [
         "K Rabada",
         "WP Saha",
         4
        ],
        [
         "DJ Bravo",
         "RG Sharma",
         5
        ],
        [
         "R Ashwin",
         "CH Gayle",
         5
        ],
        [
         "UT Yadav",
         "RG Sharma",
         5
        ],
        [
         "A Mishra",
         "RV Uthappa",
         5
        ],
        [
         "Harbhajan Singh",
         "G Gambhir",
         5
        ],
        [
         "PP Ojha",
         "G Gambhir",
         5
        ],
        [
         "R Sharma",
         "KC Sangakkara",
         5
        ],
        [
         "RA Jadeja",
         "V Kohli",
         5
        ],
        [
         "JJ Bumrah",
         "V Kohli",
         5
        ],
        [
         "RA Jadeja",
         "SR Watson",
         5
        ],
        [
         "UT Yadav",
         "V Kohli",
         5
        ],
        [
         "R Ashwin",
         "AT Rayudu",
         5
        ],
        [
         "HV Patel",
         "AT Rayudu",
         5
        ],
        [
         "Harbhajan Singh",
         "SK Raina",
         5
        ],
        [
         "UT Yadav",
         "DA Warner",
         5
        ],
        [
         "MM Sharma",
         "YK Pathan",
         5
        ],
        [
         "RA Jadeja",
         "SPD Smith",
         5
        ],
        [
         "Harbhajan Singh",
         "CH Gayle",
         5
        ],
        [
         "SP Narine",
         "SR Watson",
         5
        ],
        [
         "A Mishra",
         "GJ Maxwell",
         5
        ],
        [
         "Sandeep Sharma",
         "RG Sharma",
         5
        ],
        [
         "YS Chahal",
         "SV Samson",
         5
        ],
        [
         "B Kumar",
         "V Kohli",
         5
        ],
        [
         "JJ Bumrah",
         "GJ Maxwell",
         5
        ],
        [
         "Shivam Mavi",
         "SV Samson",
         5
        ],
        [
         "Mohammed Shami",
         "V Kohli",
         5
        ],
        [
         "AD Russell",
         "SS Iyer",
         5
        ],
        [
         "Imran Tahir",
         "Ishan Kishan",
         5
        ],
        [
         "DL Chahar",
         "Shubman Gill",
         5
        ],
        [
         "SK Trivedi",
         "RG Sharma",
         6
        ],
        [
         "A Nehra",
         "V Kohli",
         6
        ],
        [
         "R Vinay Kumar",
         "RG Sharma",
         6
        ],
        [
         "Z Khan",
         "G Gambhir",
         6
        ],
        [
         "PP Chawla",
         "AT Rayudu",
         6
        ],
        [
         "A Mishra",
         "SR Watson",
         6
        ],
        [
         "R Ashwin",
         "AM Rahane",
         6
        ],
        [
         "RA Jadeja",
         "GJ Maxwell",
         6
        ],
        [
         "YS Chahal",
         "Q de Kock",
         6
        ],
        [
         "AR Patel",
         "SR Watson",
         6
        ],
        [
         "YS Chahal",
         "N Rana",
         6
        ],
        [
         "DL Chahar",
         "PP Shaw",
         6
        ],
        [
         "YS Chahal",
         "MA Agarwal",
         6
        ],
        [
         "A Mishra",
         "RG Sharma",
         7
        ],
        [
         "Z Khan",
         "MS Dhoni",
         7
        ],
        [
         "PP Ojha",
         "MS Dhoni",
         7
        ],
        [
         "B Kumar",
         "PA Patel",
         7
        ],
        [
         "R Ashwin",
         "RV Uthappa",
         7
        ],
        [
         "B Kumar",
         "AM Rahane",
         7
        ],
        [
         "MM Sharma",
         "AT Rayudu",
         7
        ],
        [
         "Sandeep Sharma",
         "V Kohli",
         7
        ],
        [
         "JJ Bumrah",
         "RR Pant",
         7
        ],
        [
         "SP Narine",
         "RG Sharma",
         9
        ]
       ],
       "datasetInfos": [],
       "dbfsResultPath": null,
       "isJsonSchema": true,
       "metadata": {},
       "overflow": false,
       "plotOptions": {
        "customPlotOptions": {},
        "displayType": "table",
        "pivotAggregation": null,
        "pivotColumns": null,
        "xColumns": null,
        "yColumns": null
       },
       "removedWidgets": [],
       "schema": [
        {
         "metadata": "{}",
         "name": "bowler",
         "type": "\"string\""
        },
        {
         "metadata": "{}",
         "name": "batter",
         "type": "\"string\""
        },
        {
         "metadata": "{}",
         "name": "count",
         "type": "\"long\""
        }
       ],
       "type": "table"
      }
     },
     "output_type": "display_data"
    }
   ],
   "source": [
    "displayHTML(\"<h3>Bowler taken wicket of same player more than once in same or diff. season.</h3>\")\n",
    "display(wicket_pair())"
   ]
  },
  {
   "cell_type": "markdown",
   "metadata": {
    "application/vnd.databricks.v1+cell": {
     "cellMetadata": {
      "byteLimit": 2048000,
      "rowLimit": 10000
     },
     "inputWidgets": {},
     "nuid": "c90b0681-48df-4c88-8bed-dc5d88601921",
     "showTitle": false,
     "tableResultSettingsMap": {},
     "title": ""
    }
   },
   "source": [
    "\n",
    "#### 3.Find out which bowler has given max and min runs in a season?"
   ]
  },
  {
   "cell_type": "code",
   "execution_count": 0,
   "metadata": {
    "application/vnd.databricks.v1+cell": {
     "cellMetadata": {
      "byteLimit": 2048000,
      "rowLimit": 10000
     },
     "inputWidgets": {},
     "nuid": "843fb354-16af-46aa-ba55-6ff959cddb69",
     "showTitle": false,
     "tableResultSettingsMap": {},
     "title": ""
    }
   },
   "outputs": [],
   "source": [
    "def max_runs_given():\n",
    "    # For max runs given\n",
    "    max_runs_given = (join_df.select(\"Season\",\"bowler\",\"total_runs\").\n",
    "                    groupBy(col(\"Season\"),col(\"bowler\")).\n",
    "                    agg(sum(col(\"total_runs\")).alias(\"total_runs\")).\n",
    "                    orderBy(col(\"Season\").desc(), col(\"total_runs\").desc())\n",
    "    )\n",
    "\n",
    "    # define window specification for identifying max runs in each eason\n",
    "    max_runs_windowspec = Window.partitionBy(col(\"Season\")).orderBy(col(\"total_runs\").desc())\n",
    "    return(max_runs_given.withColumn(\"rank\", dense_rank().over(max_runs_windowspec)).filter(col(\"rank\") == 1))\n",
    "\n",
    "def min_runs_given():\n",
    "    # For min runs given\n",
    "    min_runs_given = (join_df.select(\"Season\",\"bowler\",\"total_runs\").\n",
    "                    groupBy(col(\"Season\"),col(\"bowler\")).\n",
    "                    agg(sum(col(\"total_runs\")).alias(\"total_runs\")).\n",
    "                    orderBy(col(\"Season\").desc(), col(\"total_runs\"))\n",
    "    )\n",
    "\n",
    "    # define window specification for identifying min runs in each eason\n",
    "    min_runs_windowspec = Window.partitionBy(col(\"Season\")).orderBy(col(\"total_runs\"))\n",
    "    return(min_runs_given.withColumn(\"rank\", dense_rank().over(min_runs_windowspec)).filter(col(\"rank\") == 1))"
   ]
  },
  {
   "cell_type": "code",
   "execution_count": 0,
   "metadata": {
    "application/vnd.databricks.v1+cell": {
     "cellMetadata": {
      "byteLimit": 2048000,
      "rowLimit": 10000
     },
     "inputWidgets": {},
     "nuid": "2c12b8b1-c425-437d-b132-d931a46b2d7f",
     "showTitle": false,
     "tableResultSettingsMap": {},
     "title": ""
    }
   },
   "outputs": [
    {
     "output_type": "display_data",
     "data": {
      "text/html": [
       "<h3>Min runs given in a season.</h3>"
      ]
     },
     "metadata": {
      "application/vnd.databricks.v1+output": {
       "addedWidgets": {},
       "arguments": {},
       "data": "<h3>Min runs given in a season.</h3>",
       "datasetInfos": [],
       "metadata": {},
       "removedWidgets": [],
       "textData": null,
       "type": "htmlSandbox"
      }
     },
     "output_type": "display_data"
    },
    {
     "output_type": "display_data",
     "data": {
      "text/html": [
       "<style scoped>\n",
       "  .table-result-container {\n",
       "    max-height: 300px;\n",
       "    overflow: auto;\n",
       "  }\n",
       "  table, th, td {\n",
       "    border: 1px solid black;\n",
       "    border-collapse: collapse;\n",
       "  }\n",
       "  th, td {\n",
       "    padding: 5px;\n",
       "  }\n",
       "  th {\n",
       "    text-align: left;\n",
       "  }\n",
       "</style><div class='table-result-container'><table class='table-result'><thead style='background-color: white'><tr><th>Season</th><th>bowler</th><th>total_runs</th><th>rank</th></tr></thead><tbody><tr><td>2007/08</td><td>TM Dilshan</td><td>3</td><td>1</td></tr><tr><td>2009</td><td>RS Bopara</td><td>5</td><td>1</td></tr><tr><td>2009</td><td>AM Rahane</td><td>5</td><td>1</td></tr><tr><td>2009/10</td><td>AJ Finch</td><td>5</td><td>1</td></tr><tr><td>2011</td><td>S Rana</td><td>2</td><td>1</td></tr><tr><td>2012</td><td>SPD Smith</td><td>5</td><td>1</td></tr><tr><td>2013</td><td>AC Gilchrist</td><td>0</td><td>1</td></tr><tr><td>2014</td><td>SA Yadav</td><td>8</td><td>1</td></tr><tr><td>2015</td><td>RN ten Doeschate</td><td>4</td><td>1</td></tr><tr><td>2016</td><td>N Rana</td><td>3</td><td>1</td></tr><tr><td>2017</td><td>CJ Jordan</td><td>10</td><td>1</td></tr><tr><td>2018</td><td>MK Tiwary</td><td>10</td><td>1</td></tr><tr><td>2019</td><td>SK Raina</td><td>6</td><td>1</td></tr><tr><td>2019</td><td>SN Khan</td><td>6</td><td>1</td></tr><tr><td>2020/21</td><td>DA Warner</td><td>2</td><td>1</td></tr><tr><td>2021</td><td>Abdul Samad</td><td>9</td><td>1</td></tr><tr><td>2022</td><td>YBK Jaiswal</td><td>6</td><td>1</td></tr><tr><td>2023</td><td>A Badoni</td><td>0</td><td>1</td></tr><tr><td>2024</td><td>Atharva Taide</td><td>4</td><td>1</td></tr></tbody></table></div>"
      ]
     },
     "metadata": {
      "application/vnd.databricks.v1+output": {
       "addedWidgets": {},
       "aggData": [],
       "aggError": "",
       "aggOverflow": false,
       "aggSchema": [],
       "aggSeriesLimitReached": false,
       "aggType": "",
       "arguments": {},
       "columnCustomDisplayInfos": {},
       "data": [
        [
         "2007/08",
         "TM Dilshan",
         3,
         1
        ],
        [
         "2009",
         "RS Bopara",
         5,
         1
        ],
        [
         "2009",
         "AM Rahane",
         5,
         1
        ],
        [
         "2009/10",
         "AJ Finch",
         5,
         1
        ],
        [
         "2011",
         "S Rana",
         2,
         1
        ],
        [
         "2012",
         "SPD Smith",
         5,
         1
        ],
        [
         "2013",
         "AC Gilchrist",
         0,
         1
        ],
        [
         "2014",
         "SA Yadav",
         8,
         1
        ],
        [
         "2015",
         "RN ten Doeschate",
         4,
         1
        ],
        [
         "2016",
         "N Rana",
         3,
         1
        ],
        [
         "2017",
         "CJ Jordan",
         10,
         1
        ],
        [
         "2018",
         "MK Tiwary",
         10,
         1
        ],
        [
         "2019",
         "SK Raina",
         6,
         1
        ],
        [
         "2019",
         "SN Khan",
         6,
         1
        ],
        [
         "2020/21",
         "DA Warner",
         2,
         1
        ],
        [
         "2021",
         "Abdul Samad",
         9,
         1
        ],
        [
         "2022",
         "YBK Jaiswal",
         6,
         1
        ],
        [
         "2023",
         "A Badoni",
         0,
         1
        ],
        [
         "2024",
         "Atharva Taide",
         4,
         1
        ]
       ],
       "datasetInfos": [],
       "dbfsResultPath": null,
       "isJsonSchema": true,
       "metadata": {},
       "overflow": false,
       "plotOptions": {
        "customPlotOptions": {},
        "displayType": "table",
        "pivotAggregation": null,
        "pivotColumns": null,
        "xColumns": null,
        "yColumns": null
       },
       "removedWidgets": [],
       "schema": [
        {
         "metadata": "{}",
         "name": "Season",
         "type": "\"string\""
        },
        {
         "metadata": "{}",
         "name": "bowler",
         "type": "\"string\""
        },
        {
         "metadata": "{}",
         "name": "total_runs",
         "type": "\"long\""
        },
        {
         "metadata": "{}",
         "name": "rank",
         "type": "\"integer\""
        }
       ],
       "type": "table"
      }
     },
     "output_type": "display_data"
    },
    {
     "output_type": "display_data",
     "data": {
      "text/html": [
       "<h3>Max runs given in a season.</h3>"
      ]
     },
     "metadata": {
      "application/vnd.databricks.v1+output": {
       "addedWidgets": {},
       "arguments": {},
       "data": "<h3>Max runs given in a season.</h3>",
       "datasetInfos": [],
       "metadata": {},
       "removedWidgets": [],
       "textData": null,
       "type": "htmlSandbox"
      }
     },
     "output_type": "display_data"
    },
    {
     "output_type": "display_data",
     "data": {
      "text/html": [
       "<style scoped>\n",
       "  .table-result-container {\n",
       "    max-height: 300px;\n",
       "    overflow: auto;\n",
       "  }\n",
       "  table, th, td {\n",
       "    border: 1px solid black;\n",
       "    border-collapse: collapse;\n",
       "  }\n",
       "  th, td {\n",
       "    padding: 5px;\n",
       "  }\n",
       "  th {\n",
       "    text-align: left;\n",
       "  }\n",
       "</style><div class='table-result-container'><table class='table-result'><thead style='background-color: white'><tr><th>Season</th><th>bowler</th><th>total_runs</th><th>rank</th></tr></thead><tbody><tr><td>2007/08</td><td>RP Singh</td><td>459</td><td>1</td></tr><tr><td>2009</td><td>RP Singh</td><td>430</td><td>1</td></tr><tr><td>2009/10</td><td>JH Kallis</td><td>484</td><td>1</td></tr><tr><td>2011</td><td>Z Khan</td><td>465</td><td>1</td></tr><tr><td>2012</td><td>R Vinay Kumar</td><td>488</td><td>1</td></tr><tr><td>2013</td><td>UT Yadav</td><td>533</td><td>1</td></tr><tr><td>2014</td><td>MM Sharma</td><td>457</td><td>1</td></tr><tr><td>2015</td><td>MM Sharma</td><td>482</td><td>1</td></tr><tr><td>2016</td><td>B Kumar</td><td>503</td><td>1</td></tr><tr><td>2017</td><td>MJ McClenaghan</td><td>512</td><td>1</td></tr><tr><td>2018</td><td>S Kaul</td><td>558</td><td>1</td></tr><tr><td>2019</td><td>DL Chahar</td><td>486</td><td>1</td></tr><tr><td>2020/21</td><td>K Rabada</td><td>565</td><td>1</td></tr><tr><td>2021</td><td>SN Thakur</td><td>531</td><td>1</td></tr><tr><td>2022</td><td>M Prasidh Krishna</td><td>564</td><td>1</td></tr><tr><td>2023</td><td>TU Deshpande</td><td>580</td><td>1</td></tr><tr><td>2024</td><td>PJ Cummins</td><td>571</td><td>1</td></tr></tbody></table></div>"
      ]
     },
     "metadata": {
      "application/vnd.databricks.v1+output": {
       "addedWidgets": {},
       "aggData": [],
       "aggError": "",
       "aggOverflow": false,
       "aggSchema": [],
       "aggSeriesLimitReached": false,
       "aggType": "",
       "arguments": {},
       "columnCustomDisplayInfos": {},
       "data": [
        [
         "2007/08",
         "RP Singh",
         459,
         1
        ],
        [
         "2009",
         "RP Singh",
         430,
         1
        ],
        [
         "2009/10",
         "JH Kallis",
         484,
         1
        ],
        [
         "2011",
         "Z Khan",
         465,
         1
        ],
        [
         "2012",
         "R Vinay Kumar",
         488,
         1
        ],
        [
         "2013",
         "UT Yadav",
         533,
         1
        ],
        [
         "2014",
         "MM Sharma",
         457,
         1
        ],
        [
         "2015",
         "MM Sharma",
         482,
         1
        ],
        [
         "2016",
         "B Kumar",
         503,
         1
        ],
        [
         "2017",
         "MJ McClenaghan",
         512,
         1
        ],
        [
         "2018",
         "S Kaul",
         558,
         1
        ],
        [
         "2019",
         "DL Chahar",
         486,
         1
        ],
        [
         "2020/21",
         "K Rabada",
         565,
         1
        ],
        [
         "2021",
         "SN Thakur",
         531,
         1
        ],
        [
         "2022",
         "M Prasidh Krishna",
         564,
         1
        ],
        [
         "2023",
         "TU Deshpande",
         580,
         1
        ],
        [
         "2024",
         "PJ Cummins",
         571,
         1
        ]
       ],
       "datasetInfos": [],
       "dbfsResultPath": null,
       "isJsonSchema": true,
       "metadata": {},
       "overflow": false,
       "plotOptions": {
        "customPlotOptions": {},
        "displayType": "table",
        "pivotAggregation": null,
        "pivotColumns": null,
        "xColumns": null,
        "yColumns": null
       },
       "removedWidgets": [],
       "schema": [
        {
         "metadata": "{}",
         "name": "Season",
         "type": "\"string\""
        },
        {
         "metadata": "{}",
         "name": "bowler",
         "type": "\"string\""
        },
        {
         "metadata": "{}",
         "name": "total_runs",
         "type": "\"long\""
        },
        {
         "metadata": "{}",
         "name": "rank",
         "type": "\"integer\""
        }
       ],
       "type": "table"
      }
     },
     "output_type": "display_data"
    }
   ],
   "source": [
    "displayHTML(\"<h3>Min runs given in a season.</h3>\")\n",
    "display(min_runs_given())\n",
    "\n",
    "displayHTML(\"<h3>Max runs given in a season.</h3>\")\n",
    "display(max_runs_given())"
   ]
  },
  {
   "cell_type": "markdown",
   "metadata": {
    "application/vnd.databricks.v1+cell": {
     "cellMetadata": {
      "byteLimit": 2048000,
      "rowLimit": 10000
     },
     "inputWidgets": {},
     "nuid": "6f8dc002-25f1-4c3e-91f6-ae1099e79929",
     "showTitle": false,
     "tableResultSettingsMap": {},
     "title": ""
    }
   },
   "source": [
    "\n",
    "#### 4.Find out which bowler has taken max wicket against each team?"
   ]
  },
  {
   "cell_type": "code",
   "execution_count": 0,
   "metadata": {
    "application/vnd.databricks.v1+cell": {
     "cellMetadata": {
      "byteLimit": 2048000,
      "rowLimit": 10000
     },
     "inputWidgets": {},
     "nuid": "c473a541-ebbc-4459-ab33-5c788ee91f74",
     "showTitle": false,
     "tableResultSettingsMap": {},
     "title": ""
    }
   },
   "outputs": [],
   "source": [
    "def max_wicket_against_each_team():\n",
    "\n",
    "    total_wicket_against_team = (join_df.filter(col(\"is_wicket\") == 1).\n",
    "                            select(\"Team1\", \"Team2\", \"bowler\", \"batting_team\", \"is_wicket\").\n",
    "                            groupBy(col(\"bowler\"), col(\"batting_team\")).\n",
    "                            agg(sum(col(\"is_wicket\")).alias(\"total_wicket\"))\n",
    "    )\n",
    "    # define window specification for identifying max wickets taken by a bowler based on rank\n",
    "    max_wicket_windowspec = Window.partitionBy(col(\"batting_team\")).orderBy(col(\"total_wicket\").desc())\n",
    "\n",
    "    return(total_wicket_against_team.withColumn(\"rank\", dense_rank().\n",
    "                            over(max_wicket_windowspec)).filter(col(\"rank\") == 1)\n",
    "    )"
   ]
  },
  {
   "cell_type": "code",
   "execution_count": 0,
   "metadata": {
    "application/vnd.databricks.v1+cell": {
     "cellMetadata": {
      "byteLimit": 2048000,
      "rowLimit": 10000
     },
     "inputWidgets": {},
     "nuid": "7558a446-4b38-4abe-a8fe-b3718b35cf85",
     "showTitle": false,
     "tableResultSettingsMap": {},
     "title": ""
    }
   },
   "outputs": [
    {
     "output_type": "display_data",
     "data": {
      "text/html": [
       "<h3>Bowler taken max wicket against each team.</h3>"
      ]
     },
     "metadata": {
      "application/vnd.databricks.v1+output": {
       "addedWidgets": {},
       "arguments": {},
       "data": "<h3>Bowler taken max wicket against each team.</h3>",
       "datasetInfos": [],
       "metadata": {},
       "removedWidgets": [],
       "textData": null,
       "type": "htmlSandbox"
      }
     },
     "output_type": "display_data"
    },
    {
     "output_type": "display_data",
     "data": {
      "text/html": [
       "<style scoped>\n",
       "  .table-result-container {\n",
       "    max-height: 300px;\n",
       "    overflow: auto;\n",
       "  }\n",
       "  table, th, td {\n",
       "    border: 1px solid black;\n",
       "    border-collapse: collapse;\n",
       "  }\n",
       "  th, td {\n",
       "    padding: 5px;\n",
       "  }\n",
       "  th {\n",
       "    text-align: left;\n",
       "  }\n",
       "</style><div class='table-result-container'><table class='table-result'><thead style='background-color: white'><tr><th>bowler</th><th>batting_team</th><th>total_wicket</th><th>rank</th></tr></thead><tbody><tr><td>SL Malinga</td><td>Chennai Super Kings</td><td>37</td><td>1</td></tr><tr><td>SL Malinga</td><td>Deccan Chargers</td><td>20</td><td>1</td></tr><tr><td>Mohammed Shami</td><td>Delhi Capitals</td><td>20</td><td>1</td></tr><tr><td>JJ Bumrah</td><td>Delhi Capitals</td><td>20</td><td>1</td></tr><tr><td>R Ashwin</td><td>Delhi Daredevils</td><td>23</td><td>1</td></tr><tr><td>SP Narine</td><td>Delhi Daredevils</td><td>23</td><td>1</td></tr><tr><td>B Kumar</td><td>Gujarat Lions</td><td>12</td><td>1</td></tr><tr><td>K Rabada</td><td>Gujarat Titans</td><td>9</td><td>1</td></tr><tr><td>SP Narine</td><td>Kings XI Punjab</td><td>31</td><td>1</td></tr><tr><td>UT Yadav</td><td>Kings XI Punjab</td><td>31</td><td>1</td></tr><tr><td>I Sharma</td><td>Kochi Tuskers Kerala</td><td>5</td><td>1</td></tr><tr><td>RE van der Merwe</td><td>Kochi Tuskers Kerala</td><td>5</td><td>1</td></tr><tr><td>B Kumar</td><td>Kolkata Knight Riders</td><td>33</td><td>1</td></tr><tr><td>JR Hazlewood</td><td>Lucknow Super Giants</td><td>9</td><td>1</td></tr><tr><td>K Rabada</td><td>Lucknow Super Giants</td><td>9</td><td>1</td></tr><tr><td>Rashid Khan</td><td>Lucknow Super Giants</td><td>9</td><td>1</td></tr><tr><td>DJ Bravo</td><td>Mumbai Indians</td><td>36</td><td>1</td></tr><tr><td>SL Malinga</td><td>Pune Warriors</td><td>12</td><td>1</td></tr><tr><td>YS Chahal</td><td>Punjab Kings</td><td>12</td><td>1</td></tr><tr><td>A Mishra</td><td>Rajasthan Royals</td><td>34</td><td>1</td></tr><tr><td>AJ Tye</td><td>Rising Pune Supergiant</td><td>5</td><td>1</td></tr><tr><td>MG Johnson</td><td>Rising Pune Supergiant</td><td>5</td><td>1</td></tr><tr><td>Z Khan</td><td>Rising Pune Supergiant</td><td>5</td><td>1</td></tr><tr><td>JJ Bumrah</td><td>Rising Pune Supergiant</td><td>5</td><td>1</td></tr><tr><td>A Nehra</td><td>Rising Pune Supergiants</td><td>6</td><td>1</td></tr><tr><td>Sandeep Sharma</td><td>Royal Challengers Bangalore</td><td>30</td><td>1</td></tr><tr><td>JJ Bumrah</td><td>Royal Challengers Bengaluru</td><td>5</td><td>1</td></tr><tr><td>AD Russell</td><td>Royal Challengers Bengaluru</td><td>5</td><td>1</td></tr><tr><td>YS Chahal</td><td>Sunrisers Hyderabad</td><td>28</td><td>1</td></tr></tbody></table></div>"
      ]
     },
     "metadata": {
      "application/vnd.databricks.v1+output": {
       "addedWidgets": {},
       "aggData": [],
       "aggError": "",
       "aggOverflow": false,
       "aggSchema": [],
       "aggSeriesLimitReached": false,
       "aggType": "",
       "arguments": {},
       "columnCustomDisplayInfos": {},
       "data": [
        [
         "SL Malinga",
         "Chennai Super Kings",
         37,
         1
        ],
        [
         "SL Malinga",
         "Deccan Chargers",
         20,
         1
        ],
        [
         "Mohammed Shami",
         "Delhi Capitals",
         20,
         1
        ],
        [
         "JJ Bumrah",
         "Delhi Capitals",
         20,
         1
        ],
        [
         "R Ashwin",
         "Delhi Daredevils",
         23,
         1
        ],
        [
         "SP Narine",
         "Delhi Daredevils",
         23,
         1
        ],
        [
         "B Kumar",
         "Gujarat Lions",
         12,
         1
        ],
        [
         "K Rabada",
         "Gujarat Titans",
         9,
         1
        ],
        [
         "SP Narine",
         "Kings XI Punjab",
         31,
         1
        ],
        [
         "UT Yadav",
         "Kings XI Punjab",
         31,
         1
        ],
        [
         "I Sharma",
         "Kochi Tuskers Kerala",
         5,
         1
        ],
        [
         "RE van der Merwe",
         "Kochi Tuskers Kerala",
         5,
         1
        ],
        [
         "B Kumar",
         "Kolkata Knight Riders",
         33,
         1
        ],
        [
         "JR Hazlewood",
         "Lucknow Super Giants",
         9,
         1
        ],
        [
         "K Rabada",
         "Lucknow Super Giants",
         9,
         1
        ],
        [
         "Rashid Khan",
         "Lucknow Super Giants",
         9,
         1
        ],
        [
         "DJ Bravo",
         "Mumbai Indians",
         36,
         1
        ],
        [
         "SL Malinga",
         "Pune Warriors",
         12,
         1
        ],
        [
         "YS Chahal",
         "Punjab Kings",
         12,
         1
        ],
        [
         "A Mishra",
         "Rajasthan Royals",
         34,
         1
        ],
        [
         "AJ Tye",
         "Rising Pune Supergiant",
         5,
         1
        ],
        [
         "MG Johnson",
         "Rising Pune Supergiant",
         5,
         1
        ],
        [
         "Z Khan",
         "Rising Pune Supergiant",
         5,
         1
        ],
        [
         "JJ Bumrah",
         "Rising Pune Supergiant",
         5,
         1
        ],
        [
         "A Nehra",
         "Rising Pune Supergiants",
         6,
         1
        ],
        [
         "Sandeep Sharma",
         "Royal Challengers Bangalore",
         30,
         1
        ],
        [
         "JJ Bumrah",
         "Royal Challengers Bengaluru",
         5,
         1
        ],
        [
         "AD Russell",
         "Royal Challengers Bengaluru",
         5,
         1
        ],
        [
         "YS Chahal",
         "Sunrisers Hyderabad",
         28,
         1
        ]
       ],
       "datasetInfos": [],
       "dbfsResultPath": null,
       "isJsonSchema": true,
       "metadata": {},
       "overflow": false,
       "plotOptions": {
        "customPlotOptions": {},
        "displayType": "table",
        "pivotAggregation": null,
        "pivotColumns": null,
        "xColumns": null,
        "yColumns": null
       },
       "removedWidgets": [],
       "schema": [
        {
         "metadata": "{}",
         "name": "bowler",
         "type": "\"string\""
        },
        {
         "metadata": "{}",
         "name": "batting_team",
         "type": "\"string\""
        },
        {
         "metadata": "{}",
         "name": "total_wicket",
         "type": "\"long\""
        },
        {
         "metadata": "{}",
         "name": "rank",
         "type": "\"integer\""
        }
       ],
       "type": "table"
      }
     },
     "output_type": "display_data"
    }
   ],
   "source": [
    "displayHTML(\"<h3>Bowler taken max wicket against each team.</h3>\")\n",
    "display(max_wicket_against_each_team())"
   ]
  },
  {
   "cell_type": "markdown",
   "metadata": {
    "application/vnd.databricks.v1+cell": {
     "cellMetadata": {
      "byteLimit": 2048000,
      "rowLimit": 10000
     },
     "inputWidgets": {},
     "nuid": "e19548d8-cf2e-4a67-96e1-2828d057531b",
     "showTitle": false,
     "tableResultSettingsMap": {},
     "title": ""
    }
   },
   "source": [
    "#### 5.Find out which team went into finals most of the times?"
   ]
  },
  {
   "cell_type": "code",
   "execution_count": 0,
   "metadata": {
    "application/vnd.databricks.v1+cell": {
     "cellMetadata": {
      "byteLimit": 2048000,
      "rowLimit": 10000
     },
     "inputWidgets": {},
     "nuid": "a6543c8c-dc7a-4b94-a398-e2c923ce20c3",
     "showTitle": false,
     "tableResultSettingsMap": {},
     "title": ""
    }
   },
   "outputs": [],
   "source": [
    "# We will find how many times a team went into finals as Team1.\n",
    "team1_into_finals = (matches.filter(col(\"match_type\") == \"Final\").\n",
    "                    groupBy(col(\"Team1\").alias(\"Team\")).\n",
    "                    agg(count(col(\"Team1\")).alias(\"count_of_team1\"))\n",
    ")\n",
    "\n",
    "# We will find how many times a team went into finals as Team2.\n",
    "team2_into_finals = (matches.filter(col(\"match_type\") == \"Final\").\n",
    "                    groupBy(col(\"Team2\").alias(\"Team\")).\n",
    "                    agg(count(col(\"Team2\")).alias(\"count_of_team2\"))\n",
    ")\n",
    "\n",
    "def team_into_finals():\n",
    "\n",
    "        col_to_sum = [\"count_of_team1\", \"count_of_team2\"]      \n",
    "\n",
    "        team_into_finals = (team1_into_finals.join(team2_into_finals, on=\"Team\", how=\"INNER\")\n",
    "        )\n",
    "\n",
    "        return(team_into_finals.withColumn(\"no_of_times_into_finals\", expr('+'.join(col_to_sum))).\n",
    "                select(\"Team\",\"no_of_times_into_finals\").\n",
    "                orderBy(col(\"no_of_times_into_finals\").desc())\n",
    "                )"
   ]
  },
  {
   "cell_type": "code",
   "execution_count": 0,
   "metadata": {
    "application/vnd.databricks.v1+cell": {
     "cellMetadata": {
      "byteLimit": 2048000,
      "rowLimit": 10000
     },
     "inputWidgets": {},
     "nuid": "df4b09da-30d0-442f-b7fb-4e9a56b2b98e",
     "showTitle": false,
     "tableResultSettingsMap": {},
     "title": ""
    }
   },
   "outputs": [
    {
     "output_type": "display_data",
     "data": {
      "text/html": [
       "<h3>Team qualified for finals most of the times.</h3>"
      ]
     },
     "metadata": {
      "application/vnd.databricks.v1+output": {
       "addedWidgets": {},
       "arguments": {},
       "data": "<h3>Team qualified for finals most of the times.</h3>",
       "datasetInfos": [],
       "metadata": {},
       "removedWidgets": [],
       "textData": null,
       "type": "htmlSandbox"
      }
     },
     "output_type": "display_data"
    },
    {
     "output_type": "display_data",
     "data": {
      "text/html": [
       "<style scoped>\n",
       "  .table-result-container {\n",
       "    max-height: 300px;\n",
       "    overflow: auto;\n",
       "  }\n",
       "  table, th, td {\n",
       "    border: 1px solid black;\n",
       "    border-collapse: collapse;\n",
       "  }\n",
       "  th, td {\n",
       "    padding: 5px;\n",
       "  }\n",
       "  th {\n",
       "    text-align: left;\n",
       "  }\n",
       "</style><div class='table-result-container'><table class='table-result'><thead style='background-color: white'><tr><th>Team</th><th>no_of_times_into_finals</th></tr></thead><tbody><tr><td>Chennai Super Kings</td><td>10</td></tr><tr><td>Mumbai Indians</td><td>6</td></tr><tr><td>Kolkata Knight Riders</td><td>4</td></tr><tr><td>Sunrisers Hyderabad</td><td>3</td></tr><tr><td>Royal Challengers Bangalore</td><td>3</td></tr><tr><td>Gujarat Titans</td><td>2</td></tr><tr><td>Rajasthan Royals</td><td>2</td></tr></tbody></table></div>"
      ]
     },
     "metadata": {
      "application/vnd.databricks.v1+output": {
       "addedWidgets": {},
       "aggData": [],
       "aggError": "",
       "aggOverflow": false,
       "aggSchema": [],
       "aggSeriesLimitReached": false,
       "aggType": "",
       "arguments": {},
       "columnCustomDisplayInfos": {},
       "data": [
        [
         "Chennai Super Kings",
         10
        ],
        [
         "Mumbai Indians",
         6
        ],
        [
         "Kolkata Knight Riders",
         4
        ],
        [
         "Sunrisers Hyderabad",
         3
        ],
        [
         "Royal Challengers Bangalore",
         3
        ],
        [
         "Gujarat Titans",
         2
        ],
        [
         "Rajasthan Royals",
         2
        ]
       ],
       "datasetInfos": [],
       "dbfsResultPath": null,
       "isJsonSchema": true,
       "metadata": {},
       "overflow": false,
       "plotOptions": {
        "customPlotOptions": {},
        "displayType": "table",
        "pivotAggregation": null,
        "pivotColumns": null,
        "xColumns": null,
        "yColumns": null
       },
       "removedWidgets": [],
       "schema": [
        {
         "metadata": "{}",
         "name": "Team",
         "type": "\"string\""
        },
        {
         "metadata": "{}",
         "name": "no_of_times_into_finals",
         "type": "\"long\""
        }
       ],
       "type": "table"
      }
     },
     "output_type": "display_data"
    }
   ],
   "source": [
    "displayHTML(\"<h3>Team qualified for finals most of the times.</h3>\")\n",
    "display(team_into_finals())"
   ]
  },
  {
   "cell_type": "markdown",
   "metadata": {
    "application/vnd.databricks.v1+cell": {
     "cellMetadata": {
      "byteLimit": 2048000,
      "rowLimit": 10000
     },
     "inputWidgets": {},
     "nuid": "aee0831f-568b-4ed6-9ded-713a0ebc6e46",
     "showTitle": false,
     "tableResultSettingsMap": {},
     "title": ""
    }
   },
   "source": [
    "\n",
    "#### 6.Find out how many times a team have won IPL if they went into finals?"
   ]
  },
  {
   "cell_type": "code",
   "execution_count": 0,
   "metadata": {
    "application/vnd.databricks.v1+cell": {
     "cellMetadata": {
      "byteLimit": 2048000,
      "rowLimit": 10000
     },
     "inputWidgets": {},
     "nuid": "ee0355c2-40e3-4bc1-a629-47544ea76209",
     "showTitle": false,
     "tableResultSettingsMap": {},
     "title": ""
    }
   },
   "outputs": [],
   "source": [
    "# We will find how many times a team went into finals and won as Team1.\n",
    "team1_into_finals_and_won = (matches.filter(col(\"match_type\") == \"Final\").\n",
    "                withColumn(\"Team_equals_winning_team\", when(col(\"Team1\") == col(\"winner\"), col(\"Team1\"))).\n",
    "                groupBy(col(\"Team1\").alias(\"Team\")).\n",
    "                agg(count(col(\"Team_equals_winning_team\")).alias(\"count_of_team1\"))\n",
    ")\n",
    "\n",
    "# We will find how many times a team went into finals and won as Team2.\n",
    "team2_into_finals_and_won = (matches.filter(col(\"match_type\") == \"Final\").\n",
    "                withColumn(\"Team_equals_winning_team\", when(col(\"Team2\") == col(\"winner\"), col(\"Team2\"))).\n",
    "                groupBy(col(\"Team2\").alias(\"Team\")).\n",
    "                agg(count(col(\"Team_equals_winning_team\")).alias(\"count_of_team2\"))\n",
    ")\n",
    "\n",
    "def team_into_finals_and_won():\n",
    "\n",
    "        col_to_sum = [\"count_of_team1\", \"count_of_team2\"]\n",
    "\n",
    "        team_into_finals_and_won = (team1_into_finals_and_won.join(team2_into_finals_and_won, on=\"Team\", how=\"INNER\")\n",
    "        )\n",
    "\n",
    "        return(team_into_finals_and_won.withColumn(\"no_of_times_into_finals_and_won\", expr('+'.join(col_to_sum))).\n",
    "                select(\"Team\",\"no_of_times_into_finals_and_won\").\n",
    "                orderBy(col(\"no_of_times_into_finals_and_won\").desc())\n",
    "                )"
   ]
  },
  {
   "cell_type": "code",
   "execution_count": 0,
   "metadata": {
    "application/vnd.databricks.v1+cell": {
     "cellMetadata": {
      "byteLimit": 2048000,
      "rowLimit": 10000
     },
     "inputWidgets": {},
     "nuid": "2c73c5b7-6d7e-40fc-9a3a-2c72541259f6",
     "showTitle": false,
     "tableResultSettingsMap": {},
     "title": ""
    }
   },
   "outputs": [
    {
     "output_type": "display_data",
     "data": {
      "text/html": [
       "<h3>Times team went into finals and won.</h3>"
      ]
     },
     "metadata": {
      "application/vnd.databricks.v1+output": {
       "addedWidgets": {},
       "arguments": {},
       "data": "<h3>Times team went into finals and won.</h3>",
       "datasetInfos": [],
       "metadata": {},
       "removedWidgets": [],
       "textData": null,
       "type": "htmlSandbox"
      }
     },
     "output_type": "display_data"
    },
    {
     "output_type": "display_data",
     "data": {
      "text/html": [
       "<style scoped>\n",
       "  .table-result-container {\n",
       "    max-height: 300px;\n",
       "    overflow: auto;\n",
       "  }\n",
       "  table, th, td {\n",
       "    border: 1px solid black;\n",
       "    border-collapse: collapse;\n",
       "  }\n",
       "  th, td {\n",
       "    padding: 5px;\n",
       "  }\n",
       "  th {\n",
       "    text-align: left;\n",
       "  }\n",
       "</style><div class='table-result-container'><table class='table-result'><thead style='background-color: white'><tr><th>Team</th><th>no_of_times_into_finals_and_won</th></tr></thead><tbody><tr><td>Chennai Super Kings</td><td>5</td></tr><tr><td>Mumbai Indians</td><td>5</td></tr><tr><td>Kolkata Knight Riders</td><td>3</td></tr><tr><td>Sunrisers Hyderabad</td><td>1</td></tr><tr><td>Gujarat Titans</td><td>1</td></tr><tr><td>Rajasthan Royals</td><td>1</td></tr><tr><td>Royal Challengers Bangalore</td><td>0</td></tr></tbody></table></div>"
      ]
     },
     "metadata": {
      "application/vnd.databricks.v1+output": {
       "addedWidgets": {},
       "aggData": [],
       "aggError": "",
       "aggOverflow": false,
       "aggSchema": [],
       "aggSeriesLimitReached": false,
       "aggType": "",
       "arguments": {},
       "columnCustomDisplayInfos": {},
       "data": [
        [
         "Chennai Super Kings",
         5
        ],
        [
         "Mumbai Indians",
         5
        ],
        [
         "Kolkata Knight Riders",
         3
        ],
        [
         "Sunrisers Hyderabad",
         1
        ],
        [
         "Gujarat Titans",
         1
        ],
        [
         "Rajasthan Royals",
         1
        ],
        [
         "Royal Challengers Bangalore",
         0
        ]
       ],
       "datasetInfos": [],
       "dbfsResultPath": null,
       "isJsonSchema": true,
       "metadata": {},
       "overflow": false,
       "plotOptions": {
        "customPlotOptions": {},
        "displayType": "table",
        "pivotAggregation": null,
        "pivotColumns": null,
        "xColumns": null,
        "yColumns": null
       },
       "removedWidgets": [],
       "schema": [
        {
         "metadata": "{}",
         "name": "Team",
         "type": "\"string\""
        },
        {
         "metadata": "{}",
         "name": "no_of_times_into_finals_and_won",
         "type": "\"long\""
        }
       ],
       "type": "table"
      }
     },
     "output_type": "display_data"
    }
   ],
   "source": [
    "displayHTML(\"<h3>Times team went into finals and won.</h3>\")\n",
    "display(team_into_finals_and_won())"
   ]
  },
  {
   "cell_type": "markdown",
   "metadata": {
    "application/vnd.databricks.v1+cell": {
     "cellMetadata": {
      "byteLimit": 2048000,
      "rowLimit": 10000
     },
     "inputWidgets": {},
     "nuid": "74f74cf1-045e-4b89-ba48-7e53b3aa45bb",
     "showTitle": false,
     "tableResultSettingsMap": {},
     "title": ""
    }
   },
   "source": [
    "\n",
    "#### 7.Find out the if a team wins a toss and choose to bat do they win the match also?"
   ]
  },
  {
   "cell_type": "code",
   "execution_count": 0,
   "metadata": {
    "application/vnd.databricks.v1+cell": {
     "cellMetadata": {
      "byteLimit": 2048000,
      "rowLimit": 10000
     },
     "inputWidgets": {},
     "nuid": "f75ec0f2-7398-4d1f-b566-34d31df245b2",
     "showTitle": false,
     "tableResultSettingsMap": {},
     "title": ""
    }
   },
   "outputs": [],
   "source": [
    "def team_won_toss_and_chose_to_bat():\n",
    "\n",
    "        team_won_toss_and_chose_to_bat = (join_df.filter(col(\"toss_decision\") == \"bat\").\n",
    "                withColumn(\"Team_equals_TossWinner\",\n",
    "                when((col(\"Team1\") == col(\"toss_winner\")) & (col(\"Team1\") == col(\"winner\")) , col(\"Team1\")).\n",
    "                when((col(\"Team2\") == col(\"toss_winner\")) & (col(\"Team2\") == col(\"winner\")), col(\"Team2\"))\n",
    "                )\n",
    "        )\n",
    "\n",
    "        return(team_won_toss_and_chose_to_bat.filter(col(\"Team_equals_TossWinner\").isNotNull()).\n",
    "                select(\"Season\",\"Team1\",\"Team2\",\"toss_winner\",\"winner\", \"toss_decision\").\n",
    "                distinct()\n",
    "                )"
   ]
  },
  {
   "cell_type": "code",
   "execution_count": 0,
   "metadata": {
    "application/vnd.databricks.v1+cell": {
     "cellMetadata": {
      "byteLimit": 2048000,
      "rowLimit": 10000
     },
     "inputWidgets": {},
     "nuid": "4b672d7f-2831-4284-b9a5-8e7356e7c328",
     "showTitle": false,
     "tableResultSettingsMap": {},
     "title": ""
    }
   },
   "outputs": [
    {
     "output_type": "display_data",
     "data": {
      "text/html": [
       "<h3>Times team wins the toss, choose to bat and won.</h3>"
      ]
     },
     "metadata": {
      "application/vnd.databricks.v1+output": {
       "addedWidgets": {},
       "arguments": {},
       "data": "<h3>Times team wins the toss, choose to bat and won.</h3>",
       "datasetInfos": [],
       "metadata": {},
       "removedWidgets": [],
       "textData": null,
       "type": "htmlSandbox"
      }
     },
     "output_type": "display_data"
    },
    {
     "output_type": "display_data",
     "data": {
      "text/html": [
       "<style scoped>\n",
       "  .table-result-container {\n",
       "    max-height: 300px;\n",
       "    overflow: auto;\n",
       "  }\n",
       "  table, th, td {\n",
       "    border: 1px solid black;\n",
       "    border-collapse: collapse;\n",
       "  }\n",
       "  th, td {\n",
       "    padding: 5px;\n",
       "  }\n",
       "  th {\n",
       "    text-align: left;\n",
       "  }\n",
       "</style><div class='table-result-container'><table class='table-result'><thead style='background-color: white'><tr><th>Season</th><th>Team1</th><th>Team2</th><th>toss_winner</th><th>winner</th><th>toss_decision</th></tr></thead><tbody><tr><td>2009</td><td>Chennai Super Kings</td><td>Delhi Daredevils</td><td>Delhi Daredevils</td><td>Delhi Daredevils</td><td>bat</td></tr><tr><td>2009/10</td><td>Kings XI Punjab</td><td>Kolkata Knight Riders</td><td>Kolkata Knight Riders</td><td>Kolkata Knight Riders</td><td>bat</td></tr><tr><td>2009/10</td><td>Kolkata Knight Riders</td><td>Chennai Super Kings</td><td>Chennai Super Kings</td><td>Chennai Super Kings</td><td>bat</td></tr><tr><td>2009/10</td><td>Royal Challengers Bangalore</td><td>Mumbai Indians</td><td>Mumbai Indians</td><td>Mumbai Indians</td><td>bat</td></tr><tr><td>2009/10</td><td>Mumbai Indians</td><td>Rajasthan Royals</td><td>Mumbai Indians</td><td>Mumbai Indians</td><td>bat</td></tr><tr><td>2009</td><td>Chennai Super Kings</td><td>Deccan Chargers</td><td>Chennai Super Kings</td><td>Chennai Super Kings</td><td>bat</td></tr><tr><td>2009/10</td><td>Kolkata Knight Riders</td><td>Deccan Chargers</td><td>Kolkata Knight Riders</td><td>Kolkata Knight Riders</td><td>bat</td></tr><tr><td>2009</td><td>Kings XI Punjab</td><td>Rajasthan Royals</td><td>Kings XI Punjab</td><td>Kings XI Punjab</td><td>bat</td></tr><tr><td>2009/10</td><td>Chennai Super Kings</td><td>Mumbai Indians</td><td>Chennai Super Kings</td><td>Chennai Super Kings</td><td>bat</td></tr><tr><td>2007/08</td><td>Kolkata Knight Riders</td><td>Delhi Daredevils</td><td>Kolkata Knight Riders</td><td>Kolkata Knight Riders</td><td>bat</td></tr><tr><td>2009/10</td><td>Deccan Chargers</td><td>Delhi Daredevils</td><td>Deccan Chargers</td><td>Deccan Chargers</td><td>bat</td></tr><tr><td>2009/10</td><td>Chennai Super Kings</td><td>Rajasthan Royals</td><td>Chennai Super Kings</td><td>Chennai Super Kings</td><td>bat</td></tr><tr><td>2009/10</td><td>Mumbai Indians</td><td>Delhi Daredevils</td><td>Mumbai Indians</td><td>Mumbai Indians</td><td>bat</td></tr><tr><td>2007/08</td><td>Rajasthan Royals</td><td>Kolkata Knight Riders</td><td>Rajasthan Royals</td><td>Rajasthan Royals</td><td>bat</td></tr><tr><td>2009</td><td>Royal Challengers Bangalore</td><td>Deccan Chargers</td><td>Deccan Chargers</td><td>Deccan Chargers</td><td>bat</td></tr><tr><td>2009</td><td>Royal Challengers Bangalore</td><td>Kings XI Punjab</td><td>Royal Challengers Bangalore</td><td>Royal Challengers Bangalore</td><td>bat</td></tr><tr><td>2009/10</td><td>Mumbai Indians</td><td>Deccan Chargers</td><td>Mumbai Indians</td><td>Mumbai Indians</td><td>bat</td></tr><tr><td>2007/08</td><td>Kings XI Punjab</td><td>Chennai Super Kings</td><td>Chennai Super Kings</td><td>Chennai Super Kings</td><td>bat</td></tr><tr><td>2009/10</td><td>Rajasthan Royals</td><td>Kolkata Knight Riders</td><td>Rajasthan Royals</td><td>Rajasthan Royals</td><td>bat</td></tr><tr><td>2009/10</td><td>Delhi Daredevils</td><td>Deccan Chargers</td><td>Deccan Chargers</td><td>Deccan Chargers</td><td>bat</td></tr><tr><td>2009</td><td>Royal Challengers Bangalore</td><td>Rajasthan Royals</td><td>Royal Challengers Bangalore</td><td>Royal Challengers Bangalore</td><td>bat</td></tr><tr><td>2009/10</td><td>Deccan Chargers</td><td>Rajasthan Royals</td><td>Rajasthan Royals</td><td>Rajasthan Royals</td><td>bat</td></tr><tr><td>2009</td><td>Deccan Chargers</td><td>Rajasthan Royals</td><td>Deccan Chargers</td><td>Deccan Chargers</td><td>bat</td></tr><tr><td>2007/08</td><td>Deccan Chargers</td><td>Kolkata Knight Riders</td><td>Kolkata Knight Riders</td><td>Kolkata Knight Riders</td><td>bat</td></tr><tr><td>2007/08</td><td>Kolkata Knight Riders</td><td>Royal Challengers Bangalore</td><td>Kolkata Knight Riders</td><td>Kolkata Knight Riders</td><td>bat</td></tr><tr><td>2009/10</td><td>Delhi Daredevils</td><td>Rajasthan Royals</td><td>Delhi Daredevils</td><td>Delhi Daredevils</td><td>bat</td></tr><tr><td>2009</td><td>Kings XI Punjab</td><td>Mumbai Indians</td><td>Kings XI Punjab</td><td>Kings XI Punjab</td><td>bat</td></tr><tr><td>2007/08</td><td>Chennai Super Kings</td><td>Royal Challengers Bangalore</td><td>Royal Challengers Bangalore</td><td>Royal Challengers Bangalore</td><td>bat</td></tr><tr><td>2009</td><td>Delhi Daredevils</td><td>Rajasthan Royals</td><td>Delhi Daredevils</td><td>Delhi Daredevils</td><td>bat</td></tr><tr><td>2009</td><td>Royal Challengers Bangalore</td><td>Deccan Chargers</td><td>Royal Challengers Bangalore</td><td>Royal Challengers Bangalore</td><td>bat</td></tr><tr><td>2007/08</td><td>Kings XI Punjab</td><td>Kolkata Knight Riders</td><td>Kings XI Punjab</td><td>Kings XI Punjab</td><td>bat</td></tr><tr><td>2009/10</td><td>Chennai Super Kings</td><td>Deccan Chargers</td><td>Deccan Chargers</td><td>Deccan Chargers</td><td>bat</td></tr><tr><td>2007/08</td><td>Chennai Super Kings</td><td>Rajasthan Royals</td><td>Rajasthan Royals</td><td>Rajasthan Royals</td><td>bat</td></tr><tr><td>2009/10</td><td>Kolkata Knight Riders</td><td>Delhi Daredevils</td><td>Kolkata Knight Riders</td><td>Kolkata Knight Riders</td><td>bat</td></tr><tr><td>2009/10</td><td>Delhi Daredevils</td><td>Royal Challengers Bangalore</td><td>Delhi Daredevils</td><td>Delhi Daredevils</td><td>bat</td></tr><tr><td>2009</td><td>Kolkata Knight Riders</td><td>Mumbai Indians</td><td>Mumbai Indians</td><td>Mumbai Indians</td><td>bat</td></tr><tr><td>2009</td><td>Deccan Chargers</td><td>Mumbai Indians</td><td>Deccan Chargers</td><td>Deccan Chargers</td><td>bat</td></tr><tr><td>2009</td><td>Chennai Super Kings</td><td>Kings XI Punjab</td><td>Chennai Super Kings</td><td>Chennai Super Kings</td><td>bat</td></tr><tr><td>2009/10</td><td>Delhi Daredevils</td><td>Kolkata Knight Riders</td><td>Delhi Daredevils</td><td>Delhi Daredevils</td><td>bat</td></tr><tr><td>2009/10</td><td>Rajasthan Royals</td><td>Chennai Super Kings</td><td>Rajasthan Royals</td><td>Rajasthan Royals</td><td>bat</td></tr><tr><td>2009</td><td>Royal Challengers Bangalore</td><td>Chennai Super Kings</td><td>Chennai Super Kings</td><td>Chennai Super Kings</td><td>bat</td></tr><tr><td>2007/08</td><td>Royal Challengers Bangalore</td><td>Chennai Super Kings</td><td>Chennai Super Kings</td><td>Chennai Super Kings</td><td>bat</td></tr><tr><td>2009</td><td>Mumbai Indians</td><td>Rajasthan Royals</td><td>Rajasthan Royals</td><td>Rajasthan Royals</td><td>bat</td></tr><tr><td>2009</td><td>Royal Challengers Bangalore</td><td>Mumbai Indians</td><td>Mumbai Indians</td><td>Mumbai Indians</td><td>bat</td></tr><tr><td>2013</td><td>Mumbai Indians</td><td>Delhi Daredevils</td><td>Mumbai Indians</td><td>Mumbai Indians</td><td>bat</td></tr><tr><td>2011</td><td>Kolkata Knight Riders</td><td>Deccan Chargers</td><td>Kolkata Knight Riders</td><td>Kolkata Knight Riders</td><td>bat</td></tr><tr><td>2011</td><td>Delhi Daredevils</td><td>Deccan Chargers</td><td>Deccan Chargers</td><td>Deccan Chargers</td><td>bat</td></tr><tr><td>2012</td><td>Kolkata Knight Riders</td><td>Pune Warriors</td><td>Kolkata Knight Riders</td><td>Kolkata Knight Riders</td><td>bat</td></tr><tr><td>2013</td><td>Mumbai Indians</td><td>Pune Warriors</td><td>Mumbai Indians</td><td>Mumbai Indians</td><td>bat</td></tr><tr><td>2012</td><td>Pune Warriors</td><td>Kings XI Punjab</td><td>Pune Warriors</td><td>Pune Warriors</td><td>bat</td></tr><tr><td>2012</td><td>Royal Challengers Bangalore</td><td>Rajasthan Royals</td><td>Rajasthan Royals</td><td>Rajasthan Royals</td><td>bat</td></tr><tr><td>2011</td><td>Kings XI Punjab</td><td>Royal Challengers Bangalore</td><td>Kings XI Punjab</td><td>Kings XI Punjab</td><td>bat</td></tr><tr><td>2012</td><td>Kolkata Knight Riders</td><td>Mumbai Indians</td><td>Mumbai Indians</td><td>Mumbai Indians</td><td>bat</td></tr><tr><td>2011</td><td>Chennai Super Kings</td><td>Royal Challengers Bangalore</td><td>Chennai Super Kings</td><td>Chennai Super Kings</td><td>bat</td></tr><tr><td>2012</td><td>Chennai Super Kings</td><td>Kings XI Punjab</td><td>Kings XI Punjab</td><td>Kings XI Punjab</td><td>bat</td></tr><tr><td>2012</td><td>Pune Warriors</td><td>Mumbai Indians</td><td>Mumbai Indians</td><td>Mumbai Indians</td><td>bat</td></tr><tr><td>2012</td><td>Kings XI Punjab</td><td>Rajasthan Royals</td><td>Rajasthan Royals</td><td>Rajasthan Royals</td><td>bat</td></tr><tr><td>2011</td><td>Chennai Super Kings</td><td>Delhi Daredevils</td><td>Chennai Super Kings</td><td>Chennai Super Kings</td><td>bat</td></tr><tr><td>2009/10</td><td>Chennai Super Kings</td><td>Deccan Chargers</td><td>Chennai Super Kings</td><td>Chennai Super Kings</td><td>bat</td></tr><tr><td>2012</td><td>Deccan Chargers</td><td>Pune Warriors</td><td>Deccan Chargers</td><td>Deccan Chargers</td><td>bat</td></tr><tr><td>2012</td><td>Pune Warriors</td><td>Deccan Chargers</td><td>Deccan Chargers</td><td>Deccan Chargers</td><td>bat</td></tr><tr><td>2013</td><td>Chennai Super Kings</td><td>Pune Warriors</td><td>Pune Warriors</td><td>Pune Warriors</td><td>bat</td></tr><tr><td>2013</td><td>Chennai Super Kings</td><td>Mumbai Indians</td><td>Mumbai Indians</td><td>Mumbai Indians</td><td>bat</td></tr><tr><td>2011</td><td>Chennai Super Kings</td><td>Kolkata Knight Riders</td><td>Chennai Super Kings</td><td>Chennai Super Kings</td><td>bat</td></tr><tr><td>2013</td><td>Kolkata Knight Riders</td><td>Sunrisers Hyderabad</td><td>Kolkata Knight Riders</td><td>Kolkata Knight Riders</td><td>bat</td></tr><tr><td>2013</td><td>Delhi Daredevils</td><td>Rajasthan Royals</td><td>Rajasthan Royals</td><td>Rajasthan Royals</td><td>bat</td></tr><tr><td>2012</td><td>Pune Warriors</td><td>Kolkata Knight Riders</td><td>Kolkata Knight Riders</td><td>Kolkata Knight Riders</td><td>bat</td></tr><tr><td>2011</td><td>Mumbai Indians</td><td>Deccan Chargers</td><td>Deccan Chargers</td><td>Deccan Chargers</td><td>bat</td></tr><tr><td>2012</td><td>Rajasthan Royals</td><td>Pune Warriors</td><td>Rajasthan Royals</td><td>Rajasthan Royals</td><td>bat</td></tr><tr><td>2012</td><td>Delhi Daredevils</td><td>Rajasthan Royals</td><td>Delhi Daredevils</td><td>Delhi Daredevils</td><td>bat</td></tr><tr><td>2013</td><td>Delhi Daredevils</td><td>Chennai Super Kings</td><td>Chennai Super Kings</td><td>Chennai Super Kings</td><td>bat</td></tr><tr><td>2012</td><td>Kolkata Knight Riders</td><td>Royal Challengers Bangalore</td><td>Kolkata Knight Riders</td><td>Kolkata Knight Riders</td><td>bat</td></tr><tr><td>2012</td><td>Delhi Daredevils</td><td>Kolkata Knight Riders</td><td>Kolkata Knight Riders</td><td>Kolkata Knight Riders</td><td>bat</td></tr><tr><td>2013</td><td>Rajasthan Royals</td><td>Mumbai Indians</td><td>Rajasthan Royals</td><td>Rajasthan Royals</td><td>bat</td></tr><tr><td>2011</td><td>Kochi Tuskers Kerala</td><td>Delhi Daredevils</td><td>Delhi Daredevils</td><td>Delhi Daredevils</td><td>bat</td></tr><tr><td>2011</td><td>Chennai Super Kings</td><td>Deccan Chargers</td><td>Chennai Super Kings</td><td>Chennai Super Kings</td><td>bat</td></tr><tr><td>2011</td><td>Chennai Super Kings</td><td>Kochi Tuskers Kerala</td><td>Chennai Super Kings</td><td>Chennai Super Kings</td><td>bat</td></tr><tr><td>2012</td><td>Chennai Super Kings</td><td>Deccan Chargers</td><td>Chennai Super Kings</td><td>Chennai Super Kings</td><td>bat</td></tr><tr><td>2015</td><td>Delhi Daredevils</td><td>Sunrisers Hyderabad</td><td>Sunrisers Hyderabad</td><td>Sunrisers Hyderabad</td><td>bat</td></tr><tr><td>2015</td><td>Rajasthan Royals</td><td>Kolkata Knight Riders</td><td>Rajasthan Royals</td><td>Rajasthan Royals</td><td>bat</td></tr><tr><td>2014</td><td>Kolkata Knight Riders</td><td>Rajasthan Royals</td><td>Rajasthan Royals</td><td>Rajasthan Royals</td><td>bat</td></tr><tr><td>2015</td><td>Chennai Super Kings</td><td>Royal Challengers Bangalore</td><td>Chennai Super Kings</td><td>Chennai Super Kings</td><td>bat</td></tr><tr><td>2015</td><td>Chennai Super Kings</td><td>Mumbai Indians</td><td>Mumbai Indians</td><td>Mumbai Indians</td><td>bat</td></tr><tr><td>2013</td><td>Mumbai Indians</td><td>Chennai Super Kings</td><td>Mumbai Indians</td><td>Mumbai Indians</td><td>bat</td></tr><tr><td>2013</td><td>Sunrisers Hyderabad</td><td>Rajasthan Royals</td><td>Sunrisers Hyderabad</td><td>Sunrisers Hyderabad</td><td>bat</td></tr><tr><td>2014</td><td>Rajasthan Royals</td><td>Mumbai Indians</td><td>Mumbai Indians</td><td>Mumbai Indians</td><td>bat</td></tr><tr><td>2015</td><td>Chennai Super Kings</td><td>Sunrisers Hyderabad</td><td>Chennai Super Kings</td><td>Chennai Super Kings</td><td>bat</td></tr><tr><td>2014</td><td>Sunrisers Hyderabad</td><td>Delhi Daredevils</td><td>Sunrisers Hyderabad</td><td>Sunrisers Hyderabad</td><td>bat</td></tr><tr><td>2015</td><td>Sunrisers Hyderabad</td><td>Kings XI Punjab</td><td>Sunrisers Hyderabad</td><td>Sunrisers Hyderabad</td><td>bat</td></tr><tr><td>2015</td><td>Kings XI Punjab</td><td>Mumbai Indians</td><td>Mumbai Indians</td><td>Mumbai Indians</td><td>bat</td></tr><tr><td>2015</td><td>Royal Challengers Bangalore</td><td>Rajasthan Royals</td><td>Royal Challengers Bangalore</td><td>Royal Challengers Bangalore</td><td>bat</td></tr><tr><td>2013</td><td>Pune Warriors</td><td>Royal Challengers Bangalore</td><td>Royal Challengers Bangalore</td><td>Royal Challengers Bangalore</td><td>bat</td></tr><tr><td>2013</td><td>Pune Warriors</td><td>Delhi Daredevils</td><td>Pune Warriors</td><td>Pune Warriors</td><td>bat</td></tr><tr><td>2013</td><td>Pune Warriors</td><td>Kolkata Knight Riders</td><td>Kolkata Knight Riders</td><td>Kolkata Knight Riders</td><td>bat</td></tr><tr><td>2014</td><td>Chennai Super Kings</td><td>Delhi Daredevils</td><td>Chennai Super Kings</td><td>Chennai Super Kings</td><td>bat</td></tr><tr><td>2015</td><td>Kolkata Knight Riders</td><td>Delhi Daredevils</td><td>Kolkata Knight Riders</td><td>Kolkata Knight Riders</td><td>bat</td></tr><tr><td>2013</td><td>Mumbai Indians</td><td>Royal Challengers Bangalore</td><td>Mumbai Indians</td><td>Mumbai Indians</td><td>bat</td></tr><tr><td>2013</td><td>Chennai Super Kings</td><td>Kings XI Punjab</td><td>Chennai Super Kings</td><td>Chennai Super Kings</td><td>bat</td></tr><tr><td>2014</td><td>Chennai Super Kings</td><td>Kolkata Knight Riders</td><td>Chennai Super Kings</td><td>Chennai Super Kings</td><td>bat</td></tr><tr><td>2015</td><td>Chennai Super Kings</td><td>Kings XI Punjab</td><td>Chennai Super Kings</td><td>Chennai Super Kings</td><td>bat</td></tr><tr><td>2014</td><td>Mumbai Indians</td><td>Kolkata Knight Riders</td><td>Kolkata Knight Riders</td><td>Kolkata Knight Riders</td><td>bat</td></tr><tr><td>2015</td><td>Chennai Super Kings</td><td>Rajasthan Royals</td><td>Chennai Super Kings</td><td>Chennai Super Kings</td><td>bat</td></tr><tr><td>2013</td><td>Mumbai Indians</td><td>Kings XI Punjab</td><td>Mumbai Indians</td><td>Mumbai Indians</td><td>bat</td></tr><tr><td>2015</td><td>Mumbai Indians</td><td>Royal Challengers Bangalore</td><td>Royal Challengers Bangalore</td><td>Royal Challengers Bangalore</td><td>bat</td></tr><tr><td>2013</td><td>Chennai Super Kings</td><td>Mumbai Indians</td><td>Chennai Super Kings</td><td>Chennai Super Kings</td><td>bat</td></tr><tr><td>2015</td><td>Mumbai Indians</td><td>Sunrisers Hyderabad</td><td>Mumbai Indians</td><td>Mumbai Indians</td><td>bat</td></tr><tr><td>2013</td><td>Chennai Super Kings</td><td>Delhi Daredevils</td><td>Chennai Super Kings</td><td>Chennai Super Kings</td><td>bat</td></tr><tr><td>2013</td><td>Mumbai Indians</td><td>Kolkata Knight Riders</td><td>Mumbai Indians</td><td>Mumbai Indians</td><td>bat</td></tr><tr><td>2015</td><td>Sunrisers Hyderabad</td><td>Delhi Daredevils</td><td>Delhi Daredevils</td><td>Delhi Daredevils</td><td>bat</td></tr><tr><td>2013</td><td>Pune Warriors</td><td>Chennai Super Kings</td><td>Chennai Super Kings</td><td>Chennai Super Kings</td><td>bat</td></tr><tr><td>2017</td><td>Delhi Daredevils</td><td>Kings XI Punjab</td><td>Delhi Daredevils</td><td>Delhi Daredevils</td><td>bat</td></tr><tr><td>2016</td><td>Royal Challengers Bangalore</td><td>Sunrisers Hyderabad</td><td>Sunrisers Hyderabad</td><td>Sunrisers Hyderabad</td><td>bat</td></tr><tr><td>2017</td><td>Delhi Daredevils</td><td>Rising Pune Supergiant</td><td>Delhi Daredevils</td><td>Delhi Daredevils</td><td>bat</td></tr><tr><td>2017</td><td>Mumbai Indians</td><td>Rising Pune Supergiant</td><td>Mumbai Indians</td><td>Mumbai Indians</td><td>bat</td></tr><tr><td>2018</td><td>Rajasthan Royals</td><td>Kings XI Punjab</td><td>Rajasthan Royals</td><td>Rajasthan Royals</td><td>bat</td></tr><tr><td>2017</td><td>Sunrisers Hyderabad</td><td>Delhi Daredevils</td><td>Sunrisers Hyderabad</td><td>Sunrisers Hyderabad</td><td>bat</td></tr><tr><td>2016</td><td>Rising Pune Supergiants</td><td>Sunrisers Hyderabad</td><td>Sunrisers Hyderabad</td><td>Sunrisers Hyderabad</td><td>bat</td></tr><tr><td>2017</td><td>Royal Challengers Bangalore</td><td>Delhi Daredevils</td><td>Royal Challengers Bangalore</td><td>Royal Challengers Bangalore</td><td>bat</td></tr><tr><td>2018</td><td>Rajasthan Royals</td><td>Royal Challengers Bangalore</td><td>Rajasthan Royals</td><td>Rajasthan Royals</td><td>bat</td></tr><tr><td>2018</td><td>Sunrisers Hyderabad</td><td>Rajasthan Royals</td><td>Sunrisers Hyderabad</td><td>Sunrisers Hyderabad</td><td>bat</td></tr><tr><td>2017</td><td>Delhi Daredevils</td><td>Royal Challengers Bangalore</td><td>Royal Challengers Bangalore</td><td>Royal Challengers Bangalore</td><td>bat</td></tr><tr><td>2018</td><td>Kings XI Punjab</td><td>Sunrisers Hyderabad</td><td>Kings XI Punjab</td><td>Kings XI Punjab</td><td>bat</td></tr><tr><td>2019</td><td>Mumbai Indians</td><td>Chennai Super Kings</td><td>Mumbai Indians</td><td>Mumbai Indians</td><td>bat</td></tr><tr><td>2020/21</td><td>Mumbai Indians</td><td>Rajasthan Royals</td><td>Mumbai Indians</td><td>Mumbai Indians</td><td>bat</td></tr><tr><td>2020/21</td><td>Sunrisers Hyderabad</td><td>Chennai Super Kings</td><td>Sunrisers Hyderabad</td><td>Sunrisers Hyderabad</td><td>bat</td></tr><tr><td>2020/21</td><td>Kolkata Knight Riders</td><td>Kings XI Punjab</td><td>Kolkata Knight Riders</td><td>Kolkata Knight Riders</td><td>bat</td></tr><tr><td>2021</td><td>Royal Challengers Bangalore</td><td>Punjab Kings</td><td>Royal Challengers Bangalore</td><td>Royal Challengers Bangalore</td><td>bat</td></tr><tr><td>2020/21</td><td>Delhi Capitals</td><td>Sunrisers Hyderabad</td><td>Delhi Capitals</td><td>Delhi Capitals</td><td>bat</td></tr><tr><td>2019</td><td>Mumbai Indians</td><td>Delhi Capitals</td><td>Mumbai Indians</td><td>Mumbai Indians</td><td>bat</td></tr><tr><td>2021</td><td>Royal Challengers Bangalore</td><td>Kolkata Knight Riders</td><td>Royal Challengers Bangalore</td><td>Royal Challengers Bangalore</td><td>bat</td></tr><tr><td>2020/21</td><td>Kolkata Knight Riders</td><td>Chennai Super Kings</td><td>Kolkata Knight Riders</td><td>Kolkata Knight Riders</td><td>bat</td></tr><tr><td>2020/21</td><td>Chennai Super Kings</td><td>Sunrisers Hyderabad</td><td>Chennai Super Kings</td><td>Chennai Super Kings</td><td>bat</td></tr><tr><td>2019</td><td>Chennai Super Kings</td><td>Kings XI Punjab</td><td>Chennai Super Kings</td><td>Chennai Super Kings</td><td>bat</td></tr><tr><td>2021</td><td>Mumbai Indians</td><td>Sunrisers Hyderabad</td><td>Mumbai Indians</td><td>Mumbai Indians</td><td>bat</td></tr><tr><td>2019</td><td>Mumbai Indians</td><td>Sunrisers Hyderabad</td><td>Mumbai Indians</td><td>Mumbai Indians</td><td>bat</td></tr><tr><td>2020/21</td><td>Royal Challengers Bangalore</td><td>Kolkata Knight Riders</td><td>Royal Challengers Bangalore</td><td>Royal Challengers Bangalore</td><td>bat</td></tr><tr><td>2021</td><td>Chennai Super Kings</td><td>Royal Challengers Bangalore</td><td>Chennai Super Kings</td><td>Chennai Super Kings</td><td>bat</td></tr><tr><td>2018</td><td>Delhi Daredevils</td><td>Mumbai Indians</td><td>Delhi Daredevils</td><td>Delhi Daredevils</td><td>bat</td></tr><tr><td>2019</td><td>Delhi Capitals</td><td>Royal Challengers Bangalore</td><td>Delhi Capitals</td><td>Delhi Capitals</td><td>bat</td></tr><tr><td>2020/21</td><td>Sunrisers Hyderabad</td><td>Kings XI Punjab</td><td>Sunrisers Hyderabad</td><td>Sunrisers Hyderabad</td><td>bat</td></tr><tr><td>2020/21</td><td>Mumbai Indians</td><td>Sunrisers Hyderabad</td><td>Mumbai Indians</td><td>Mumbai Indians</td><td>bat</td></tr><tr><td>2020/21</td><td>Delhi Capitals</td><td>Rajasthan Royals</td><td>Delhi Capitals</td><td>Delhi Capitals</td><td>bat</td></tr><tr><td>2021</td><td>Delhi Capitals</td><td>Sunrisers Hyderabad</td><td>Delhi Capitals</td><td>Delhi Capitals</td><td>bat</td></tr><tr><td>2020/21</td><td>Royal Challengers Bangalore</td><td>Chennai Super Kings</td><td>Royal Challengers Bangalore</td><td>Royal Challengers Bangalore</td><td>bat</td></tr><tr><td>2022</td><td>Royal Challengers Bangalore</td><td>Sunrisers Hyderabad</td><td>Royal Challengers Bangalore</td><td>Royal Challengers Bangalore</td><td>bat</td></tr><tr><td>2023</td><td>Chennai Super Kings</td><td>Delhi Capitals</td><td>Chennai Super Kings</td><td>Chennai Super Kings</td><td>bat</td></tr><tr><td>2023</td><td>Delhi Capitals</td><td>Gujarat Titans</td><td>Delhi Capitals</td><td>Delhi Capitals</td><td>bat</td></tr><tr><td>2022</td><td>Gujarat Titans</td><td>Kolkata Knight Riders</td><td>Gujarat Titans</td><td>Gujarat Titans</td><td>bat</td></tr><tr><td>2023</td><td>Delhi Capitals</td><td>Sunrisers Hyderabad</td><td>Delhi Capitals</td><td>Delhi Capitals</td><td>bat</td></tr><tr><td>2023</td><td>Kolkata Knight Riders</td><td>Sunrisers Hyderabad</td><td>Kolkata Knight Riders</td><td>Kolkata Knight Riders</td><td>bat</td></tr><tr><td>2022</td><td>Kolkata Knight Riders</td><td>Sunrisers Hyderabad</td><td>Kolkata Knight Riders</td><td>Kolkata Knight Riders</td><td>bat</td></tr><tr><td>2021</td><td>Chennai Super Kings</td><td>Mumbai Indians</td><td>Chennai Super Kings</td><td>Chennai Super Kings</td><td>bat</td></tr><tr><td>2022</td><td>Lucknow Super Giants</td><td>Kolkata Knight Riders</td><td>Lucknow Super Giants</td><td>Lucknow Super Giants</td><td>bat</td></tr><tr><td>2022</td><td>Gujarat Titans</td><td>Lucknow Super Giants</td><td>Gujarat Titans</td><td>Gujarat Titans</td><td>bat</td></tr><tr><td>2023</td><td>Mumbai Indians</td><td>Lucknow Super Giants</td><td>Mumbai Indians</td><td>Mumbai Indians</td><td>bat</td></tr><tr><td>2023</td><td>Royal Challengers Bangalore</td><td>Rajasthan Royals</td><td>Royal Challengers Bangalore</td><td>Royal Challengers Bangalore</td><td>bat</td></tr><tr><td>2023</td><td>Royal Challengers Bangalore</td><td>Lucknow Super Giants</td><td>Royal Challengers Bangalore</td><td>Royal Challengers Bangalore</td><td>bat</td></tr><tr><td>2023</td><td>Sunrisers Hyderabad</td><td>Delhi Capitals</td><td>Sunrisers Hyderabad</td><td>Sunrisers Hyderabad</td><td>bat</td></tr><tr><td>2022</td><td>Rajasthan Royals</td><td>Lucknow Super Giants</td><td>Rajasthan Royals</td><td>Rajasthan Royals</td><td>bat</td></tr><tr><td>2023</td><td>Gujarat Titans</td><td>Lucknow Super Giants</td><td>Gujarat Titans</td><td>Gujarat Titans</td><td>bat</td></tr><tr><td>2023</td><td>Rajasthan Royals</td><td>Chennai Super Kings</td><td>Rajasthan Royals</td><td>Rajasthan Royals</td><td>bat</td></tr><tr><td>2022</td><td>Lucknow Super Giants</td><td>Delhi Capitals</td><td>Lucknow Super Giants</td><td>Lucknow Super Giants</td><td>bat</td></tr><tr><td>2024</td><td>Rajasthan Royals</td><td>Lucknow Super Giants</td><td>Rajasthan Royals</td><td>Rajasthan Royals</td><td>bat</td></tr><tr><td>2024</td><td>Lucknow Super Giants</td><td>Gujarat Titans</td><td>Lucknow Super Giants</td><td>Lucknow Super Giants</td><td>bat</td></tr><tr><td>2024</td><td>Delhi Capitals</td><td>Chennai Super Kings</td><td>Delhi Capitals</td><td>Delhi Capitals</td><td>bat</td></tr><tr><td>2024</td><td>Lucknow Super Giants</td><td>Punjab Kings</td><td>Lucknow Super Giants</td><td>Lucknow Super Giants</td><td>bat</td></tr><tr><td>2024</td><td>Sunrisers Hyderabad</td><td>Rajasthan Royals</td><td>Sunrisers Hyderabad</td><td>Sunrisers Hyderabad</td><td>bat</td></tr><tr><td>2024</td><td>Kolkata Knight Riders</td><td>Delhi Capitals</td><td>Kolkata Knight Riders</td><td>Kolkata Knight Riders</td><td>bat</td></tr><tr><td>2024</td><td>Royal Challengers Bengaluru</td><td>Sunrisers Hyderabad</td><td>Royal Challengers Bengaluru</td><td>Royal Challengers Bengaluru</td><td>bat</td></tr></tbody></table></div>"
      ]
     },
     "metadata": {
      "application/vnd.databricks.v1+output": {
       "addedWidgets": {},
       "aggData": [],
       "aggError": "",
       "aggOverflow": false,
       "aggSchema": [],
       "aggSeriesLimitReached": false,
       "aggType": "",
       "arguments": {},
       "columnCustomDisplayInfos": {},
       "data": [
        [
         "2009",
         "Chennai Super Kings",
         "Delhi Daredevils",
         "Delhi Daredevils",
         "Delhi Daredevils",
         "bat"
        ],
        [
         "2009/10",
         "Kings XI Punjab",
         "Kolkata Knight Riders",
         "Kolkata Knight Riders",
         "Kolkata Knight Riders",
         "bat"
        ],
        [
         "2009/10",
         "Kolkata Knight Riders",
         "Chennai Super Kings",
         "Chennai Super Kings",
         "Chennai Super Kings",
         "bat"
        ],
        [
         "2009/10",
         "Royal Challengers Bangalore",
         "Mumbai Indians",
         "Mumbai Indians",
         "Mumbai Indians",
         "bat"
        ],
        [
         "2009/10",
         "Mumbai Indians",
         "Rajasthan Royals",
         "Mumbai Indians",
         "Mumbai Indians",
         "bat"
        ],
        [
         "2009",
         "Chennai Super Kings",
         "Deccan Chargers",
         "Chennai Super Kings",
         "Chennai Super Kings",
         "bat"
        ],
        [
         "2009/10",
         "Kolkata Knight Riders",
         "Deccan Chargers",
         "Kolkata Knight Riders",
         "Kolkata Knight Riders",
         "bat"
        ],
        [
         "2009",
         "Kings XI Punjab",
         "Rajasthan Royals",
         "Kings XI Punjab",
         "Kings XI Punjab",
         "bat"
        ],
        [
         "2009/10",
         "Chennai Super Kings",
         "Mumbai Indians",
         "Chennai Super Kings",
         "Chennai Super Kings",
         "bat"
        ],
        [
         "2007/08",
         "Kolkata Knight Riders",
         "Delhi Daredevils",
         "Kolkata Knight Riders",
         "Kolkata Knight Riders",
         "bat"
        ],
        [
         "2009/10",
         "Deccan Chargers",
         "Delhi Daredevils",
         "Deccan Chargers",
         "Deccan Chargers",
         "bat"
        ],
        [
         "2009/10",
         "Chennai Super Kings",
         "Rajasthan Royals",
         "Chennai Super Kings",
         "Chennai Super Kings",
         "bat"
        ],
        [
         "2009/10",
         "Mumbai Indians",
         "Delhi Daredevils",
         "Mumbai Indians",
         "Mumbai Indians",
         "bat"
        ],
        [
         "2007/08",
         "Rajasthan Royals",
         "Kolkata Knight Riders",
         "Rajasthan Royals",
         "Rajasthan Royals",
         "bat"
        ],
        [
         "2009",
         "Royal Challengers Bangalore",
         "Deccan Chargers",
         "Deccan Chargers",
         "Deccan Chargers",
         "bat"
        ],
        [
         "2009",
         "Royal Challengers Bangalore",
         "Kings XI Punjab",
         "Royal Challengers Bangalore",
         "Royal Challengers Bangalore",
         "bat"
        ],
        [
         "2009/10",
         "Mumbai Indians",
         "Deccan Chargers",
         "Mumbai Indians",
         "Mumbai Indians",
         "bat"
        ],
        [
         "2007/08",
         "Kings XI Punjab",
         "Chennai Super Kings",
         "Chennai Super Kings",
         "Chennai Super Kings",
         "bat"
        ],
        [
         "2009/10",
         "Rajasthan Royals",
         "Kolkata Knight Riders",
         "Rajasthan Royals",
         "Rajasthan Royals",
         "bat"
        ],
        [
         "2009/10",
         "Delhi Daredevils",
         "Deccan Chargers",
         "Deccan Chargers",
         "Deccan Chargers",
         "bat"
        ],
        [
         "2009",
         "Royal Challengers Bangalore",
         "Rajasthan Royals",
         "Royal Challengers Bangalore",
         "Royal Challengers Bangalore",
         "bat"
        ],
        [
         "2009/10",
         "Deccan Chargers",
         "Rajasthan Royals",
         "Rajasthan Royals",
         "Rajasthan Royals",
         "bat"
        ],
        [
         "2009",
         "Deccan Chargers",
         "Rajasthan Royals",
         "Deccan Chargers",
         "Deccan Chargers",
         "bat"
        ],
        [
         "2007/08",
         "Deccan Chargers",
         "Kolkata Knight Riders",
         "Kolkata Knight Riders",
         "Kolkata Knight Riders",
         "bat"
        ],
        [
         "2007/08",
         "Kolkata Knight Riders",
         "Royal Challengers Bangalore",
         "Kolkata Knight Riders",
         "Kolkata Knight Riders",
         "bat"
        ],
        [
         "2009/10",
         "Delhi Daredevils",
         "Rajasthan Royals",
         "Delhi Daredevils",
         "Delhi Daredevils",
         "bat"
        ],
        [
         "2009",
         "Kings XI Punjab",
         "Mumbai Indians",
         "Kings XI Punjab",
         "Kings XI Punjab",
         "bat"
        ],
        [
         "2007/08",
         "Chennai Super Kings",
         "Royal Challengers Bangalore",
         "Royal Challengers Bangalore",
         "Royal Challengers Bangalore",
         "bat"
        ],
        [
         "2009",
         "Delhi Daredevils",
         "Rajasthan Royals",
         "Delhi Daredevils",
         "Delhi Daredevils",
         "bat"
        ],
        [
         "2009",
         "Royal Challengers Bangalore",
         "Deccan Chargers",
         "Royal Challengers Bangalore",
         "Royal Challengers Bangalore",
         "bat"
        ],
        [
         "2007/08",
         "Kings XI Punjab",
         "Kolkata Knight Riders",
         "Kings XI Punjab",
         "Kings XI Punjab",
         "bat"
        ],
        [
         "2009/10",
         "Chennai Super Kings",
         "Deccan Chargers",
         "Deccan Chargers",
         "Deccan Chargers",
         "bat"
        ],
        [
         "2007/08",
         "Chennai Super Kings",
         "Rajasthan Royals",
         "Rajasthan Royals",
         "Rajasthan Royals",
         "bat"
        ],
        [
         "2009/10",
         "Kolkata Knight Riders",
         "Delhi Daredevils",
         "Kolkata Knight Riders",
         "Kolkata Knight Riders",
         "bat"
        ],
        [
         "2009/10",
         "Delhi Daredevils",
         "Royal Challengers Bangalore",
         "Delhi Daredevils",
         "Delhi Daredevils",
         "bat"
        ],
        [
         "2009",
         "Kolkata Knight Riders",
         "Mumbai Indians",
         "Mumbai Indians",
         "Mumbai Indians",
         "bat"
        ],
        [
         "2009",
         "Deccan Chargers",
         "Mumbai Indians",
         "Deccan Chargers",
         "Deccan Chargers",
         "bat"
        ],
        [
         "2009",
         "Chennai Super Kings",
         "Kings XI Punjab",
         "Chennai Super Kings",
         "Chennai Super Kings",
         "bat"
        ],
        [
         "2009/10",
         "Delhi Daredevils",
         "Kolkata Knight Riders",
         "Delhi Daredevils",
         "Delhi Daredevils",
         "bat"
        ],
        [
         "2009/10",
         "Rajasthan Royals",
         "Chennai Super Kings",
         "Rajasthan Royals",
         "Rajasthan Royals",
         "bat"
        ],
        [
         "2009",
         "Royal Challengers Bangalore",
         "Chennai Super Kings",
         "Chennai Super Kings",
         "Chennai Super Kings",
         "bat"
        ],
        [
         "2007/08",
         "Royal Challengers Bangalore",
         "Chennai Super Kings",
         "Chennai Super Kings",
         "Chennai Super Kings",
         "bat"
        ],
        [
         "2009",
         "Mumbai Indians",
         "Rajasthan Royals",
         "Rajasthan Royals",
         "Rajasthan Royals",
         "bat"
        ],
        [
         "2009",
         "Royal Challengers Bangalore",
         "Mumbai Indians",
         "Mumbai Indians",
         "Mumbai Indians",
         "bat"
        ],
        [
         "2013",
         "Mumbai Indians",
         "Delhi Daredevils",
         "Mumbai Indians",
         "Mumbai Indians",
         "bat"
        ],
        [
         "2011",
         "Kolkata Knight Riders",
         "Deccan Chargers",
         "Kolkata Knight Riders",
         "Kolkata Knight Riders",
         "bat"
        ],
        [
         "2011",
         "Delhi Daredevils",
         "Deccan Chargers",
         "Deccan Chargers",
         "Deccan Chargers",
         "bat"
        ],
        [
         "2012",
         "Kolkata Knight Riders",
         "Pune Warriors",
         "Kolkata Knight Riders",
         "Kolkata Knight Riders",
         "bat"
        ],
        [
         "2013",
         "Mumbai Indians",
         "Pune Warriors",
         "Mumbai Indians",
         "Mumbai Indians",
         "bat"
        ],
        [
         "2012",
         "Pune Warriors",
         "Kings XI Punjab",
         "Pune Warriors",
         "Pune Warriors",
         "bat"
        ],
        [
         "2012",
         "Royal Challengers Bangalore",
         "Rajasthan Royals",
         "Rajasthan Royals",
         "Rajasthan Royals",
         "bat"
        ],
        [
         "2011",
         "Kings XI Punjab",
         "Royal Challengers Bangalore",
         "Kings XI Punjab",
         "Kings XI Punjab",
         "bat"
        ],
        [
         "2012",
         "Kolkata Knight Riders",
         "Mumbai Indians",
         "Mumbai Indians",
         "Mumbai Indians",
         "bat"
        ],
        [
         "2011",
         "Chennai Super Kings",
         "Royal Challengers Bangalore",
         "Chennai Super Kings",
         "Chennai Super Kings",
         "bat"
        ],
        [
         "2012",
         "Chennai Super Kings",
         "Kings XI Punjab",
         "Kings XI Punjab",
         "Kings XI Punjab",
         "bat"
        ],
        [
         "2012",
         "Pune Warriors",
         "Mumbai Indians",
         "Mumbai Indians",
         "Mumbai Indians",
         "bat"
        ],
        [
         "2012",
         "Kings XI Punjab",
         "Rajasthan Royals",
         "Rajasthan Royals",
         "Rajasthan Royals",
         "bat"
        ],
        [
         "2011",
         "Chennai Super Kings",
         "Delhi Daredevils",
         "Chennai Super Kings",
         "Chennai Super Kings",
         "bat"
        ],
        [
         "2009/10",
         "Chennai Super Kings",
         "Deccan Chargers",
         "Chennai Super Kings",
         "Chennai Super Kings",
         "bat"
        ],
        [
         "2012",
         "Deccan Chargers",
         "Pune Warriors",
         "Deccan Chargers",
         "Deccan Chargers",
         "bat"
        ],
        [
         "2012",
         "Pune Warriors",
         "Deccan Chargers",
         "Deccan Chargers",
         "Deccan Chargers",
         "bat"
        ],
        [
         "2013",
         "Chennai Super Kings",
         "Pune Warriors",
         "Pune Warriors",
         "Pune Warriors",
         "bat"
        ],
        [
         "2013",
         "Chennai Super Kings",
         "Mumbai Indians",
         "Mumbai Indians",
         "Mumbai Indians",
         "bat"
        ],
        [
         "2011",
         "Chennai Super Kings",
         "Kolkata Knight Riders",
         "Chennai Super Kings",
         "Chennai Super Kings",
         "bat"
        ],
        [
         "2013",
         "Kolkata Knight Riders",
         "Sunrisers Hyderabad",
         "Kolkata Knight Riders",
         "Kolkata Knight Riders",
         "bat"
        ],
        [
         "2013",
         "Delhi Daredevils",
         "Rajasthan Royals",
         "Rajasthan Royals",
         "Rajasthan Royals",
         "bat"
        ],
        [
         "2012",
         "Pune Warriors",
         "Kolkata Knight Riders",
         "Kolkata Knight Riders",
         "Kolkata Knight Riders",
         "bat"
        ],
        [
         "2011",
         "Mumbai Indians",
         "Deccan Chargers",
         "Deccan Chargers",
         "Deccan Chargers",
         "bat"
        ],
        [
         "2012",
         "Rajasthan Royals",
         "Pune Warriors",
         "Rajasthan Royals",
         "Rajasthan Royals",
         "bat"
        ],
        [
         "2012",
         "Delhi Daredevils",
         "Rajasthan Royals",
         "Delhi Daredevils",
         "Delhi Daredevils",
         "bat"
        ],
        [
         "2013",
         "Delhi Daredevils",
         "Chennai Super Kings",
         "Chennai Super Kings",
         "Chennai Super Kings",
         "bat"
        ],
        [
         "2012",
         "Kolkata Knight Riders",
         "Royal Challengers Bangalore",
         "Kolkata Knight Riders",
         "Kolkata Knight Riders",
         "bat"
        ],
        [
         "2012",
         "Delhi Daredevils",
         "Kolkata Knight Riders",
         "Kolkata Knight Riders",
         "Kolkata Knight Riders",
         "bat"
        ],
        [
         "2013",
         "Rajasthan Royals",
         "Mumbai Indians",
         "Rajasthan Royals",
         "Rajasthan Royals",
         "bat"
        ],
        [
         "2011",
         "Kochi Tuskers Kerala",
         "Delhi Daredevils",
         "Delhi Daredevils",
         "Delhi Daredevils",
         "bat"
        ],
        [
         "2011",
         "Chennai Super Kings",
         "Deccan Chargers",
         "Chennai Super Kings",
         "Chennai Super Kings",
         "bat"
        ],
        [
         "2011",
         "Chennai Super Kings",
         "Kochi Tuskers Kerala",
         "Chennai Super Kings",
         "Chennai Super Kings",
         "bat"
        ],
        [
         "2012",
         "Chennai Super Kings",
         "Deccan Chargers",
         "Chennai Super Kings",
         "Chennai Super Kings",
         "bat"
        ],
        [
         "2015",
         "Delhi Daredevils",
         "Sunrisers Hyderabad",
         "Sunrisers Hyderabad",
         "Sunrisers Hyderabad",
         "bat"
        ],
        [
         "2015",
         "Rajasthan Royals",
         "Kolkata Knight Riders",
         "Rajasthan Royals",
         "Rajasthan Royals",
         "bat"
        ],
        [
         "2014",
         "Kolkata Knight Riders",
         "Rajasthan Royals",
         "Rajasthan Royals",
         "Rajasthan Royals",
         "bat"
        ],
        [
         "2015",
         "Chennai Super Kings",
         "Royal Challengers Bangalore",
         "Chennai Super Kings",
         "Chennai Super Kings",
         "bat"
        ],
        [
         "2015",
         "Chennai Super Kings",
         "Mumbai Indians",
         "Mumbai Indians",
         "Mumbai Indians",
         "bat"
        ],
        [
         "2013",
         "Mumbai Indians",
         "Chennai Super Kings",
         "Mumbai Indians",
         "Mumbai Indians",
         "bat"
        ],
        [
         "2013",
         "Sunrisers Hyderabad",
         "Rajasthan Royals",
         "Sunrisers Hyderabad",
         "Sunrisers Hyderabad",
         "bat"
        ],
        [
         "2014",
         "Rajasthan Royals",
         "Mumbai Indians",
         "Mumbai Indians",
         "Mumbai Indians",
         "bat"
        ],
        [
         "2015",
         "Chennai Super Kings",
         "Sunrisers Hyderabad",
         "Chennai Super Kings",
         "Chennai Super Kings",
         "bat"
        ],
        [
         "2014",
         "Sunrisers Hyderabad",
         "Delhi Daredevils",
         "Sunrisers Hyderabad",
         "Sunrisers Hyderabad",
         "bat"
        ],
        [
         "2015",
         "Sunrisers Hyderabad",
         "Kings XI Punjab",
         "Sunrisers Hyderabad",
         "Sunrisers Hyderabad",
         "bat"
        ],
        [
         "2015",
         "Kings XI Punjab",
         "Mumbai Indians",
         "Mumbai Indians",
         "Mumbai Indians",
         "bat"
        ],
        [
         "2015",
         "Royal Challengers Bangalore",
         "Rajasthan Royals",
         "Royal Challengers Bangalore",
         "Royal Challengers Bangalore",
         "bat"
        ],
        [
         "2013",
         "Pune Warriors",
         "Royal Challengers Bangalore",
         "Royal Challengers Bangalore",
         "Royal Challengers Bangalore",
         "bat"
        ],
        [
         "2013",
         "Pune Warriors",
         "Delhi Daredevils",
         "Pune Warriors",
         "Pune Warriors",
         "bat"
        ],
        [
         "2013",
         "Pune Warriors",
         "Kolkata Knight Riders",
         "Kolkata Knight Riders",
         "Kolkata Knight Riders",
         "bat"
        ],
        [
         "2014",
         "Chennai Super Kings",
         "Delhi Daredevils",
         "Chennai Super Kings",
         "Chennai Super Kings",
         "bat"
        ],
        [
         "2015",
         "Kolkata Knight Riders",
         "Delhi Daredevils",
         "Kolkata Knight Riders",
         "Kolkata Knight Riders",
         "bat"
        ],
        [
         "2013",
         "Mumbai Indians",
         "Royal Challengers Bangalore",
         "Mumbai Indians",
         "Mumbai Indians",
         "bat"
        ],
        [
         "2013",
         "Chennai Super Kings",
         "Kings XI Punjab",
         "Chennai Super Kings",
         "Chennai Super Kings",
         "bat"
        ],
        [
         "2014",
         "Chennai Super Kings",
         "Kolkata Knight Riders",
         "Chennai Super Kings",
         "Chennai Super Kings",
         "bat"
        ],
        [
         "2015",
         "Chennai Super Kings",
         "Kings XI Punjab",
         "Chennai Super Kings",
         "Chennai Super Kings",
         "bat"
        ],
        [
         "2014",
         "Mumbai Indians",
         "Kolkata Knight Riders",
         "Kolkata Knight Riders",
         "Kolkata Knight Riders",
         "bat"
        ],
        [
         "2015",
         "Chennai Super Kings",
         "Rajasthan Royals",
         "Chennai Super Kings",
         "Chennai Super Kings",
         "bat"
        ],
        [
         "2013",
         "Mumbai Indians",
         "Kings XI Punjab",
         "Mumbai Indians",
         "Mumbai Indians",
         "bat"
        ],
        [
         "2015",
         "Mumbai Indians",
         "Royal Challengers Bangalore",
         "Royal Challengers Bangalore",
         "Royal Challengers Bangalore",
         "bat"
        ],
        [
         "2013",
         "Chennai Super Kings",
         "Mumbai Indians",
         "Chennai Super Kings",
         "Chennai Super Kings",
         "bat"
        ],
        [
         "2015",
         "Mumbai Indians",
         "Sunrisers Hyderabad",
         "Mumbai Indians",
         "Mumbai Indians",
         "bat"
        ],
        [
         "2013",
         "Chennai Super Kings",
         "Delhi Daredevils",
         "Chennai Super Kings",
         "Chennai Super Kings",
         "bat"
        ],
        [
         "2013",
         "Mumbai Indians",
         "Kolkata Knight Riders",
         "Mumbai Indians",
         "Mumbai Indians",
         "bat"
        ],
        [
         "2015",
         "Sunrisers Hyderabad",
         "Delhi Daredevils",
         "Delhi Daredevils",
         "Delhi Daredevils",
         "bat"
        ],
        [
         "2013",
         "Pune Warriors",
         "Chennai Super Kings",
         "Chennai Super Kings",
         "Chennai Super Kings",
         "bat"
        ],
        [
         "2017",
         "Delhi Daredevils",
         "Kings XI Punjab",
         "Delhi Daredevils",
         "Delhi Daredevils",
         "bat"
        ],
        [
         "2016",
         "Royal Challengers Bangalore",
         "Sunrisers Hyderabad",
         "Sunrisers Hyderabad",
         "Sunrisers Hyderabad",
         "bat"
        ],
        [
         "2017",
         "Delhi Daredevils",
         "Rising Pune Supergiant",
         "Delhi Daredevils",
         "Delhi Daredevils",
         "bat"
        ],
        [
         "2017",
         "Mumbai Indians",
         "Rising Pune Supergiant",
         "Mumbai Indians",
         "Mumbai Indians",
         "bat"
        ],
        [
         "2018",
         "Rajasthan Royals",
         "Kings XI Punjab",
         "Rajasthan Royals",
         "Rajasthan Royals",
         "bat"
        ],
        [
         "2017",
         "Sunrisers Hyderabad",
         "Delhi Daredevils",
         "Sunrisers Hyderabad",
         "Sunrisers Hyderabad",
         "bat"
        ],
        [
         "2016",
         "Rising Pune Supergiants",
         "Sunrisers Hyderabad",
         "Sunrisers Hyderabad",
         "Sunrisers Hyderabad",
         "bat"
        ],
        [
         "2017",
         "Royal Challengers Bangalore",
         "Delhi Daredevils",
         "Royal Challengers Bangalore",
         "Royal Challengers Bangalore",
         "bat"
        ],
        [
         "2018",
         "Rajasthan Royals",
         "Royal Challengers Bangalore",
         "Rajasthan Royals",
         "Rajasthan Royals",
         "bat"
        ],
        [
         "2018",
         "Sunrisers Hyderabad",
         "Rajasthan Royals",
         "Sunrisers Hyderabad",
         "Sunrisers Hyderabad",
         "bat"
        ],
        [
         "2017",
         "Delhi Daredevils",
         "Royal Challengers Bangalore",
         "Royal Challengers Bangalore",
         "Royal Challengers Bangalore",
         "bat"
        ],
        [
         "2018",
         "Kings XI Punjab",
         "Sunrisers Hyderabad",
         "Kings XI Punjab",
         "Kings XI Punjab",
         "bat"
        ],
        [
         "2019",
         "Mumbai Indians",
         "Chennai Super Kings",
         "Mumbai Indians",
         "Mumbai Indians",
         "bat"
        ],
        [
         "2020/21",
         "Mumbai Indians",
         "Rajasthan Royals",
         "Mumbai Indians",
         "Mumbai Indians",
         "bat"
        ],
        [
         "2020/21",
         "Sunrisers Hyderabad",
         "Chennai Super Kings",
         "Sunrisers Hyderabad",
         "Sunrisers Hyderabad",
         "bat"
        ],
        [
         "2020/21",
         "Kolkata Knight Riders",
         "Kings XI Punjab",
         "Kolkata Knight Riders",
         "Kolkata Knight Riders",
         "bat"
        ],
        [
         "2021",
         "Royal Challengers Bangalore",
         "Punjab Kings",
         "Royal Challengers Bangalore",
         "Royal Challengers Bangalore",
         "bat"
        ],
        [
         "2020/21",
         "Delhi Capitals",
         "Sunrisers Hyderabad",
         "Delhi Capitals",
         "Delhi Capitals",
         "bat"
        ],
        [
         "2019",
         "Mumbai Indians",
         "Delhi Capitals",
         "Mumbai Indians",
         "Mumbai Indians",
         "bat"
        ],
        [
         "2021",
         "Royal Challengers Bangalore",
         "Kolkata Knight Riders",
         "Royal Challengers Bangalore",
         "Royal Challengers Bangalore",
         "bat"
        ],
        [
         "2020/21",
         "Kolkata Knight Riders",
         "Chennai Super Kings",
         "Kolkata Knight Riders",
         "Kolkata Knight Riders",
         "bat"
        ],
        [
         "2020/21",
         "Chennai Super Kings",
         "Sunrisers Hyderabad",
         "Chennai Super Kings",
         "Chennai Super Kings",
         "bat"
        ],
        [
         "2019",
         "Chennai Super Kings",
         "Kings XI Punjab",
         "Chennai Super Kings",
         "Chennai Super Kings",
         "bat"
        ],
        [
         "2021",
         "Mumbai Indians",
         "Sunrisers Hyderabad",
         "Mumbai Indians",
         "Mumbai Indians",
         "bat"
        ],
        [
         "2019",
         "Mumbai Indians",
         "Sunrisers Hyderabad",
         "Mumbai Indians",
         "Mumbai Indians",
         "bat"
        ],
        [
         "2020/21",
         "Royal Challengers Bangalore",
         "Kolkata Knight Riders",
         "Royal Challengers Bangalore",
         "Royal Challengers Bangalore",
         "bat"
        ],
        [
         "2021",
         "Chennai Super Kings",
         "Royal Challengers Bangalore",
         "Chennai Super Kings",
         "Chennai Super Kings",
         "bat"
        ],
        [
         "2018",
         "Delhi Daredevils",
         "Mumbai Indians",
         "Delhi Daredevils",
         "Delhi Daredevils",
         "bat"
        ],
        [
         "2019",
         "Delhi Capitals",
         "Royal Challengers Bangalore",
         "Delhi Capitals",
         "Delhi Capitals",
         "bat"
        ],
        [
         "2020/21",
         "Sunrisers Hyderabad",
         "Kings XI Punjab",
         "Sunrisers Hyderabad",
         "Sunrisers Hyderabad",
         "bat"
        ],
        [
         "2020/21",
         "Mumbai Indians",
         "Sunrisers Hyderabad",
         "Mumbai Indians",
         "Mumbai Indians",
         "bat"
        ],
        [
         "2020/21",
         "Delhi Capitals",
         "Rajasthan Royals",
         "Delhi Capitals",
         "Delhi Capitals",
         "bat"
        ],
        [
         "2021",
         "Delhi Capitals",
         "Sunrisers Hyderabad",
         "Delhi Capitals",
         "Delhi Capitals",
         "bat"
        ],
        [
         "2020/21",
         "Royal Challengers Bangalore",
         "Chennai Super Kings",
         "Royal Challengers Bangalore",
         "Royal Challengers Bangalore",
         "bat"
        ],
        [
         "2022",
         "Royal Challengers Bangalore",
         "Sunrisers Hyderabad",
         "Royal Challengers Bangalore",
         "Royal Challengers Bangalore",
         "bat"
        ],
        [
         "2023",
         "Chennai Super Kings",
         "Delhi Capitals",
         "Chennai Super Kings",
         "Chennai Super Kings",
         "bat"
        ],
        [
         "2023",
         "Delhi Capitals",
         "Gujarat Titans",
         "Delhi Capitals",
         "Delhi Capitals",
         "bat"
        ],
        [
         "2022",
         "Gujarat Titans",
         "Kolkata Knight Riders",
         "Gujarat Titans",
         "Gujarat Titans",
         "bat"
        ],
        [
         "2023",
         "Delhi Capitals",
         "Sunrisers Hyderabad",
         "Delhi Capitals",
         "Delhi Capitals",
         "bat"
        ],
        [
         "2023",
         "Kolkata Knight Riders",
         "Sunrisers Hyderabad",
         "Kolkata Knight Riders",
         "Kolkata Knight Riders",
         "bat"
        ],
        [
         "2022",
         "Kolkata Knight Riders",
         "Sunrisers Hyderabad",
         "Kolkata Knight Riders",
         "Kolkata Knight Riders",
         "bat"
        ],
        [
         "2021",
         "Chennai Super Kings",
         "Mumbai Indians",
         "Chennai Super Kings",
         "Chennai Super Kings",
         "bat"
        ],
        [
         "2022",
         "Lucknow Super Giants",
         "Kolkata Knight Riders",
         "Lucknow Super Giants",
         "Lucknow Super Giants",
         "bat"
        ],
        [
         "2022",
         "Gujarat Titans",
         "Lucknow Super Giants",
         "Gujarat Titans",
         "Gujarat Titans",
         "bat"
        ],
        [
         "2023",
         "Mumbai Indians",
         "Lucknow Super Giants",
         "Mumbai Indians",
         "Mumbai Indians",
         "bat"
        ],
        [
         "2023",
         "Royal Challengers Bangalore",
         "Rajasthan Royals",
         "Royal Challengers Bangalore",
         "Royal Challengers Bangalore",
         "bat"
        ],
        [
         "2023",
         "Royal Challengers Bangalore",
         "Lucknow Super Giants",
         "Royal Challengers Bangalore",
         "Royal Challengers Bangalore",
         "bat"
        ],
        [
         "2023",
         "Sunrisers Hyderabad",
         "Delhi Capitals",
         "Sunrisers Hyderabad",
         "Sunrisers Hyderabad",
         "bat"
        ],
        [
         "2022",
         "Rajasthan Royals",
         "Lucknow Super Giants",
         "Rajasthan Royals",
         "Rajasthan Royals",
         "bat"
        ],
        [
         "2023",
         "Gujarat Titans",
         "Lucknow Super Giants",
         "Gujarat Titans",
         "Gujarat Titans",
         "bat"
        ],
        [
         "2023",
         "Rajasthan Royals",
         "Chennai Super Kings",
         "Rajasthan Royals",
         "Rajasthan Royals",
         "bat"
        ],
        [
         "2022",
         "Lucknow Super Giants",
         "Delhi Capitals",
         "Lucknow Super Giants",
         "Lucknow Super Giants",
         "bat"
        ],
        [
         "2024",
         "Rajasthan Royals",
         "Lucknow Super Giants",
         "Rajasthan Royals",
         "Rajasthan Royals",
         "bat"
        ],
        [
         "2024",
         "Lucknow Super Giants",
         "Gujarat Titans",
         "Lucknow Super Giants",
         "Lucknow Super Giants",
         "bat"
        ],
        [
         "2024",
         "Delhi Capitals",
         "Chennai Super Kings",
         "Delhi Capitals",
         "Delhi Capitals",
         "bat"
        ],
        [
         "2024",
         "Lucknow Super Giants",
         "Punjab Kings",
         "Lucknow Super Giants",
         "Lucknow Super Giants",
         "bat"
        ],
        [
         "2024",
         "Sunrisers Hyderabad",
         "Rajasthan Royals",
         "Sunrisers Hyderabad",
         "Sunrisers Hyderabad",
         "bat"
        ],
        [
         "2024",
         "Kolkata Knight Riders",
         "Delhi Capitals",
         "Kolkata Knight Riders",
         "Kolkata Knight Riders",
         "bat"
        ],
        [
         "2024",
         "Royal Challengers Bengaluru",
         "Sunrisers Hyderabad",
         "Royal Challengers Bengaluru",
         "Royal Challengers Bengaluru",
         "bat"
        ]
       ],
       "datasetInfos": [],
       "dbfsResultPath": null,
       "isJsonSchema": true,
       "metadata": {},
       "overflow": false,
       "plotOptions": {
        "customPlotOptions": {},
        "displayType": "table",
        "pivotAggregation": null,
        "pivotColumns": null,
        "xColumns": null,
        "yColumns": null
       },
       "removedWidgets": [],
       "schema": [
        {
         "metadata": "{}",
         "name": "Season",
         "type": "\"string\""
        },
        {
         "metadata": "{}",
         "name": "Team1",
         "type": "\"string\""
        },
        {
         "metadata": "{}",
         "name": "Team2",
         "type": "\"string\""
        },
        {
         "metadata": "{}",
         "name": "toss_winner",
         "type": "\"string\""
        },
        {
         "metadata": "{}",
         "name": "winner",
         "type": "\"string\""
        },
        {
         "metadata": "{}",
         "name": "toss_decision",
         "type": "\"string\""
        }
       ],
       "type": "table"
      }
     },
     "output_type": "display_data"
    }
   ],
   "source": [
    "displayHTML(\"<h3>Times team wins the toss, choose to bat and won.</h3>\")\n",
    "display(team_won_toss_and_chose_to_bat())"
   ]
  },
  {
   "cell_type": "markdown",
   "metadata": {
    "application/vnd.databricks.v1+cell": {
     "cellMetadata": {
      "byteLimit": 2048000,
      "rowLimit": 10000
     },
     "inputWidgets": {},
     "nuid": "9f2c4cad-d4d7-47c2-a68e-9cd7a811ece1",
     "showTitle": false,
     "tableResultSettingsMap": {},
     "title": ""
    }
   },
   "source": [
    "\n",
    "#### 8.Find out city/venue where max matches where played in each season?"
   ]
  },
  {
   "cell_type": "code",
   "execution_count": 0,
   "metadata": {
    "application/vnd.databricks.v1+cell": {
     "cellMetadata": {
      "byteLimit": 2048000,
      "rowLimit": 10000
     },
     "inputWidgets": {},
     "nuid": "6a16c4fb-9149-47d1-952a-993599a0e46e",
     "showTitle": false,
     "tableResultSettingsMap": {},
     "title": ""
    }
   },
   "outputs": [],
   "source": [
    "def city_with_max_matches():\n",
    "\n",
    "    venue_with_max_matches = (matches.groupBy(col(\"Season\"),col(\"Venue\")).\n",
    "                            agg(count(col(\"Venue\")).alias(\"no_of_matches\")).\n",
    "                            orderBy(col(\"Season\").desc()))\n",
    "    \n",
    "    venue_window_spec = Window.partitionBy(col('Season')).orderBy(col('no_of_matches').desc())\n",
    "\n",
    "    venue_with_max_matches_each_season = venue_with_max_matches.withColumn('rnk',dense_rank().over(venue_window_spec)).filter(col('rnk')==1)\\\n",
    "        .select('Season','Venue','no_of_matches')\n",
    "\n",
    "    return(venue_with_max_matches_each_season)"
   ]
  },
  {
   "cell_type": "code",
   "execution_count": 0,
   "metadata": {
    "application/vnd.databricks.v1+cell": {
     "cellMetadata": {
      "byteLimit": 2048000,
      "rowLimit": 10000
     },
     "inputWidgets": {},
     "nuid": "5e2cc871-d0b6-46aa-b515-056b028c346a",
     "showTitle": false,
     "tableResultSettingsMap": {},
     "title": ""
    }
   },
   "outputs": [
    {
     "output_type": "display_data",
     "data": {
      "text/html": [
       "<h3>Venue where max matches where played in each season.</h3>"
      ]
     },
     "metadata": {
      "application/vnd.databricks.v1+output": {
       "addedWidgets": {},
       "arguments": {},
       "data": "<h3>Venue where max matches where played in each season.</h3>",
       "datasetInfos": [],
       "metadata": {},
       "removedWidgets": [],
       "textData": null,
       "type": "htmlSandbox"
      }
     },
     "output_type": "display_data"
    },
    {
     "output_type": "display_data",
     "data": {
      "text/html": [
       "<style scoped>\n",
       "  .table-result-container {\n",
       "    max-height: 300px;\n",
       "    overflow: auto;\n",
       "  }\n",
       "  table, th, td {\n",
       "    border: 1px solid black;\n",
       "    border-collapse: collapse;\n",
       "  }\n",
       "  th, td {\n",
       "    padding: 5px;\n",
       "  }\n",
       "  th {\n",
       "    text-align: left;\n",
       "  }\n",
       "</style><div class='table-result-container'><table class='table-result'><thead style='background-color: white'><tr><th>Season</th><th>Venue</th><th>no_of_matches</th></tr></thead><tbody><tr><td>2007/08</td><td>Punjab Cricket Association Stadium, Mohali</td><td>7</td></tr><tr><td>2007/08</td><td>MA Chidambaram Stadium, Chepauk</td><td>7</td></tr><tr><td>2007/08</td><td>Eden Gardens</td><td>7</td></tr><tr><td>2007/08</td><td>M Chinnaswamy Stadium</td><td>7</td></tr><tr><td>2007/08</td><td>Sawai Mansingh Stadium</td><td>7</td></tr><tr><td>2007/08</td><td>Rajiv Gandhi International Stadium, Uppal</td><td>7</td></tr><tr><td>2009</td><td>Kingsmead</td><td>15</td></tr><tr><td>2009/10</td><td>Feroz Shah Kotla</td><td>7</td></tr><tr><td>2009/10</td><td>MA Chidambaram Stadium, Chepauk</td><td>7</td></tr><tr><td>2009/10</td><td>Eden Gardens</td><td>7</td></tr><tr><td>2009/10</td><td>M Chinnaswamy Stadium</td><td>7</td></tr><tr><td>2011</td><td>MA Chidambaram Stadium, Chepauk</td><td>9</td></tr><tr><td>2011</td><td>Wankhede Stadium</td><td>9</td></tr><tr><td>2012</td><td>MA Chidambaram Stadium, Chepauk</td><td>10</td></tr><tr><td>2013</td><td>Sawai Mansingh Stadium</td><td>8</td></tr><tr><td>2013</td><td>Rajiv Gandhi International Stadium, Uppal</td><td>8</td></tr><tr><td>2013</td><td>Wankhede Stadium</td><td>8</td></tr><tr><td>2013</td><td>Eden Gardens</td><td>8</td></tr><tr><td>2013</td><td>Feroz Shah Kotla</td><td>8</td></tr><tr><td>2013</td><td>M Chinnaswamy Stadium</td><td>8</td></tr><tr><td>2013</td><td>MA Chidambaram Stadium, Chepauk</td><td>8</td></tr><tr><td>2014</td><td>Sheikh Zayed Stadium</td><td>7</td></tr><tr><td>2014</td><td>Dubai International Cricket Stadium</td><td>7</td></tr><tr><td>2015</td><td>Wankhede Stadium</td><td>8</td></tr><tr><td>2016</td><td>M Chinnaswamy Stadium</td><td>9</td></tr><tr><td>2017</td><td>Rajiv Gandhi International Stadium, Uppal</td><td>8</td></tr><tr><td>2017</td><td>Wankhede Stadium</td><td>8</td></tr><tr><td>2018</td><td>Wankhede Stadium</td><td>9</td></tr><tr><td>2018</td><td>Eden Gardens</td><td>9</td></tr><tr><td>2019</td><td>Rajiv Gandhi International Stadium</td><td>8</td></tr><tr><td>2019</td><td>MA Chidambaram Stadium</td><td>8</td></tr><tr><td>2020/21</td><td>Dubai International Cricket Stadium</td><td>26</td></tr><tr><td>2021</td><td>Dubai International Cricket Stadium</td><td>13</td></tr><tr><td>2022</td><td>Wankhede Stadium, Mumbai</td><td>21</td></tr><tr><td>2023</td><td>Narendra Modi Stadium, Ahmedabad</td><td>9</td></tr><tr><td>2023</td><td>MA Chidambaram Stadium, Chepauk, Chennai</td><td>9</td></tr><tr><td>2024</td><td>MA Chidambaram Stadium, Chepauk, Chennai</td><td>9</td></tr></tbody></table></div>"
      ]
     },
     "metadata": {
      "application/vnd.databricks.v1+output": {
       "addedWidgets": {},
       "aggData": [],
       "aggError": "",
       "aggOverflow": false,
       "aggSchema": [],
       "aggSeriesLimitReached": false,
       "aggType": "",
       "arguments": {},
       "columnCustomDisplayInfos": {},
       "data": [
        [
         "2007/08",
         "Punjab Cricket Association Stadium, Mohali",
         7
        ],
        [
         "2007/08",
         "MA Chidambaram Stadium, Chepauk",
         7
        ],
        [
         "2007/08",
         "Eden Gardens",
         7
        ],
        [
         "2007/08",
         "M Chinnaswamy Stadium",
         7
        ],
        [
         "2007/08",
         "Sawai Mansingh Stadium",
         7
        ],
        [
         "2007/08",
         "Rajiv Gandhi International Stadium, Uppal",
         7
        ],
        [
         "2009",
         "Kingsmead",
         15
        ],
        [
         "2009/10",
         "Feroz Shah Kotla",
         7
        ],
        [
         "2009/10",
         "MA Chidambaram Stadium, Chepauk",
         7
        ],
        [
         "2009/10",
         "Eden Gardens",
         7
        ],
        [
         "2009/10",
         "M Chinnaswamy Stadium",
         7
        ],
        [
         "2011",
         "MA Chidambaram Stadium, Chepauk",
         9
        ],
        [
         "2011",
         "Wankhede Stadium",
         9
        ],
        [
         "2012",
         "MA Chidambaram Stadium, Chepauk",
         10
        ],
        [
         "2013",
         "Sawai Mansingh Stadium",
         8
        ],
        [
         "2013",
         "Rajiv Gandhi International Stadium, Uppal",
         8
        ],
        [
         "2013",
         "Wankhede Stadium",
         8
        ],
        [
         "2013",
         "Eden Gardens",
         8
        ],
        [
         "2013",
         "Feroz Shah Kotla",
         8
        ],
        [
         "2013",
         "M Chinnaswamy Stadium",
         8
        ],
        [
         "2013",
         "MA Chidambaram Stadium, Chepauk",
         8
        ],
        [
         "2014",
         "Sheikh Zayed Stadium",
         7
        ],
        [
         "2014",
         "Dubai International Cricket Stadium",
         7
        ],
        [
         "2015",
         "Wankhede Stadium",
         8
        ],
        [
         "2016",
         "M Chinnaswamy Stadium",
         9
        ],
        [
         "2017",
         "Rajiv Gandhi International Stadium, Uppal",
         8
        ],
        [
         "2017",
         "Wankhede Stadium",
         8
        ],
        [
         "2018",
         "Wankhede Stadium",
         9
        ],
        [
         "2018",
         "Eden Gardens",
         9
        ],
        [
         "2019",
         "Rajiv Gandhi International Stadium",
         8
        ],
        [
         "2019",
         "MA Chidambaram Stadium",
         8
        ],
        [
         "2020/21",
         "Dubai International Cricket Stadium",
         26
        ],
        [
         "2021",
         "Dubai International Cricket Stadium",
         13
        ],
        [
         "2022",
         "Wankhede Stadium, Mumbai",
         21
        ],
        [
         "2023",
         "Narendra Modi Stadium, Ahmedabad",
         9
        ],
        [
         "2023",
         "MA Chidambaram Stadium, Chepauk, Chennai",
         9
        ],
        [
         "2024",
         "MA Chidambaram Stadium, Chepauk, Chennai",
         9
        ]
       ],
       "datasetInfos": [],
       "dbfsResultPath": null,
       "isJsonSchema": true,
       "metadata": {},
       "overflow": false,
       "plotOptions": {
        "customPlotOptions": {},
        "displayType": "table",
        "pivotAggregation": null,
        "pivotColumns": null,
        "xColumns": null,
        "yColumns": null
       },
       "removedWidgets": [],
       "schema": [
        {
         "metadata": "{}",
         "name": "Season",
         "type": "\"string\""
        },
        {
         "metadata": "{}",
         "name": "Venue",
         "type": "\"string\""
        },
        {
         "metadata": "{}",
         "name": "no_of_matches",
         "type": "\"long\""
        }
       ],
       "type": "table"
      }
     },
     "output_type": "display_data"
    }
   ],
   "source": [
    "displayHTML(\"<h3>Venue where max matches where played in each season.</h3>\")\n",
    "display(city_with_max_matches())"
   ]
  },
  {
   "cell_type": "markdown",
   "metadata": {
    "application/vnd.databricks.v1+cell": {
     "cellMetadata": {
      "byteLimit": 2048000,
      "rowLimit": 10000
     },
     "inputWidgets": {},
     "nuid": "ffbf54a2-e068-4013-bdd1-739ae2150aef",
     "showTitle": false,
     "tableResultSettingsMap": {},
     "title": ""
    }
   },
   "source": [
    "\n",
    "#### 9.Find the strongest and weakest teams based on match wins?"
   ]
  },
  {
   "cell_type": "code",
   "execution_count": 0,
   "metadata": {
    "application/vnd.databricks.v1+cell": {
     "cellMetadata": {
      "byteLimit": 2048000,
      "rowLimit": 10000
     },
     "inputWidgets": {},
     "nuid": "a6451fa3-3430-41b4-af54-994377a9fd4b",
     "showTitle": false,
     "tableResultSettingsMap": {},
     "title": ""
    }
   },
   "outputs": [],
   "source": [
    "\n",
    "team_won_season_wise = (matches.groupBy(col(\"Season\"), col(\"winner\")).\n",
    "                            agg(count(col(\"winner\")).alias(\"no_of_matches_won\")).\n",
    "                            orderBy(col(\"Season\").desc(), col(\"no_of_matches_won\").desc())\n",
    ")\n",
    "\n",
    "teams_won = (matches.groupBy(col(\"winner\")).\n",
    "            agg(count(col(\"winner\")).alias(\"no_of_matches_won\")).\n",
    "            filter(col(\"winner\") != \"NA\")\n",
    ")\n",
    "\n",
    "def strongest_team_season_wise():\n",
    "    team_won_season_wise_windowspec = Window.partitionBy(\"Season\").orderBy(col(\"no_of_matches_won\").desc())\n",
    "\n",
    "    strongest_team_season_wise = (team_won_season_wise.withColumn(\"rank\", dense_rank().\n",
    "                                over(team_won_season_wise_windowspec)).filter(col(\"rank\") == 1))\n",
    "\n",
    "    return(strongest_team_season_wise.select(\"Season\",col(\"winner\").alias(\"Strongest_Team\"),\"no_of_matches_won\").\n",
    "        orderBy(col(\"Season\").desc()))\n",
    "\n",
    "\n",
    "def weakest_team_season_wise():\n",
    "    team_won_season_wise_windowspec = Window.partitionBy(\"Season\").orderBy(col(\"no_of_matches_won\"))\n",
    "\n",
    "    weakest_team_season_wise = (team_won_season_wise.withColumn(\"rank\", dense_rank().\n",
    "                                over(team_won_season_wise_windowspec)).filter(col(\"rank\") == 1))\n",
    "\n",
    "    return(weakest_team_season_wise.select(\"Season\",col(\"winner\").alias(\"Weakest_Team\"),\"no_of_matches_won\").orderBy(col(\"Season\").desc()))\n",
    "\n",
    "def strongest_team():\n",
    "    return (teams_won.orderBy(col(\"no_of_matches_won\").desc()).limit(5))\n",
    "\n",
    "def weakest_team():\n",
    "    return (teams_won.orderBy(col(\"no_of_matches_won\")).limit(5))\n"
   ]
  },
  {
   "cell_type": "code",
   "execution_count": 0,
   "metadata": {
    "application/vnd.databricks.v1+cell": {
     "cellMetadata": {
      "byteLimit": 2048000,
      "rowLimit": 10000
     },
     "inputWidgets": {},
     "nuid": "b4e4ed19-a88a-482d-9ae5-2f70b19ae339",
     "showTitle": false,
     "tableResultSettingsMap": {},
     "title": ""
    }
   },
   "outputs": [
    {
     "output_type": "display_data",
     "data": {
      "text/html": [
       "<h3>Strongest team season wise.</h3>"
      ]
     },
     "metadata": {
      "application/vnd.databricks.v1+output": {
       "addedWidgets": {},
       "arguments": {},
       "data": "<h3>Strongest team season wise.</h3>",
       "datasetInfos": [],
       "metadata": {},
       "removedWidgets": [],
       "textData": null,
       "type": "htmlSandbox"
      }
     },
     "output_type": "display_data"
    },
    {
     "output_type": "display_data",
     "data": {
      "text/html": [
       "<style scoped>\n",
       "  .table-result-container {\n",
       "    max-height: 300px;\n",
       "    overflow: auto;\n",
       "  }\n",
       "  table, th, td {\n",
       "    border: 1px solid black;\n",
       "    border-collapse: collapse;\n",
       "  }\n",
       "  th, td {\n",
       "    padding: 5px;\n",
       "  }\n",
       "  th {\n",
       "    text-align: left;\n",
       "  }\n",
       "</style><div class='table-result-container'><table class='table-result'><thead style='background-color: white'><tr><th>Season</th><th>Strongest_Team</th><th>no_of_matches_won</th></tr></thead><tbody><tr><td>2024</td><td>Kolkata Knight Riders</td><td>11</td></tr><tr><td>2023</td><td>Gujarat Titans</td><td>11</td></tr><tr><td>2022</td><td>Gujarat Titans</td><td>12</td></tr><tr><td>2021</td><td>Chennai Super Kings</td><td>11</td></tr><tr><td>2020/21</td><td>Mumbai Indians</td><td>11</td></tr><tr><td>2019</td><td>Mumbai Indians</td><td>11</td></tr><tr><td>2018</td><td>Chennai Super Kings</td><td>11</td></tr><tr><td>2017</td><td>Mumbai Indians</td><td>12</td></tr><tr><td>2016</td><td>Sunrisers Hyderabad</td><td>11</td></tr><tr><td>2015</td><td>Mumbai Indians</td><td>10</td></tr><tr><td>2015</td><td>Chennai Super Kings</td><td>10</td></tr><tr><td>2014</td><td>Kings XI Punjab</td><td>12</td></tr><tr><td>2013</td><td>Mumbai Indians</td><td>13</td></tr><tr><td>2012</td><td>Kolkata Knight Riders</td><td>12</td></tr><tr><td>2011</td><td>Chennai Super Kings</td><td>11</td></tr><tr><td>2009/10</td><td>Mumbai Indians</td><td>11</td></tr><tr><td>2009</td><td>Delhi Daredevils</td><td>10</td></tr><tr><td>2007/08</td><td>Rajasthan Royals</td><td>13</td></tr></tbody></table></div>"
      ]
     },
     "metadata": {
      "application/vnd.databricks.v1+output": {
       "addedWidgets": {},
       "aggData": [],
       "aggError": "",
       "aggOverflow": false,
       "aggSchema": [],
       "aggSeriesLimitReached": false,
       "aggType": "",
       "arguments": {},
       "columnCustomDisplayInfos": {},
       "data": [
        [
         "2024",
         "Kolkata Knight Riders",
         11
        ],
        [
         "2023",
         "Gujarat Titans",
         11
        ],
        [
         "2022",
         "Gujarat Titans",
         12
        ],
        [
         "2021",
         "Chennai Super Kings",
         11
        ],
        [
         "2020/21",
         "Mumbai Indians",
         11
        ],
        [
         "2019",
         "Mumbai Indians",
         11
        ],
        [
         "2018",
         "Chennai Super Kings",
         11
        ],
        [
         "2017",
         "Mumbai Indians",
         12
        ],
        [
         "2016",
         "Sunrisers Hyderabad",
         11
        ],
        [
         "2015",
         "Mumbai Indians",
         10
        ],
        [
         "2015",
         "Chennai Super Kings",
         10
        ],
        [
         "2014",
         "Kings XI Punjab",
         12
        ],
        [
         "2013",
         "Mumbai Indians",
         13
        ],
        [
         "2012",
         "Kolkata Knight Riders",
         12
        ],
        [
         "2011",
         "Chennai Super Kings",
         11
        ],
        [
         "2009/10",
         "Mumbai Indians",
         11
        ],
        [
         "2009",
         "Delhi Daredevils",
         10
        ],
        [
         "2007/08",
         "Rajasthan Royals",
         13
        ]
       ],
       "datasetInfos": [],
       "dbfsResultPath": null,
       "isJsonSchema": true,
       "metadata": {},
       "overflow": false,
       "plotOptions": {
        "customPlotOptions": {},
        "displayType": "table",
        "pivotAggregation": null,
        "pivotColumns": null,
        "xColumns": null,
        "yColumns": null
       },
       "removedWidgets": [],
       "schema": [
        {
         "metadata": "{}",
         "name": "Season",
         "type": "\"string\""
        },
        {
         "metadata": "{}",
         "name": "Strongest_Team",
         "type": "\"string\""
        },
        {
         "metadata": "{}",
         "name": "no_of_matches_won",
         "type": "\"long\""
        }
       ],
       "type": "table"
      }
     },
     "output_type": "display_data"
    },
    {
     "output_type": "display_data",
     "data": {
      "text/html": [
       "<h3>Weakest team season wise.</h3>"
      ]
     },
     "metadata": {
      "application/vnd.databricks.v1+output": {
       "addedWidgets": {},
       "arguments": {},
       "data": "<h3>Weakest team season wise.</h3>",
       "datasetInfos": [],
       "metadata": {},
       "removedWidgets": [],
       "textData": null,
       "type": "htmlSandbox"
      }
     },
     "output_type": "display_data"
    },
    {
     "output_type": "display_data",
     "data": {
      "text/html": [
       "<style scoped>\n",
       "  .table-result-container {\n",
       "    max-height: 300px;\n",
       "    overflow: auto;\n",
       "  }\n",
       "  table, th, td {\n",
       "    border: 1px solid black;\n",
       "    border-collapse: collapse;\n",
       "  }\n",
       "  th, td {\n",
       "    padding: 5px;\n",
       "  }\n",
       "  th {\n",
       "    text-align: left;\n",
       "  }\n",
       "</style><div class='table-result-container'><table class='table-result'><thead style='background-color: white'><tr><th>Season</th><th>Weakest_Team</th><th>no_of_matches_won</th></tr></thead><tbody><tr><td>2024</td><td>Mumbai Indians</td><td>4</td></tr><tr><td>2023</td><td>NA</td><td>1</td></tr><tr><td>2022</td><td>Mumbai Indians</td><td>4</td></tr><tr><td>2022</td><td>Chennai Super Kings</td><td>4</td></tr><tr><td>2021</td><td>Sunrisers Hyderabad</td><td>3</td></tr><tr><td>2020/21</td><td>Chennai Super Kings</td><td>6</td></tr><tr><td>2020/21</td><td>Kings XI Punjab</td><td>6</td></tr><tr><td>2020/21</td><td>Rajasthan Royals</td><td>6</td></tr><tr><td>2019</td><td>NA</td><td>1</td></tr><tr><td>2018</td><td>Delhi Daredevils</td><td>5</td></tr><tr><td>2017</td><td>Royal Challengers Bangalore</td><td>3</td></tr><tr><td>2016</td><td>Kings XI Punjab</td><td>4</td></tr><tr><td>2015</td><td>NA</td><td>2</td></tr><tr><td>2014</td><td>Delhi Daredevils</td><td>2</td></tr><tr><td>2013</td><td>Delhi Daredevils</td><td>3</td></tr><tr><td>2012</td><td>Pune Warriors</td><td>4</td></tr><tr><td>2012</td><td>Deccan Chargers</td><td>4</td></tr><tr><td>2011</td><td>NA</td><td>1</td></tr><tr><td>2009/10</td><td>Kings XI Punjab</td><td>4</td></tr><tr><td>2009</td><td>Kolkata Knight Riders</td><td>3</td></tr><tr><td>2007/08</td><td>Deccan Chargers</td><td>2</td></tr></tbody></table></div>"
      ]
     },
     "metadata": {
      "application/vnd.databricks.v1+output": {
       "addedWidgets": {},
       "aggData": [],
       "aggError": "",
       "aggOverflow": false,
       "aggSchema": [],
       "aggSeriesLimitReached": false,
       "aggType": "",
       "arguments": {},
       "columnCustomDisplayInfos": {},
       "data": [
        [
         "2024",
         "Mumbai Indians",
         4
        ],
        [
         "2023",
         "NA",
         1
        ],
        [
         "2022",
         "Mumbai Indians",
         4
        ],
        [
         "2022",
         "Chennai Super Kings",
         4
        ],
        [
         "2021",
         "Sunrisers Hyderabad",
         3
        ],
        [
         "2020/21",
         "Chennai Super Kings",
         6
        ],
        [
         "2020/21",
         "Kings XI Punjab",
         6
        ],
        [
         "2020/21",
         "Rajasthan Royals",
         6
        ],
        [
         "2019",
         "NA",
         1
        ],
        [
         "2018",
         "Delhi Daredevils",
         5
        ],
        [
         "2017",
         "Royal Challengers Bangalore",
         3
        ],
        [
         "2016",
         "Kings XI Punjab",
         4
        ],
        [
         "2015",
         "NA",
         2
        ],
        [
         "2014",
         "Delhi Daredevils",
         2
        ],
        [
         "2013",
         "Delhi Daredevils",
         3
        ],
        [
         "2012",
         "Pune Warriors",
         4
        ],
        [
         "2012",
         "Deccan Chargers",
         4
        ],
        [
         "2011",
         "NA",
         1
        ],
        [
         "2009/10",
         "Kings XI Punjab",
         4
        ],
        [
         "2009",
         "Kolkata Knight Riders",
         3
        ],
        [
         "2007/08",
         "Deccan Chargers",
         2
        ]
       ],
       "datasetInfos": [],
       "dbfsResultPath": null,
       "isJsonSchema": true,
       "metadata": {},
       "overflow": false,
       "plotOptions": {
        "customPlotOptions": {},
        "displayType": "table",
        "pivotAggregation": null,
        "pivotColumns": null,
        "xColumns": null,
        "yColumns": null
       },
       "removedWidgets": [],
       "schema": [
        {
         "metadata": "{}",
         "name": "Season",
         "type": "\"string\""
        },
        {
         "metadata": "{}",
         "name": "Weakest_Team",
         "type": "\"string\""
        },
        {
         "metadata": "{}",
         "name": "no_of_matches_won",
         "type": "\"long\""
        }
       ],
       "type": "table"
      }
     },
     "output_type": "display_data"
    },
    {
     "output_type": "display_data",
     "data": {
      "text/html": [
       "<h3>Top 5 strong teams.</h3>"
      ]
     },
     "metadata": {
      "application/vnd.databricks.v1+output": {
       "addedWidgets": {},
       "arguments": {},
       "data": "<h3>Top 5 strong teams.</h3>",
       "datasetInfos": [],
       "metadata": {},
       "removedWidgets": [],
       "textData": null,
       "type": "htmlSandbox"
      }
     },
     "output_type": "display_data"
    },
    {
     "output_type": "display_data",
     "data": {
      "text/html": [
       "<style scoped>\n",
       "  .table-result-container {\n",
       "    max-height: 300px;\n",
       "    overflow: auto;\n",
       "  }\n",
       "  table, th, td {\n",
       "    border: 1px solid black;\n",
       "    border-collapse: collapse;\n",
       "  }\n",
       "  th, td {\n",
       "    padding: 5px;\n",
       "  }\n",
       "  th {\n",
       "    text-align: left;\n",
       "  }\n",
       "</style><div class='table-result-container'><table class='table-result'><thead style='background-color: white'><tr><th>winner</th><th>no_of_matches_won</th></tr></thead><tbody><tr><td>Mumbai Indians</td><td>144</td></tr><tr><td>Chennai Super Kings</td><td>138</td></tr><tr><td>Kolkata Knight Riders</td><td>131</td></tr><tr><td>Royal Challengers Bangalore</td><td>116</td></tr><tr><td>Rajasthan Royals</td><td>112</td></tr></tbody></table></div>"
      ]
     },
     "metadata": {
      "application/vnd.databricks.v1+output": {
       "addedWidgets": {},
       "aggData": [],
       "aggError": "",
       "aggOverflow": false,
       "aggSchema": [],
       "aggSeriesLimitReached": false,
       "aggType": "",
       "arguments": {},
       "columnCustomDisplayInfos": {},
       "data": [
        [
         "Mumbai Indians",
         144
        ],
        [
         "Chennai Super Kings",
         138
        ],
        [
         "Kolkata Knight Riders",
         131
        ],
        [
         "Royal Challengers Bangalore",
         116
        ],
        [
         "Rajasthan Royals",
         112
        ]
       ],
       "datasetInfos": [],
       "dbfsResultPath": null,
       "isJsonSchema": true,
       "metadata": {},
       "overflow": false,
       "plotOptions": {
        "customPlotOptions": {},
        "displayType": "table",
        "pivotAggregation": null,
        "pivotColumns": null,
        "xColumns": null,
        "yColumns": null
       },
       "removedWidgets": [],
       "schema": [
        {
         "metadata": "{}",
         "name": "winner",
         "type": "\"string\""
        },
        {
         "metadata": "{}",
         "name": "no_of_matches_won",
         "type": "\"long\""
        }
       ],
       "type": "table"
      }
     },
     "output_type": "display_data"
    },
    {
     "output_type": "display_data",
     "data": {
      "text/html": [
       "<h3>Top 5 weak teams.</h3>"
      ]
     },
     "metadata": {
      "application/vnd.databricks.v1+output": {
       "addedWidgets": {},
       "arguments": {},
       "data": "<h3>Top 5 weak teams.</h3>",
       "datasetInfos": [],
       "metadata": {},
       "removedWidgets": [],
       "textData": null,
       "type": "htmlSandbox"
      }
     },
     "output_type": "display_data"
    },
    {
     "output_type": "display_data",
     "data": {
      "text/html": [
       "<style scoped>\n",
       "  .table-result-container {\n",
       "    max-height: 300px;\n",
       "    overflow: auto;\n",
       "  }\n",
       "  table, th, td {\n",
       "    border: 1px solid black;\n",
       "    border-collapse: collapse;\n",
       "  }\n",
       "  th, td {\n",
       "    padding: 5px;\n",
       "  }\n",
       "  th {\n",
       "    text-align: left;\n",
       "  }\n",
       "</style><div class='table-result-container'><table class='table-result'><thead style='background-color: white'><tr><th>winner</th><th>no_of_matches_won</th></tr></thead><tbody><tr><td>Rising Pune Supergiants</td><td>5</td></tr><tr><td>Kochi Tuskers Kerala</td><td>6</td></tr><tr><td>Royal Challengers Bengaluru</td><td>7</td></tr><tr><td>Rising Pune Supergiant</td><td>10</td></tr><tr><td>Pune Warriors</td><td>12</td></tr></tbody></table></div>"
      ]
     },
     "metadata": {
      "application/vnd.databricks.v1+output": {
       "addedWidgets": {},
       "aggData": [],
       "aggError": "",
       "aggOverflow": false,
       "aggSchema": [],
       "aggSeriesLimitReached": false,
       "aggType": "",
       "arguments": {},
       "columnCustomDisplayInfos": {},
       "data": [
        [
         "Rising Pune Supergiants",
         5
        ],
        [
         "Kochi Tuskers Kerala",
         6
        ],
        [
         "Royal Challengers Bengaluru",
         7
        ],
        [
         "Rising Pune Supergiant",
         10
        ],
        [
         "Pune Warriors",
         12
        ]
       ],
       "datasetInfos": [],
       "dbfsResultPath": null,
       "isJsonSchema": true,
       "metadata": {},
       "overflow": false,
       "plotOptions": {
        "customPlotOptions": {},
        "displayType": "table",
        "pivotAggregation": null,
        "pivotColumns": null,
        "xColumns": null,
        "yColumns": null
       },
       "removedWidgets": [],
       "schema": [
        {
         "metadata": "{}",
         "name": "winner",
         "type": "\"string\""
        },
        {
         "metadata": "{}",
         "name": "no_of_matches_won",
         "type": "\"long\""
        }
       ],
       "type": "table"
      }
     },
     "output_type": "display_data"
    }
   ],
   "source": [
    "displayHTML(\"<h3>Strongest team season wise.</h3>\")\n",
    "display(strongest_team_season_wise())\n",
    "\n",
    "displayHTML(\"<h3>Weakest team season wise.</h3>\")\n",
    "display(weakest_team_season_wise())\n",
    "\n",
    "displayHTML(\"<h3>Top 5 strong teams.</h3>\")\n",
    "display(strongest_team())\n",
    "\n",
    "displayHTML(\"<h3>Top 5 weak teams.</h3>\")\n",
    "display(weakest_team())"
   ]
  },
  {
   "cell_type": "markdown",
   "metadata": {
    "application/vnd.databricks.v1+cell": {
     "cellMetadata": {
      "byteLimit": 2048000,
      "rowLimit": 10000
     },
     "inputWidgets": {},
     "nuid": "71fc114c-9a68-4184-95be-fec9e5a70ea3",
     "showTitle": false,
     "tableResultSettingsMap": {},
     "title": ""
    }
   },
   "source": [
    "\n",
    "#### 10.Find matches per season and plot them as a bar chart?"
   ]
  },
  {
   "cell_type": "code",
   "execution_count": 0,
   "metadata": {
    "application/vnd.databricks.v1+cell": {
     "cellMetadata": {
      "byteLimit": 2048000,
      "rowLimit": 10000
     },
     "inputWidgets": {},
     "nuid": "07cff2ca-eaeb-4b04-b17f-cddd2299e3f6",
     "showTitle": false,
     "tableResultSettingsMap": {},
     "title": ""
    }
   },
   "outputs": [
    {
     "output_type": "stream",
     "name": "stdout",
     "output_type": "stream",
     "text": [
      "Out[107]: Text(0.5, 1.0, 'Matches Per Season')"
     ]
    },
    {
     "output_type": "display_data",
     "data": {
      "image/png": "[encoded data removed]"
     },
     "metadata": {
      "application/vnd.databricks.v1+output": {
       "addedWidgets": {},
       "arguments": {},
       "data": "data:image/png;base64,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\n",
       "datasetInfos": [],
       "metadata": {},
       "removedWidgets": [],
       "type": "image"
      }
     },
     "output_type": "display_data"
    }
   ],
   "source": [
    "\n",
    "matches_per_season = (matches.groupBy(\"Season\").agg(count(\"ID\").alias(\"Total_Matches\")).orderBy(\"Season\"))\n",
    "\n",
    "pd_df = matches_per_season.toPandas()\n",
    "\n",
    "plt.figure(figsize=(10, 6))\n",
    "plt.bar(pd_df['Season'], pd_df['Total_Matches'], color = 'SkyBlue')\n",
    "plt.xlabel('Season')\n",
    "plt.ylabel('Total_Matches')\n",
    "plt.title('Matches Per Season')"
   ]
  },
  {
   "cell_type": "markdown",
   "metadata": {
    "application/vnd.databricks.v1+cell": {
     "cellMetadata": {
      "byteLimit": 2048000,
      "rowLimit": 10000
     },
     "inputWidgets": {},
     "nuid": "a6f596e3-ff0c-4ef9-ade3-5599a2a98076",
     "showTitle": false,
     "tableResultSettingsMap": {},
     "title": ""
    }
   },
   "source": [
    "\n",
    "#### 11.Visualize most final matches played by a team?"
   ]
  },
  {
   "cell_type": "code",
   "execution_count": 0,
   "metadata": {
    "application/vnd.databricks.v1+cell": {
     "cellMetadata": {
      "byteLimit": 2048000,
      "rowLimit": 10000
     },
     "inputWidgets": {},
     "nuid": "4cd959b9-84da-45f9-8053-920544541cba",
     "showTitle": false,
     "tableResultSettingsMap": {},
     "title": ""
    }
   },
   "outputs": [
    {
     "output_type": "display_data",
     "data": {
      "image/png": "[encoded data removed]"
     },
     "metadata": {
      "application/vnd.databricks.v1+output": {
       "addedWidgets": {},
       "arguments": {},
       "data": "data:image/png;base64,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\n",
       "datasetInfos": [],
       "metadata": {},
       "removedWidgets": [],
       "type": "image"
      }
     },
     "output_type": "display_data"
    }
   ],
   "source": [
    "result_pd = team_into_finals().toPandas()\n",
    "explode = [0.05]*len(result_pd)\n",
    "plt.figure(figsize=(4,4))\n",
    "plt.pie(result_pd['no_of_times_into_finals'], labels=result_pd['Team'], autopct=None, startangle=140, explode=explode)\n",
    "plt.axis('equal')  # Equal aspect ratio ensures that pie is drawn as a circle.\n",
    "plt.title('Team Played Most Finals')\n",
    "plt.show()"
   ]
  },
  {
   "cell_type": "markdown",
   "metadata": {
    "application/vnd.databricks.v1+cell": {
     "cellMetadata": {
      "byteLimit": 2048000,
      "rowLimit": 10000
     },
     "inputWidgets": {},
     "nuid": "28e84860-695e-46cd-a756-0dbdac735cf3",
     "showTitle": false,
     "tableResultSettingsMap": {},
     "title": ""
    }
   },
   "source": [
    "\n",
    "#### 12.Who won most man of the matches?"
   ]
  },
  {
   "cell_type": "code",
   "execution_count": 0,
   "metadata": {
    "application/vnd.databricks.v1+cell": {
     "cellMetadata": {
      "byteLimit": 2048000,
      "rowLimit": 10000
     },
     "inputWidgets": {},
     "nuid": "aa9f3694-8301-47bf-a042-311da747c5b1",
     "showTitle": false,
     "tableResultSettingsMap": {},
     "title": ""
    }
   },
   "outputs": [
    {
     "output_type": "display_data",
     "data": {
      "text/html": [
       "<style scoped>\n",
       "  .table-result-container {\n",
       "    max-height: 300px;\n",
       "    overflow: auto;\n",
       "  }\n",
       "  table, th, td {\n",
       "    border: 1px solid black;\n",
       "    border-collapse: collapse;\n",
       "  }\n",
       "  th, td {\n",
       "    padding: 5px;\n",
       "  }\n",
       "  th {\n",
       "    text-align: left;\n",
       "  }\n",
       "</style><div class='table-result-container'><table class='table-result'><thead style='background-color: white'><tr><th>Player_of_Match</th><th>no_of_times_won</th></tr></thead><tbody><tr><td>AB de Villiers</td><td>25</td></tr></tbody></table></div>"
      ]
     },
     "metadata": {
      "application/vnd.databricks.v1+output": {
       "addedWidgets": {},
       "aggData": [],
       "aggError": "",
       "aggOverflow": false,
       "aggSchema": [],
       "aggSeriesLimitReached": false,
       "aggType": "",
       "arguments": {},
       "columnCustomDisplayInfos": {},
       "data": [
        [
         "AB de Villiers",
         25
        ]
       ],
       "datasetInfos": [],
       "dbfsResultPath": null,
       "isJsonSchema": true,
       "metadata": {},
       "overflow": false,
       "plotOptions": {
        "customPlotOptions": {},
        "displayType": "table",
        "pivotAggregation": null,
        "pivotColumns": null,
        "xColumns": null,
        "yColumns": null
       },
       "removedWidgets": [],
       "schema": [
        {
         "metadata": "{}",
         "name": "Player_of_Match",
         "type": "\"string\""
        },
        {
         "metadata": "{}",
         "name": "no_of_times_won",
         "type": "\"long\""
        }
       ],
       "type": "table"
      }
     },
     "output_type": "display_data"
    }
   ],
   "source": [
    "def most_player_of_the_match():\n",
    "    player_of_the_match = (matches.select(\"Player_of_Match\").groupBy(col(\"Player_of_Match\")).\n",
    "                           agg(count(col(\"Player_of_Match\")).alias(\"no_of_times_won\")).\n",
    "                           orderBy(col(\"no_of_times_won\").desc()).limit(1)\n",
    "    )\n",
    "    return(player_of_the_match)\n",
    "\n",
    "display(most_player_of_the_match())"
   ]
  }
 ],
 "metadata": {
  "application/vnd.databricks.v1+notebook": {
   "computePreferences": null,
   "dashboards": [],
   "environmentMetadata": null,
   "inputWidgetPreferences": null,
   "language": "python",
   "notebookMetadata": {
    "pythonIndentUnit": 4
   },
   "notebookName": "IPL-Data-Analysis-PySpark",
   "widgets": {}
  }
 },
 "nbformat": 4,
 "nbformat_minor": 0
}